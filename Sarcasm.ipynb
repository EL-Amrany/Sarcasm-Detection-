{
  "cells": [
    {
      "cell_type": "code",
      "execution_count": null,
      "metadata": {
        "id": "SQATsUExm88H"
      },
      "outputs": [],
      "source": [
        "from google.colab import drive"
      ]
    },
    {
      "cell_type": "code",
      "execution_count": null,
      "metadata": {
        "colab": {
          "base_uri": "https://localhost:8080/"
        },
        "id": "RMUIKa0auW4k",
        "outputId": "fb53b538-c85d-4b9e-ad87-1b992f4a12c7"
      },
      "outputs": [
        {
          "name": "stdout",
          "output_type": "stream",
          "text": [
            "Mounted at /content/drive/\n"
          ]
        }
      ],
      "source": [
        "drive.mount('/content/drive/')"
      ]
    },
    {
      "cell_type": "code",
      "execution_count": null,
      "metadata": {
        "colab": {
          "base_uri": "https://localhost:8080/"
        },
        "id": "9VQeaCDAHzvz",
        "outputId": "c9d3752b-dd4d-41cc-b2f0-1dbb655d0f63"
      },
      "outputs": [
        {
          "name": "stdout",
          "output_type": "stream",
          "text": [
            "Looking in indexes: https://pypi.org/simple, https://us-python.pkg.dev/colab-wheels/public/simple/\n",
            "Collecting plotly==4.4.0\n",
            "  Downloading plotly-4.4.0-py2.py3-none-any.whl (7.3 MB)\n",
            "\u001b[K     |████████████████████████████████| 7.3 MB 22.6 MB/s \n",
            "\u001b[?25hCollecting retrying>=1.3.3\n",
            "  Downloading retrying-1.3.4-py3-none-any.whl (11 kB)\n",
            "Requirement already satisfied: six in /usr/local/lib/python3.8/dist-packages (from plotly==4.4.0) (1.15.0)\n",
            "Installing collected packages: retrying, plotly\n",
            "  Attempting uninstall: plotly\n",
            "    Found existing installation: plotly 5.5.0\n",
            "    Uninstalling plotly-5.5.0:\n",
            "\u001b[31mERROR: Operation cancelled by user\u001b[0m\n"
          ]
        }
      ],
      "source": [
        "! pip install plotly==4.4.0"
      ]
    },
    {
      "cell_type": "code",
      "execution_count": null,
      "metadata": {
        "colab": {
          "base_uri": "https://localhost:8080/",
          "height": 542
        },
        "id": "JZwpFlEwKA82",
        "outputId": "d18b75c3-bc1b-4c60-c7f5-c0fe935f1d6b"
      },
      "outputs": [
        {
          "data": {
            "text/html": [
              "<html>\n",
              "<head><meta charset=\"utf-8\" /></head>\n",
              "<body>\n",
              "    <div>            <script src=\"https://cdnjs.cloudflare.com/ajax/libs/mathjax/2.7.5/MathJax.js?config=TeX-AMS-MML_SVG\"></script><script type=\"text/javascript\">if (window.MathJax) {MathJax.Hub.Config({SVG: {font: \"STIX-Web\"}});}</script>                <script type=\"text/javascript\">window.PlotlyConfig = {MathJaxConfig: 'local'};</script>\n",
              "        <script src=\"https://cdn.plot.ly/plotly-2.8.3.min.js\"></script>                <div id=\"f746a08e-ced2-4c6b-ad4d-01617f3948f2\" class=\"plotly-graph-div\" style=\"height:525px; width:100%;\"></div>            <script type=\"text/javascript\">                                    window.PLOTLYENV=window.PLOTLYENV || {};                                    if (document.getElementById(\"f746a08e-ced2-4c6b-ad4d-01617f3948f2\")) {                    Plotly.newPlot(                        \"f746a08e-ced2-4c6b-ad4d-01617f3948f2\",                        [{\"hovertemplate\":\"species=setosa<br>sepal_width=%{x}<br>sepal_length=%{y}<extra></extra>\",\"legendgroup\":\"setosa\",\"marker\":{\"color\":\"#636efa\",\"symbol\":\"circle\"},\"mode\":\"markers\",\"name\":\"setosa\",\"orientation\":\"v\",\"showlegend\":true,\"x\":[3.5,3.0,3.2,3.1,3.6,3.9,3.4,3.4,2.9,3.1,3.7,3.4,3.0,3.0,4.0,4.4,3.9,3.5,3.8,3.8,3.4,3.7,3.6,3.3,3.4,3.0,3.4,3.5,3.4,3.2,3.1,3.4,4.1,4.2,3.1,3.2,3.5,3.1,3.0,3.4,3.5,2.3,3.2,3.5,3.8,3.0,3.8,3.2,3.7,3.3],\"xaxis\":\"x\",\"y\":[5.1,4.9,4.7,4.6,5.0,5.4,4.6,5.0,4.4,4.9,5.4,4.8,4.8,4.3,5.8,5.7,5.4,5.1,5.7,5.1,5.4,5.1,4.6,5.1,4.8,5.0,5.0,5.2,5.2,4.7,4.8,5.4,5.2,5.5,4.9,5.0,5.5,4.9,4.4,5.1,5.0,4.5,4.4,5.0,5.1,4.8,5.1,4.6,5.3,5.0],\"yaxis\":\"y\",\"type\":\"scatter\"},{\"hovertemplate\":\"species=versicolor<br>sepal_width=%{x}<br>sepal_length=%{y}<extra></extra>\",\"legendgroup\":\"versicolor\",\"marker\":{\"color\":\"#EF553B\",\"symbol\":\"circle\"},\"mode\":\"markers\",\"name\":\"versicolor\",\"orientation\":\"v\",\"showlegend\":true,\"x\":[3.2,3.2,3.1,2.3,2.8,2.8,3.3,2.4,2.9,2.7,2.0,3.0,2.2,2.9,2.9,3.1,3.0,2.7,2.2,2.5,3.2,2.8,2.5,2.8,2.9,3.0,2.8,3.0,2.9,2.6,2.4,2.4,2.7,2.7,3.0,3.4,3.1,2.3,3.0,2.5,2.6,3.0,2.6,2.3,2.7,3.0,2.9,2.9,2.5,2.8],\"xaxis\":\"x\",\"y\":[7.0,6.4,6.9,5.5,6.5,5.7,6.3,4.9,6.6,5.2,5.0,5.9,6.0,6.1,5.6,6.7,5.6,5.8,6.2,5.6,5.9,6.1,6.3,6.1,6.4,6.6,6.8,6.7,6.0,5.7,5.5,5.5,5.8,6.0,5.4,6.0,6.7,6.3,5.6,5.5,5.5,6.1,5.8,5.0,5.6,5.7,5.7,6.2,5.1,5.7],\"yaxis\":\"y\",\"type\":\"scatter\"},{\"hovertemplate\":\"species=virginica<br>sepal_width=%{x}<br>sepal_length=%{y}<extra></extra>\",\"legendgroup\":\"virginica\",\"marker\":{\"color\":\"#00cc96\",\"symbol\":\"circle\"},\"mode\":\"markers\",\"name\":\"virginica\",\"orientation\":\"v\",\"showlegend\":true,\"x\":[3.3,2.7,3.0,2.9,3.0,3.0,2.5,2.9,2.5,3.6,3.2,2.7,3.0,2.5,2.8,3.2,3.0,3.8,2.6,2.2,3.2,2.8,2.8,2.7,3.3,3.2,2.8,3.0,2.8,3.0,2.8,3.8,2.8,2.8,2.6,3.0,3.4,3.1,3.0,3.1,3.1,3.1,2.7,3.2,3.3,3.0,2.5,3.0,3.4,3.0],\"xaxis\":\"x\",\"y\":[6.3,5.8,7.1,6.3,6.5,7.6,4.9,7.3,6.7,7.2,6.5,6.4,6.8,5.7,5.8,6.4,6.5,7.7,7.7,6.0,6.9,5.6,7.7,6.3,6.7,7.2,6.2,6.1,6.4,7.2,7.4,7.9,6.4,6.3,6.1,7.7,6.3,6.4,6.0,6.9,6.7,6.9,5.8,6.8,6.7,6.7,6.3,6.5,6.2,5.9],\"yaxis\":\"y\",\"type\":\"scatter\"}],                        {\"template\":{\"data\":{\"bar\":[{\"error_x\":{\"color\":\"#2a3f5f\"},\"error_y\":{\"color\":\"#2a3f5f\"},\"marker\":{\"line\":{\"color\":\"#E5ECF6\",\"width\":0.5},\"pattern\":{\"fillmode\":\"overlay\",\"size\":10,\"solidity\":0.2}},\"type\":\"bar\"}],\"barpolar\":[{\"marker\":{\"line\":{\"color\":\"#E5ECF6\",\"width\":0.5},\"pattern\":{\"fillmode\":\"overlay\",\"size\":10,\"solidity\":0.2}},\"type\":\"barpolar\"}],\"carpet\":[{\"aaxis\":{\"endlinecolor\":\"#2a3f5f\",\"gridcolor\":\"white\",\"linecolor\":\"white\",\"minorgridcolor\":\"white\",\"startlinecolor\":\"#2a3f5f\"},\"baxis\":{\"endlinecolor\":\"#2a3f5f\",\"gridcolor\":\"white\",\"linecolor\":\"white\",\"minorgridcolor\":\"white\",\"startlinecolor\":\"#2a3f5f\"},\"type\":\"carpet\"}],\"choropleth\":[{\"colorbar\":{\"outlinewidth\":0,\"ticks\":\"\"},\"type\":\"choropleth\"}],\"contour\":[{\"colorbar\":{\"outlinewidth\":0,\"ticks\":\"\"},\"colorscale\":[[0.0,\"#0d0887\"],[0.1111111111111111,\"#46039f\"],[0.2222222222222222,\"#7201a8\"],[0.3333333333333333,\"#9c179e\"],[0.4444444444444444,\"#bd3786\"],[0.5555555555555556,\"#d8576b\"],[0.6666666666666666,\"#ed7953\"],[0.7777777777777778,\"#fb9f3a\"],[0.8888888888888888,\"#fdca26\"],[1.0,\"#f0f921\"]],\"type\":\"contour\"}],\"contourcarpet\":[{\"colorbar\":{\"outlinewidth\":0,\"ticks\":\"\"},\"type\":\"contourcarpet\"}],\"heatmap\":[{\"colorbar\":{\"outlinewidth\":0,\"ticks\":\"\"},\"colorscale\":[[0.0,\"#0d0887\"],[0.1111111111111111,\"#46039f\"],[0.2222222222222222,\"#7201a8\"],[0.3333333333333333,\"#9c179e\"],[0.4444444444444444,\"#bd3786\"],[0.5555555555555556,\"#d8576b\"],[0.6666666666666666,\"#ed7953\"],[0.7777777777777778,\"#fb9f3a\"],[0.8888888888888888,\"#fdca26\"],[1.0,\"#f0f921\"]],\"type\":\"heatmap\"}],\"heatmapgl\":[{\"colorbar\":{\"outlinewidth\":0,\"ticks\":\"\"},\"colorscale\":[[0.0,\"#0d0887\"],[0.1111111111111111,\"#46039f\"],[0.2222222222222222,\"#7201a8\"],[0.3333333333333333,\"#9c179e\"],[0.4444444444444444,\"#bd3786\"],[0.5555555555555556,\"#d8576b\"],[0.6666666666666666,\"#ed7953\"],[0.7777777777777778,\"#fb9f3a\"],[0.8888888888888888,\"#fdca26\"],[1.0,\"#f0f921\"]],\"type\":\"heatmapgl\"}],\"histogram\":[{\"marker\":{\"pattern\":{\"fillmode\":\"overlay\",\"size\":10,\"solidity\":0.2}},\"type\":\"histogram\"}],\"histogram2d\":[{\"colorbar\":{\"outlinewidth\":0,\"ticks\":\"\"},\"colorscale\":[[0.0,\"#0d0887\"],[0.1111111111111111,\"#46039f\"],[0.2222222222222222,\"#7201a8\"],[0.3333333333333333,\"#9c179e\"],[0.4444444444444444,\"#bd3786\"],[0.5555555555555556,\"#d8576b\"],[0.6666666666666666,\"#ed7953\"],[0.7777777777777778,\"#fb9f3a\"],[0.8888888888888888,\"#fdca26\"],[1.0,\"#f0f921\"]],\"type\":\"histogram2d\"}],\"histogram2dcontour\":[{\"colorbar\":{\"outlinewidth\":0,\"ticks\":\"\"},\"colorscale\":[[0.0,\"#0d0887\"],[0.1111111111111111,\"#46039f\"],[0.2222222222222222,\"#7201a8\"],[0.3333333333333333,\"#9c179e\"],[0.4444444444444444,\"#bd3786\"],[0.5555555555555556,\"#d8576b\"],[0.6666666666666666,\"#ed7953\"],[0.7777777777777778,\"#fb9f3a\"],[0.8888888888888888,\"#fdca26\"],[1.0,\"#f0f921\"]],\"type\":\"histogram2dcontour\"}],\"mesh3d\":[{\"colorbar\":{\"outlinewidth\":0,\"ticks\":\"\"},\"type\":\"mesh3d\"}],\"parcoords\":[{\"line\":{\"colorbar\":{\"outlinewidth\":0,\"ticks\":\"\"}},\"type\":\"parcoords\"}],\"pie\":[{\"automargin\":true,\"type\":\"pie\"}],\"scatter\":[{\"marker\":{\"colorbar\":{\"outlinewidth\":0,\"ticks\":\"\"}},\"type\":\"scatter\"}],\"scatter3d\":[{\"line\":{\"colorbar\":{\"outlinewidth\":0,\"ticks\":\"\"}},\"marker\":{\"colorbar\":{\"outlinewidth\":0,\"ticks\":\"\"}},\"type\":\"scatter3d\"}],\"scattercarpet\":[{\"marker\":{\"colorbar\":{\"outlinewidth\":0,\"ticks\":\"\"}},\"type\":\"scattercarpet\"}],\"scattergeo\":[{\"marker\":{\"colorbar\":{\"outlinewidth\":0,\"ticks\":\"\"}},\"type\":\"scattergeo\"}],\"scattergl\":[{\"marker\":{\"colorbar\":{\"outlinewidth\":0,\"ticks\":\"\"}},\"type\":\"scattergl\"}],\"scattermapbox\":[{\"marker\":{\"colorbar\":{\"outlinewidth\":0,\"ticks\":\"\"}},\"type\":\"scattermapbox\"}],\"scatterpolar\":[{\"marker\":{\"colorbar\":{\"outlinewidth\":0,\"ticks\":\"\"}},\"type\":\"scatterpolar\"}],\"scatterpolargl\":[{\"marker\":{\"colorbar\":{\"outlinewidth\":0,\"ticks\":\"\"}},\"type\":\"scatterpolargl\"}],\"scatterternary\":[{\"marker\":{\"colorbar\":{\"outlinewidth\":0,\"ticks\":\"\"}},\"type\":\"scatterternary\"}],\"surface\":[{\"colorbar\":{\"outlinewidth\":0,\"ticks\":\"\"},\"colorscale\":[[0.0,\"#0d0887\"],[0.1111111111111111,\"#46039f\"],[0.2222222222222222,\"#7201a8\"],[0.3333333333333333,\"#9c179e\"],[0.4444444444444444,\"#bd3786\"],[0.5555555555555556,\"#d8576b\"],[0.6666666666666666,\"#ed7953\"],[0.7777777777777778,\"#fb9f3a\"],[0.8888888888888888,\"#fdca26\"],[1.0,\"#f0f921\"]],\"type\":\"surface\"}],\"table\":[{\"cells\":{\"fill\":{\"color\":\"#EBF0F8\"},\"line\":{\"color\":\"white\"}},\"header\":{\"fill\":{\"color\":\"#C8D4E3\"},\"line\":{\"color\":\"white\"}},\"type\":\"table\"}]},\"layout\":{\"annotationdefaults\":{\"arrowcolor\":\"#2a3f5f\",\"arrowhead\":0,\"arrowwidth\":1},\"autotypenumbers\":\"strict\",\"coloraxis\":{\"colorbar\":{\"outlinewidth\":0,\"ticks\":\"\"}},\"colorscale\":{\"diverging\":[[0,\"#8e0152\"],[0.1,\"#c51b7d\"],[0.2,\"#de77ae\"],[0.3,\"#f1b6da\"],[0.4,\"#fde0ef\"],[0.5,\"#f7f7f7\"],[0.6,\"#e6f5d0\"],[0.7,\"#b8e186\"],[0.8,\"#7fbc41\"],[0.9,\"#4d9221\"],[1,\"#276419\"]],\"sequential\":[[0.0,\"#0d0887\"],[0.1111111111111111,\"#46039f\"],[0.2222222222222222,\"#7201a8\"],[0.3333333333333333,\"#9c179e\"],[0.4444444444444444,\"#bd3786\"],[0.5555555555555556,\"#d8576b\"],[0.6666666666666666,\"#ed7953\"],[0.7777777777777778,\"#fb9f3a\"],[0.8888888888888888,\"#fdca26\"],[1.0,\"#f0f921\"]],\"sequentialminus\":[[0.0,\"#0d0887\"],[0.1111111111111111,\"#46039f\"],[0.2222222222222222,\"#7201a8\"],[0.3333333333333333,\"#9c179e\"],[0.4444444444444444,\"#bd3786\"],[0.5555555555555556,\"#d8576b\"],[0.6666666666666666,\"#ed7953\"],[0.7777777777777778,\"#fb9f3a\"],[0.8888888888888888,\"#fdca26\"],[1.0,\"#f0f921\"]]},\"colorway\":[\"#636efa\",\"#EF553B\",\"#00cc96\",\"#ab63fa\",\"#FFA15A\",\"#19d3f3\",\"#FF6692\",\"#B6E880\",\"#FF97FF\",\"#FECB52\"],\"font\":{\"color\":\"#2a3f5f\"},\"geo\":{\"bgcolor\":\"white\",\"lakecolor\":\"white\",\"landcolor\":\"#E5ECF6\",\"showlakes\":true,\"showland\":true,\"subunitcolor\":\"white\"},\"hoverlabel\":{\"align\":\"left\"},\"hovermode\":\"closest\",\"mapbox\":{\"style\":\"light\"},\"paper_bgcolor\":\"white\",\"plot_bgcolor\":\"#E5ECF6\",\"polar\":{\"angularaxis\":{\"gridcolor\":\"white\",\"linecolor\":\"white\",\"ticks\":\"\"},\"bgcolor\":\"#E5ECF6\",\"radialaxis\":{\"gridcolor\":\"white\",\"linecolor\":\"white\",\"ticks\":\"\"}},\"scene\":{\"xaxis\":{\"backgroundcolor\":\"#E5ECF6\",\"gridcolor\":\"white\",\"gridwidth\":2,\"linecolor\":\"white\",\"showbackground\":true,\"ticks\":\"\",\"zerolinecolor\":\"white\"},\"yaxis\":{\"backgroundcolor\":\"#E5ECF6\",\"gridcolor\":\"white\",\"gridwidth\":2,\"linecolor\":\"white\",\"showbackground\":true,\"ticks\":\"\",\"zerolinecolor\":\"white\"},\"zaxis\":{\"backgroundcolor\":\"#E5ECF6\",\"gridcolor\":\"white\",\"gridwidth\":2,\"linecolor\":\"white\",\"showbackground\":true,\"ticks\":\"\",\"zerolinecolor\":\"white\"}},\"shapedefaults\":{\"line\":{\"color\":\"#2a3f5f\"}},\"ternary\":{\"aaxis\":{\"gridcolor\":\"white\",\"linecolor\":\"white\",\"ticks\":\"\"},\"baxis\":{\"gridcolor\":\"white\",\"linecolor\":\"white\",\"ticks\":\"\"},\"bgcolor\":\"#E5ECF6\",\"caxis\":{\"gridcolor\":\"white\",\"linecolor\":\"white\",\"ticks\":\"\"}},\"title\":{\"x\":0.05},\"xaxis\":{\"automargin\":true,\"gridcolor\":\"white\",\"linecolor\":\"white\",\"ticks\":\"\",\"title\":{\"standoff\":15},\"zerolinecolor\":\"white\",\"zerolinewidth\":2},\"yaxis\":{\"automargin\":true,\"gridcolor\":\"white\",\"linecolor\":\"white\",\"ticks\":\"\",\"title\":{\"standoff\":15},\"zerolinecolor\":\"white\",\"zerolinewidth\":2}}},\"xaxis\":{\"anchor\":\"y\",\"domain\":[0.0,1.0],\"title\":{\"text\":\"sepal_width\"}},\"yaxis\":{\"anchor\":\"x\",\"domain\":[0.0,1.0],\"title\":{\"text\":\"sepal_length\"}},\"legend\":{\"title\":{\"text\":\"species\"},\"tracegroupgap\":0},\"margin\":{\"t\":60}},                        {\"responsive\": true}                    ).then(function(){\n",
              "                            \n",
              "var gd = document.getElementById('f746a08e-ced2-4c6b-ad4d-01617f3948f2');\n",
              "var x = new MutationObserver(function (mutations, observer) {{\n",
              "        var display = window.getComputedStyle(gd).display;\n",
              "        if (!display || display === 'none') {{\n",
              "            console.log([gd, 'removed!']);\n",
              "            Plotly.purge(gd);\n",
              "            observer.disconnect();\n",
              "        }}\n",
              "}});\n",
              "\n",
              "// Listen for the removal of the full notebook cells\n",
              "var notebookContainer = gd.closest('#notebook-container');\n",
              "if (notebookContainer) {{\n",
              "    x.observe(notebookContainer, {childList: true});\n",
              "}}\n",
              "\n",
              "// Listen for the clearing of the current output cell\n",
              "var outputEl = gd.closest('.output');\n",
              "if (outputEl) {{\n",
              "    x.observe(outputEl, {childList: true});\n",
              "}}\n",
              "\n",
              "                        })                };                            </script>        </div>\n",
              "</body>\n",
              "</html>"
            ]
          },
          "metadata": {},
          "output_type": "display_data"
        }
      ],
      "source": [
        "import plotly.express as px\n",
        "df = px.data.iris()\n",
        "fig = px.scatter(df, x=\"sepal_width\", y=\"sepal_length\", color=\"species\")\n",
        "fig.show()"
      ]
    },
    {
      "cell_type": "code",
      "execution_count": null,
      "metadata": {
        "colab": {
          "base_uri": "https://localhost:8080/"
        },
        "id": "dnciSHCRu62m",
        "outputId": "6748f04c-31f4-4680-b77d-301f213d3981"
      },
      "outputs": [
        {
          "name": "stderr",
          "output_type": "stream",
          "text": [
            "/usr/local/lib/python3.8/dist-packages/torch/cuda/__init__.py:497: UserWarning:\n",
            "\n",
            "Can't initialize NVML\n",
            "\n"
          ]
        }
      ],
      "source": [
        "import numpy as np \n",
        "import pandas as pd \n",
        "import os\n",
        "#import matplotlib.pyplot as plt \n",
        "import seaborn as sns \n",
        "from wordcloud import WordCloud, STOPWORDS, ImageColorGenerator\n",
        "\n",
        "import re\n",
        "import nltk\n",
        "from nltk.corpus import stopwords\n",
        "from tqdm import tqdm\n",
        "from nltk.stem import WordNetLemmatizer\n",
        "import spacy\n"
      ]
    },
    {
      "cell_type": "code",
      "execution_count": null,
      "metadata": {
        "id": "YqNIeVzIBgVw"
      },
      "outputs": [],
      "source": []
    },
    {
      "cell_type": "code",
      "execution_count": null,
      "metadata": {
        "colab": {
          "base_uri": "https://localhost:8080/"
        },
        "id": "QjpcUX7lu7kK",
        "outputId": "66841e24-1f25-412a-f6a8-616a4b7987c6"
      },
      "outputs": [
        {
          "name": "stderr",
          "output_type": "stream",
          "text": [
            "[nltk_data] Downloading package stopwords to /root/nltk_data...\n",
            "[nltk_data]   Unzipping corpora/stopwords.zip.\n",
            "[nltk_data] Downloading package wordnet to /root/nltk_data...\n",
            "[nltk_data] Downloading package omw-1.4 to /root/nltk_data...\n"
          ]
        },
        {
          "data": {
            "text/plain": [
              "True"
            ]
          },
          "execution_count": 5,
          "metadata": {},
          "output_type": "execute_result"
        }
      ],
      "source": [
        "tqdm.pandas()\n",
        "spacy_eng = spacy.load(\"en_core_web_sm\")\n",
        "nltk.download('stopwords')\n",
        "lemm = WordNetLemmatizer()\n",
        "#init_notebook_mode(connected=True)\n",
        "sns.set_style(\"darkgrid\")\n",
        "#plt.rcParams['figure.figsize'] = (20,8)\n",
        "#plt.rcParams['font.size'] = 18\n",
        "nltk.download('wordnet')\n",
        "nltk.download('omw-1.4')"
      ]
    },
    {
      "cell_type": "code",
      "execution_count": null,
      "metadata": {
        "id": "_qaJHMM_1522"
      },
      "outputs": [],
      "source": []
    },
    {
      "cell_type": "code",
      "execution_count": null,
      "metadata": {
        "id": "jcLWMl1-vOl2"
      },
      "outputs": [],
      "source": [
        "path_training='/content/drive/MyDrive/Colab Notebooks/Web Mining/SarcasmDetection/Competition 1-december/English_data/train.En.csv'\n",
        "path_testing='/content/drive/MyDrive/Colab Notebooks/Web Mining/SarcasmDetection/Competition 1-december/English_data/task_A_En_test.csv'\n",
        "data=pd.read_csv(path_training)\n",
        "test_data=pd.read_csv(path_testing)"
      ]
    },
    {
      "cell_type": "code",
      "execution_count": null,
      "metadata": {
        "colab": {
          "base_uri": "https://localhost:8080/",
          "height": 554
        },
        "id": "X4f8pZA9wFUm",
        "outputId": "d7508c46-9aae-4a86-c766-a56199fbf287"
      },
      "outputs": [
        {
          "data": {
            "text/html": [
              "\n",
              "  <div id=\"df-c9b2efea-6d57-4bf6-82df-4054a8e7cb87\">\n",
              "    <div class=\"colab-df-container\">\n",
              "      <div>\n",
              "<style scoped>\n",
              "    .dataframe tbody tr th:only-of-type {\n",
              "        vertical-align: middle;\n",
              "    }\n",
              "\n",
              "    .dataframe tbody tr th {\n",
              "        vertical-align: top;\n",
              "    }\n",
              "\n",
              "    .dataframe thead th {\n",
              "        text-align: right;\n",
              "    }\n",
              "</style>\n",
              "<table border=\"1\" class=\"dataframe\">\n",
              "  <thead>\n",
              "    <tr style=\"text-align: right;\">\n",
              "      <th></th>\n",
              "      <th>Unnamed: 0</th>\n",
              "      <th>tweet</th>\n",
              "      <th>sarcastic</th>\n",
              "      <th>rephrase</th>\n",
              "      <th>sarcasm</th>\n",
              "      <th>irony</th>\n",
              "      <th>satire</th>\n",
              "      <th>understatement</th>\n",
              "      <th>overstatement</th>\n",
              "      <th>rhetorical_question</th>\n",
              "    </tr>\n",
              "  </thead>\n",
              "  <tbody>\n",
              "    <tr>\n",
              "      <th>0</th>\n",
              "      <td>0</td>\n",
              "      <td>The only thing I got from college is a caffein...</td>\n",
              "      <td>1</td>\n",
              "      <td>College is really difficult, expensive, tiring...</td>\n",
              "      <td>0.0</td>\n",
              "      <td>1.0</td>\n",
              "      <td>0.0</td>\n",
              "      <td>0.0</td>\n",
              "      <td>0.0</td>\n",
              "      <td>0.0</td>\n",
              "    </tr>\n",
              "    <tr>\n",
              "      <th>1</th>\n",
              "      <td>1</td>\n",
              "      <td>I love it when professors draw a big question ...</td>\n",
              "      <td>1</td>\n",
              "      <td>I do not like when professors don’t write out ...</td>\n",
              "      <td>1.0</td>\n",
              "      <td>0.0</td>\n",
              "      <td>0.0</td>\n",
              "      <td>0.0</td>\n",
              "      <td>0.0</td>\n",
              "      <td>0.0</td>\n",
              "    </tr>\n",
              "    <tr>\n",
              "      <th>2</th>\n",
              "      <td>2</td>\n",
              "      <td>Remember the hundred emails from companies whe...</td>\n",
              "      <td>1</td>\n",
              "      <td>I, at the bare minimum, wish companies actuall...</td>\n",
              "      <td>0.0</td>\n",
              "      <td>1.0</td>\n",
              "      <td>0.0</td>\n",
              "      <td>0.0</td>\n",
              "      <td>0.0</td>\n",
              "      <td>0.0</td>\n",
              "    </tr>\n",
              "    <tr>\n",
              "      <th>3</th>\n",
              "      <td>3</td>\n",
              "      <td>Today my pop-pop told me I was not “forced” to...</td>\n",
              "      <td>1</td>\n",
              "      <td>Today my pop-pop told me I was not \"forced\" to...</td>\n",
              "      <td>1.0</td>\n",
              "      <td>0.0</td>\n",
              "      <td>0.0</td>\n",
              "      <td>0.0</td>\n",
              "      <td>0.0</td>\n",
              "      <td>0.0</td>\n",
              "    </tr>\n",
              "    <tr>\n",
              "      <th>4</th>\n",
              "      <td>4</td>\n",
              "      <td>@VolphanCarol @littlewhitty @mysticalmanatee I...</td>\n",
              "      <td>1</td>\n",
              "      <td>I would say Ted Cruz is an asshole and doesn’t...</td>\n",
              "      <td>1.0</td>\n",
              "      <td>0.0</td>\n",
              "      <td>0.0</td>\n",
              "      <td>0.0</td>\n",
              "      <td>0.0</td>\n",
              "      <td>0.0</td>\n",
              "    </tr>\n",
              "    <tr>\n",
              "      <th>...</th>\n",
              "      <td>...</td>\n",
              "      <td>...</td>\n",
              "      <td>...</td>\n",
              "      <td>...</td>\n",
              "      <td>...</td>\n",
              "      <td>...</td>\n",
              "      <td>...</td>\n",
              "      <td>...</td>\n",
              "      <td>...</td>\n",
              "      <td>...</td>\n",
              "    </tr>\n",
              "    <tr>\n",
              "      <th>3463</th>\n",
              "      <td>3463</td>\n",
              "      <td>The population spike in Chicago in 9 months is...</td>\n",
              "      <td>0</td>\n",
              "      <td>NaN</td>\n",
              "      <td>NaN</td>\n",
              "      <td>NaN</td>\n",
              "      <td>NaN</td>\n",
              "      <td>NaN</td>\n",
              "      <td>NaN</td>\n",
              "      <td>NaN</td>\n",
              "    </tr>\n",
              "    <tr>\n",
              "      <th>3464</th>\n",
              "      <td>3464</td>\n",
              "      <td>You'd think in the second to last English clas...</td>\n",
              "      <td>0</td>\n",
              "      <td>NaN</td>\n",
              "      <td>NaN</td>\n",
              "      <td>NaN</td>\n",
              "      <td>NaN</td>\n",
              "      <td>NaN</td>\n",
              "      <td>NaN</td>\n",
              "      <td>NaN</td>\n",
              "    </tr>\n",
              "    <tr>\n",
              "      <th>3465</th>\n",
              "      <td>3465</td>\n",
              "      <td>I’m finally surfacing after a holiday to Scotl...</td>\n",
              "      <td>0</td>\n",
              "      <td>NaN</td>\n",
              "      <td>NaN</td>\n",
              "      <td>NaN</td>\n",
              "      <td>NaN</td>\n",
              "      <td>NaN</td>\n",
              "      <td>NaN</td>\n",
              "      <td>NaN</td>\n",
              "    </tr>\n",
              "    <tr>\n",
              "      <th>3466</th>\n",
              "      <td>3466</td>\n",
              "      <td>Couldn't be prouder today. Well done to every ...</td>\n",
              "      <td>0</td>\n",
              "      <td>NaN</td>\n",
              "      <td>NaN</td>\n",
              "      <td>NaN</td>\n",
              "      <td>NaN</td>\n",
              "      <td>NaN</td>\n",
              "      <td>NaN</td>\n",
              "      <td>NaN</td>\n",
              "    </tr>\n",
              "    <tr>\n",
              "      <th>3467</th>\n",
              "      <td>3467</td>\n",
              "      <td>Overheard as my 13 year old games with a frien...</td>\n",
              "      <td>0</td>\n",
              "      <td>NaN</td>\n",
              "      <td>NaN</td>\n",
              "      <td>NaN</td>\n",
              "      <td>NaN</td>\n",
              "      <td>NaN</td>\n",
              "      <td>NaN</td>\n",
              "      <td>NaN</td>\n",
              "    </tr>\n",
              "  </tbody>\n",
              "</table>\n",
              "<p>3468 rows × 10 columns</p>\n",
              "</div>\n",
              "      <button class=\"colab-df-convert\" onclick=\"convertToInteractive('df-c9b2efea-6d57-4bf6-82df-4054a8e7cb87')\"\n",
              "              title=\"Convert this dataframe to an interactive table.\"\n",
              "              style=\"display:none;\">\n",
              "        \n",
              "  <svg xmlns=\"http://www.w3.org/2000/svg\" height=\"24px\"viewBox=\"0 0 24 24\"\n",
              "       width=\"24px\">\n",
              "    <path d=\"M0 0h24v24H0V0z\" fill=\"none\"/>\n",
              "    <path d=\"M18.56 5.44l.94 2.06.94-2.06 2.06-.94-2.06-.94-.94-2.06-.94 2.06-2.06.94zm-11 1L8.5 8.5l.94-2.06 2.06-.94-2.06-.94L8.5 2.5l-.94 2.06-2.06.94zm10 10l.94 2.06.94-2.06 2.06-.94-2.06-.94-.94-2.06-.94 2.06-2.06.94z\"/><path d=\"M17.41 7.96l-1.37-1.37c-.4-.4-.92-.59-1.43-.59-.52 0-1.04.2-1.43.59L10.3 9.45l-7.72 7.72c-.78.78-.78 2.05 0 2.83L4 21.41c.39.39.9.59 1.41.59.51 0 1.02-.2 1.41-.59l7.78-7.78 2.81-2.81c.8-.78.8-2.07 0-2.86zM5.41 20L4 18.59l7.72-7.72 1.47 1.35L5.41 20z\"/>\n",
              "  </svg>\n",
              "      </button>\n",
              "      \n",
              "  <style>\n",
              "    .colab-df-container {\n",
              "      display:flex;\n",
              "      flex-wrap:wrap;\n",
              "      gap: 12px;\n",
              "    }\n",
              "\n",
              "    .colab-df-convert {\n",
              "      background-color: #E8F0FE;\n",
              "      border: none;\n",
              "      border-radius: 50%;\n",
              "      cursor: pointer;\n",
              "      display: none;\n",
              "      fill: #1967D2;\n",
              "      height: 32px;\n",
              "      padding: 0 0 0 0;\n",
              "      width: 32px;\n",
              "    }\n",
              "\n",
              "    .colab-df-convert:hover {\n",
              "      background-color: #E2EBFA;\n",
              "      box-shadow: 0px 1px 2px rgba(60, 64, 67, 0.3), 0px 1px 3px 1px rgba(60, 64, 67, 0.15);\n",
              "      fill: #174EA6;\n",
              "    }\n",
              "\n",
              "    [theme=dark] .colab-df-convert {\n",
              "      background-color: #3B4455;\n",
              "      fill: #D2E3FC;\n",
              "    }\n",
              "\n",
              "    [theme=dark] .colab-df-convert:hover {\n",
              "      background-color: #434B5C;\n",
              "      box-shadow: 0px 1px 3px 1px rgba(0, 0, 0, 0.15);\n",
              "      filter: drop-shadow(0px 1px 2px rgba(0, 0, 0, 0.3));\n",
              "      fill: #FFFFFF;\n",
              "    }\n",
              "  </style>\n",
              "\n",
              "      <script>\n",
              "        const buttonEl =\n",
              "          document.querySelector('#df-c9b2efea-6d57-4bf6-82df-4054a8e7cb87 button.colab-df-convert');\n",
              "        buttonEl.style.display =\n",
              "          google.colab.kernel.accessAllowed ? 'block' : 'none';\n",
              "\n",
              "        async function convertToInteractive(key) {\n",
              "          const element = document.querySelector('#df-c9b2efea-6d57-4bf6-82df-4054a8e7cb87');\n",
              "          const dataTable =\n",
              "            await google.colab.kernel.invokeFunction('convertToInteractive',\n",
              "                                                     [key], {});\n",
              "          if (!dataTable) return;\n",
              "\n",
              "          const docLinkHtml = 'Like what you see? Visit the ' +\n",
              "            '<a target=\"_blank\" href=https://colab.research.google.com/notebooks/data_table.ipynb>data table notebook</a>'\n",
              "            + ' to learn more about interactive tables.';\n",
              "          element.innerHTML = '';\n",
              "          dataTable['output_type'] = 'display_data';\n",
              "          await google.colab.output.renderOutput(dataTable, element);\n",
              "          const docLink = document.createElement('div');\n",
              "          docLink.innerHTML = docLinkHtml;\n",
              "          element.appendChild(docLink);\n",
              "        }\n",
              "      </script>\n",
              "    </div>\n",
              "  </div>\n",
              "  "
            ],
            "text/plain": [
              "      Unnamed: 0                                              tweet  \\\n",
              "0              0  The only thing I got from college is a caffein...   \n",
              "1              1  I love it when professors draw a big question ...   \n",
              "2              2  Remember the hundred emails from companies whe...   \n",
              "3              3  Today my pop-pop told me I was not “forced” to...   \n",
              "4              4  @VolphanCarol @littlewhitty @mysticalmanatee I...   \n",
              "...          ...                                                ...   \n",
              "3463        3463  The population spike in Chicago in 9 months is...   \n",
              "3464        3464  You'd think in the second to last English clas...   \n",
              "3465        3465  I’m finally surfacing after a holiday to Scotl...   \n",
              "3466        3466  Couldn't be prouder today. Well done to every ...   \n",
              "3467        3467  Overheard as my 13 year old games with a frien...   \n",
              "\n",
              "      sarcastic                                           rephrase  sarcasm  \\\n",
              "0             1  College is really difficult, expensive, tiring...      0.0   \n",
              "1             1  I do not like when professors don’t write out ...      1.0   \n",
              "2             1  I, at the bare minimum, wish companies actuall...      0.0   \n",
              "3             1  Today my pop-pop told me I was not \"forced\" to...      1.0   \n",
              "4             1  I would say Ted Cruz is an asshole and doesn’t...      1.0   \n",
              "...         ...                                                ...      ...   \n",
              "3463          0                                                NaN      NaN   \n",
              "3464          0                                                NaN      NaN   \n",
              "3465          0                                                NaN      NaN   \n",
              "3466          0                                                NaN      NaN   \n",
              "3467          0                                                NaN      NaN   \n",
              "\n",
              "      irony  satire  understatement  overstatement  rhetorical_question  \n",
              "0       1.0     0.0             0.0            0.0                  0.0  \n",
              "1       0.0     0.0             0.0            0.0                  0.0  \n",
              "2       1.0     0.0             0.0            0.0                  0.0  \n",
              "3       0.0     0.0             0.0            0.0                  0.0  \n",
              "4       0.0     0.0             0.0            0.0                  0.0  \n",
              "...     ...     ...             ...            ...                  ...  \n",
              "3463    NaN     NaN             NaN            NaN                  NaN  \n",
              "3464    NaN     NaN             NaN            NaN                  NaN  \n",
              "3465    NaN     NaN             NaN            NaN                  NaN  \n",
              "3466    NaN     NaN             NaN            NaN                  NaN  \n",
              "3467    NaN     NaN             NaN            NaN                  NaN  \n",
              "\n",
              "[3468 rows x 10 columns]"
            ]
          },
          "execution_count": 7,
          "metadata": {},
          "output_type": "execute_result"
        }
      ],
      "source": [
        "data"
      ]
    },
    {
      "cell_type": "code",
      "execution_count": null,
      "metadata": {
        "id": "ZynuoHuVyjmO"
      },
      "outputs": [],
      "source": [
        "data.set_index('Unnamed: 0', inplace=True)"
      ]
    },
    {
      "cell_type": "code",
      "execution_count": null,
      "metadata": {
        "colab": {
          "base_uri": "https://localhost:8080/",
          "height": 351
        },
        "id": "xu8w6UT-yu65",
        "outputId": "fbc8515f-8478-4772-dd36-26523cb46708"
      },
      "outputs": [
        {
          "data": {
            "text/html": [
              "\n",
              "  <div id=\"df-4197c9ce-1dd5-40e0-a694-4bff59b08538\">\n",
              "    <div class=\"colab-df-container\">\n",
              "      <div>\n",
              "<style scoped>\n",
              "    .dataframe tbody tr th:only-of-type {\n",
              "        vertical-align: middle;\n",
              "    }\n",
              "\n",
              "    .dataframe tbody tr th {\n",
              "        vertical-align: top;\n",
              "    }\n",
              "\n",
              "    .dataframe thead th {\n",
              "        text-align: right;\n",
              "    }\n",
              "</style>\n",
              "<table border=\"1\" class=\"dataframe\">\n",
              "  <thead>\n",
              "    <tr style=\"text-align: right;\">\n",
              "      <th></th>\n",
              "      <th>tweet</th>\n",
              "      <th>sarcastic</th>\n",
              "      <th>rephrase</th>\n",
              "      <th>sarcasm</th>\n",
              "      <th>irony</th>\n",
              "      <th>satire</th>\n",
              "      <th>understatement</th>\n",
              "      <th>overstatement</th>\n",
              "      <th>rhetorical_question</th>\n",
              "    </tr>\n",
              "    <tr>\n",
              "      <th>Unnamed: 0</th>\n",
              "      <th></th>\n",
              "      <th></th>\n",
              "      <th></th>\n",
              "      <th></th>\n",
              "      <th></th>\n",
              "      <th></th>\n",
              "      <th></th>\n",
              "      <th></th>\n",
              "      <th></th>\n",
              "    </tr>\n",
              "  </thead>\n",
              "  <tbody>\n",
              "    <tr>\n",
              "      <th>0</th>\n",
              "      <td>The only thing I got from college is a caffein...</td>\n",
              "      <td>1</td>\n",
              "      <td>College is really difficult, expensive, tiring...</td>\n",
              "      <td>0.0</td>\n",
              "      <td>1.0</td>\n",
              "      <td>0.0</td>\n",
              "      <td>0.0</td>\n",
              "      <td>0.0</td>\n",
              "      <td>0.0</td>\n",
              "    </tr>\n",
              "    <tr>\n",
              "      <th>1</th>\n",
              "      <td>I love it when professors draw a big question ...</td>\n",
              "      <td>1</td>\n",
              "      <td>I do not like when professors don’t write out ...</td>\n",
              "      <td>1.0</td>\n",
              "      <td>0.0</td>\n",
              "      <td>0.0</td>\n",
              "      <td>0.0</td>\n",
              "      <td>0.0</td>\n",
              "      <td>0.0</td>\n",
              "    </tr>\n",
              "    <tr>\n",
              "      <th>2</th>\n",
              "      <td>Remember the hundred emails from companies whe...</td>\n",
              "      <td>1</td>\n",
              "      <td>I, at the bare minimum, wish companies actuall...</td>\n",
              "      <td>0.0</td>\n",
              "      <td>1.0</td>\n",
              "      <td>0.0</td>\n",
              "      <td>0.0</td>\n",
              "      <td>0.0</td>\n",
              "      <td>0.0</td>\n",
              "    </tr>\n",
              "    <tr>\n",
              "      <th>3</th>\n",
              "      <td>Today my pop-pop told me I was not “forced” to...</td>\n",
              "      <td>1</td>\n",
              "      <td>Today my pop-pop told me I was not \"forced\" to...</td>\n",
              "      <td>1.0</td>\n",
              "      <td>0.0</td>\n",
              "      <td>0.0</td>\n",
              "      <td>0.0</td>\n",
              "      <td>0.0</td>\n",
              "      <td>0.0</td>\n",
              "    </tr>\n",
              "    <tr>\n",
              "      <th>4</th>\n",
              "      <td>@VolphanCarol @littlewhitty @mysticalmanatee I...</td>\n",
              "      <td>1</td>\n",
              "      <td>I would say Ted Cruz is an asshole and doesn’t...</td>\n",
              "      <td>1.0</td>\n",
              "      <td>0.0</td>\n",
              "      <td>0.0</td>\n",
              "      <td>0.0</td>\n",
              "      <td>0.0</td>\n",
              "      <td>0.0</td>\n",
              "    </tr>\n",
              "  </tbody>\n",
              "</table>\n",
              "</div>\n",
              "      <button class=\"colab-df-convert\" onclick=\"convertToInteractive('df-4197c9ce-1dd5-40e0-a694-4bff59b08538')\"\n",
              "              title=\"Convert this dataframe to an interactive table.\"\n",
              "              style=\"display:none;\">\n",
              "        \n",
              "  <svg xmlns=\"http://www.w3.org/2000/svg\" height=\"24px\"viewBox=\"0 0 24 24\"\n",
              "       width=\"24px\">\n",
              "    <path d=\"M0 0h24v24H0V0z\" fill=\"none\"/>\n",
              "    <path d=\"M18.56 5.44l.94 2.06.94-2.06 2.06-.94-2.06-.94-.94-2.06-.94 2.06-2.06.94zm-11 1L8.5 8.5l.94-2.06 2.06-.94-2.06-.94L8.5 2.5l-.94 2.06-2.06.94zm10 10l.94 2.06.94-2.06 2.06-.94-2.06-.94-.94-2.06-.94 2.06-2.06.94z\"/><path d=\"M17.41 7.96l-1.37-1.37c-.4-.4-.92-.59-1.43-.59-.52 0-1.04.2-1.43.59L10.3 9.45l-7.72 7.72c-.78.78-.78 2.05 0 2.83L4 21.41c.39.39.9.59 1.41.59.51 0 1.02-.2 1.41-.59l7.78-7.78 2.81-2.81c.8-.78.8-2.07 0-2.86zM5.41 20L4 18.59l7.72-7.72 1.47 1.35L5.41 20z\"/>\n",
              "  </svg>\n",
              "      </button>\n",
              "      \n",
              "  <style>\n",
              "    .colab-df-container {\n",
              "      display:flex;\n",
              "      flex-wrap:wrap;\n",
              "      gap: 12px;\n",
              "    }\n",
              "\n",
              "    .colab-df-convert {\n",
              "      background-color: #E8F0FE;\n",
              "      border: none;\n",
              "      border-radius: 50%;\n",
              "      cursor: pointer;\n",
              "      display: none;\n",
              "      fill: #1967D2;\n",
              "      height: 32px;\n",
              "      padding: 0 0 0 0;\n",
              "      width: 32px;\n",
              "    }\n",
              "\n",
              "    .colab-df-convert:hover {\n",
              "      background-color: #E2EBFA;\n",
              "      box-shadow: 0px 1px 2px rgba(60, 64, 67, 0.3), 0px 1px 3px 1px rgba(60, 64, 67, 0.15);\n",
              "      fill: #174EA6;\n",
              "    }\n",
              "\n",
              "    [theme=dark] .colab-df-convert {\n",
              "      background-color: #3B4455;\n",
              "      fill: #D2E3FC;\n",
              "    }\n",
              "\n",
              "    [theme=dark] .colab-df-convert:hover {\n",
              "      background-color: #434B5C;\n",
              "      box-shadow: 0px 1px 3px 1px rgba(0, 0, 0, 0.15);\n",
              "      filter: drop-shadow(0px 1px 2px rgba(0, 0, 0, 0.3));\n",
              "      fill: #FFFFFF;\n",
              "    }\n",
              "  </style>\n",
              "\n",
              "      <script>\n",
              "        const buttonEl =\n",
              "          document.querySelector('#df-4197c9ce-1dd5-40e0-a694-4bff59b08538 button.colab-df-convert');\n",
              "        buttonEl.style.display =\n",
              "          google.colab.kernel.accessAllowed ? 'block' : 'none';\n",
              "\n",
              "        async function convertToInteractive(key) {\n",
              "          const element = document.querySelector('#df-4197c9ce-1dd5-40e0-a694-4bff59b08538');\n",
              "          const dataTable =\n",
              "            await google.colab.kernel.invokeFunction('convertToInteractive',\n",
              "                                                     [key], {});\n",
              "          if (!dataTable) return;\n",
              "\n",
              "          const docLinkHtml = 'Like what you see? Visit the ' +\n",
              "            '<a target=\"_blank\" href=https://colab.research.google.com/notebooks/data_table.ipynb>data table notebook</a>'\n",
              "            + ' to learn more about interactive tables.';\n",
              "          element.innerHTML = '';\n",
              "          dataTable['output_type'] = 'display_data';\n",
              "          await google.colab.output.renderOutput(dataTable, element);\n",
              "          const docLink = document.createElement('div');\n",
              "          docLink.innerHTML = docLinkHtml;\n",
              "          element.appendChild(docLink);\n",
              "        }\n",
              "      </script>\n",
              "    </div>\n",
              "  </div>\n",
              "  "
            ],
            "text/plain": [
              "                                                        tweet  sarcastic  \\\n",
              "Unnamed: 0                                                                 \n",
              "0           The only thing I got from college is a caffein...          1   \n",
              "1           I love it when professors draw a big question ...          1   \n",
              "2           Remember the hundred emails from companies whe...          1   \n",
              "3           Today my pop-pop told me I was not “forced” to...          1   \n",
              "4           @VolphanCarol @littlewhitty @mysticalmanatee I...          1   \n",
              "\n",
              "                                                     rephrase  sarcasm  irony  \\\n",
              "Unnamed: 0                                                                      \n",
              "0           College is really difficult, expensive, tiring...      0.0    1.0   \n",
              "1           I do not like when professors don’t write out ...      1.0    0.0   \n",
              "2           I, at the bare minimum, wish companies actuall...      0.0    1.0   \n",
              "3           Today my pop-pop told me I was not \"forced\" to...      1.0    0.0   \n",
              "4           I would say Ted Cruz is an asshole and doesn’t...      1.0    0.0   \n",
              "\n",
              "            satire  understatement  overstatement  rhetorical_question  \n",
              "Unnamed: 0                                                              \n",
              "0              0.0             0.0            0.0                  0.0  \n",
              "1              0.0             0.0            0.0                  0.0  \n",
              "2              0.0             0.0            0.0                  0.0  \n",
              "3              0.0             0.0            0.0                  0.0  \n",
              "4              0.0             0.0            0.0                  0.0  "
            ]
          },
          "execution_count": 9,
          "metadata": {},
          "output_type": "execute_result"
        }
      ],
      "source": [
        "data.head()"
      ]
    },
    {
      "cell_type": "code",
      "execution_count": null,
      "metadata": {
        "id": "sZAv9JBB0N4C"
      },
      "outputs": [],
      "source": []
    },
    {
      "cell_type": "markdown",
      "metadata": {
        "id": "Ce1zDnJe0OLI"
      },
      "source": [
        "#1-EDA and Text Preprocessing"
      ]
    },
    {
      "cell_type": "markdown",
      "metadata": {
        "id": "kpL4vy_a0X9H"
      },
      "source": [
        "## 1-1 Checking for Missing Values¶"
      ]
    },
    {
      "cell_type": "code",
      "execution_count": null,
      "metadata": {
        "colab": {
          "base_uri": "https://localhost:8080/"
        },
        "id": "ITc9D2MQ0ckk",
        "outputId": "b2c6248b-d293-4f47-ee77-222041e6d712"
      },
      "outputs": [
        {
          "data": {
            "text/plain": [
              "tweet                     1\n",
              "sarcastic                 0\n",
              "rephrase               2601\n",
              "sarcasm                2601\n",
              "irony                  2601\n",
              "satire                 2601\n",
              "understatement         2601\n",
              "overstatement          2601\n",
              "rhetorical_question    2601\n",
              "dtype: int64"
            ]
          },
          "execution_count": 10,
          "metadata": {},
          "output_type": "execute_result"
        }
      ],
      "source": [
        "data.isnull().sum()"
      ]
    },
    {
      "cell_type": "code",
      "execution_count": null,
      "metadata": {
        "id": "hK6GCgZU0ftK"
      },
      "outputs": [],
      "source": [
        "data = data.dropna(axis=0, subset=['tweet'])"
      ]
    },
    {
      "cell_type": "code",
      "execution_count": null,
      "metadata": {
        "colab": {
          "base_uri": "https://localhost:8080/"
        },
        "id": "NNbFl5pp0WNi",
        "outputId": "7891e749-b7c8-4cf5-e340-590efe6e888e"
      },
      "outputs": [
        {
          "data": {
            "text/plain": [
              "tweet                     0\n",
              "sarcastic                 0\n",
              "rephrase               2600\n",
              "sarcasm                2600\n",
              "irony                  2600\n",
              "satire                 2600\n",
              "understatement         2600\n",
              "overstatement          2600\n",
              "rhetorical_question    2600\n",
              "dtype: int64"
            ]
          },
          "execution_count": 12,
          "metadata": {},
          "output_type": "execute_result"
        }
      ],
      "source": [
        "data.isnull().sum()"
      ]
    },
    {
      "cell_type": "code",
      "execution_count": null,
      "metadata": {
        "id": "zwKTzzZTz8so"
      },
      "outputs": [],
      "source": []
    },
    {
      "cell_type": "markdown",
      "metadata": {
        "id": "ONdrsuCy_7HQ"
      },
      "source": [
        "## 1-2 Finding the Classes Balance/Imbalance"
      ]
    },
    {
      "cell_type": "code",
      "execution_count": null,
      "metadata": {
        "colab": {
          "base_uri": "https://localhost:8080/",
          "height": 143
        },
        "id": "J8-A8_O8_9m6",
        "outputId": "1d0b36c2-35e6-4c42-df7b-68e3ee4a0a18"
      },
      "outputs": [
        {
          "data": {
            "text/html": [
              "\n",
              "  <div id=\"df-35541f58-fece-47e0-8890-48114c8a506f\">\n",
              "    <div class=\"colab-df-container\">\n",
              "      <div>\n",
              "<style scoped>\n",
              "    .dataframe tbody tr th:only-of-type {\n",
              "        vertical-align: middle;\n",
              "    }\n",
              "\n",
              "    .dataframe tbody tr th {\n",
              "        vertical-align: top;\n",
              "    }\n",
              "\n",
              "    .dataframe thead th {\n",
              "        text-align: right;\n",
              "    }\n",
              "</style>\n",
              "<table border=\"1\" class=\"dataframe\">\n",
              "  <thead>\n",
              "    <tr style=\"text-align: right;\">\n",
              "      <th></th>\n",
              "      <th>tweet</th>\n",
              "      <th>rephrase</th>\n",
              "      <th>sarcasm</th>\n",
              "      <th>irony</th>\n",
              "      <th>satire</th>\n",
              "      <th>understatement</th>\n",
              "      <th>overstatement</th>\n",
              "      <th>rhetorical_question</th>\n",
              "    </tr>\n",
              "    <tr>\n",
              "      <th>sarcastic</th>\n",
              "      <th></th>\n",
              "      <th></th>\n",
              "      <th></th>\n",
              "      <th></th>\n",
              "      <th></th>\n",
              "      <th></th>\n",
              "      <th></th>\n",
              "      <th></th>\n",
              "    </tr>\n",
              "  </thead>\n",
              "  <tbody>\n",
              "    <tr>\n",
              "      <th>0</th>\n",
              "      <td>2600</td>\n",
              "      <td>0</td>\n",
              "      <td>0</td>\n",
              "      <td>0</td>\n",
              "      <td>0</td>\n",
              "      <td>0</td>\n",
              "      <td>0</td>\n",
              "      <td>0</td>\n",
              "    </tr>\n",
              "    <tr>\n",
              "      <th>1</th>\n",
              "      <td>867</td>\n",
              "      <td>867</td>\n",
              "      <td>867</td>\n",
              "      <td>867</td>\n",
              "      <td>867</td>\n",
              "      <td>867</td>\n",
              "      <td>867</td>\n",
              "      <td>867</td>\n",
              "    </tr>\n",
              "  </tbody>\n",
              "</table>\n",
              "</div>\n",
              "      <button class=\"colab-df-convert\" onclick=\"convertToInteractive('df-35541f58-fece-47e0-8890-48114c8a506f')\"\n",
              "              title=\"Convert this dataframe to an interactive table.\"\n",
              "              style=\"display:none;\">\n",
              "        \n",
              "  <svg xmlns=\"http://www.w3.org/2000/svg\" height=\"24px\"viewBox=\"0 0 24 24\"\n",
              "       width=\"24px\">\n",
              "    <path d=\"M0 0h24v24H0V0z\" fill=\"none\"/>\n",
              "    <path d=\"M18.56 5.44l.94 2.06.94-2.06 2.06-.94-2.06-.94-.94-2.06-.94 2.06-2.06.94zm-11 1L8.5 8.5l.94-2.06 2.06-.94-2.06-.94L8.5 2.5l-.94 2.06-2.06.94zm10 10l.94 2.06.94-2.06 2.06-.94-2.06-.94-.94-2.06-.94 2.06-2.06.94z\"/><path d=\"M17.41 7.96l-1.37-1.37c-.4-.4-.92-.59-1.43-.59-.52 0-1.04.2-1.43.59L10.3 9.45l-7.72 7.72c-.78.78-.78 2.05 0 2.83L4 21.41c.39.39.9.59 1.41.59.51 0 1.02-.2 1.41-.59l7.78-7.78 2.81-2.81c.8-.78.8-2.07 0-2.86zM5.41 20L4 18.59l7.72-7.72 1.47 1.35L5.41 20z\"/>\n",
              "  </svg>\n",
              "      </button>\n",
              "      \n",
              "  <style>\n",
              "    .colab-df-container {\n",
              "      display:flex;\n",
              "      flex-wrap:wrap;\n",
              "      gap: 12px;\n",
              "    }\n",
              "\n",
              "    .colab-df-convert {\n",
              "      background-color: #E8F0FE;\n",
              "      border: none;\n",
              "      border-radius: 50%;\n",
              "      cursor: pointer;\n",
              "      display: none;\n",
              "      fill: #1967D2;\n",
              "      height: 32px;\n",
              "      padding: 0 0 0 0;\n",
              "      width: 32px;\n",
              "    }\n",
              "\n",
              "    .colab-df-convert:hover {\n",
              "      background-color: #E2EBFA;\n",
              "      box-shadow: 0px 1px 2px rgba(60, 64, 67, 0.3), 0px 1px 3px 1px rgba(60, 64, 67, 0.15);\n",
              "      fill: #174EA6;\n",
              "    }\n",
              "\n",
              "    [theme=dark] .colab-df-convert {\n",
              "      background-color: #3B4455;\n",
              "      fill: #D2E3FC;\n",
              "    }\n",
              "\n",
              "    [theme=dark] .colab-df-convert:hover {\n",
              "      background-color: #434B5C;\n",
              "      box-shadow: 0px 1px 3px 1px rgba(0, 0, 0, 0.15);\n",
              "      filter: drop-shadow(0px 1px 2px rgba(0, 0, 0, 0.3));\n",
              "      fill: #FFFFFF;\n",
              "    }\n",
              "  </style>\n",
              "\n",
              "      <script>\n",
              "        const buttonEl =\n",
              "          document.querySelector('#df-35541f58-fece-47e0-8890-48114c8a506f button.colab-df-convert');\n",
              "        buttonEl.style.display =\n",
              "          google.colab.kernel.accessAllowed ? 'block' : 'none';\n",
              "\n",
              "        async function convertToInteractive(key) {\n",
              "          const element = document.querySelector('#df-35541f58-fece-47e0-8890-48114c8a506f');\n",
              "          const dataTable =\n",
              "            await google.colab.kernel.invokeFunction('convertToInteractive',\n",
              "                                                     [key], {});\n",
              "          if (!dataTable) return;\n",
              "\n",
              "          const docLinkHtml = 'Like what you see? Visit the ' +\n",
              "            '<a target=\"_blank\" href=https://colab.research.google.com/notebooks/data_table.ipynb>data table notebook</a>'\n",
              "            + ' to learn more about interactive tables.';\n",
              "          element.innerHTML = '';\n",
              "          dataTable['output_type'] = 'display_data';\n",
              "          await google.colab.output.renderOutput(dataTable, element);\n",
              "          const docLink = document.createElement('div');\n",
              "          docLink.innerHTML = docLinkHtml;\n",
              "          element.appendChild(docLink);\n",
              "        }\n",
              "      </script>\n",
              "    </div>\n",
              "  </div>\n",
              "  "
            ],
            "text/plain": [
              "           tweet  rephrase  sarcasm  irony  satire  understatement  \\\n",
              "sarcastic                                                            \n",
              "0           2600         0        0      0       0               0   \n",
              "1            867       867      867    867     867             867   \n",
              "\n",
              "           overstatement  rhetorical_question  \n",
              "sarcastic                                      \n",
              "0                      0                    0  \n",
              "1                    867                  867  "
            ]
          },
          "execution_count": 13,
          "metadata": {},
          "output_type": "execute_result"
        }
      ],
      "source": [
        "data.groupby('sarcastic').count()"
      ]
    },
    {
      "cell_type": "code",
      "execution_count": null,
      "metadata": {
        "colab": {
          "base_uri": "https://localhost:8080/",
          "height": 143
        },
        "id": "tpzSqK4cSz_h",
        "outputId": "92d22fcc-eebd-4c27-b354-5f8f7094bf26"
      },
      "outputs": [
        {
          "data": {
            "text/html": [
              "\n",
              "  <div id=\"df-ad66b58b-a564-47ad-a801-bec89cd64a96\">\n",
              "    <div class=\"colab-df-container\">\n",
              "      <div>\n",
              "<style scoped>\n",
              "    .dataframe tbody tr th:only-of-type {\n",
              "        vertical-align: middle;\n",
              "    }\n",
              "\n",
              "    .dataframe tbody tr th {\n",
              "        vertical-align: top;\n",
              "    }\n",
              "\n",
              "    .dataframe thead th {\n",
              "        text-align: right;\n",
              "    }\n",
              "</style>\n",
              "<table border=\"1\" class=\"dataframe\">\n",
              "  <thead>\n",
              "    <tr style=\"text-align: right;\">\n",
              "      <th></th>\n",
              "      <th>text</th>\n",
              "    </tr>\n",
              "    <tr>\n",
              "      <th>sarcastic</th>\n",
              "      <th></th>\n",
              "    </tr>\n",
              "  </thead>\n",
              "  <tbody>\n",
              "    <tr>\n",
              "      <th>0</th>\n",
              "      <td>1200</td>\n",
              "    </tr>\n",
              "    <tr>\n",
              "      <th>1</th>\n",
              "      <td>200</td>\n",
              "    </tr>\n",
              "  </tbody>\n",
              "</table>\n",
              "</div>\n",
              "      <button class=\"colab-df-convert\" onclick=\"convertToInteractive('df-ad66b58b-a564-47ad-a801-bec89cd64a96')\"\n",
              "              title=\"Convert this dataframe to an interactive table.\"\n",
              "              style=\"display:none;\">\n",
              "        \n",
              "  <svg xmlns=\"http://www.w3.org/2000/svg\" height=\"24px\"viewBox=\"0 0 24 24\"\n",
              "       width=\"24px\">\n",
              "    <path d=\"M0 0h24v24H0V0z\" fill=\"none\"/>\n",
              "    <path d=\"M18.56 5.44l.94 2.06.94-2.06 2.06-.94-2.06-.94-.94-2.06-.94 2.06-2.06.94zm-11 1L8.5 8.5l.94-2.06 2.06-.94-2.06-.94L8.5 2.5l-.94 2.06-2.06.94zm10 10l.94 2.06.94-2.06 2.06-.94-2.06-.94-.94-2.06-.94 2.06-2.06.94z\"/><path d=\"M17.41 7.96l-1.37-1.37c-.4-.4-.92-.59-1.43-.59-.52 0-1.04.2-1.43.59L10.3 9.45l-7.72 7.72c-.78.78-.78 2.05 0 2.83L4 21.41c.39.39.9.59 1.41.59.51 0 1.02-.2 1.41-.59l7.78-7.78 2.81-2.81c.8-.78.8-2.07 0-2.86zM5.41 20L4 18.59l7.72-7.72 1.47 1.35L5.41 20z\"/>\n",
              "  </svg>\n",
              "      </button>\n",
              "      \n",
              "  <style>\n",
              "    .colab-df-container {\n",
              "      display:flex;\n",
              "      flex-wrap:wrap;\n",
              "      gap: 12px;\n",
              "    }\n",
              "\n",
              "    .colab-df-convert {\n",
              "      background-color: #E8F0FE;\n",
              "      border: none;\n",
              "      border-radius: 50%;\n",
              "      cursor: pointer;\n",
              "      display: none;\n",
              "      fill: #1967D2;\n",
              "      height: 32px;\n",
              "      padding: 0 0 0 0;\n",
              "      width: 32px;\n",
              "    }\n",
              "\n",
              "    .colab-df-convert:hover {\n",
              "      background-color: #E2EBFA;\n",
              "      box-shadow: 0px 1px 2px rgba(60, 64, 67, 0.3), 0px 1px 3px 1px rgba(60, 64, 67, 0.15);\n",
              "      fill: #174EA6;\n",
              "    }\n",
              "\n",
              "    [theme=dark] .colab-df-convert {\n",
              "      background-color: #3B4455;\n",
              "      fill: #D2E3FC;\n",
              "    }\n",
              "\n",
              "    [theme=dark] .colab-df-convert:hover {\n",
              "      background-color: #434B5C;\n",
              "      box-shadow: 0px 1px 3px 1px rgba(0, 0, 0, 0.15);\n",
              "      filter: drop-shadow(0px 1px 2px rgba(0, 0, 0, 0.3));\n",
              "      fill: #FFFFFF;\n",
              "    }\n",
              "  </style>\n",
              "\n",
              "      <script>\n",
              "        const buttonEl =\n",
              "          document.querySelector('#df-ad66b58b-a564-47ad-a801-bec89cd64a96 button.colab-df-convert');\n",
              "        buttonEl.style.display =\n",
              "          google.colab.kernel.accessAllowed ? 'block' : 'none';\n",
              "\n",
              "        async function convertToInteractive(key) {\n",
              "          const element = document.querySelector('#df-ad66b58b-a564-47ad-a801-bec89cd64a96');\n",
              "          const dataTable =\n",
              "            await google.colab.kernel.invokeFunction('convertToInteractive',\n",
              "                                                     [key], {});\n",
              "          if (!dataTable) return;\n",
              "\n",
              "          const docLinkHtml = 'Like what you see? Visit the ' +\n",
              "            '<a target=\"_blank\" href=https://colab.research.google.com/notebooks/data_table.ipynb>data table notebook</a>'\n",
              "            + ' to learn more about interactive tables.';\n",
              "          element.innerHTML = '';\n",
              "          dataTable['output_type'] = 'display_data';\n",
              "          await google.colab.output.renderOutput(dataTable, element);\n",
              "          const docLink = document.createElement('div');\n",
              "          docLink.innerHTML = docLinkHtml;\n",
              "          element.appendChild(docLink);\n",
              "        }\n",
              "      </script>\n",
              "    </div>\n",
              "  </div>\n",
              "  "
            ],
            "text/plain": [
              "           text\n",
              "sarcastic      \n",
              "0          1200\n",
              "1           200"
            ]
          },
          "execution_count": 14,
          "metadata": {},
          "output_type": "execute_result"
        }
      ],
      "source": [
        "test_data.groupby('sarcastic').count()"
      ]
    },
    {
      "cell_type": "code",
      "execution_count": null,
      "metadata": {
        "colab": {
          "base_uri": "https://localhost:8080/",
          "height": 542
        },
        "id": "8vC5hO9EAjwP",
        "outputId": "8f6765f3-3f8e-40b7-9a4b-902ebb95af8e"
      },
      "outputs": [
        {
          "data": {
            "text/html": [
              "<html>\n",
              "<head><meta charset=\"utf-8\" /></head>\n",
              "<body>\n",
              "    <div>            <script src=\"https://cdnjs.cloudflare.com/ajax/libs/mathjax/2.7.5/MathJax.js?config=TeX-AMS-MML_SVG\"></script><script type=\"text/javascript\">if (window.MathJax) {MathJax.Hub.Config({SVG: {font: \"STIX-Web\"}});}</script>                <script type=\"text/javascript\">window.PlotlyConfig = {MathJaxConfig: 'local'};</script>\n",
              "        <script src=\"https://cdn.plot.ly/plotly-2.8.3.min.js\"></script>                <div id=\"ce80459a-6f07-4b6c-839d-5af20164a7d7\" class=\"plotly-graph-div\" style=\"height:525px; width:100%;\"></div>            <script type=\"text/javascript\">                                    window.PLOTLYENV=window.PLOTLYENV || {};                                    if (document.getElementById(\"ce80459a-6f07-4b6c-839d-5af20164a7d7\")) {                    Plotly.newPlot(                        \"ce80459a-6f07-4b6c-839d-5af20164a7d7\",                        [{\"alignmentgroup\":\"True\",\"hovertemplate\":\"tweet=%{x}<br>index=%{y}<extra></extra>\",\"legendgroup\":\"\",\"marker\":{\"color\":\"#636efa\",\"pattern\":{\"shape\":\"\"}},\"name\":\"\",\"offsetgroup\":\"\",\"orientation\":\"h\",\"showlegend\":false,\"textposition\":\"auto\",\"x\":[2600,867],\"xaxis\":\"x\",\"y\":[0,1],\"yaxis\":\"y\",\"type\":\"bar\"}],                        {\"template\":{\"data\":{\"bar\":[{\"error_x\":{\"color\":\"#2a3f5f\"},\"error_y\":{\"color\":\"#2a3f5f\"},\"marker\":{\"line\":{\"color\":\"#E5ECF6\",\"width\":0.5},\"pattern\":{\"fillmode\":\"overlay\",\"size\":10,\"solidity\":0.2}},\"type\":\"bar\"}],\"barpolar\":[{\"marker\":{\"line\":{\"color\":\"#E5ECF6\",\"width\":0.5},\"pattern\":{\"fillmode\":\"overlay\",\"size\":10,\"solidity\":0.2}},\"type\":\"barpolar\"}],\"carpet\":[{\"aaxis\":{\"endlinecolor\":\"#2a3f5f\",\"gridcolor\":\"white\",\"linecolor\":\"white\",\"minorgridcolor\":\"white\",\"startlinecolor\":\"#2a3f5f\"},\"baxis\":{\"endlinecolor\":\"#2a3f5f\",\"gridcolor\":\"white\",\"linecolor\":\"white\",\"minorgridcolor\":\"white\",\"startlinecolor\":\"#2a3f5f\"},\"type\":\"carpet\"}],\"choropleth\":[{\"colorbar\":{\"outlinewidth\":0,\"ticks\":\"\"},\"type\":\"choropleth\"}],\"contour\":[{\"colorbar\":{\"outlinewidth\":0,\"ticks\":\"\"},\"colorscale\":[[0.0,\"#0d0887\"],[0.1111111111111111,\"#46039f\"],[0.2222222222222222,\"#7201a8\"],[0.3333333333333333,\"#9c179e\"],[0.4444444444444444,\"#bd3786\"],[0.5555555555555556,\"#d8576b\"],[0.6666666666666666,\"#ed7953\"],[0.7777777777777778,\"#fb9f3a\"],[0.8888888888888888,\"#fdca26\"],[1.0,\"#f0f921\"]],\"type\":\"contour\"}],\"contourcarpet\":[{\"colorbar\":{\"outlinewidth\":0,\"ticks\":\"\"},\"type\":\"contourcarpet\"}],\"heatmap\":[{\"colorbar\":{\"outlinewidth\":0,\"ticks\":\"\"},\"colorscale\":[[0.0,\"#0d0887\"],[0.1111111111111111,\"#46039f\"],[0.2222222222222222,\"#7201a8\"],[0.3333333333333333,\"#9c179e\"],[0.4444444444444444,\"#bd3786\"],[0.5555555555555556,\"#d8576b\"],[0.6666666666666666,\"#ed7953\"],[0.7777777777777778,\"#fb9f3a\"],[0.8888888888888888,\"#fdca26\"],[1.0,\"#f0f921\"]],\"type\":\"heatmap\"}],\"heatmapgl\":[{\"colorbar\":{\"outlinewidth\":0,\"ticks\":\"\"},\"colorscale\":[[0.0,\"#0d0887\"],[0.1111111111111111,\"#46039f\"],[0.2222222222222222,\"#7201a8\"],[0.3333333333333333,\"#9c179e\"],[0.4444444444444444,\"#bd3786\"],[0.5555555555555556,\"#d8576b\"],[0.6666666666666666,\"#ed7953\"],[0.7777777777777778,\"#fb9f3a\"],[0.8888888888888888,\"#fdca26\"],[1.0,\"#f0f921\"]],\"type\":\"heatmapgl\"}],\"histogram\":[{\"marker\":{\"pattern\":{\"fillmode\":\"overlay\",\"size\":10,\"solidity\":0.2}},\"type\":\"histogram\"}],\"histogram2d\":[{\"colorbar\":{\"outlinewidth\":0,\"ticks\":\"\"},\"colorscale\":[[0.0,\"#0d0887\"],[0.1111111111111111,\"#46039f\"],[0.2222222222222222,\"#7201a8\"],[0.3333333333333333,\"#9c179e\"],[0.4444444444444444,\"#bd3786\"],[0.5555555555555556,\"#d8576b\"],[0.6666666666666666,\"#ed7953\"],[0.7777777777777778,\"#fb9f3a\"],[0.8888888888888888,\"#fdca26\"],[1.0,\"#f0f921\"]],\"type\":\"histogram2d\"}],\"histogram2dcontour\":[{\"colorbar\":{\"outlinewidth\":0,\"ticks\":\"\"},\"colorscale\":[[0.0,\"#0d0887\"],[0.1111111111111111,\"#46039f\"],[0.2222222222222222,\"#7201a8\"],[0.3333333333333333,\"#9c179e\"],[0.4444444444444444,\"#bd3786\"],[0.5555555555555556,\"#d8576b\"],[0.6666666666666666,\"#ed7953\"],[0.7777777777777778,\"#fb9f3a\"],[0.8888888888888888,\"#fdca26\"],[1.0,\"#f0f921\"]],\"type\":\"histogram2dcontour\"}],\"mesh3d\":[{\"colorbar\":{\"outlinewidth\":0,\"ticks\":\"\"},\"type\":\"mesh3d\"}],\"parcoords\":[{\"line\":{\"colorbar\":{\"outlinewidth\":0,\"ticks\":\"\"}},\"type\":\"parcoords\"}],\"pie\":[{\"automargin\":true,\"type\":\"pie\"}],\"scatter\":[{\"marker\":{\"colorbar\":{\"outlinewidth\":0,\"ticks\":\"\"}},\"type\":\"scatter\"}],\"scatter3d\":[{\"line\":{\"colorbar\":{\"outlinewidth\":0,\"ticks\":\"\"}},\"marker\":{\"colorbar\":{\"outlinewidth\":0,\"ticks\":\"\"}},\"type\":\"scatter3d\"}],\"scattercarpet\":[{\"marker\":{\"colorbar\":{\"outlinewidth\":0,\"ticks\":\"\"}},\"type\":\"scattercarpet\"}],\"scattergeo\":[{\"marker\":{\"colorbar\":{\"outlinewidth\":0,\"ticks\":\"\"}},\"type\":\"scattergeo\"}],\"scattergl\":[{\"marker\":{\"colorbar\":{\"outlinewidth\":0,\"ticks\":\"\"}},\"type\":\"scattergl\"}],\"scattermapbox\":[{\"marker\":{\"colorbar\":{\"outlinewidth\":0,\"ticks\":\"\"}},\"type\":\"scattermapbox\"}],\"scatterpolar\":[{\"marker\":{\"colorbar\":{\"outlinewidth\":0,\"ticks\":\"\"}},\"type\":\"scatterpolar\"}],\"scatterpolargl\":[{\"marker\":{\"colorbar\":{\"outlinewidth\":0,\"ticks\":\"\"}},\"type\":\"scatterpolargl\"}],\"scatterternary\":[{\"marker\":{\"colorbar\":{\"outlinewidth\":0,\"ticks\":\"\"}},\"type\":\"scatterternary\"}],\"surface\":[{\"colorbar\":{\"outlinewidth\":0,\"ticks\":\"\"},\"colorscale\":[[0.0,\"#0d0887\"],[0.1111111111111111,\"#46039f\"],[0.2222222222222222,\"#7201a8\"],[0.3333333333333333,\"#9c179e\"],[0.4444444444444444,\"#bd3786\"],[0.5555555555555556,\"#d8576b\"],[0.6666666666666666,\"#ed7953\"],[0.7777777777777778,\"#fb9f3a\"],[0.8888888888888888,\"#fdca26\"],[1.0,\"#f0f921\"]],\"type\":\"surface\"}],\"table\":[{\"cells\":{\"fill\":{\"color\":\"#EBF0F8\"},\"line\":{\"color\":\"white\"}},\"header\":{\"fill\":{\"color\":\"#C8D4E3\"},\"line\":{\"color\":\"white\"}},\"type\":\"table\"}]},\"layout\":{\"annotationdefaults\":{\"arrowcolor\":\"#2a3f5f\",\"arrowhead\":0,\"arrowwidth\":1},\"autotypenumbers\":\"strict\",\"coloraxis\":{\"colorbar\":{\"outlinewidth\":0,\"ticks\":\"\"}},\"colorscale\":{\"diverging\":[[0,\"#8e0152\"],[0.1,\"#c51b7d\"],[0.2,\"#de77ae\"],[0.3,\"#f1b6da\"],[0.4,\"#fde0ef\"],[0.5,\"#f7f7f7\"],[0.6,\"#e6f5d0\"],[0.7,\"#b8e186\"],[0.8,\"#7fbc41\"],[0.9,\"#4d9221\"],[1,\"#276419\"]],\"sequential\":[[0.0,\"#0d0887\"],[0.1111111111111111,\"#46039f\"],[0.2222222222222222,\"#7201a8\"],[0.3333333333333333,\"#9c179e\"],[0.4444444444444444,\"#bd3786\"],[0.5555555555555556,\"#d8576b\"],[0.6666666666666666,\"#ed7953\"],[0.7777777777777778,\"#fb9f3a\"],[0.8888888888888888,\"#fdca26\"],[1.0,\"#f0f921\"]],\"sequentialminus\":[[0.0,\"#0d0887\"],[0.1111111111111111,\"#46039f\"],[0.2222222222222222,\"#7201a8\"],[0.3333333333333333,\"#9c179e\"],[0.4444444444444444,\"#bd3786\"],[0.5555555555555556,\"#d8576b\"],[0.6666666666666666,\"#ed7953\"],[0.7777777777777778,\"#fb9f3a\"],[0.8888888888888888,\"#fdca26\"],[1.0,\"#f0f921\"]]},\"colorway\":[\"#636efa\",\"#EF553B\",\"#00cc96\",\"#ab63fa\",\"#FFA15A\",\"#19d3f3\",\"#FF6692\",\"#B6E880\",\"#FF97FF\",\"#FECB52\"],\"font\":{\"color\":\"#2a3f5f\"},\"geo\":{\"bgcolor\":\"white\",\"lakecolor\":\"white\",\"landcolor\":\"#E5ECF6\",\"showlakes\":true,\"showland\":true,\"subunitcolor\":\"white\"},\"hoverlabel\":{\"align\":\"left\"},\"hovermode\":\"closest\",\"mapbox\":{\"style\":\"light\"},\"paper_bgcolor\":\"white\",\"plot_bgcolor\":\"#E5ECF6\",\"polar\":{\"angularaxis\":{\"gridcolor\":\"white\",\"linecolor\":\"white\",\"ticks\":\"\"},\"bgcolor\":\"#E5ECF6\",\"radialaxis\":{\"gridcolor\":\"white\",\"linecolor\":\"white\",\"ticks\":\"\"}},\"scene\":{\"xaxis\":{\"backgroundcolor\":\"#E5ECF6\",\"gridcolor\":\"white\",\"gridwidth\":2,\"linecolor\":\"white\",\"showbackground\":true,\"ticks\":\"\",\"zerolinecolor\":\"white\"},\"yaxis\":{\"backgroundcolor\":\"#E5ECF6\",\"gridcolor\":\"white\",\"gridwidth\":2,\"linecolor\":\"white\",\"showbackground\":true,\"ticks\":\"\",\"zerolinecolor\":\"white\"},\"zaxis\":{\"backgroundcolor\":\"#E5ECF6\",\"gridcolor\":\"white\",\"gridwidth\":2,\"linecolor\":\"white\",\"showbackground\":true,\"ticks\":\"\",\"zerolinecolor\":\"white\"}},\"shapedefaults\":{\"line\":{\"color\":\"#2a3f5f\"}},\"ternary\":{\"aaxis\":{\"gridcolor\":\"white\",\"linecolor\":\"white\",\"ticks\":\"\"},\"baxis\":{\"gridcolor\":\"white\",\"linecolor\":\"white\",\"ticks\":\"\"},\"bgcolor\":\"#E5ECF6\",\"caxis\":{\"gridcolor\":\"white\",\"linecolor\":\"white\",\"ticks\":\"\"}},\"title\":{\"x\":0.05},\"xaxis\":{\"automargin\":true,\"gridcolor\":\"white\",\"linecolor\":\"white\",\"ticks\":\"\",\"title\":{\"standoff\":15},\"zerolinecolor\":\"white\",\"zerolinewidth\":2},\"yaxis\":{\"automargin\":true,\"gridcolor\":\"white\",\"linecolor\":\"white\",\"ticks\":\"\",\"title\":{\"standoff\":15},\"zerolinecolor\":\"white\",\"zerolinewidth\":2}}},\"xaxis\":{\"anchor\":\"y\",\"domain\":[0.0,1.0],\"title\":{\"text\":\"tweet\"}},\"yaxis\":{\"anchor\":\"x\",\"domain\":[0.0,1.0],\"title\":{\"text\":\"index\"}},\"legend\":{\"tracegroupgap\":0},\"title\":{\"text\":\"Count of Sarcastic and Genuine Headlines\"},\"barmode\":\"relative\"},                        {\"responsive\": true}                    ).then(function(){\n",
              "                            \n",
              "var gd = document.getElementById('ce80459a-6f07-4b6c-839d-5af20164a7d7');\n",
              "var x = new MutationObserver(function (mutations, observer) {{\n",
              "        var display = window.getComputedStyle(gd).display;\n",
              "        if (!display || display === 'none') {{\n",
              "            console.log([gd, 'removed!']);\n",
              "            Plotly.purge(gd);\n",
              "            observer.disconnect();\n",
              "        }}\n",
              "}});\n",
              "\n",
              "// Listen for the removal of the full notebook cells\n",
              "var notebookContainer = gd.closest('#notebook-container');\n",
              "if (notebookContainer) {{\n",
              "    x.observe(notebookContainer, {childList: true});\n",
              "}}\n",
              "\n",
              "// Listen for the clearing of the current output cell\n",
              "var outputEl = gd.closest('.output');\n",
              "if (outputEl) {{\n",
              "    x.observe(outputEl, {childList: true});\n",
              "}}\n",
              "\n",
              "                        })                };                            </script>        </div>\n",
              "</body>\n",
              "</html>"
            ]
          },
          "metadata": {},
          "output_type": "display_data"
        }
      ],
      "source": [
        "px.bar(data.groupby('sarcastic').count().reset_index(),x='tweet',title='Count of Sarcastic and Genuine Headlines')"
      ]
    },
    {
      "cell_type": "markdown",
      "metadata": {
        "id": "qleVEcgIA0y3"
      },
      "source": [
        "## 1-3 Special Characters Removal"
      ]
    },
    {
      "cell_type": "markdown",
      "metadata": {
        "id": "pZDioRHzA3PQ"
      },
      "source": [
        "<ul>\n",
        "<li> We will not remove numbers from the text data right away, lets further analyse if they contain any relevant information </li><br>\n",
        "<li> We can find the entity type of the tokens in the sentences using Named Entity Recognition (NER), this will help us identify the type and relevance of numbers in our text data</li> <br>\n",
        "</ul>"
      ]
    },
    {
      "cell_type": "code",
      "execution_count": null,
      "metadata": {
        "id": "mQAVWtY3AHao"
      },
      "outputs": [],
      "source": [
        "stop_words = stopwords.words('english')\n",
        "stop_words.remove('not')\n",
        "\n",
        "def text_cleaning(x):\n",
        "    \n",
        "    headline = re.sub('\\s+\\n+', ' ', str(x))\n",
        "    headline = re.sub('[^a-zA-Z0-9]', ' ', str(x))\n",
        "    headline = headline.lower()\n",
        "    headline = headline.split()\n",
        "    \n",
        "    headline = [lemm.lemmatize(word, \"v\") for word in headline if not word in stop_words]\n",
        "    headline = ' '.join(headline)\n",
        "    \n",
        "    return headline"
      ]
    },
    {
      "cell_type": "code",
      "execution_count": null,
      "metadata": {
        "colab": {
          "base_uri": "https://localhost:8080/"
        },
        "id": "eADc2Nh4vEpV",
        "outputId": "5ead25ed-9272-41a8-ec79-6a37c7f9c8aa"
      },
      "outputs": [
        {
          "name": "stderr",
          "output_type": "stream",
          "text": [
            "100%|██████████| 3467/3467 [00:36<00:00, 95.79it/s]\n",
            "<ipython-input-17-4f2077b3ee30>:8: SettingWithCopyWarning:\n",
            "\n",
            "\n",
            "A value is trying to be set on a copy of a slice from a DataFrame.\n",
            "Try using .loc[row_indexer,col_indexer] = value instead\n",
            "\n",
            "See the caveats in the documentation: https://pandas.pydata.org/pandas-docs/stable/user_guide/indexing.html#returning-a-view-versus-a-copy\n",
            "\n"
          ]
        }
      ],
      "source": [
        "def get_entities(x):\n",
        "    entity = []\n",
        "    text = spacy_eng(str(x))\n",
        "    for word in text.ents:\n",
        "        entity.append(word.label_)\n",
        "    return \",\".join(entity)\n",
        "\n",
        "data['entity'] = data['tweet'].progress_apply(get_entities)\n"
      ]
    },
    {
      "cell_type": "code",
      "execution_count": null,
      "metadata": {
        "colab": {
          "base_uri": "https://localhost:8080/"
        },
        "id": "e3x0jRr_vV6B",
        "outputId": "06dbfd6f-c091-400f-f37a-97ba075df025"
      },
      "outputs": [
        {
          "name": "stderr",
          "output_type": "stream",
          "text": [
            "<ipython-input-18-9bbb26993468>:1: SettingWithCopyWarning:\n",
            "\n",
            "\n",
            "A value is trying to be set on a copy of a slice from a DataFrame.\n",
            "Try using .loc[row_indexer,col_indexer] = value instead\n",
            "\n",
            "See the caveats in the documentation: https://pandas.pydata.org/pandas-docs/stable/user_guide/indexing.html#returning-a-view-versus-a-copy\n",
            "\n"
          ]
        }
      ],
      "source": [
        "data['clean_tweet'] = data['tweet'].apply(text_cleaning)\n",
        "test_data['clean_tweet']=test_data['text'].apply(text_cleaning)"
      ]
    },
    {
      "cell_type": "code",
      "execution_count": null,
      "metadata": {
        "colab": {
          "base_uri": "https://localhost:8080/"
        },
        "id": "0FEg2khF1dh6",
        "outputId": "fcaf70db-bfa9-4a57-d75a-78f42a318185"
      },
      "outputs": [
        {
          "name": "stderr",
          "output_type": "stream",
          "text": [
            "<ipython-input-19-b378a461bb4a>:1: SettingWithCopyWarning:\n",
            "\n",
            "\n",
            "A value is trying to be set on a copy of a slice from a DataFrame.\n",
            "Try using .loc[row_indexer,col_indexer] = value instead\n",
            "\n",
            "See the caveats in the documentation: https://pandas.pydata.org/pandas-docs/stable/user_guide/indexing.html#returning-a-view-versus-a-copy\n",
            "\n"
          ]
        }
      ],
      "source": [
        "data['sentence_length'] = data['clean_tweet'].apply(lambda x: len(x.split()))\n",
        "test_data['sentence_length'] = test_data['clean_tweet'].apply(lambda x: len(x.split()))\n"
      ]
    },
    {
      "cell_type": "code",
      "execution_count": null,
      "metadata": {
        "colab": {
          "base_uri": "https://localhost:8080/",
          "height": 1000
        },
        "id": "DpD_l4e9TqfZ",
        "outputId": "f29be9fa-dfd1-4de3-ffb9-a0f4972c259c"
      },
      "outputs": [
        {
          "data": {
            "text/html": [
              "\n",
              "  <div id=\"df-bbc441ea-c553-4ac8-b6d9-f5fb5ca15153\">\n",
              "    <div class=\"colab-df-container\">\n",
              "      <div>\n",
              "<style scoped>\n",
              "    .dataframe tbody tr th:only-of-type {\n",
              "        vertical-align: middle;\n",
              "    }\n",
              "\n",
              "    .dataframe tbody tr th {\n",
              "        vertical-align: top;\n",
              "    }\n",
              "\n",
              "    .dataframe thead th {\n",
              "        text-align: right;\n",
              "    }\n",
              "</style>\n",
              "<table border=\"1\" class=\"dataframe\">\n",
              "  <thead>\n",
              "    <tr style=\"text-align: right;\">\n",
              "      <th></th>\n",
              "      <th>tweet</th>\n",
              "      <th>sarcastic</th>\n",
              "      <th>rephrase</th>\n",
              "      <th>sarcasm</th>\n",
              "      <th>irony</th>\n",
              "      <th>satire</th>\n",
              "      <th>understatement</th>\n",
              "      <th>overstatement</th>\n",
              "      <th>rhetorical_question</th>\n",
              "      <th>entity</th>\n",
              "      <th>clean_tweet</th>\n",
              "      <th>sentence_length</th>\n",
              "    </tr>\n",
              "    <tr>\n",
              "      <th>Unnamed: 0</th>\n",
              "      <th></th>\n",
              "      <th></th>\n",
              "      <th></th>\n",
              "      <th></th>\n",
              "      <th></th>\n",
              "      <th></th>\n",
              "      <th></th>\n",
              "      <th></th>\n",
              "      <th></th>\n",
              "      <th></th>\n",
              "      <th></th>\n",
              "      <th></th>\n",
              "    </tr>\n",
              "  </thead>\n",
              "  <tbody>\n",
              "    <tr>\n",
              "      <th>0</th>\n",
              "      <td>The only thing I got from college is a caffein...</td>\n",
              "      <td>1</td>\n",
              "      <td>College is really difficult, expensive, tiring...</td>\n",
              "      <td>0.0</td>\n",
              "      <td>1.0</td>\n",
              "      <td>0.0</td>\n",
              "      <td>0.0</td>\n",
              "      <td>0.0</td>\n",
              "      <td>0.0</td>\n",
              "      <td></td>\n",
              "      <td>thing get college caffeine addiction</td>\n",
              "      <td>5</td>\n",
              "    </tr>\n",
              "    <tr>\n",
              "      <th>1</th>\n",
              "      <td>I love it when professors draw a big question ...</td>\n",
              "      <td>1</td>\n",
              "      <td>I do not like when professors don’t write out ...</td>\n",
              "      <td>1.0</td>\n",
              "      <td>0.0</td>\n",
              "      <td>0.0</td>\n",
              "      <td>0.0</td>\n",
              "      <td>0.0</td>\n",
              "      <td>0.0</td>\n",
              "      <td></td>\n",
              "      <td>love professors draw big question mark next an...</td>\n",
              "      <td>13</td>\n",
              "    </tr>\n",
              "    <tr>\n",
              "      <th>2</th>\n",
              "      <td>Remember the hundred emails from companies whe...</td>\n",
              "      <td>1</td>\n",
              "      <td>I, at the bare minimum, wish companies actuall...</td>\n",
              "      <td>0.0</td>\n",
              "      <td>1.0</td>\n",
              "      <td>0.0</td>\n",
              "      <td>0.0</td>\n",
              "      <td>0.0</td>\n",
              "      <td>0.0</td>\n",
              "      <td>CARDINAL,PERSON,CARDINAL</td>\n",
              "      <td>remember hundred email company covid start get...</td>\n",
              "      <td>24</td>\n",
              "    </tr>\n",
              "    <tr>\n",
              "      <th>3</th>\n",
              "      <td>Today my pop-pop told me I was not “forced” to...</td>\n",
              "      <td>1</td>\n",
              "      <td>Today my pop-pop told me I was not \"forced\" to...</td>\n",
              "      <td>1.0</td>\n",
              "      <td>0.0</td>\n",
              "      <td>0.0</td>\n",
              "      <td>0.0</td>\n",
              "      <td>0.0</td>\n",
              "      <td>0.0</td>\n",
              "      <td>DATE</td>\n",
              "      <td>today pop pop tell not force go college okay s...</td>\n",
              "      <td>11</td>\n",
              "    </tr>\n",
              "    <tr>\n",
              "      <th>4</th>\n",
              "      <td>@VolphanCarol @littlewhitty @mysticalmanatee I...</td>\n",
              "      <td>1</td>\n",
              "      <td>I would say Ted Cruz is an asshole and doesn’t...</td>\n",
              "      <td>1.0</td>\n",
              "      <td>0.0</td>\n",
              "      <td>0.0</td>\n",
              "      <td>0.0</td>\n",
              "      <td>0.0</td>\n",
              "      <td>0.0</td>\n",
              "      <td>PERSON,GPE</td>\n",
              "      <td>volphancarol littlewhitty mysticalmanatee also...</td>\n",
              "      <td>16</td>\n",
              "    </tr>\n",
              "    <tr>\n",
              "      <th>...</th>\n",
              "      <td>...</td>\n",
              "      <td>...</td>\n",
              "      <td>...</td>\n",
              "      <td>...</td>\n",
              "      <td>...</td>\n",
              "      <td>...</td>\n",
              "      <td>...</td>\n",
              "      <td>...</td>\n",
              "      <td>...</td>\n",
              "      <td>...</td>\n",
              "      <td>...</td>\n",
              "      <td>...</td>\n",
              "    </tr>\n",
              "    <tr>\n",
              "      <th>3463</th>\n",
              "      <td>The population spike in Chicago in 9 months is...</td>\n",
              "      <td>0</td>\n",
              "      <td>NaN</td>\n",
              "      <td>NaN</td>\n",
              "      <td>NaN</td>\n",
              "      <td>NaN</td>\n",
              "      <td>NaN</td>\n",
              "      <td>NaN</td>\n",
              "      <td>NaN</td>\n",
              "      <td>GPE,DATE</td>\n",
              "      <td>population spike chicago 9 months ridiculous</td>\n",
              "      <td>6</td>\n",
              "    </tr>\n",
              "    <tr>\n",
              "      <th>3464</th>\n",
              "      <td>You'd think in the second to last English clas...</td>\n",
              "      <td>0</td>\n",
              "      <td>NaN</td>\n",
              "      <td>NaN</td>\n",
              "      <td>NaN</td>\n",
              "      <td>NaN</td>\n",
              "      <td>NaN</td>\n",
              "      <td>NaN</td>\n",
              "      <td>NaN</td>\n",
              "      <td>ORDINAL,LANGUAGE,DATE,PERSON</td>\n",
              "      <td>think second last english class year prof woul...</td>\n",
              "      <td>11</td>\n",
              "    </tr>\n",
              "    <tr>\n",
              "      <th>3465</th>\n",
              "      <td>I’m finally surfacing after a holiday to Scotl...</td>\n",
              "      <td>0</td>\n",
              "      <td>NaN</td>\n",
              "      <td>NaN</td>\n",
              "      <td>NaN</td>\n",
              "      <td>NaN</td>\n",
              "      <td>NaN</td>\n",
              "      <td>NaN</td>\n",
              "      <td>NaN</td>\n",
              "      <td>GPE,DATE,DATE,DATE,DATE</td>\n",
              "      <td>finally surface holiday scotland difficult day...</td>\n",
              "      <td>26</td>\n",
              "    </tr>\n",
              "    <tr>\n",
              "      <th>3466</th>\n",
              "      <td>Couldn't be prouder today. Well done to every ...</td>\n",
              "      <td>0</td>\n",
              "      <td>NaN</td>\n",
              "      <td>NaN</td>\n",
              "      <td>NaN</td>\n",
              "      <td>NaN</td>\n",
              "      <td>NaN</td>\n",
              "      <td>NaN</td>\n",
              "      <td>NaN</td>\n",
              "      <td>DATE,TIME,DATE,MONEY</td>\n",
              "      <td>prouder today well do every student get gcses ...</td>\n",
              "      <td>22</td>\n",
              "    </tr>\n",
              "    <tr>\n",
              "      <th>3467</th>\n",
              "      <td>Overheard as my 13 year old games with a frien...</td>\n",
              "      <td>0</td>\n",
              "      <td>NaN</td>\n",
              "      <td>NaN</td>\n",
              "      <td>NaN</td>\n",
              "      <td>NaN</td>\n",
              "      <td>NaN</td>\n",
              "      <td>NaN</td>\n",
              "      <td>NaN</td>\n",
              "      <td>DATE,MONEY</td>\n",
              "      <td>overhear 13 year old game friend smell like ta...</td>\n",
              "      <td>11</td>\n",
              "    </tr>\n",
              "  </tbody>\n",
              "</table>\n",
              "<p>3467 rows × 12 columns</p>\n",
              "</div>\n",
              "      <button class=\"colab-df-convert\" onclick=\"convertToInteractive('df-bbc441ea-c553-4ac8-b6d9-f5fb5ca15153')\"\n",
              "              title=\"Convert this dataframe to an interactive table.\"\n",
              "              style=\"display:none;\">\n",
              "        \n",
              "  <svg xmlns=\"http://www.w3.org/2000/svg\" height=\"24px\"viewBox=\"0 0 24 24\"\n",
              "       width=\"24px\">\n",
              "    <path d=\"M0 0h24v24H0V0z\" fill=\"none\"/>\n",
              "    <path d=\"M18.56 5.44l.94 2.06.94-2.06 2.06-.94-2.06-.94-.94-2.06-.94 2.06-2.06.94zm-11 1L8.5 8.5l.94-2.06 2.06-.94-2.06-.94L8.5 2.5l-.94 2.06-2.06.94zm10 10l.94 2.06.94-2.06 2.06-.94-2.06-.94-.94-2.06-.94 2.06-2.06.94z\"/><path d=\"M17.41 7.96l-1.37-1.37c-.4-.4-.92-.59-1.43-.59-.52 0-1.04.2-1.43.59L10.3 9.45l-7.72 7.72c-.78.78-.78 2.05 0 2.83L4 21.41c.39.39.9.59 1.41.59.51 0 1.02-.2 1.41-.59l7.78-7.78 2.81-2.81c.8-.78.8-2.07 0-2.86zM5.41 20L4 18.59l7.72-7.72 1.47 1.35L5.41 20z\"/>\n",
              "  </svg>\n",
              "      </button>\n",
              "      \n",
              "  <style>\n",
              "    .colab-df-container {\n",
              "      display:flex;\n",
              "      flex-wrap:wrap;\n",
              "      gap: 12px;\n",
              "    }\n",
              "\n",
              "    .colab-df-convert {\n",
              "      background-color: #E8F0FE;\n",
              "      border: none;\n",
              "      border-radius: 50%;\n",
              "      cursor: pointer;\n",
              "      display: none;\n",
              "      fill: #1967D2;\n",
              "      height: 32px;\n",
              "      padding: 0 0 0 0;\n",
              "      width: 32px;\n",
              "    }\n",
              "\n",
              "    .colab-df-convert:hover {\n",
              "      background-color: #E2EBFA;\n",
              "      box-shadow: 0px 1px 2px rgba(60, 64, 67, 0.3), 0px 1px 3px 1px rgba(60, 64, 67, 0.15);\n",
              "      fill: #174EA6;\n",
              "    }\n",
              "\n",
              "    [theme=dark] .colab-df-convert {\n",
              "      background-color: #3B4455;\n",
              "      fill: #D2E3FC;\n",
              "    }\n",
              "\n",
              "    [theme=dark] .colab-df-convert:hover {\n",
              "      background-color: #434B5C;\n",
              "      box-shadow: 0px 1px 3px 1px rgba(0, 0, 0, 0.15);\n",
              "      filter: drop-shadow(0px 1px 2px rgba(0, 0, 0, 0.3));\n",
              "      fill: #FFFFFF;\n",
              "    }\n",
              "  </style>\n",
              "\n",
              "      <script>\n",
              "        const buttonEl =\n",
              "          document.querySelector('#df-bbc441ea-c553-4ac8-b6d9-f5fb5ca15153 button.colab-df-convert');\n",
              "        buttonEl.style.display =\n",
              "          google.colab.kernel.accessAllowed ? 'block' : 'none';\n",
              "\n",
              "        async function convertToInteractive(key) {\n",
              "          const element = document.querySelector('#df-bbc441ea-c553-4ac8-b6d9-f5fb5ca15153');\n",
              "          const dataTable =\n",
              "            await google.colab.kernel.invokeFunction('convertToInteractive',\n",
              "                                                     [key], {});\n",
              "          if (!dataTable) return;\n",
              "\n",
              "          const docLinkHtml = 'Like what you see? Visit the ' +\n",
              "            '<a target=\"_blank\" href=https://colab.research.google.com/notebooks/data_table.ipynb>data table notebook</a>'\n",
              "            + ' to learn more about interactive tables.';\n",
              "          element.innerHTML = '';\n",
              "          dataTable['output_type'] = 'display_data';\n",
              "          await google.colab.output.renderOutput(dataTable, element);\n",
              "          const docLink = document.createElement('div');\n",
              "          docLink.innerHTML = docLinkHtml;\n",
              "          element.appendChild(docLink);\n",
              "        }\n",
              "      </script>\n",
              "    </div>\n",
              "  </div>\n",
              "  "
            ],
            "text/plain": [
              "                                                        tweet  sarcastic  \\\n",
              "Unnamed: 0                                                                 \n",
              "0           The only thing I got from college is a caffein...          1   \n",
              "1           I love it when professors draw a big question ...          1   \n",
              "2           Remember the hundred emails from companies whe...          1   \n",
              "3           Today my pop-pop told me I was not “forced” to...          1   \n",
              "4           @VolphanCarol @littlewhitty @mysticalmanatee I...          1   \n",
              "...                                                       ...        ...   \n",
              "3463        The population spike in Chicago in 9 months is...          0   \n",
              "3464        You'd think in the second to last English clas...          0   \n",
              "3465        I’m finally surfacing after a holiday to Scotl...          0   \n",
              "3466        Couldn't be prouder today. Well done to every ...          0   \n",
              "3467        Overheard as my 13 year old games with a frien...          0   \n",
              "\n",
              "                                                     rephrase  sarcasm  irony  \\\n",
              "Unnamed: 0                                                                      \n",
              "0           College is really difficult, expensive, tiring...      0.0    1.0   \n",
              "1           I do not like when professors don’t write out ...      1.0    0.0   \n",
              "2           I, at the bare minimum, wish companies actuall...      0.0    1.0   \n",
              "3           Today my pop-pop told me I was not \"forced\" to...      1.0    0.0   \n",
              "4           I would say Ted Cruz is an asshole and doesn’t...      1.0    0.0   \n",
              "...                                                       ...      ...    ...   \n",
              "3463                                                      NaN      NaN    NaN   \n",
              "3464                                                      NaN      NaN    NaN   \n",
              "3465                                                      NaN      NaN    NaN   \n",
              "3466                                                      NaN      NaN    NaN   \n",
              "3467                                                      NaN      NaN    NaN   \n",
              "\n",
              "            satire  understatement  overstatement  rhetorical_question  \\\n",
              "Unnamed: 0                                                               \n",
              "0              0.0             0.0            0.0                  0.0   \n",
              "1              0.0             0.0            0.0                  0.0   \n",
              "2              0.0             0.0            0.0                  0.0   \n",
              "3              0.0             0.0            0.0                  0.0   \n",
              "4              0.0             0.0            0.0                  0.0   \n",
              "...            ...             ...            ...                  ...   \n",
              "3463           NaN             NaN            NaN                  NaN   \n",
              "3464           NaN             NaN            NaN                  NaN   \n",
              "3465           NaN             NaN            NaN                  NaN   \n",
              "3466           NaN             NaN            NaN                  NaN   \n",
              "3467           NaN             NaN            NaN                  NaN   \n",
              "\n",
              "                                  entity  \\\n",
              "Unnamed: 0                                 \n",
              "0                                          \n",
              "1                                          \n",
              "2               CARDINAL,PERSON,CARDINAL   \n",
              "3                                   DATE   \n",
              "4                             PERSON,GPE   \n",
              "...                                  ...   \n",
              "3463                            GPE,DATE   \n",
              "3464        ORDINAL,LANGUAGE,DATE,PERSON   \n",
              "3465             GPE,DATE,DATE,DATE,DATE   \n",
              "3466                DATE,TIME,DATE,MONEY   \n",
              "3467                          DATE,MONEY   \n",
              "\n",
              "                                                  clean_tweet  sentence_length  \n",
              "Unnamed: 0                                                                      \n",
              "0                        thing get college caffeine addiction                5  \n",
              "1           love professors draw big question mark next an...               13  \n",
              "2           remember hundred email company covid start get...               24  \n",
              "3           today pop pop tell not force go college okay s...               11  \n",
              "4           volphancarol littlewhitty mysticalmanatee also...               16  \n",
              "...                                                       ...              ...  \n",
              "3463             population spike chicago 9 months ridiculous                6  \n",
              "3464        think second last english class year prof woul...               11  \n",
              "3465        finally surface holiday scotland difficult day...               26  \n",
              "3466        prouder today well do every student get gcses ...               22  \n",
              "3467        overhear 13 year old game friend smell like ta...               11  \n",
              "\n",
              "[3467 rows x 12 columns]"
            ]
          },
          "execution_count": 20,
          "metadata": {},
          "output_type": "execute_result"
        }
      ],
      "source": [
        "data"
      ]
    },
    {
      "cell_type": "code",
      "execution_count": null,
      "metadata": {
        "colab": {
          "base_uri": "https://localhost:8080/",
          "height": 424
        },
        "id": "owKOjWwh3sTQ",
        "outputId": "4a9456a0-b6b9-4fe8-c6c6-9a1139911316"
      },
      "outputs": [
        {
          "data": {
            "text/html": [
              "\n",
              "  <div id=\"df-fd3d0788-a092-4e61-8516-a09b8e6c1d90\">\n",
              "    <div class=\"colab-df-container\">\n",
              "      <div>\n",
              "<style scoped>\n",
              "    .dataframe tbody tr th:only-of-type {\n",
              "        vertical-align: middle;\n",
              "    }\n",
              "\n",
              "    .dataframe tbody tr th {\n",
              "        vertical-align: top;\n",
              "    }\n",
              "\n",
              "    .dataframe thead th {\n",
              "        text-align: right;\n",
              "    }\n",
              "</style>\n",
              "<table border=\"1\" class=\"dataframe\">\n",
              "  <thead>\n",
              "    <tr style=\"text-align: right;\">\n",
              "      <th></th>\n",
              "      <th>text</th>\n",
              "      <th>sarcastic</th>\n",
              "      <th>clean_tweet</th>\n",
              "      <th>sentence_length</th>\n",
              "    </tr>\n",
              "  </thead>\n",
              "  <tbody>\n",
              "    <tr>\n",
              "      <th>0</th>\n",
              "      <td>Size on the the Toulouse team, That pack is mo...</td>\n",
              "      <td>0</td>\n",
              "      <td>size toulouse team pack monstrous see welsh re...</td>\n",
              "      <td>13</td>\n",
              "    </tr>\n",
              "    <tr>\n",
              "      <th>1</th>\n",
              "      <td>Pinball!</td>\n",
              "      <td>0</td>\n",
              "      <td>pinball</td>\n",
              "      <td>1</td>\n",
              "    </tr>\n",
              "    <tr>\n",
              "      <th>2</th>\n",
              "      <td>So the Scottish Government want people to get ...</td>\n",
              "      <td>1</td>\n",
              "      <td>scottish government want people get booster sh...</td>\n",
              "      <td>11</td>\n",
              "    </tr>\n",
              "    <tr>\n",
              "      <th>3</th>\n",
              "      <td>villainous pro tip : change the device name on...</td>\n",
              "      <td>0</td>\n",
              "      <td>villainous pro tip change device name bluetoot...</td>\n",
              "      <td>10</td>\n",
              "    </tr>\n",
              "    <tr>\n",
              "      <th>4</th>\n",
              "      <td>I would date any of these men 🥺</td>\n",
              "      <td>0</td>\n",
              "      <td>would date men</td>\n",
              "      <td>3</td>\n",
              "    </tr>\n",
              "    <tr>\n",
              "      <th>...</th>\n",
              "      <td>...</td>\n",
              "      <td>...</td>\n",
              "      <td>...</td>\n",
              "      <td>...</td>\n",
              "    </tr>\n",
              "    <tr>\n",
              "      <th>1395</th>\n",
              "      <td>I’ve just seen this and felt it deserved a Ret...</td>\n",
              "      <td>0</td>\n",
              "      <td>see felt deserve retweet honesty xx</td>\n",
              "      <td>6</td>\n",
              "    </tr>\n",
              "    <tr>\n",
              "      <th>1396</th>\n",
              "      <td>Omg how an earth is that a pen !!! 🤡</td>\n",
              "      <td>0</td>\n",
              "      <td>omg earth pen</td>\n",
              "      <td>3</td>\n",
              "    </tr>\n",
              "    <tr>\n",
              "      <th>1397</th>\n",
              "      <td>Bringing Kanye and drake to a tl near you</td>\n",
              "      <td>0</td>\n",
              "      <td>bring kanye drake tl near</td>\n",
              "      <td>5</td>\n",
              "    </tr>\n",
              "    <tr>\n",
              "      <th>1398</th>\n",
              "      <td>I love it when women are referred to as \"girl ...</td>\n",
              "      <td>1</td>\n",
              "      <td>love women refer girl boss however men boss</td>\n",
              "      <td>8</td>\n",
              "    </tr>\n",
              "    <tr>\n",
              "      <th>1399</th>\n",
              "      <td>The fact that people still don't get that you ...</td>\n",
              "      <td>1</td>\n",
              "      <td>fact people still get need distance wear mask ...</td>\n",
              "      <td>19</td>\n",
              "    </tr>\n",
              "  </tbody>\n",
              "</table>\n",
              "<p>1400 rows × 4 columns</p>\n",
              "</div>\n",
              "      <button class=\"colab-df-convert\" onclick=\"convertToInteractive('df-fd3d0788-a092-4e61-8516-a09b8e6c1d90')\"\n",
              "              title=\"Convert this dataframe to an interactive table.\"\n",
              "              style=\"display:none;\">\n",
              "        \n",
              "  <svg xmlns=\"http://www.w3.org/2000/svg\" height=\"24px\"viewBox=\"0 0 24 24\"\n",
              "       width=\"24px\">\n",
              "    <path d=\"M0 0h24v24H0V0z\" fill=\"none\"/>\n",
              "    <path d=\"M18.56 5.44l.94 2.06.94-2.06 2.06-.94-2.06-.94-.94-2.06-.94 2.06-2.06.94zm-11 1L8.5 8.5l.94-2.06 2.06-.94-2.06-.94L8.5 2.5l-.94 2.06-2.06.94zm10 10l.94 2.06.94-2.06 2.06-.94-2.06-.94-.94-2.06-.94 2.06-2.06.94z\"/><path d=\"M17.41 7.96l-1.37-1.37c-.4-.4-.92-.59-1.43-.59-.52 0-1.04.2-1.43.59L10.3 9.45l-7.72 7.72c-.78.78-.78 2.05 0 2.83L4 21.41c.39.39.9.59 1.41.59.51 0 1.02-.2 1.41-.59l7.78-7.78 2.81-2.81c.8-.78.8-2.07 0-2.86zM5.41 20L4 18.59l7.72-7.72 1.47 1.35L5.41 20z\"/>\n",
              "  </svg>\n",
              "      </button>\n",
              "      \n",
              "  <style>\n",
              "    .colab-df-container {\n",
              "      display:flex;\n",
              "      flex-wrap:wrap;\n",
              "      gap: 12px;\n",
              "    }\n",
              "\n",
              "    .colab-df-convert {\n",
              "      background-color: #E8F0FE;\n",
              "      border: none;\n",
              "      border-radius: 50%;\n",
              "      cursor: pointer;\n",
              "      display: none;\n",
              "      fill: #1967D2;\n",
              "      height: 32px;\n",
              "      padding: 0 0 0 0;\n",
              "      width: 32px;\n",
              "    }\n",
              "\n",
              "    .colab-df-convert:hover {\n",
              "      background-color: #E2EBFA;\n",
              "      box-shadow: 0px 1px 2px rgba(60, 64, 67, 0.3), 0px 1px 3px 1px rgba(60, 64, 67, 0.15);\n",
              "      fill: #174EA6;\n",
              "    }\n",
              "\n",
              "    [theme=dark] .colab-df-convert {\n",
              "      background-color: #3B4455;\n",
              "      fill: #D2E3FC;\n",
              "    }\n",
              "\n",
              "    [theme=dark] .colab-df-convert:hover {\n",
              "      background-color: #434B5C;\n",
              "      box-shadow: 0px 1px 3px 1px rgba(0, 0, 0, 0.15);\n",
              "      filter: drop-shadow(0px 1px 2px rgba(0, 0, 0, 0.3));\n",
              "      fill: #FFFFFF;\n",
              "    }\n",
              "  </style>\n",
              "\n",
              "      <script>\n",
              "        const buttonEl =\n",
              "          document.querySelector('#df-fd3d0788-a092-4e61-8516-a09b8e6c1d90 button.colab-df-convert');\n",
              "        buttonEl.style.display =\n",
              "          google.colab.kernel.accessAllowed ? 'block' : 'none';\n",
              "\n",
              "        async function convertToInteractive(key) {\n",
              "          const element = document.querySelector('#df-fd3d0788-a092-4e61-8516-a09b8e6c1d90');\n",
              "          const dataTable =\n",
              "            await google.colab.kernel.invokeFunction('convertToInteractive',\n",
              "                                                     [key], {});\n",
              "          if (!dataTable) return;\n",
              "\n",
              "          const docLinkHtml = 'Like what you see? Visit the ' +\n",
              "            '<a target=\"_blank\" href=https://colab.research.google.com/notebooks/data_table.ipynb>data table notebook</a>'\n",
              "            + ' to learn more about interactive tables.';\n",
              "          element.innerHTML = '';\n",
              "          dataTable['output_type'] = 'display_data';\n",
              "          await google.colab.output.renderOutput(dataTable, element);\n",
              "          const docLink = document.createElement('div');\n",
              "          docLink.innerHTML = docLinkHtml;\n",
              "          element.appendChild(docLink);\n",
              "        }\n",
              "      </script>\n",
              "    </div>\n",
              "  </div>\n",
              "  "
            ],
            "text/plain": [
              "                                                   text  sarcastic  \\\n",
              "0     Size on the the Toulouse team, That pack is mo...          0   \n",
              "1                                              Pinball!          0   \n",
              "2     So the Scottish Government want people to get ...          1   \n",
              "3     villainous pro tip : change the device name on...          0   \n",
              "4                       I would date any of these men 🥺          0   \n",
              "...                                                 ...        ...   \n",
              "1395  I’ve just seen this and felt it deserved a Ret...          0   \n",
              "1396               Omg how an earth is that a pen !!! 🤡          0   \n",
              "1397          Bringing Kanye and drake to a tl near you          0   \n",
              "1398  I love it when women are referred to as \"girl ...          1   \n",
              "1399  The fact that people still don't get that you ...          1   \n",
              "\n",
              "                                            clean_tweet  sentence_length  \n",
              "0     size toulouse team pack monstrous see welsh re...               13  \n",
              "1                                               pinball                1  \n",
              "2     scottish government want people get booster sh...               11  \n",
              "3     villainous pro tip change device name bluetoot...               10  \n",
              "4                                        would date men                3  \n",
              "...                                                 ...              ...  \n",
              "1395                see felt deserve retweet honesty xx                6  \n",
              "1396                                      omg earth pen                3  \n",
              "1397                          bring kanye drake tl near                5  \n",
              "1398        love women refer girl boss however men boss                8  \n",
              "1399  fact people still get need distance wear mask ...               19  \n",
              "\n",
              "[1400 rows x 4 columns]"
            ]
          },
          "execution_count": 21,
          "metadata": {},
          "output_type": "execute_result"
        }
      ],
      "source": [
        "test_data"
      ]
    },
    {
      "cell_type": "markdown",
      "metadata": {
        "id": "Q-_N87p93zGv"
      },
      "source": [
        "## 1-3Headlines Length Distribution"
      ]
    },
    {
      "cell_type": "markdown",
      "metadata": {
        "id": "kGrgYThU31lQ"
      },
      "source": [
        "<ul>\n",
        "<li>Look for outlier length of tweet sentences   </li>\n",
        "<li>Usually the tweets shouldn't be more than 20-30 words   </li>\n",
        "\n",
        "</ul>"
      ]
    },
    {
      "cell_type": "code",
      "execution_count": null,
      "metadata": {
        "colab": {
          "base_uri": "https://localhost:8080/",
          "height": 717
        },
        "id": "X5mkyxkh4ZGA",
        "outputId": "f8bb9970-918c-4c6d-d10f-ba24088bc5c7"
      },
      "outputs": [
        {
          "data": {
            "text/html": [
              "<html>\n",
              "<head><meta charset=\"utf-8\" /></head>\n",
              "<body>\n",
              "    <div>            <script src=\"https://cdnjs.cloudflare.com/ajax/libs/mathjax/2.7.5/MathJax.js?config=TeX-AMS-MML_SVG\"></script><script type=\"text/javascript\">if (window.MathJax) {MathJax.Hub.Config({SVG: {font: \"STIX-Web\"}});}</script>                <script type=\"text/javascript\">window.PlotlyConfig = {MathJaxConfig: 'local'};</script>\n",
              "        <script src=\"https://cdn.plot.ly/plotly-2.8.3.min.js\"></script>                <div id=\"136dcce7-744c-401a-afe8-ec0b0019e886\" class=\"plotly-graph-div\" style=\"height:700px; width:100%;\"></div>            <script type=\"text/javascript\">                                    window.PLOTLYENV=window.PLOTLYENV || {};                                    if (document.getElementById(\"136dcce7-744c-401a-afe8-ec0b0019e886\")) {                    Plotly.newPlot(                        \"136dcce7-744c-401a-afe8-ec0b0019e886\",                        [{\"alignmentgroup\":\"True\",\"bingroup\":\"x\",\"hovertemplate\":\"sarcastic=1<br>sentence_length=%{x}<br>count=%{y}<extra></extra>\",\"legendgroup\":\"1\",\"marker\":{\"color\":\"#636efa\",\"pattern\":{\"shape\":\"\"}},\"name\":\"1\",\"offsetgroup\":\"1\",\"orientation\":\"v\",\"showlegend\":true,\"x\":[5,13,24,11,16,21,9,23,12,12,16,4,12,5,29,9,6,23,4,15,11,11,12,11,22,3,11,12,8,6,6,5,6,10,4,9,3,6,11,13,2,6,5,14,5,7,8,19,6,9,7,17,14,10,17,25,9,4,16,10,9,15,2,6,5,22,11,7,13,9,23,7,12,11,7,3,21,8,8,10,12,20,8,8,7,6,4,13,14,7,6,17,5,7,7,8,14,11,6,6,15,10,8,12,14,4,18,3,13,11,11,5,13,11,6,6,9,4,18,4,18,15,15,5,7,8,12,10,4,7,7,7,17,11,12,6,30,7,11,11,8,6,11,17,5,13,13,5,12,4,5,15,4,2,3,9,13,26,10,11,11,7,4,18,13,11,28,16,23,15,10,4,3,13,6,16,13,19,3,12,6,5,6,2,7,18,7,8,8,5,6,11,6,10,16,5,18,4,7,6,9,18,13,15,9,24,12,5,9,5,4,13,4,15,22,15,9,3,5,11,11,19,6,3,7,7,13,11,7,4,26,6,10,15,7,6,8,5,6,8,9,13,10,11,10,19,8,10,7,8,7,13,15,6,10,3,8,15,5,8,10,9,10,4,10,6,7,34,15,4,27,8,15,13,5,4,10,5,12,9,6,14,9,7,11,4,9,26,6,10,11,28,3,17,4,1,6,12,10,6,9,5,9,5,11,15,10,6,3,13,11,12,23,5,9,13,7,12,4,7,8,8,13,10,17,11,11,16,8,12,11,13,14,37,7,16,9,8,3,19,6,2,7,8,14,24,13,8,7,6,5,6,11,13,9,6,7,6,22,6,12,21,6,10,3,16,13,6,14,5,5,10,12,8,14,8,12,29,14,7,5,6,5,9,9,6,18,6,16,16,7,17,6,4,6,22,9,7,8,10,10,13,1,13,8,11,12,23,19,22,15,9,6,4,14,14,11,11,14,11,19,17,18,10,4,6,13,16,5,18,8,11,9,10,10,6,7,13,10,12,3,13,8,3,15,10,5,3,7,13,5,10,5,9,13,5,7,24,6,10,4,6,16,10,11,4,19,12,6,9,18,5,9,16,4,3,12,3,17,6,11,16,13,9,4,7,2,16,2,6,4,3,7,6,16,6,11,3,18,1,11,7,10,4,9,9,33,16,9,19,7,12,11,32,12,13,20,7,6,9,6,13,30,14,7,7,13,8,12,3,8,14,11,6,5,3,4,7,10,7,9,12,4,15,11,8,11,7,5,10,10,14,7,16,5,9,7,9,10,17,6,8,15,5,6,28,11,3,4,17,17,3,10,17,5,3,4,5,7,2,8,6,13,12,13,22,7,2,21,9,12,5,14,24,7,8,12,20,6,6,5,5,12,5,9,6,10,11,5,12,13,6,4,4,8,16,6,12,17,10,12,10,6,9,4,4,11,3,11,5,20,16,5,12,10,14,6,6,10,7,5,9,29,6,25,4,7,3,6,11,8,8,3,6,10,3,2,5,22,11,7,20,15,8,16,10,16,3,7,26,17,7,12,4,13,2,2,13,4,6,7,6,5,13,9,2,21,6,9,9,7,11,19,7,13,6,24,16,19,18,11,13,8,14,11,9,3,10,7,14,19,8,3,10,8,7,18,10,11,6,8,15,4,15,10,6,10,9,7,6,16,16,1,17,8,7,10,7,12,15,9,11,11,15,27,5,9,24,10,16,13,16,16,9,7,6,13,11,9,11,7,11,11,9,16,20,12,8,9,9,17,3,7,15,12,7,7,10,4,9,23,23,4,3,17,6,8,11,1,6,10,7,6,10,3,15,17,27,5,13,26,25,8,8,3,13,4,7,11,9,5,3,7,5,13,15,8,3,21,3,6,6,9,7,17,9,9,7,9,5,18,11,9,10,7,9,7,6,16,13,7,8,1,15,4,7,12,9,10,17,4,4,5,14,8,10,7,27,12,6,10,12,4,7,12,13,12],\"xaxis\":\"x\",\"yaxis\":\"y\",\"type\":\"histogram\"},{\"alignmentgroup\":\"True\",\"hovertemplate\":\"sarcastic=1<br>sentence_length=%{x}<extra></extra>\",\"legendgroup\":\"1\",\"marker\":{\"color\":\"#636efa\"},\"name\":\"1\",\"notched\":true,\"offsetgroup\":\"1\",\"showlegend\":false,\"x\":[5,13,24,11,16,21,9,23,12,12,16,4,12,5,29,9,6,23,4,15,11,11,12,11,22,3,11,12,8,6,6,5,6,10,4,9,3,6,11,13,2,6,5,14,5,7,8,19,6,9,7,17,14,10,17,25,9,4,16,10,9,15,2,6,5,22,11,7,13,9,23,7,12,11,7,3,21,8,8,10,12,20,8,8,7,6,4,13,14,7,6,17,5,7,7,8,14,11,6,6,15,10,8,12,14,4,18,3,13,11,11,5,13,11,6,6,9,4,18,4,18,15,15,5,7,8,12,10,4,7,7,7,17,11,12,6,30,7,11,11,8,6,11,17,5,13,13,5,12,4,5,15,4,2,3,9,13,26,10,11,11,7,4,18,13,11,28,16,23,15,10,4,3,13,6,16,13,19,3,12,6,5,6,2,7,18,7,8,8,5,6,11,6,10,16,5,18,4,7,6,9,18,13,15,9,24,12,5,9,5,4,13,4,15,22,15,9,3,5,11,11,19,6,3,7,7,13,11,7,4,26,6,10,15,7,6,8,5,6,8,9,13,10,11,10,19,8,10,7,8,7,13,15,6,10,3,8,15,5,8,10,9,10,4,10,6,7,34,15,4,27,8,15,13,5,4,10,5,12,9,6,14,9,7,11,4,9,26,6,10,11,28,3,17,4,1,6,12,10,6,9,5,9,5,11,15,10,6,3,13,11,12,23,5,9,13,7,12,4,7,8,8,13,10,17,11,11,16,8,12,11,13,14,37,7,16,9,8,3,19,6,2,7,8,14,24,13,8,7,6,5,6,11,13,9,6,7,6,22,6,12,21,6,10,3,16,13,6,14,5,5,10,12,8,14,8,12,29,14,7,5,6,5,9,9,6,18,6,16,16,7,17,6,4,6,22,9,7,8,10,10,13,1,13,8,11,12,23,19,22,15,9,6,4,14,14,11,11,14,11,19,17,18,10,4,6,13,16,5,18,8,11,9,10,10,6,7,13,10,12,3,13,8,3,15,10,5,3,7,13,5,10,5,9,13,5,7,24,6,10,4,6,16,10,11,4,19,12,6,9,18,5,9,16,4,3,12,3,17,6,11,16,13,9,4,7,2,16,2,6,4,3,7,6,16,6,11,3,18,1,11,7,10,4,9,9,33,16,9,19,7,12,11,32,12,13,20,7,6,9,6,13,30,14,7,7,13,8,12,3,8,14,11,6,5,3,4,7,10,7,9,12,4,15,11,8,11,7,5,10,10,14,7,16,5,9,7,9,10,17,6,8,15,5,6,28,11,3,4,17,17,3,10,17,5,3,4,5,7,2,8,6,13,12,13,22,7,2,21,9,12,5,14,24,7,8,12,20,6,6,5,5,12,5,9,6,10,11,5,12,13,6,4,4,8,16,6,12,17,10,12,10,6,9,4,4,11,3,11,5,20,16,5,12,10,14,6,6,10,7,5,9,29,6,25,4,7,3,6,11,8,8,3,6,10,3,2,5,22,11,7,20,15,8,16,10,16,3,7,26,17,7,12,4,13,2,2,13,4,6,7,6,5,13,9,2,21,6,9,9,7,11,19,7,13,6,24,16,19,18,11,13,8,14,11,9,3,10,7,14,19,8,3,10,8,7,18,10,11,6,8,15,4,15,10,6,10,9,7,6,16,16,1,17,8,7,10,7,12,15,9,11,11,15,27,5,9,24,10,16,13,16,16,9,7,6,13,11,9,11,7,11,11,9,16,20,12,8,9,9,17,3,7,15,12,7,7,10,4,9,23,23,4,3,17,6,8,11,1,6,10,7,6,10,3,15,17,27,5,13,26,25,8,8,3,13,4,7,11,9,5,3,7,5,13,15,8,3,21,3,6,6,9,7,17,9,9,7,9,5,18,11,9,10,7,9,7,6,16,13,7,8,1,15,4,7,12,9,10,17,4,4,5,14,8,10,7,27,12,6,10,12,4,7,12,13,12],\"xaxis\":\"x2\",\"yaxis\":\"y2\",\"type\":\"box\"},{\"alignmentgroup\":\"True\",\"bingroup\":\"x\",\"hovertemplate\":\"sarcastic=0<br>sentence_length=%{x}<br>count=%{y}<extra></extra>\",\"legendgroup\":\"0\",\"marker\":{\"color\":\"#EF553B\",\"pattern\":{\"shape\":\"\"}},\"name\":\"0\",\"offsetgroup\":\"0\",\"orientation\":\"v\",\"showlegend\":true,\"x\":[11,5,6,14,7,8,13,7,3,5,5,11,11,17,8,4,24,19,8,30,18,10,14,25,6,5,4,6,3,4,17,10,14,14,6,9,5,8,4,4,8,10,17,20,14,9,11,12,5,6,9,23,5,20,3,2,13,18,10,5,2,2,5,12,10,5,5,3,5,17,11,23,22,22,22,7,7,4,32,9,4,13,13,17,14,14,7,4,9,4,15,9,5,7,6,5,4,1,7,5,5,4,2,5,11,6,16,11,20,7,5,8,9,8,4,8,11,12,16,13,3,9,2,7,10,3,5,7,11,6,23,5,23,15,8,6,4,11,8,25,11,19,4,10,12,18,10,10,13,12,20,16,10,6,5,6,13,7,17,3,7,2,25,7,16,12,13,17,15,15,5,6,6,12,11,7,3,7,9,5,18,5,7,7,2,12,3,6,6,7,8,7,15,5,6,5,11,17,4,12,12,19,10,13,15,9,12,7,12,20,7,24,21,4,6,23,24,16,7,9,22,2,7,8,4,5,10,9,5,5,9,20,9,16,22,13,17,8,20,5,11,9,5,4,6,6,14,4,4,6,7,3,5,2,6,7,2,7,6,10,10,10,14,7,5,13,2,12,6,4,3,18,10,15,17,5,5,3,29,27,3,11,23,17,6,9,8,9,8,8,4,5,8,5,8,5,10,8,4,13,13,6,5,17,13,5,8,4,11,1,9,13,10,7,8,5,13,17,3,15,7,5,7,7,24,14,5,3,6,8,26,26,6,4,4,6,9,6,6,4,19,14,9,5,6,3,4,6,8,10,5,6,9,11,16,29,3,10,12,29,17,32,20,25,25,17,10,3,11,18,6,13,7,9,9,11,11,10,10,13,8,7,6,10,10,8,4,7,6,26,5,9,7,7,4,10,15,13,11,11,11,6,13,14,5,13,6,12,15,11,11,7,9,18,7,6,8,5,9,15,10,12,9,7,4,7,4,5,15,8,4,15,16,14,5,10,5,9,3,3,3,5,8,16,16,12,30,5,15,8,18,2,4,10,7,6,15,9,7,10,9,1,4,4,9,9,7,5,12,8,15,11,11,14,4,8,6,11,14,23,19,6,19,7,11,10,16,16,18,22,21,8,23,10,6,12,4,12,6,15,9,21,19,16,1,5,3,8,5,6,10,5,8,6,8,7,5,12,11,25,23,19,5,14,10,20,14,14,12,10,21,27,15,4,3,4,14,8,10,9,14,12,7,20,6,8,7,7,6,9,7,6,8,16,5,20,9,12,10,13,2,3,6,8,7,9,8,4,7,12,5,2,21,18,12,9,6,6,7,17,7,13,7,4,15,10,12,20,15,14,10,5,19,8,14,8,5,5,4,5,2,3,4,4,6,20,7,11,10,22,17,16,6,7,12,13,14,4,6,11,23,40,27,7,3,8,7,14,6,5,7,6,18,17,8,19,26,18,10,20,12,19,9,8,14,12,10,5,8,3,12,5,10,10,7,4,9,10,14,15,19,32,19,24,12,5,10,12,3,6,5,15,9,12,21,22,14,16,7,1,12,14,8,7,11,12,3,10,12,10,13,3,6,8,11,29,9,13,8,11,25,13,5,10,10,5,5,19,27,12,20,4,3,13,16,16,11,25,30,9,4,13,17,14,16,5,12,7,10,5,3,8,12,14,16,10,11,6,5,11,23,25,7,6,6,8,8,6,6,5,27,16,4,13,4,8,9,13,10,7,2,10,4,10,9,23,16,7,8,3,22,7,12,16,15,27,16,10,11,18,7,20,8,9,3,7,3,7,2,2,3,3,11,17,14,9,12,19,6,13,5,6,12,22,11,20,11,13,19,12,9,7,7,36,7,4,9,10,7,23,5,9,11,8,13,13,9,18,3,13,16,5,13,13,19,10,15,14,30,15,20,8,9,21,6,8,4,9,14,12,8,20,11,11,5,7,9,8,19,16,7,11,20,12,21,6,4,13,3,3,5,6,22,9,5,4,27,3,4,5,9,9,8,17,10,10,6,10,12,8,6,17,9,8,14,35,9,16,10,9,5,14,7,7,6,3,8,11,3,12,6,11,9,7,29,25,18,7,12,19,4,6,4,8,3,5,8,12,12,15,6,19,10,8,6,19,12,26,5,7,13,5,6,12,4,6,1,14,10,10,14,18,10,10,4,4,4,9,4,6,11,24,22,6,19,7,7,7,6,20,15,22,6,11,8,9,13,7,6,6,13,21,15,4,3,3,11,8,15,22,18,19,7,9,11,14,1,5,14,8,21,13,9,16,19,8,17,9,17,7,12,12,4,3,12,2,19,6,9,23,12,21,9,7,3,6,8,6,8,16,16,13,11,16,9,10,8,7,3,5,9,4,3,7,12,11,16,8,5,3,6,3,3,8,5,10,10,10,6,12,13,5,5,7,22,5,4,16,22,8,2,2,4,20,18,17,2,4,3,9,13,24,17,8,20,11,10,14,7,5,5,6,5,15,17,12,13,6,9,22,14,14,10,6,9,5,21,11,10,1,7,11,12,9,7,14,11,18,19,27,25,7,19,2,22,11,18,8,6,7,10,13,10,11,9,4,8,11,5,13,6,15,11,9,3,15,18,16,18,10,6,13,6,3,9,7,3,9,8,17,4,7,18,7,5,16,17,18,14,10,10,9,3,5,12,6,7,8,3,11,7,6,12,10,12,11,18,16,5,16,27,25,19,20,12,24,12,18,8,17,15,15,7,7,3,4,11,5,4,12,11,6,8,5,8,7,7,9,9,11,14,7,6,8,6,10,20,11,12,7,7,14,9,12,5,5,10,15,6,13,5,31,20,37,6,9,2,12,4,16,9,17,4,7,4,8,21,10,8,6,9,27,18,11,12,6,27,18,6,14,7,7,11,17,11,8,9,7,4,6,6,2,7,5,3,8,24,18,14,7,15,5,17,14,21,6,5,8,5,4,10,7,8,20,5,11,4,28,19,29,14,8,11,4,7,5,4,5,2,4,7,13,17,7,9,20,22,6,3,3,9,4,14,8,9,14,6,7,6,9,7,6,8,12,10,9,7,7,20,1,5,8,13,9,4,10,12,5,12,15,5,4,6,7,12,8,16,5,14,6,11,11,10,6,6,10,7,13,13,5,3,14,5,5,8,5,4,3,12,6,10,7,5,5,6,10,10,5,15,22,5,11,7,3,5,7,33,14,4,11,8,6,14,9,7,5,12,5,6,10,9,16,10,13,5,14,9,7,8,10,4,6,6,5,6,6,6,13,16,3,9,15,18,15,14,7,21,6,9,23,30,6,6,7,5,8,12,7,3,10,6,6,6,8,14,8,7,7,11,1,4,3,19,22,12,9,6,9,11,6,9,11,17,12,24,13,12,8,12,8,10,9,12,8,11,9,1,9,6,14,5,8,5,5,8,12,12,3,9,19,9,8,16,6,8,2,5,17,18,12,8,10,5,13,15,4,2,2,5,3,5,7,11,8,8,5,4,32,13,11,14,8,26,8,11,10,6,12,11,18,21,9,2,20,30,26,14,10,11,8,10,14,10,1,9,33,26,31,12,28,17,13,12,2,26,10,9,5,16,5,3,5,7,4,8,22,7,15,9,11,13,7,13,8,10,12,8,8,7,4,4,1,11,7,8,7,10,15,8,7,2,7,11,2,12,5,13,18,13,6,14,7,2,9,14,4,5,6,6,6,4,8,15,27,22,6,15,13,28,12,19,21,10,7,9,10,4,6,3,10,17,16,27,10,27,16,6,12,15,4,17,7,4,4,5,8,9,7,6,18,15,12,8,6,6,8,12,12,15,15,31,13,7,5,14,10,12,6,5,11,3,7,14,3,22,8,29,7,8,6,15,20,3,6,7,10,24,13,7,9,8,7,2,3,4,10,21,13,4,16,9,15,23,5,8,17,5,6,2,6,14,10,11,9,11,21,15,17,6,7,10,23,20,11,6,4,6,7,11,19,8,9,6,1,20,14,25,19,12,12,11,3,12,22,14,14,5,31,13,6,15,11,7,14,5,5,15,6,8,10,10,15,13,24,26,7,3,13,10,3,3,5,5,18,4,9,14,15,9,16,8,7,19,12,11,3,5,6,11,9,15,9,14,6,8,13,6,21,19,7,6,4,26,6,8,4,8,12,9,5,16,16,10,10,11,2,5,4,6,8,13,10,10,12,7,3,5,18,13,13,13,10,11,14,17,20,5,4,14,9,6,4,22,12,18,22,19,14,6,7,4,9,17,17,6,5,4,10,22,24,10,5,4,10,22,10,12,8,10,5,4,16,7,7,8,10,22,26,9,8,6,3,16,2,6,9,23,3,11,6,7,4,7,4,23,7,17,6,11,23,16,28,10,6,6,10,28,5,3,12,10,14,9,9,3,6,9,8,7,7,25,11,2,6,4,4,6,16,12,8,13,8,5,3,4,2,11,3,7,3,7,13,11,7,7,13,4,20,3,12,3,5,4,27,15,19,5,10,5,6,11,11,6,5,9,14,13,9,11,8,8,8,10,7,22,4,20,9,10,11,6,3,3,4,21,16,15,11,7,8,11,22,27,12,14,8,13,25,11,15,12,13,8,16,11,2,8,7,9,4,11,34,24,13,3,8,5,7,7,11,8,10,27,21,8,5,5,4,5,5,16,9,7,5,6,9,12,14,14,10,15,17,3,10,9,25,15,4,5,25,18,13,15,15,8,15,19,18,22,12,4,17,8,9,10,12,9,22,17,29,19,3,4,14,14,14,4,8,8,6,7,6,12,10,14,1,5,11,10,5,10,26,30,19,11,15,14,10,6,11,4,8,5,4,9,7,28,16,27,12,14,8,5,3,12,2,5,27,18,15,16,8,10,5,15,13,8,14,13,20,9,5,18,8,22,10,3,16,16,13,5,8,5,20,9,8,4,5,15,8,14,8,4,6,18,12,10,9,11,9,16,17,29,11,19,5,7,3,6,8,5,8,13,4,9,2,4,8,12,10,10,15,5,9,4,11,6,3,20,4,3,7,3,3,1,2,10,9,6,2,5,4,8,7,17,13,11,16,10,10,6,2,3,26,5,6,12,2,6,5,17,8,13,20,28,4,13,20,5,6,8,9,6,5,12,15,14,12,9,11,11,11,10,11,7,8,7,13,9,14,3,14,10,14,9,5,27,18,14,9,5,7,14,18,14,9,12,8,13,8,2,1,5,11,8,19,22,12,13,12,13,14,11,8,7,5,20,12,15,22,7,10,25,8,7,26,7,8,7,14,18,12,8,12,7,14,3,8,11,5,11,14,8,12,9,16,14,7,22,7,12,9,11,12,13,3,7,15,6,5,5,21,21,31,11,3,10,10,15,7,17,2,8,5,2,6,2,3,7,9,16,11,6,9,14,2,12,8,2,10,8,9,19,8,14,7,5,19,26,6,21,21,16,11,11,9,10,8,3,26,20,22,25,33,24,14,9,7,12,10,7,2,7,4,12,23,10,14,3,9,11,13,13,8,15,20,15,17,14,3,15,5,10,18,26,12,25,32,5,2,12,5,17,9,11,4,18,16,16,12,3,13,3,22,16,12,6,6,9,3,3,2,6,6,18,6,19,19,5,7,14,14,15,7,10,6,13,6,5,4,4,10,15,21,25,10,9,10,4,28,11,14,10,8,2,20,15,4,8,9,4,3,9,14,25,21,10,8,5,5,12,12,19,8,11,9,14,10,11,23,14,12,5,6,9,2,3,5,20,19,23,6,6,16,7,9,11,12,5,7,13,10,21,7,12,16,3,7,14,7,5,9,9,8,11,6,16,4,16,8,11,4,5,4,13,3,5,11,7,11,4,21,12,14,28,7,5,6,5,4,8,11,20,25,7,5,6,5,14,15,12,8,6,4,9,6,11,26,22,11],\"xaxis\":\"x\",\"yaxis\":\"y\",\"type\":\"histogram\"},{\"alignmentgroup\":\"True\",\"hovertemplate\":\"sarcastic=0<br>sentence_length=%{x}<extra></extra>\",\"legendgroup\":\"0\",\"marker\":{\"color\":\"#EF553B\"},\"name\":\"0\",\"notched\":true,\"offsetgroup\":\"0\",\"showlegend\":false,\"x\":[11,5,6,14,7,8,13,7,3,5,5,11,11,17,8,4,24,19,8,30,18,10,14,25,6,5,4,6,3,4,17,10,14,14,6,9,5,8,4,4,8,10,17,20,14,9,11,12,5,6,9,23,5,20,3,2,13,18,10,5,2,2,5,12,10,5,5,3,5,17,11,23,22,22,22,7,7,4,32,9,4,13,13,17,14,14,7,4,9,4,15,9,5,7,6,5,4,1,7,5,5,4,2,5,11,6,16,11,20,7,5,8,9,8,4,8,11,12,16,13,3,9,2,7,10,3,5,7,11,6,23,5,23,15,8,6,4,11,8,25,11,19,4,10,12,18,10,10,13,12,20,16,10,6,5,6,13,7,17,3,7,2,25,7,16,12,13,17,15,15,5,6,6,12,11,7,3,7,9,5,18,5,7,7,2,12,3,6,6,7,8,7,15,5,6,5,11,17,4,12,12,19,10,13,15,9,12,7,12,20,7,24,21,4,6,23,24,16,7,9,22,2,7,8,4,5,10,9,5,5,9,20,9,16,22,13,17,8,20,5,11,9,5,4,6,6,14,4,4,6,7,3,5,2,6,7,2,7,6,10,10,10,14,7,5,13,2,12,6,4,3,18,10,15,17,5,5,3,29,27,3,11,23,17,6,9,8,9,8,8,4,5,8,5,8,5,10,8,4,13,13,6,5,17,13,5,8,4,11,1,9,13,10,7,8,5,13,17,3,15,7,5,7,7,24,14,5,3,6,8,26,26,6,4,4,6,9,6,6,4,19,14,9,5,6,3,4,6,8,10,5,6,9,11,16,29,3,10,12,29,17,32,20,25,25,17,10,3,11,18,6,13,7,9,9,11,11,10,10,13,8,7,6,10,10,8,4,7,6,26,5,9,7,7,4,10,15,13,11,11,11,6,13,14,5,13,6,12,15,11,11,7,9,18,7,6,8,5,9,15,10,12,9,7,4,7,4,5,15,8,4,15,16,14,5,10,5,9,3,3,3,5,8,16,16,12,30,5,15,8,18,2,4,10,7,6,15,9,7,10,9,1,4,4,9,9,7,5,12,8,15,11,11,14,4,8,6,11,14,23,19,6,19,7,11,10,16,16,18,22,21,8,23,10,6,12,4,12,6,15,9,21,19,16,1,5,3,8,5,6,10,5,8,6,8,7,5,12,11,25,23,19,5,14,10,20,14,14,12,10,21,27,15,4,3,4,14,8,10,9,14,12,7,20,6,8,7,7,6,9,7,6,8,16,5,20,9,12,10,13,2,3,6,8,7,9,8,4,7,12,5,2,21,18,12,9,6,6,7,17,7,13,7,4,15,10,12,20,15,14,10,5,19,8,14,8,5,5,4,5,2,3,4,4,6,20,7,11,10,22,17,16,6,7,12,13,14,4,6,11,23,40,27,7,3,8,7,14,6,5,7,6,18,17,8,19,26,18,10,20,12,19,9,8,14,12,10,5,8,3,12,5,10,10,7,4,9,10,14,15,19,32,19,24,12,5,10,12,3,6,5,15,9,12,21,22,14,16,7,1,12,14,8,7,11,12,3,10,12,10,13,3,6,8,11,29,9,13,8,11,25,13,5,10,10,5,5,19,27,12,20,4,3,13,16,16,11,25,30,9,4,13,17,14,16,5,12,7,10,5,3,8,12,14,16,10,11,6,5,11,23,25,7,6,6,8,8,6,6,5,27,16,4,13,4,8,9,13,10,7,2,10,4,10,9,23,16,7,8,3,22,7,12,16,15,27,16,10,11,18,7,20,8,9,3,7,3,7,2,2,3,3,11,17,14,9,12,19,6,13,5,6,12,22,11,20,11,13,19,12,9,7,7,36,7,4,9,10,7,23,5,9,11,8,13,13,9,18,3,13,16,5,13,13,19,10,15,14,30,15,20,8,9,21,6,8,4,9,14,12,8,20,11,11,5,7,9,8,19,16,7,11,20,12,21,6,4,13,3,3,5,6,22,9,5,4,27,3,4,5,9,9,8,17,10,10,6,10,12,8,6,17,9,8,14,35,9,16,10,9,5,14,7,7,6,3,8,11,3,12,6,11,9,7,29,25,18,7,12,19,4,6,4,8,3,5,8,12,12,15,6,19,10,8,6,19,12,26,5,7,13,5,6,12,4,6,1,14,10,10,14,18,10,10,4,4,4,9,4,6,11,24,22,6,19,7,7,7,6,20,15,22,6,11,8,9,13,7,6,6,13,21,15,4,3,3,11,8,15,22,18,19,7,9,11,14,1,5,14,8,21,13,9,16,19,8,17,9,17,7,12,12,4,3,12,2,19,6,9,23,12,21,9,7,3,6,8,6,8,16,16,13,11,16,9,10,8,7,3,5,9,4,3,7,12,11,16,8,5,3,6,3,3,8,5,10,10,10,6,12,13,5,5,7,22,5,4,16,22,8,2,2,4,20,18,17,2,4,3,9,13,24,17,8,20,11,10,14,7,5,5,6,5,15,17,12,13,6,9,22,14,14,10,6,9,5,21,11,10,1,7,11,12,9,7,14,11,18,19,27,25,7,19,2,22,11,18,8,6,7,10,13,10,11,9,4,8,11,5,13,6,15,11,9,3,15,18,16,18,10,6,13,6,3,9,7,3,9,8,17,4,7,18,7,5,16,17,18,14,10,10,9,3,5,12,6,7,8,3,11,7,6,12,10,12,11,18,16,5,16,27,25,19,20,12,24,12,18,8,17,15,15,7,7,3,4,11,5,4,12,11,6,8,5,8,7,7,9,9,11,14,7,6,8,6,10,20,11,12,7,7,14,9,12,5,5,10,15,6,13,5,31,20,37,6,9,2,12,4,16,9,17,4,7,4,8,21,10,8,6,9,27,18,11,12,6,27,18,6,14,7,7,11,17,11,8,9,7,4,6,6,2,7,5,3,8,24,18,14,7,15,5,17,14,21,6,5,8,5,4,10,7,8,20,5,11,4,28,19,29,14,8,11,4,7,5,4,5,2,4,7,13,17,7,9,20,22,6,3,3,9,4,14,8,9,14,6,7,6,9,7,6,8,12,10,9,7,7,20,1,5,8,13,9,4,10,12,5,12,15,5,4,6,7,12,8,16,5,14,6,11,11,10,6,6,10,7,13,13,5,3,14,5,5,8,5,4,3,12,6,10,7,5,5,6,10,10,5,15,22,5,11,7,3,5,7,33,14,4,11,8,6,14,9,7,5,12,5,6,10,9,16,10,13,5,14,9,7,8,10,4,6,6,5,6,6,6,13,16,3,9,15,18,15,14,7,21,6,9,23,30,6,6,7,5,8,12,7,3,10,6,6,6,8,14,8,7,7,11,1,4,3,19,22,12,9,6,9,11,6,9,11,17,12,24,13,12,8,12,8,10,9,12,8,11,9,1,9,6,14,5,8,5,5,8,12,12,3,9,19,9,8,16,6,8,2,5,17,18,12,8,10,5,13,15,4,2,2,5,3,5,7,11,8,8,5,4,32,13,11,14,8,26,8,11,10,6,12,11,18,21,9,2,20,30,26,14,10,11,8,10,14,10,1,9,33,26,31,12,28,17,13,12,2,26,10,9,5,16,5,3,5,7,4,8,22,7,15,9,11,13,7,13,8,10,12,8,8,7,4,4,1,11,7,8,7,10,15,8,7,2,7,11,2,12,5,13,18,13,6,14,7,2,9,14,4,5,6,6,6,4,8,15,27,22,6,15,13,28,12,19,21,10,7,9,10,4,6,3,10,17,16,27,10,27,16,6,12,15,4,17,7,4,4,5,8,9,7,6,18,15,12,8,6,6,8,12,12,15,15,31,13,7,5,14,10,12,6,5,11,3,7,14,3,22,8,29,7,8,6,15,20,3,6,7,10,24,13,7,9,8,7,2,3,4,10,21,13,4,16,9,15,23,5,8,17,5,6,2,6,14,10,11,9,11,21,15,17,6,7,10,23,20,11,6,4,6,7,11,19,8,9,6,1,20,14,25,19,12,12,11,3,12,22,14,14,5,31,13,6,15,11,7,14,5,5,15,6,8,10,10,15,13,24,26,7,3,13,10,3,3,5,5,18,4,9,14,15,9,16,8,7,19,12,11,3,5,6,11,9,15,9,14,6,8,13,6,21,19,7,6,4,26,6,8,4,8,12,9,5,16,16,10,10,11,2,5,4,6,8,13,10,10,12,7,3,5,18,13,13,13,10,11,14,17,20,5,4,14,9,6,4,22,12,18,22,19,14,6,7,4,9,17,17,6,5,4,10,22,24,10,5,4,10,22,10,12,8,10,5,4,16,7,7,8,10,22,26,9,8,6,3,16,2,6,9,23,3,11,6,7,4,7,4,23,7,17,6,11,23,16,28,10,6,6,10,28,5,3,12,10,14,9,9,3,6,9,8,7,7,25,11,2,6,4,4,6,16,12,8,13,8,5,3,4,2,11,3,7,3,7,13,11,7,7,13,4,20,3,12,3,5,4,27,15,19,5,10,5,6,11,11,6,5,9,14,13,9,11,8,8,8,10,7,22,4,20,9,10,11,6,3,3,4,21,16,15,11,7,8,11,22,27,12,14,8,13,25,11,15,12,13,8,16,11,2,8,7,9,4,11,34,24,13,3,8,5,7,7,11,8,10,27,21,8,5,5,4,5,5,16,9,7,5,6,9,12,14,14,10,15,17,3,10,9,25,15,4,5,25,18,13,15,15,8,15,19,18,22,12,4,17,8,9,10,12,9,22,17,29,19,3,4,14,14,14,4,8,8,6,7,6,12,10,14,1,5,11,10,5,10,26,30,19,11,15,14,10,6,11,4,8,5,4,9,7,28,16,27,12,14,8,5,3,12,2,5,27,18,15,16,8,10,5,15,13,8,14,13,20,9,5,18,8,22,10,3,16,16,13,5,8,5,20,9,8,4,5,15,8,14,8,4,6,18,12,10,9,11,9,16,17,29,11,19,5,7,3,6,8,5,8,13,4,9,2,4,8,12,10,10,15,5,9,4,11,6,3,20,4,3,7,3,3,1,2,10,9,6,2,5,4,8,7,17,13,11,16,10,10,6,2,3,26,5,6,12,2,6,5,17,8,13,20,28,4,13,20,5,6,8,9,6,5,12,15,14,12,9,11,11,11,10,11,7,8,7,13,9,14,3,14,10,14,9,5,27,18,14,9,5,7,14,18,14,9,12,8,13,8,2,1,5,11,8,19,22,12,13,12,13,14,11,8,7,5,20,12,15,22,7,10,25,8,7,26,7,8,7,14,18,12,8,12,7,14,3,8,11,5,11,14,8,12,9,16,14,7,22,7,12,9,11,12,13,3,7,15,6,5,5,21,21,31,11,3,10,10,15,7,17,2,8,5,2,6,2,3,7,9,16,11,6,9,14,2,12,8,2,10,8,9,19,8,14,7,5,19,26,6,21,21,16,11,11,9,10,8,3,26,20,22,25,33,24,14,9,7,12,10,7,2,7,4,12,23,10,14,3,9,11,13,13,8,15,20,15,17,14,3,15,5,10,18,26,12,25,32,5,2,12,5,17,9,11,4,18,16,16,12,3,13,3,22,16,12,6,6,9,3,3,2,6,6,18,6,19,19,5,7,14,14,15,7,10,6,13,6,5,4,4,10,15,21,25,10,9,10,4,28,11,14,10,8,2,20,15,4,8,9,4,3,9,14,25,21,10,8,5,5,12,12,19,8,11,9,14,10,11,23,14,12,5,6,9,2,3,5,20,19,23,6,6,16,7,9,11,12,5,7,13,10,21,7,12,16,3,7,14,7,5,9,9,8,11,6,16,4,16,8,11,4,5,4,13,3,5,11,7,11,4,21,12,14,28,7,5,6,5,4,8,11,20,25,7,5,6,5,14,15,12,8,6,4,9,6,11,26,22,11],\"xaxis\":\"x2\",\"yaxis\":\"y2\",\"type\":\"box\"}],                        {\"template\":{\"data\":{\"bar\":[{\"error_x\":{\"color\":\"#2a3f5f\"},\"error_y\":{\"color\":\"#2a3f5f\"},\"marker\":{\"line\":{\"color\":\"#E5ECF6\",\"width\":0.5},\"pattern\":{\"fillmode\":\"overlay\",\"size\":10,\"solidity\":0.2}},\"type\":\"bar\"}],\"barpolar\":[{\"marker\":{\"line\":{\"color\":\"#E5ECF6\",\"width\":0.5},\"pattern\":{\"fillmode\":\"overlay\",\"size\":10,\"solidity\":0.2}},\"type\":\"barpolar\"}],\"carpet\":[{\"aaxis\":{\"endlinecolor\":\"#2a3f5f\",\"gridcolor\":\"white\",\"linecolor\":\"white\",\"minorgridcolor\":\"white\",\"startlinecolor\":\"#2a3f5f\"},\"baxis\":{\"endlinecolor\":\"#2a3f5f\",\"gridcolor\":\"white\",\"linecolor\":\"white\",\"minorgridcolor\":\"white\",\"startlinecolor\":\"#2a3f5f\"},\"type\":\"carpet\"}],\"choropleth\":[{\"colorbar\":{\"outlinewidth\":0,\"ticks\":\"\"},\"type\":\"choropleth\"}],\"contour\":[{\"colorbar\":{\"outlinewidth\":0,\"ticks\":\"\"},\"colorscale\":[[0.0,\"#0d0887\"],[0.1111111111111111,\"#46039f\"],[0.2222222222222222,\"#7201a8\"],[0.3333333333333333,\"#9c179e\"],[0.4444444444444444,\"#bd3786\"],[0.5555555555555556,\"#d8576b\"],[0.6666666666666666,\"#ed7953\"],[0.7777777777777778,\"#fb9f3a\"],[0.8888888888888888,\"#fdca26\"],[1.0,\"#f0f921\"]],\"type\":\"contour\"}],\"contourcarpet\":[{\"colorbar\":{\"outlinewidth\":0,\"ticks\":\"\"},\"type\":\"contourcarpet\"}],\"heatmap\":[{\"colorbar\":{\"outlinewidth\":0,\"ticks\":\"\"},\"colorscale\":[[0.0,\"#0d0887\"],[0.1111111111111111,\"#46039f\"],[0.2222222222222222,\"#7201a8\"],[0.3333333333333333,\"#9c179e\"],[0.4444444444444444,\"#bd3786\"],[0.5555555555555556,\"#d8576b\"],[0.6666666666666666,\"#ed7953\"],[0.7777777777777778,\"#fb9f3a\"],[0.8888888888888888,\"#fdca26\"],[1.0,\"#f0f921\"]],\"type\":\"heatmap\"}],\"heatmapgl\":[{\"colorbar\":{\"outlinewidth\":0,\"ticks\":\"\"},\"colorscale\":[[0.0,\"#0d0887\"],[0.1111111111111111,\"#46039f\"],[0.2222222222222222,\"#7201a8\"],[0.3333333333333333,\"#9c179e\"],[0.4444444444444444,\"#bd3786\"],[0.5555555555555556,\"#d8576b\"],[0.6666666666666666,\"#ed7953\"],[0.7777777777777778,\"#fb9f3a\"],[0.8888888888888888,\"#fdca26\"],[1.0,\"#f0f921\"]],\"type\":\"heatmapgl\"}],\"histogram\":[{\"marker\":{\"pattern\":{\"fillmode\":\"overlay\",\"size\":10,\"solidity\":0.2}},\"type\":\"histogram\"}],\"histogram2d\":[{\"colorbar\":{\"outlinewidth\":0,\"ticks\":\"\"},\"colorscale\":[[0.0,\"#0d0887\"],[0.1111111111111111,\"#46039f\"],[0.2222222222222222,\"#7201a8\"],[0.3333333333333333,\"#9c179e\"],[0.4444444444444444,\"#bd3786\"],[0.5555555555555556,\"#d8576b\"],[0.6666666666666666,\"#ed7953\"],[0.7777777777777778,\"#fb9f3a\"],[0.8888888888888888,\"#fdca26\"],[1.0,\"#f0f921\"]],\"type\":\"histogram2d\"}],\"histogram2dcontour\":[{\"colorbar\":{\"outlinewidth\":0,\"ticks\":\"\"},\"colorscale\":[[0.0,\"#0d0887\"],[0.1111111111111111,\"#46039f\"],[0.2222222222222222,\"#7201a8\"],[0.3333333333333333,\"#9c179e\"],[0.4444444444444444,\"#bd3786\"],[0.5555555555555556,\"#d8576b\"],[0.6666666666666666,\"#ed7953\"],[0.7777777777777778,\"#fb9f3a\"],[0.8888888888888888,\"#fdca26\"],[1.0,\"#f0f921\"]],\"type\":\"histogram2dcontour\"}],\"mesh3d\":[{\"colorbar\":{\"outlinewidth\":0,\"ticks\":\"\"},\"type\":\"mesh3d\"}],\"parcoords\":[{\"line\":{\"colorbar\":{\"outlinewidth\":0,\"ticks\":\"\"}},\"type\":\"parcoords\"}],\"pie\":[{\"automargin\":true,\"type\":\"pie\"}],\"scatter\":[{\"marker\":{\"colorbar\":{\"outlinewidth\":0,\"ticks\":\"\"}},\"type\":\"scatter\"}],\"scatter3d\":[{\"line\":{\"colorbar\":{\"outlinewidth\":0,\"ticks\":\"\"}},\"marker\":{\"colorbar\":{\"outlinewidth\":0,\"ticks\":\"\"}},\"type\":\"scatter3d\"}],\"scattercarpet\":[{\"marker\":{\"colorbar\":{\"outlinewidth\":0,\"ticks\":\"\"}},\"type\":\"scattercarpet\"}],\"scattergeo\":[{\"marker\":{\"colorbar\":{\"outlinewidth\":0,\"ticks\":\"\"}},\"type\":\"scattergeo\"}],\"scattergl\":[{\"marker\":{\"colorbar\":{\"outlinewidth\":0,\"ticks\":\"\"}},\"type\":\"scattergl\"}],\"scattermapbox\":[{\"marker\":{\"colorbar\":{\"outlinewidth\":0,\"ticks\":\"\"}},\"type\":\"scattermapbox\"}],\"scatterpolar\":[{\"marker\":{\"colorbar\":{\"outlinewidth\":0,\"ticks\":\"\"}},\"type\":\"scatterpolar\"}],\"scatterpolargl\":[{\"marker\":{\"colorbar\":{\"outlinewidth\":0,\"ticks\":\"\"}},\"type\":\"scatterpolargl\"}],\"scatterternary\":[{\"marker\":{\"colorbar\":{\"outlinewidth\":0,\"ticks\":\"\"}},\"type\":\"scatterternary\"}],\"surface\":[{\"colorbar\":{\"outlinewidth\":0,\"ticks\":\"\"},\"colorscale\":[[0.0,\"#0d0887\"],[0.1111111111111111,\"#46039f\"],[0.2222222222222222,\"#7201a8\"],[0.3333333333333333,\"#9c179e\"],[0.4444444444444444,\"#bd3786\"],[0.5555555555555556,\"#d8576b\"],[0.6666666666666666,\"#ed7953\"],[0.7777777777777778,\"#fb9f3a\"],[0.8888888888888888,\"#fdca26\"],[1.0,\"#f0f921\"]],\"type\":\"surface\"}],\"table\":[{\"cells\":{\"fill\":{\"color\":\"#EBF0F8\"},\"line\":{\"color\":\"white\"}},\"header\":{\"fill\":{\"color\":\"#C8D4E3\"},\"line\":{\"color\":\"white\"}},\"type\":\"table\"}]},\"layout\":{\"annotationdefaults\":{\"arrowcolor\":\"#2a3f5f\",\"arrowhead\":0,\"arrowwidth\":1},\"autotypenumbers\":\"strict\",\"coloraxis\":{\"colorbar\":{\"outlinewidth\":0,\"ticks\":\"\"}},\"colorscale\":{\"diverging\":[[0,\"#8e0152\"],[0.1,\"#c51b7d\"],[0.2,\"#de77ae\"],[0.3,\"#f1b6da\"],[0.4,\"#fde0ef\"],[0.5,\"#f7f7f7\"],[0.6,\"#e6f5d0\"],[0.7,\"#b8e186\"],[0.8,\"#7fbc41\"],[0.9,\"#4d9221\"],[1,\"#276419\"]],\"sequential\":[[0.0,\"#0d0887\"],[0.1111111111111111,\"#46039f\"],[0.2222222222222222,\"#7201a8\"],[0.3333333333333333,\"#9c179e\"],[0.4444444444444444,\"#bd3786\"],[0.5555555555555556,\"#d8576b\"],[0.6666666666666666,\"#ed7953\"],[0.7777777777777778,\"#fb9f3a\"],[0.8888888888888888,\"#fdca26\"],[1.0,\"#f0f921\"]],\"sequentialminus\":[[0.0,\"#0d0887\"],[0.1111111111111111,\"#46039f\"],[0.2222222222222222,\"#7201a8\"],[0.3333333333333333,\"#9c179e\"],[0.4444444444444444,\"#bd3786\"],[0.5555555555555556,\"#d8576b\"],[0.6666666666666666,\"#ed7953\"],[0.7777777777777778,\"#fb9f3a\"],[0.8888888888888888,\"#fdca26\"],[1.0,\"#f0f921\"]]},\"colorway\":[\"#636efa\",\"#EF553B\",\"#00cc96\",\"#ab63fa\",\"#FFA15A\",\"#19d3f3\",\"#FF6692\",\"#B6E880\",\"#FF97FF\",\"#FECB52\"],\"font\":{\"color\":\"#2a3f5f\"},\"geo\":{\"bgcolor\":\"white\",\"lakecolor\":\"white\",\"landcolor\":\"#E5ECF6\",\"showlakes\":true,\"showland\":true,\"subunitcolor\":\"white\"},\"hoverlabel\":{\"align\":\"left\"},\"hovermode\":\"closest\",\"mapbox\":{\"style\":\"light\"},\"paper_bgcolor\":\"white\",\"plot_bgcolor\":\"#E5ECF6\",\"polar\":{\"angularaxis\":{\"gridcolor\":\"white\",\"linecolor\":\"white\",\"ticks\":\"\"},\"bgcolor\":\"#E5ECF6\",\"radialaxis\":{\"gridcolor\":\"white\",\"linecolor\":\"white\",\"ticks\":\"\"}},\"scene\":{\"xaxis\":{\"backgroundcolor\":\"#E5ECF6\",\"gridcolor\":\"white\",\"gridwidth\":2,\"linecolor\":\"white\",\"showbackground\":true,\"ticks\":\"\",\"zerolinecolor\":\"white\"},\"yaxis\":{\"backgroundcolor\":\"#E5ECF6\",\"gridcolor\":\"white\",\"gridwidth\":2,\"linecolor\":\"white\",\"showbackground\":true,\"ticks\":\"\",\"zerolinecolor\":\"white\"},\"zaxis\":{\"backgroundcolor\":\"#E5ECF6\",\"gridcolor\":\"white\",\"gridwidth\":2,\"linecolor\":\"white\",\"showbackground\":true,\"ticks\":\"\",\"zerolinecolor\":\"white\"}},\"shapedefaults\":{\"line\":{\"color\":\"#2a3f5f\"}},\"ternary\":{\"aaxis\":{\"gridcolor\":\"white\",\"linecolor\":\"white\",\"ticks\":\"\"},\"baxis\":{\"gridcolor\":\"white\",\"linecolor\":\"white\",\"ticks\":\"\"},\"bgcolor\":\"#E5ECF6\",\"caxis\":{\"gridcolor\":\"white\",\"linecolor\":\"white\",\"ticks\":\"\"}},\"title\":{\"x\":0.05},\"xaxis\":{\"automargin\":true,\"gridcolor\":\"white\",\"linecolor\":\"white\",\"ticks\":\"\",\"title\":{\"standoff\":15},\"zerolinecolor\":\"white\",\"zerolinewidth\":2},\"yaxis\":{\"automargin\":true,\"gridcolor\":\"white\",\"linecolor\":\"white\",\"ticks\":\"\",\"title\":{\"standoff\":15},\"zerolinecolor\":\"white\",\"zerolinewidth\":2}}},\"xaxis\":{\"anchor\":\"y\",\"domain\":[0.0,1.0],\"title\":{\"text\":\"sentence_length\"}},\"yaxis\":{\"anchor\":\"x\",\"domain\":[0.0,0.7326],\"title\":{\"text\":\"count\"}},\"xaxis2\":{\"anchor\":\"y2\",\"domain\":[0.0,1.0],\"matches\":\"x\",\"showticklabels\":false,\"showgrid\":true},\"yaxis2\":{\"anchor\":\"x2\",\"domain\":[0.7426,1.0],\"matches\":\"y2\",\"showticklabels\":false,\"showline\":false,\"ticks\":\"\",\"showgrid\":false},\"legend\":{\"title\":{\"text\":\"sarcastic\"},\"tracegroupgap\":0},\"title\":{\"text\":\"tweet Length Distribution\"},\"barmode\":\"relative\",\"height\":700},                        {\"responsive\": true}                    ).then(function(){\n",
              "                            \n",
              "var gd = document.getElementById('136dcce7-744c-401a-afe8-ec0b0019e886');\n",
              "var x = new MutationObserver(function (mutations, observer) {{\n",
              "        var display = window.getComputedStyle(gd).display;\n",
              "        if (!display || display === 'none') {{\n",
              "            console.log([gd, 'removed!']);\n",
              "            Plotly.purge(gd);\n",
              "            observer.disconnect();\n",
              "        }}\n",
              "}});\n",
              "\n",
              "// Listen for the removal of the full notebook cells\n",
              "var notebookContainer = gd.closest('#notebook-container');\n",
              "if (notebookContainer) {{\n",
              "    x.observe(notebookContainer, {childList: true});\n",
              "}}\n",
              "\n",
              "// Listen for the clearing of the current output cell\n",
              "var outputEl = gd.closest('.output');\n",
              "if (outputEl) {{\n",
              "    x.observe(outputEl, {childList: true});\n",
              "}}\n",
              "\n",
              "                        })                };                            </script>        </div>\n",
              "</body>\n",
              "</html>"
            ]
          },
          "metadata": {},
          "output_type": "display_data"
        }
      ],
      "source": [
        "px.histogram(data, x=\"sentence_length\",height=700, color='sarcastic', title=\"tweet Length Distribution\", marginal=\"box\")\n"
      ]
    },
    {
      "cell_type": "code",
      "execution_count": null,
      "metadata": {
        "colab": {
          "base_uri": "https://localhost:8080/",
          "height": 717
        },
        "id": "MGhEClFsUAm2",
        "outputId": "a88fb814-7a38-4ae9-b75c-80a3b6f7be14"
      },
      "outputs": [
        {
          "data": {
            "text/html": [
              "<html>\n",
              "<head><meta charset=\"utf-8\" /></head>\n",
              "<body>\n",
              "    <div>            <script src=\"https://cdnjs.cloudflare.com/ajax/libs/mathjax/2.7.5/MathJax.js?config=TeX-AMS-MML_SVG\"></script><script type=\"text/javascript\">if (window.MathJax) {MathJax.Hub.Config({SVG: {font: \"STIX-Web\"}});}</script>                <script type=\"text/javascript\">window.PlotlyConfig = {MathJaxConfig: 'local'};</script>\n",
              "        <script src=\"https://cdn.plot.ly/plotly-2.8.3.min.js\"></script>                <div id=\"841f0177-e34a-4ade-945f-4dffad6c4041\" class=\"plotly-graph-div\" style=\"height:700px; width:100%;\"></div>            <script type=\"text/javascript\">                                    window.PLOTLYENV=window.PLOTLYENV || {};                                    if (document.getElementById(\"841f0177-e34a-4ade-945f-4dffad6c4041\")) {                    Plotly.newPlot(                        \"841f0177-e34a-4ade-945f-4dffad6c4041\",                        [{\"alignmentgroup\":\"True\",\"bingroup\":\"x\",\"hovertemplate\":\"sarcastic=0<br>sentence_length=%{x}<br>count=%{y}<extra></extra>\",\"legendgroup\":\"0\",\"marker\":{\"color\":\"#636efa\",\"pattern\":{\"shape\":\"\"}},\"name\":\"0\",\"offsetgroup\":\"0\",\"orientation\":\"v\",\"showlegend\":true,\"x\":[13,1,10,3,9,9,5,8,5,12,3,9,9,10,7,5,11,27,9,8,13,11,11,5,4,4,15,2,7,5,26,5,8,19,7,14,4,3,2,11,6,6,22,5,6,6,2,8,5,5,3,9,1,5,5,6,9,5,21,5,9,8,11,13,3,3,21,10,11,12,1,2,4,14,4,4,4,5,4,6,7,14,8,2,19,6,6,8,7,18,8,7,3,16,8,5,14,6,20,7,4,10,10,7,7,11,6,8,13,12,17,10,12,3,4,8,7,14,9,17,10,7,9,4,10,10,3,5,9,8,7,7,13,4,17,7,6,5,9,6,2,24,8,11,4,7,4,4,9,10,5,3,8,13,6,3,5,8,15,4,6,5,4,8,6,8,15,14,3,4,4,8,10,22,5,14,3,15,8,3,24,6,4,9,11,9,14,6,5,11,11,9,4,7,7,9,7,8,4,19,18,9,6,7,9,9,12,18,6,5,6,6,4,9,4,3,6,8,12,17,10,32,1,5,7,6,2,9,8,5,10,9,7,9,8,7,10,7,3,20,11,11,10,12,12,8,6,10,4,7,0,19,7,4,4,5,6,7,9,11,2,8,13,4,24,16,7,12,8,8,4,8,6,6,4,9,5,26,4,4,11,5,5,8,5,6,15,17,6,25,10,4,10,5,3,11,4,7,6,6,28,6,16,7,7,3,10,3,7,5,1,10,5,3,3,12,6,4,11,4,3,6,8,17,6,7,4,5,5,6,2,16,14,10,5,7,12,6,5,5,5,7,5,11,12,5,15,5,2,4,18,7,2,10,4,9,6,10,12,9,10,11,8,10,3,4,7,12,5,8,5,15,3,7,13,9,5,14,11,12,6,16,8,15,4,6,13,2,4,6,7,3,8,6,3,10,10,7,7,3,9,7,14,9,4,5,7,9,4,9,12,2,10,14,7,14,12,7,7,5,8,11,9,1,4,23,9,7,3,13,3,12,5,7,12,4,9,4,4,4,5,13,15,3,15,1,9,5,13,2,10,11,7,10,5,14,4,11,8,4,3,5,12,20,11,9,21,8,10,4,7,9,11,5,6,4,10,6,8,8,3,10,4,4,14,5,6,9,7,8,17,14,5,6,13,10,12,11,8,8,12,3,6,10,15,7,4,4,9,8,6,9,12,3,3,12,8,3,11,4,3,7,9,15,7,11,18,7,21,4,10,11,4,2,7,7,3,4,5,3,5,8,10,3,5,17,9,12,10,6,3,25,6,8,3,13,5,10,12,11,7,17,4,8,8,2,5,7,16,9,19,11,13,11,6,4,4,11,12,14,6,8,8,10,3,17,8,10,2,12,10,10,2,7,9,5,10,15,4,18,8,6,10,23,26,19,9,10,14,7,4,12,4,8,5,7,9,6,3,4,10,9,7,13,10,4,9,5,9,6,11,13,2,5,4,8,6,7,7,13,10,14,28,18,10,17,4,14,2,4,11,4,26,4,3,6,19,5,10,5,9,15,6,2,8,5,3,14,7,7,9,8,2,13,5,6,18,10,4,6,7,8,4,12,2,5,12,4,9,2,11,12,12,7,12,6,15,3,8,8,5,6,19,11,11,11,4,2,6,11,13,11,8,5,5,27,8,9,13,10,17,12,9,9,9,12,9,5,2,14,4,10,10,3,11,4,12,27,6,5,11,3,3,14,8,6,8,5,4,10,8,8,7,11,6,10,10,15,7,4,8,3,5,4,6,6,10,5,22,4,4,11,12,6,9,9,5,4,6,4,11,4,6,11,2,7,18,13,2,10,6,8,12,3,2,15,14,5,12,4,6,1,7,16,2,11,6,5,4,7,5,8,8,8,20,3,11,4,4,11,9,8,3,10,11,14,5,4,18,6,7,2,3,10,11,8,7,7,7,12,3,21,11,6,4,7,5,8,1,11,13,11,8,4,5,5,6,7,8,1,2,10,7,1,18,10,5,5,5,16,6,4,15,2,6,15,13,9,8,4,17,9,11,9,12,10,8,25,5,9,14,9,6,4,5,26,12,12,5,20,13,14,11,3,9,30,1,5,9,5,17,4,9,7,1,5,8,12,10,27,4,8,7,11,3,5,13,14,9,7,8,27,14,5,65,7,7,6,8,10,14,2,10,4,6,13,5,10,6,20,8,5,2,8,18,10,12,8,3,4,11,9,7,4,12,4,7,9,12,10,13,6,13,7,28,4,4,16,9,6,8,3,8,11,12,8,10,8,6,5,8,9,8,6,9,7,5,7,4,15,8,7,20,12,5,6,8,6,8,16,10,9,7,3,8,7,5,22,9,1,2,4,5,4,19,8,25,14,7,6,12,11,4,20,7,14,5,12,9,6,5,10,6,4,7,6,6,2,6,5,9,4,3,9,7,14,1,11,13,10,10,5,4,6,13,9,13,6,28,5,11,8,5,10,19,8,10,16,20,13,6,6,5,4,21,3,3,11,4,1,3,21,7,5,13,8,10,10,9,8,8,0,14,8,12,5,8,12,5,3,18,4,5,8,8,8,15,13,11,12,13,20,4,6,12,17,18,28,8,7,6,5,10,9,7,3,29,4,4,7,24,8,4,16,5,10,8,10,9,6,5,8,2,10,11,5,6,9,4,4,12,3,5,4,3,11,7,23,8,5,10,2,5,12,7,7,4,8,3,8,13,4,14,6,7,4,3,10,4,13,9,8,3,12,6,9,10,6,3,5],\"xaxis\":\"x\",\"yaxis\":\"y\",\"type\":\"histogram\"},{\"alignmentgroup\":\"True\",\"hovertemplate\":\"sarcastic=0<br>sentence_length=%{x}<extra></extra>\",\"legendgroup\":\"0\",\"marker\":{\"color\":\"#636efa\"},\"name\":\"0\",\"notched\":true,\"offsetgroup\":\"0\",\"showlegend\":false,\"x\":[13,1,10,3,9,9,5,8,5,12,3,9,9,10,7,5,11,27,9,8,13,11,11,5,4,4,15,2,7,5,26,5,8,19,7,14,4,3,2,11,6,6,22,5,6,6,2,8,5,5,3,9,1,5,5,6,9,5,21,5,9,8,11,13,3,3,21,10,11,12,1,2,4,14,4,4,4,5,4,6,7,14,8,2,19,6,6,8,7,18,8,7,3,16,8,5,14,6,20,7,4,10,10,7,7,11,6,8,13,12,17,10,12,3,4,8,7,14,9,17,10,7,9,4,10,10,3,5,9,8,7,7,13,4,17,7,6,5,9,6,2,24,8,11,4,7,4,4,9,10,5,3,8,13,6,3,5,8,15,4,6,5,4,8,6,8,15,14,3,4,4,8,10,22,5,14,3,15,8,3,24,6,4,9,11,9,14,6,5,11,11,9,4,7,7,9,7,8,4,19,18,9,6,7,9,9,12,18,6,5,6,6,4,9,4,3,6,8,12,17,10,32,1,5,7,6,2,9,8,5,10,9,7,9,8,7,10,7,3,20,11,11,10,12,12,8,6,10,4,7,0,19,7,4,4,5,6,7,9,11,2,8,13,4,24,16,7,12,8,8,4,8,6,6,4,9,5,26,4,4,11,5,5,8,5,6,15,17,6,25,10,4,10,5,3,11,4,7,6,6,28,6,16,7,7,3,10,3,7,5,1,10,5,3,3,12,6,4,11,4,3,6,8,17,6,7,4,5,5,6,2,16,14,10,5,7,12,6,5,5,5,7,5,11,12,5,15,5,2,4,18,7,2,10,4,9,6,10,12,9,10,11,8,10,3,4,7,12,5,8,5,15,3,7,13,9,5,14,11,12,6,16,8,15,4,6,13,2,4,6,7,3,8,6,3,10,10,7,7,3,9,7,14,9,4,5,7,9,4,9,12,2,10,14,7,14,12,7,7,5,8,11,9,1,4,23,9,7,3,13,3,12,5,7,12,4,9,4,4,4,5,13,15,3,15,1,9,5,13,2,10,11,7,10,5,14,4,11,8,4,3,5,12,20,11,9,21,8,10,4,7,9,11,5,6,4,10,6,8,8,3,10,4,4,14,5,6,9,7,8,17,14,5,6,13,10,12,11,8,8,12,3,6,10,15,7,4,4,9,8,6,9,12,3,3,12,8,3,11,4,3,7,9,15,7,11,18,7,21,4,10,11,4,2,7,7,3,4,5,3,5,8,10,3,5,17,9,12,10,6,3,25,6,8,3,13,5,10,12,11,7,17,4,8,8,2,5,7,16,9,19,11,13,11,6,4,4,11,12,14,6,8,8,10,3,17,8,10,2,12,10,10,2,7,9,5,10,15,4,18,8,6,10,23,26,19,9,10,14,7,4,12,4,8,5,7,9,6,3,4,10,9,7,13,10,4,9,5,9,6,11,13,2,5,4,8,6,7,7,13,10,14,28,18,10,17,4,14,2,4,11,4,26,4,3,6,19,5,10,5,9,15,6,2,8,5,3,14,7,7,9,8,2,13,5,6,18,10,4,6,7,8,4,12,2,5,12,4,9,2,11,12,12,7,12,6,15,3,8,8,5,6,19,11,11,11,4,2,6,11,13,11,8,5,5,27,8,9,13,10,17,12,9,9,9,12,9,5,2,14,4,10,10,3,11,4,12,27,6,5,11,3,3,14,8,6,8,5,4,10,8,8,7,11,6,10,10,15,7,4,8,3,5,4,6,6,10,5,22,4,4,11,12,6,9,9,5,4,6,4,11,4,6,11,2,7,18,13,2,10,6,8,12,3,2,15,14,5,12,4,6,1,7,16,2,11,6,5,4,7,5,8,8,8,20,3,11,4,4,11,9,8,3,10,11,14,5,4,18,6,7,2,3,10,11,8,7,7,7,12,3,21,11,6,4,7,5,8,1,11,13,11,8,4,5,5,6,7,8,1,2,10,7,1,18,10,5,5,5,16,6,4,15,2,6,15,13,9,8,4,17,9,11,9,12,10,8,25,5,9,14,9,6,4,5,26,12,12,5,20,13,14,11,3,9,30,1,5,9,5,17,4,9,7,1,5,8,12,10,27,4,8,7,11,3,5,13,14,9,7,8,27,14,5,65,7,7,6,8,10,14,2,10,4,6,13,5,10,6,20,8,5,2,8,18,10,12,8,3,4,11,9,7,4,12,4,7,9,12,10,13,6,13,7,28,4,4,16,9,6,8,3,8,11,12,8,10,8,6,5,8,9,8,6,9,7,5,7,4,15,8,7,20,12,5,6,8,6,8,16,10,9,7,3,8,7,5,22,9,1,2,4,5,4,19,8,25,14,7,6,12,11,4,20,7,14,5,12,9,6,5,10,6,4,7,6,6,2,6,5,9,4,3,9,7,14,1,11,13,10,10,5,4,6,13,9,13,6,28,5,11,8,5,10,19,8,10,16,20,13,6,6,5,4,21,3,3,11,4,1,3,21,7,5,13,8,10,10,9,8,8,0,14,8,12,5,8,12,5,3,18,4,5,8,8,8,15,13,11,12,13,20,4,6,12,17,18,28,8,7,6,5,10,9,7,3,29,4,4,7,24,8,4,16,5,10,8,10,9,6,5,8,2,10,11,5,6,9,4,4,12,3,5,4,3,11,7,23,8,5,10,2,5,12,7,7,4,8,3,8,13,4,14,6,7,4,3,10,4,13,9,8,3,12,6,9,10,6,3,5],\"xaxis\":\"x2\",\"yaxis\":\"y2\",\"type\":\"box\"},{\"alignmentgroup\":\"True\",\"bingroup\":\"x\",\"hovertemplate\":\"sarcastic=1<br>sentence_length=%{x}<br>count=%{y}<extra></extra>\",\"legendgroup\":\"1\",\"marker\":{\"color\":\"#EF553B\",\"pattern\":{\"shape\":\"\"}},\"name\":\"1\",\"offsetgroup\":\"1\",\"orientation\":\"v\",\"showlegend\":true,\"x\":[11,15,9,6,11,10,10,3,6,5,10,27,14,14,6,50,17,4,19,16,11,7,14,9,5,11,15,14,30,6,17,11,15,18,21,14,10,11,9,11,21,11,9,14,9,10,13,13,8,9,15,14,10,10,11,14,8,12,15,13,7,13,10,6,7,8,20,5,19,11,5,23,7,11,12,8,4,12,9,13,7,3,17,12,12,10,7,20,17,15,8,6,17,4,26,13,4,11,5,15,8,12,9,19,14,10,8,23,9,7,9,8,15,7,13,6,17,14,9,13,10,11,15,9,27,16,10,8,5,13,18,13,9,10,3,10,22,12,10,9,47,7,10,13,5,10,5,21,8,15,8,10,7,3,8,3,7,19,14,22,7,15,19,43,12,18,6,6,29,20,15,12,9,8,9,10,6,15,5,9,10,14,8,7,8,18,3,4,9,15,11,9,7,7,13,14,10,4,8,19],\"xaxis\":\"x\",\"yaxis\":\"y\",\"type\":\"histogram\"},{\"alignmentgroup\":\"True\",\"hovertemplate\":\"sarcastic=1<br>sentence_length=%{x}<extra></extra>\",\"legendgroup\":\"1\",\"marker\":{\"color\":\"#EF553B\"},\"name\":\"1\",\"notched\":true,\"offsetgroup\":\"1\",\"showlegend\":false,\"x\":[11,15,9,6,11,10,10,3,6,5,10,27,14,14,6,50,17,4,19,16,11,7,14,9,5,11,15,14,30,6,17,11,15,18,21,14,10,11,9,11,21,11,9,14,9,10,13,13,8,9,15,14,10,10,11,14,8,12,15,13,7,13,10,6,7,8,20,5,19,11,5,23,7,11,12,8,4,12,9,13,7,3,17,12,12,10,7,20,17,15,8,6,17,4,26,13,4,11,5,15,8,12,9,19,14,10,8,23,9,7,9,8,15,7,13,6,17,14,9,13,10,11,15,9,27,16,10,8,5,13,18,13,9,10,3,10,22,12,10,9,47,7,10,13,5,10,5,21,8,15,8,10,7,3,8,3,7,19,14,22,7,15,19,43,12,18,6,6,29,20,15,12,9,8,9,10,6,15,5,9,10,14,8,7,8,18,3,4,9,15,11,9,7,7,13,14,10,4,8,19],\"xaxis\":\"x2\",\"yaxis\":\"y2\",\"type\":\"box\"}],                        {\"template\":{\"data\":{\"bar\":[{\"error_x\":{\"color\":\"#2a3f5f\"},\"error_y\":{\"color\":\"#2a3f5f\"},\"marker\":{\"line\":{\"color\":\"#E5ECF6\",\"width\":0.5},\"pattern\":{\"fillmode\":\"overlay\",\"size\":10,\"solidity\":0.2}},\"type\":\"bar\"}],\"barpolar\":[{\"marker\":{\"line\":{\"color\":\"#E5ECF6\",\"width\":0.5},\"pattern\":{\"fillmode\":\"overlay\",\"size\":10,\"solidity\":0.2}},\"type\":\"barpolar\"}],\"carpet\":[{\"aaxis\":{\"endlinecolor\":\"#2a3f5f\",\"gridcolor\":\"white\",\"linecolor\":\"white\",\"minorgridcolor\":\"white\",\"startlinecolor\":\"#2a3f5f\"},\"baxis\":{\"endlinecolor\":\"#2a3f5f\",\"gridcolor\":\"white\",\"linecolor\":\"white\",\"minorgridcolor\":\"white\",\"startlinecolor\":\"#2a3f5f\"},\"type\":\"carpet\"}],\"choropleth\":[{\"colorbar\":{\"outlinewidth\":0,\"ticks\":\"\"},\"type\":\"choropleth\"}],\"contour\":[{\"colorbar\":{\"outlinewidth\":0,\"ticks\":\"\"},\"colorscale\":[[0.0,\"#0d0887\"],[0.1111111111111111,\"#46039f\"],[0.2222222222222222,\"#7201a8\"],[0.3333333333333333,\"#9c179e\"],[0.4444444444444444,\"#bd3786\"],[0.5555555555555556,\"#d8576b\"],[0.6666666666666666,\"#ed7953\"],[0.7777777777777778,\"#fb9f3a\"],[0.8888888888888888,\"#fdca26\"],[1.0,\"#f0f921\"]],\"type\":\"contour\"}],\"contourcarpet\":[{\"colorbar\":{\"outlinewidth\":0,\"ticks\":\"\"},\"type\":\"contourcarpet\"}],\"heatmap\":[{\"colorbar\":{\"outlinewidth\":0,\"ticks\":\"\"},\"colorscale\":[[0.0,\"#0d0887\"],[0.1111111111111111,\"#46039f\"],[0.2222222222222222,\"#7201a8\"],[0.3333333333333333,\"#9c179e\"],[0.4444444444444444,\"#bd3786\"],[0.5555555555555556,\"#d8576b\"],[0.6666666666666666,\"#ed7953\"],[0.7777777777777778,\"#fb9f3a\"],[0.8888888888888888,\"#fdca26\"],[1.0,\"#f0f921\"]],\"type\":\"heatmap\"}],\"heatmapgl\":[{\"colorbar\":{\"outlinewidth\":0,\"ticks\":\"\"},\"colorscale\":[[0.0,\"#0d0887\"],[0.1111111111111111,\"#46039f\"],[0.2222222222222222,\"#7201a8\"],[0.3333333333333333,\"#9c179e\"],[0.4444444444444444,\"#bd3786\"],[0.5555555555555556,\"#d8576b\"],[0.6666666666666666,\"#ed7953\"],[0.7777777777777778,\"#fb9f3a\"],[0.8888888888888888,\"#fdca26\"],[1.0,\"#f0f921\"]],\"type\":\"heatmapgl\"}],\"histogram\":[{\"marker\":{\"pattern\":{\"fillmode\":\"overlay\",\"size\":10,\"solidity\":0.2}},\"type\":\"histogram\"}],\"histogram2d\":[{\"colorbar\":{\"outlinewidth\":0,\"ticks\":\"\"},\"colorscale\":[[0.0,\"#0d0887\"],[0.1111111111111111,\"#46039f\"],[0.2222222222222222,\"#7201a8\"],[0.3333333333333333,\"#9c179e\"],[0.4444444444444444,\"#bd3786\"],[0.5555555555555556,\"#d8576b\"],[0.6666666666666666,\"#ed7953\"],[0.7777777777777778,\"#fb9f3a\"],[0.8888888888888888,\"#fdca26\"],[1.0,\"#f0f921\"]],\"type\":\"histogram2d\"}],\"histogram2dcontour\":[{\"colorbar\":{\"outlinewidth\":0,\"ticks\":\"\"},\"colorscale\":[[0.0,\"#0d0887\"],[0.1111111111111111,\"#46039f\"],[0.2222222222222222,\"#7201a8\"],[0.3333333333333333,\"#9c179e\"],[0.4444444444444444,\"#bd3786\"],[0.5555555555555556,\"#d8576b\"],[0.6666666666666666,\"#ed7953\"],[0.7777777777777778,\"#fb9f3a\"],[0.8888888888888888,\"#fdca26\"],[1.0,\"#f0f921\"]],\"type\":\"histogram2dcontour\"}],\"mesh3d\":[{\"colorbar\":{\"outlinewidth\":0,\"ticks\":\"\"},\"type\":\"mesh3d\"}],\"parcoords\":[{\"line\":{\"colorbar\":{\"outlinewidth\":0,\"ticks\":\"\"}},\"type\":\"parcoords\"}],\"pie\":[{\"automargin\":true,\"type\":\"pie\"}],\"scatter\":[{\"marker\":{\"colorbar\":{\"outlinewidth\":0,\"ticks\":\"\"}},\"type\":\"scatter\"}],\"scatter3d\":[{\"line\":{\"colorbar\":{\"outlinewidth\":0,\"ticks\":\"\"}},\"marker\":{\"colorbar\":{\"outlinewidth\":0,\"ticks\":\"\"}},\"type\":\"scatter3d\"}],\"scattercarpet\":[{\"marker\":{\"colorbar\":{\"outlinewidth\":0,\"ticks\":\"\"}},\"type\":\"scattercarpet\"}],\"scattergeo\":[{\"marker\":{\"colorbar\":{\"outlinewidth\":0,\"ticks\":\"\"}},\"type\":\"scattergeo\"}],\"scattergl\":[{\"marker\":{\"colorbar\":{\"outlinewidth\":0,\"ticks\":\"\"}},\"type\":\"scattergl\"}],\"scattermapbox\":[{\"marker\":{\"colorbar\":{\"outlinewidth\":0,\"ticks\":\"\"}},\"type\":\"scattermapbox\"}],\"scatterpolar\":[{\"marker\":{\"colorbar\":{\"outlinewidth\":0,\"ticks\":\"\"}},\"type\":\"scatterpolar\"}],\"scatterpolargl\":[{\"marker\":{\"colorbar\":{\"outlinewidth\":0,\"ticks\":\"\"}},\"type\":\"scatterpolargl\"}],\"scatterternary\":[{\"marker\":{\"colorbar\":{\"outlinewidth\":0,\"ticks\":\"\"}},\"type\":\"scatterternary\"}],\"surface\":[{\"colorbar\":{\"outlinewidth\":0,\"ticks\":\"\"},\"colorscale\":[[0.0,\"#0d0887\"],[0.1111111111111111,\"#46039f\"],[0.2222222222222222,\"#7201a8\"],[0.3333333333333333,\"#9c179e\"],[0.4444444444444444,\"#bd3786\"],[0.5555555555555556,\"#d8576b\"],[0.6666666666666666,\"#ed7953\"],[0.7777777777777778,\"#fb9f3a\"],[0.8888888888888888,\"#fdca26\"],[1.0,\"#f0f921\"]],\"type\":\"surface\"}],\"table\":[{\"cells\":{\"fill\":{\"color\":\"#EBF0F8\"},\"line\":{\"color\":\"white\"}},\"header\":{\"fill\":{\"color\":\"#C8D4E3\"},\"line\":{\"color\":\"white\"}},\"type\":\"table\"}]},\"layout\":{\"annotationdefaults\":{\"arrowcolor\":\"#2a3f5f\",\"arrowhead\":0,\"arrowwidth\":1},\"autotypenumbers\":\"strict\",\"coloraxis\":{\"colorbar\":{\"outlinewidth\":0,\"ticks\":\"\"}},\"colorscale\":{\"diverging\":[[0,\"#8e0152\"],[0.1,\"#c51b7d\"],[0.2,\"#de77ae\"],[0.3,\"#f1b6da\"],[0.4,\"#fde0ef\"],[0.5,\"#f7f7f7\"],[0.6,\"#e6f5d0\"],[0.7,\"#b8e186\"],[0.8,\"#7fbc41\"],[0.9,\"#4d9221\"],[1,\"#276419\"]],\"sequential\":[[0.0,\"#0d0887\"],[0.1111111111111111,\"#46039f\"],[0.2222222222222222,\"#7201a8\"],[0.3333333333333333,\"#9c179e\"],[0.4444444444444444,\"#bd3786\"],[0.5555555555555556,\"#d8576b\"],[0.6666666666666666,\"#ed7953\"],[0.7777777777777778,\"#fb9f3a\"],[0.8888888888888888,\"#fdca26\"],[1.0,\"#f0f921\"]],\"sequentialminus\":[[0.0,\"#0d0887\"],[0.1111111111111111,\"#46039f\"],[0.2222222222222222,\"#7201a8\"],[0.3333333333333333,\"#9c179e\"],[0.4444444444444444,\"#bd3786\"],[0.5555555555555556,\"#d8576b\"],[0.6666666666666666,\"#ed7953\"],[0.7777777777777778,\"#fb9f3a\"],[0.8888888888888888,\"#fdca26\"],[1.0,\"#f0f921\"]]},\"colorway\":[\"#636efa\",\"#EF553B\",\"#00cc96\",\"#ab63fa\",\"#FFA15A\",\"#19d3f3\",\"#FF6692\",\"#B6E880\",\"#FF97FF\",\"#FECB52\"],\"font\":{\"color\":\"#2a3f5f\"},\"geo\":{\"bgcolor\":\"white\",\"lakecolor\":\"white\",\"landcolor\":\"#E5ECF6\",\"showlakes\":true,\"showland\":true,\"subunitcolor\":\"white\"},\"hoverlabel\":{\"align\":\"left\"},\"hovermode\":\"closest\",\"mapbox\":{\"style\":\"light\"},\"paper_bgcolor\":\"white\",\"plot_bgcolor\":\"#E5ECF6\",\"polar\":{\"angularaxis\":{\"gridcolor\":\"white\",\"linecolor\":\"white\",\"ticks\":\"\"},\"bgcolor\":\"#E5ECF6\",\"radialaxis\":{\"gridcolor\":\"white\",\"linecolor\":\"white\",\"ticks\":\"\"}},\"scene\":{\"xaxis\":{\"backgroundcolor\":\"#E5ECF6\",\"gridcolor\":\"white\",\"gridwidth\":2,\"linecolor\":\"white\",\"showbackground\":true,\"ticks\":\"\",\"zerolinecolor\":\"white\"},\"yaxis\":{\"backgroundcolor\":\"#E5ECF6\",\"gridcolor\":\"white\",\"gridwidth\":2,\"linecolor\":\"white\",\"showbackground\":true,\"ticks\":\"\",\"zerolinecolor\":\"white\"},\"zaxis\":{\"backgroundcolor\":\"#E5ECF6\",\"gridcolor\":\"white\",\"gridwidth\":2,\"linecolor\":\"white\",\"showbackground\":true,\"ticks\":\"\",\"zerolinecolor\":\"white\"}},\"shapedefaults\":{\"line\":{\"color\":\"#2a3f5f\"}},\"ternary\":{\"aaxis\":{\"gridcolor\":\"white\",\"linecolor\":\"white\",\"ticks\":\"\"},\"baxis\":{\"gridcolor\":\"white\",\"linecolor\":\"white\",\"ticks\":\"\"},\"bgcolor\":\"#E5ECF6\",\"caxis\":{\"gridcolor\":\"white\",\"linecolor\":\"white\",\"ticks\":\"\"}},\"title\":{\"x\":0.05},\"xaxis\":{\"automargin\":true,\"gridcolor\":\"white\",\"linecolor\":\"white\",\"ticks\":\"\",\"title\":{\"standoff\":15},\"zerolinecolor\":\"white\",\"zerolinewidth\":2},\"yaxis\":{\"automargin\":true,\"gridcolor\":\"white\",\"linecolor\":\"white\",\"ticks\":\"\",\"title\":{\"standoff\":15},\"zerolinecolor\":\"white\",\"zerolinewidth\":2}}},\"xaxis\":{\"anchor\":\"y\",\"domain\":[0.0,1.0],\"title\":{\"text\":\"sentence_length\"}},\"yaxis\":{\"anchor\":\"x\",\"domain\":[0.0,0.7326],\"title\":{\"text\":\"count\"}},\"xaxis2\":{\"anchor\":\"y2\",\"domain\":[0.0,1.0],\"matches\":\"x\",\"showticklabels\":false,\"showgrid\":true},\"yaxis2\":{\"anchor\":\"x2\",\"domain\":[0.7426,1.0],\"matches\":\"y2\",\"showticklabels\":false,\"showline\":false,\"ticks\":\"\",\"showgrid\":false},\"legend\":{\"title\":{\"text\":\"sarcastic\"},\"tracegroupgap\":0},\"title\":{\"text\":\"tweet Length Distribution\"},\"barmode\":\"relative\",\"height\":700},                        {\"responsive\": true}                    ).then(function(){\n",
              "                            \n",
              "var gd = document.getElementById('841f0177-e34a-4ade-945f-4dffad6c4041');\n",
              "var x = new MutationObserver(function (mutations, observer) {{\n",
              "        var display = window.getComputedStyle(gd).display;\n",
              "        if (!display || display === 'none') {{\n",
              "            console.log([gd, 'removed!']);\n",
              "            Plotly.purge(gd);\n",
              "            observer.disconnect();\n",
              "        }}\n",
              "}});\n",
              "\n",
              "// Listen for the removal of the full notebook cells\n",
              "var notebookContainer = gd.closest('#notebook-container');\n",
              "if (notebookContainer) {{\n",
              "    x.observe(notebookContainer, {childList: true});\n",
              "}}\n",
              "\n",
              "// Listen for the clearing of the current output cell\n",
              "var outputEl = gd.closest('.output');\n",
              "if (outputEl) {{\n",
              "    x.observe(outputEl, {childList: true});\n",
              "}}\n",
              "\n",
              "                        })                };                            </script>        </div>\n",
              "</body>\n",
              "</html>"
            ]
          },
          "metadata": {},
          "output_type": "display_data"
        }
      ],
      "source": [
        "px.histogram(test_data, x=\"sentence_length\",height=700, color='sarcastic', title=\"tweet Length Distribution\", marginal=\"box\")"
      ]
    },
    {
      "cell_type": "code",
      "execution_count": null,
      "metadata": {
        "colab": {
          "base_uri": "https://localhost:8080/"
        },
        "id": "XDVV_LXGMBTb",
        "outputId": "eb670493-0c30-475e-ea12-fd3f3f2047ab"
      },
      "outputs": [
        {
          "data": {
            "text/plain": [
              "Unnamed: 0\n",
              "1489    Excited to share the latest addition to my #et...\n",
              "Name: tweet, dtype: object"
            ]
          },
          "execution_count": 24,
          "metadata": {},
          "output_type": "execute_result"
        }
      ],
      "source": [
        "data[data['sentence_length']==40]['tweet']"
      ]
    },
    {
      "cell_type": "code",
      "execution_count": null,
      "metadata": {
        "colab": {
          "base_uri": "https://localhost:8080/"
        },
        "id": "fEU85chdyMqD",
        "outputId": "8394dca7-5c6b-489c-fb92-4a4decc524e8"
      },
      "outputs": [
        {
          "name": "stderr",
          "output_type": "stream",
          "text": [
            "/usr/local/lib/python3.8/dist-packages/pandas/core/frame.py:4906: SettingWithCopyWarning:\n",
            "\n",
            "\n",
            "A value is trying to be set on a copy of a slice from a DataFrame\n",
            "\n",
            "See the caveats in the documentation: https://pandas.pydata.org/pandas-docs/stable/user_guide/indexing.html#returning-a-view-versus-a-copy\n",
            "\n"
          ]
        }
      ],
      "source": [
        "data.drop(data[data['sentence_length'] > 30].index, inplace = True)\n",
        "data.reset_index(inplace=True, drop=True)"
      ]
    },
    {
      "cell_type": "code",
      "execution_count": null,
      "metadata": {
        "id": "CeskPqqfUkE7"
      },
      "outputs": [],
      "source": [
        "test_data.drop(test_data[test_data['sentence_length'] > 30].index, inplace = True)\n",
        "test_data.reset_index(inplace=True, drop=True)"
      ]
    },
    {
      "cell_type": "code",
      "execution_count": null,
      "metadata": {
        "colab": {
          "base_uri": "https://localhost:8080/"
        },
        "id": "lgW7umOZMo96",
        "outputId": "cfbc18fb-5a4f-4cab-dec1-ea7a9457399c"
      },
      "outputs": [
        {
          "name": "stdout",
          "output_type": "stream",
          "text": [
            "30\n",
            "30\n"
          ]
        }
      ],
      "source": [
        "import numpy as np\n",
        "print(np.max(data['sentence_length']))\n",
        "print(np.max(test_data['sentence_length']))"
      ]
    },
    {
      "cell_type": "markdown",
      "metadata": {
        "id": "qtc9kNsXyYmW"
      },
      "source": [
        "## 1-4 Headlines Length Distribution: Outliers Removed"
      ]
    },
    {
      "cell_type": "markdown",
      "metadata": {
        "id": "WqvmkeXvy13E"
      },
      "source": [
        "<ul>\n",
        "<li>The headlines after the removal of outliers do not exceed the limit of 20-30 words</li>\n",
        "<li>They are mostly centered in the range of 5-10 words</li>\n",
        "</ul>"
      ]
    },
    {
      "cell_type": "code",
      "execution_count": null,
      "metadata": {
        "colab": {
          "base_uri": "https://localhost:8080/",
          "height": 717
        },
        "id": "K9Wt8MjnM9Oh",
        "outputId": "7e433b62-5ce1-4270-8822-81800e559789"
      },
      "outputs": [
        {
          "data": {
            "text/html": [
              "<html>\n",
              "<head><meta charset=\"utf-8\" /></head>\n",
              "<body>\n",
              "    <div>            <script src=\"https://cdnjs.cloudflare.com/ajax/libs/mathjax/2.7.5/MathJax.js?config=TeX-AMS-MML_SVG\"></script><script type=\"text/javascript\">if (window.MathJax) {MathJax.Hub.Config({SVG: {font: \"STIX-Web\"}});}</script>                <script type=\"text/javascript\">window.PlotlyConfig = {MathJaxConfig: 'local'};</script>\n",
              "        <script src=\"https://cdn.plot.ly/plotly-2.8.3.min.js\"></script>                <div id=\"a626e3d3-af2c-4ff3-a793-2061dd927063\" class=\"plotly-graph-div\" style=\"height:700px; width:100%;\"></div>            <script type=\"text/javascript\">                                    window.PLOTLYENV=window.PLOTLYENV || {};                                    if (document.getElementById(\"a626e3d3-af2c-4ff3-a793-2061dd927063\")) {                    Plotly.newPlot(                        \"a626e3d3-af2c-4ff3-a793-2061dd927063\",                        [{\"alignmentgroup\":\"True\",\"bingroup\":\"x\",\"hovertemplate\":\"sarcastic=1<br>sentence_length=%{x}<br>count=%{y}<extra></extra>\",\"legendgroup\":\"1\",\"marker\":{\"color\":\"#636efa\",\"pattern\":{\"shape\":\"\"}},\"name\":\"1\",\"offsetgroup\":\"1\",\"orientation\":\"v\",\"showlegend\":true,\"x\":[5,13,24,11,16,21,9,23,12,12,16,4,12,5,29,9,6,23,4,15,11,11,12,11,22,3,11,12,8,6,6,5,6,10,4,9,3,6,11,13,2,6,5,14,5,7,8,19,6,9,7,17,14,10,17,25,9,4,16,10,9,15,2,6,5,22,11,7,13,9,23,7,12,11,7,3,21,8,8,10,12,20,8,8,7,6,4,13,14,7,6,17,5,7,7,8,14,11,6,6,15,10,8,12,14,4,18,3,13,11,11,5,13,11,6,6,9,4,18,4,18,15,15,5,7,8,12,10,4,7,7,7,17,11,12,6,30,7,11,11,8,6,11,17,5,13,13,5,12,4,5,15,4,2,3,9,13,26,10,11,11,7,4,18,13,11,28,16,23,15,10,4,3,13,6,16,13,19,3,12,6,5,6,2,7,18,7,8,8,5,6,11,6,10,16,5,18,4,7,6,9,18,13,15,9,24,12,5,9,5,4,13,4,15,22,15,9,3,5,11,11,19,6,3,7,7,13,11,7,4,26,6,10,15,7,6,8,5,6,8,9,13,10,11,10,19,8,10,7,8,7,13,15,6,10,3,8,15,5,8,10,9,10,4,10,6,7,15,4,27,8,15,13,5,4,10,5,12,9,6,14,9,7,11,4,9,26,6,10,11,28,3,17,4,1,6,12,10,6,9,5,9,5,11,15,10,6,3,13,11,12,23,5,9,13,7,12,4,7,8,8,13,10,17,11,11,16,8,12,11,13,14,7,16,9,8,3,19,6,2,7,8,14,24,13,8,7,6,5,6,11,13,9,6,7,6,22,6,12,21,6,10,3,16,13,6,14,5,5,10,12,8,14,8,12,29,14,7,5,6,5,9,9,6,18,6,16,16,7,17,6,4,6,22,9,7,8,10,10,13,1,13,8,11,12,23,19,22,15,9,6,4,14,14,11,11,14,11,19,17,18,10,4,6,13,16,5,18,8,11,9,10,10,6,7,13,10,12,3,13,8,3,15,10,5,3,7,13,5,10,5,9,13,5,7,24,6,10,4,6,16,10,11,4,19,12,6,9,18,5,9,16,4,3,12,3,17,6,11,16,13,9,4,7,2,16,2,6,4,3,7,6,16,6,11,3,18,1,11,7,10,4,9,9,16,9,19,7,12,11,12,13,20,7,6,9,6,13,30,14,7,7,13,8,12,3,8,14,11,6,5,3,4,7,10,7,9,12,4,15,11,8,11,7,5,10,10,14,7,16,5,9,7,9,10,17,6,8,15,5,6,28,11,3,4,17,17,3,10,17,5,3,4,5,7,2,8,6,13,12,13,22,7,2,21,9,12,5,14,24,7,8,12,20,6,6,5,5,12,5,9,6,10,11,5,12,13,6,4,4,8,16,6,12,17,10,12,10,6,9,4,4,11,3,11,5,20,16,5,12,10,14,6,6,10,7,5,9,29,6,25,4,7,3,6,11,8,8,3,6,10,3,2,5,22,11,7,20,15,8,16,10,16,3,7,26,17,7,12,4,13,2,2,13,4,6,7,6,5,13,9,2,21,6,9,9,7,11,19,7,13,6,24,16,19,18,11,13,8,14,11,9,3,10,7,14,19,8,3,10,8,7,18,10,11,6,8,15,4,15,10,6,10,9,7,6,16,16,1,17,8,7,10,7,12,15,9,11,11,15,27,5,9,24,10,16,13,16,16,9,7,6,13,11,9,11,7,11,11,9,16,20,12,8,9,9,17,3,7,15,12,7,7,10,4,9,23,23,4,3,17,6,8,11,1,6,10,7,6,10,3,15,17,27,5,13,26,25,8,8,3,13,4,7,11,9,5,3,7,5,13,15,8,3,21,3,6,6,9,7,17,9,9,7,9,5,18,11,9,10,7,9,7,6,16,13,7,8,1,15,4,7,12,9,10,17,4,4,5,14,8,10,7,27,12,6,10,12,4,7,12,13,12],\"xaxis\":\"x\",\"yaxis\":\"y\",\"type\":\"histogram\"},{\"alignmentgroup\":\"True\",\"hovertemplate\":\"sarcastic=1<br>sentence_length=%{x}<extra></extra>\",\"legendgroup\":\"1\",\"marker\":{\"color\":\"#636efa\"},\"name\":\"1\",\"notched\":true,\"offsetgroup\":\"1\",\"showlegend\":false,\"x\":[5,13,24,11,16,21,9,23,12,12,16,4,12,5,29,9,6,23,4,15,11,11,12,11,22,3,11,12,8,6,6,5,6,10,4,9,3,6,11,13,2,6,5,14,5,7,8,19,6,9,7,17,14,10,17,25,9,4,16,10,9,15,2,6,5,22,11,7,13,9,23,7,12,11,7,3,21,8,8,10,12,20,8,8,7,6,4,13,14,7,6,17,5,7,7,8,14,11,6,6,15,10,8,12,14,4,18,3,13,11,11,5,13,11,6,6,9,4,18,4,18,15,15,5,7,8,12,10,4,7,7,7,17,11,12,6,30,7,11,11,8,6,11,17,5,13,13,5,12,4,5,15,4,2,3,9,13,26,10,11,11,7,4,18,13,11,28,16,23,15,10,4,3,13,6,16,13,19,3,12,6,5,6,2,7,18,7,8,8,5,6,11,6,10,16,5,18,4,7,6,9,18,13,15,9,24,12,5,9,5,4,13,4,15,22,15,9,3,5,11,11,19,6,3,7,7,13,11,7,4,26,6,10,15,7,6,8,5,6,8,9,13,10,11,10,19,8,10,7,8,7,13,15,6,10,3,8,15,5,8,10,9,10,4,10,6,7,15,4,27,8,15,13,5,4,10,5,12,9,6,14,9,7,11,4,9,26,6,10,11,28,3,17,4,1,6,12,10,6,9,5,9,5,11,15,10,6,3,13,11,12,23,5,9,13,7,12,4,7,8,8,13,10,17,11,11,16,8,12,11,13,14,7,16,9,8,3,19,6,2,7,8,14,24,13,8,7,6,5,6,11,13,9,6,7,6,22,6,12,21,6,10,3,16,13,6,14,5,5,10,12,8,14,8,12,29,14,7,5,6,5,9,9,6,18,6,16,16,7,17,6,4,6,22,9,7,8,10,10,13,1,13,8,11,12,23,19,22,15,9,6,4,14,14,11,11,14,11,19,17,18,10,4,6,13,16,5,18,8,11,9,10,10,6,7,13,10,12,3,13,8,3,15,10,5,3,7,13,5,10,5,9,13,5,7,24,6,10,4,6,16,10,11,4,19,12,6,9,18,5,9,16,4,3,12,3,17,6,11,16,13,9,4,7,2,16,2,6,4,3,7,6,16,6,11,3,18,1,11,7,10,4,9,9,16,9,19,7,12,11,12,13,20,7,6,9,6,13,30,14,7,7,13,8,12,3,8,14,11,6,5,3,4,7,10,7,9,12,4,15,11,8,11,7,5,10,10,14,7,16,5,9,7,9,10,17,6,8,15,5,6,28,11,3,4,17,17,3,10,17,5,3,4,5,7,2,8,6,13,12,13,22,7,2,21,9,12,5,14,24,7,8,12,20,6,6,5,5,12,5,9,6,10,11,5,12,13,6,4,4,8,16,6,12,17,10,12,10,6,9,4,4,11,3,11,5,20,16,5,12,10,14,6,6,10,7,5,9,29,6,25,4,7,3,6,11,8,8,3,6,10,3,2,5,22,11,7,20,15,8,16,10,16,3,7,26,17,7,12,4,13,2,2,13,4,6,7,6,5,13,9,2,21,6,9,9,7,11,19,7,13,6,24,16,19,18,11,13,8,14,11,9,3,10,7,14,19,8,3,10,8,7,18,10,11,6,8,15,4,15,10,6,10,9,7,6,16,16,1,17,8,7,10,7,12,15,9,11,11,15,27,5,9,24,10,16,13,16,16,9,7,6,13,11,9,11,7,11,11,9,16,20,12,8,9,9,17,3,7,15,12,7,7,10,4,9,23,23,4,3,17,6,8,11,1,6,10,7,6,10,3,15,17,27,5,13,26,25,8,8,3,13,4,7,11,9,5,3,7,5,13,15,8,3,21,3,6,6,9,7,17,9,9,7,9,5,18,11,9,10,7,9,7,6,16,13,7,8,1,15,4,7,12,9,10,17,4,4,5,14,8,10,7,27,12,6,10,12,4,7,12,13,12],\"xaxis\":\"x2\",\"yaxis\":\"y2\",\"type\":\"box\"},{\"alignmentgroup\":\"True\",\"bingroup\":\"x\",\"hovertemplate\":\"sarcastic=0<br>sentence_length=%{x}<br>count=%{y}<extra></extra>\",\"legendgroup\":\"0\",\"marker\":{\"color\":\"#EF553B\",\"pattern\":{\"shape\":\"\"}},\"name\":\"0\",\"offsetgroup\":\"0\",\"orientation\":\"v\",\"showlegend\":true,\"x\":[11,5,6,14,7,8,13,7,3,5,5,11,11,17,8,4,24,19,8,30,18,10,14,25,6,5,4,6,3,4,17,10,14,14,6,9,5,8,4,4,8,10,17,20,14,9,11,12,5,6,9,23,5,20,3,2,13,18,10,5,2,2,5,12,10,5,5,3,5,17,11,23,22,22,22,7,7,4,9,4,13,13,17,14,14,7,4,9,4,15,9,5,7,6,5,4,1,7,5,5,4,2,5,11,6,16,11,20,7,5,8,9,8,4,8,11,12,16,13,3,9,2,7,10,3,5,7,11,6,23,5,23,15,8,6,4,11,8,25,11,19,4,10,12,18,10,10,13,12,20,16,10,6,5,6,13,7,17,3,7,2,25,7,16,12,13,17,15,15,5,6,6,12,11,7,3,7,9,5,18,5,7,7,2,12,3,6,6,7,8,7,15,5,6,5,11,17,4,12,12,19,10,13,15,9,12,7,12,20,7,24,21,4,6,23,24,16,7,9,22,2,7,8,4,5,10,9,5,5,9,20,9,16,22,13,17,8,20,5,11,9,5,4,6,6,14,4,4,6,7,3,5,2,6,7,2,7,6,10,10,10,14,7,5,13,2,12,6,4,3,18,10,15,17,5,5,3,29,27,3,11,23,17,6,9,8,9,8,8,4,5,8,5,8,5,10,8,4,13,13,6,5,17,13,5,8,4,11,1,9,13,10,7,8,5,13,17,3,15,7,5,7,7,24,14,5,3,6,8,26,26,6,4,4,6,9,6,6,4,19,14,9,5,6,3,4,6,8,10,5,6,9,11,16,29,3,10,12,29,17,20,25,25,17,10,3,11,18,6,13,7,9,9,11,11,10,10,13,8,7,6,10,10,8,4,7,6,26,5,9,7,7,4,10,15,13,11,11,11,6,13,14,5,13,6,12,15,11,11,7,9,18,7,6,8,5,9,15,10,12,9,7,4,7,4,5,15,8,4,15,16,14,5,10,5,9,3,3,3,5,8,16,16,12,30,5,15,8,18,2,4,10,7,6,15,9,7,10,9,1,4,4,9,9,7,5,12,8,15,11,11,14,4,8,6,11,14,23,19,6,19,7,11,10,16,16,18,22,21,8,23,10,6,12,4,12,6,15,9,21,19,16,1,5,3,8,5,6,10,5,8,6,8,7,5,12,11,25,23,19,5,14,10,20,14,14,12,10,21,27,15,4,3,4,14,8,10,9,14,12,7,20,6,8,7,7,6,9,7,6,8,16,5,20,9,12,10,13,2,3,6,8,7,9,8,4,7,12,5,2,21,18,12,9,6,6,7,17,7,13,7,4,15,10,12,20,15,14,10,5,19,8,14,8,5,5,4,5,2,3,4,4,6,20,7,11,10,22,17,16,6,7,12,13,14,4,6,11,23,27,7,3,8,7,14,6,5,7,6,18,17,8,19,26,18,10,20,12,19,9,8,14,12,10,5,8,3,12,5,10,10,7,4,9,10,14,15,19,19,24,12,5,10,12,3,6,5,15,9,12,21,22,14,16,7,1,12,14,8,7,11,12,3,10,12,10,13,3,6,8,11,29,9,13,8,11,25,13,5,10,10,5,5,19,27,12,20,4,3,13,16,16,11,25,30,9,4,13,17,14,16,5,12,7,10,5,3,8,12,14,16,10,11,6,5,11,23,25,7,6,6,8,8,6,6,5,27,16,4,13,4,8,9,13,10,7,2,10,4,10,9,23,16,7,8,3,22,7,12,16,15,27,16,10,11,18,7,20,8,9,3,7,3,7,2,2,3,3,11,17,14,9,12,19,6,13,5,6,12,22,11,20,11,13,19,12,9,7,7,7,4,9,10,7,23,5,9,11,8,13,13,9,18,3,13,16,5,13,13,19,10,15,14,30,15,20,8,9,21,6,8,4,9,14,12,8,20,11,11,5,7,9,8,19,16,7,11,20,12,21,6,4,13,3,3,5,6,22,9,5,4,27,3,4,5,9,9,8,17,10,10,6,10,12,8,6,17,9,8,14,9,16,10,9,5,14,7,7,6,3,8,11,3,12,6,11,9,7,29,25,18,7,12,19,4,6,4,8,3,5,8,12,12,15,6,19,10,8,6,19,12,26,5,7,13,5,6,12,4,6,1,14,10,10,14,18,10,10,4,4,4,9,4,6,11,24,22,6,19,7,7,7,6,20,15,22,6,11,8,9,13,7,6,6,13,21,15,4,3,3,11,8,15,22,18,19,7,9,11,14,1,5,14,8,21,13,9,16,19,8,17,9,17,7,12,12,4,3,12,2,19,6,9,23,12,21,9,7,3,6,8,6,8,16,16,13,11,16,9,10,8,7,3,5,9,4,3,7,12,11,16,8,5,3,6,3,3,8,5,10,10,10,6,12,13,5,5,7,22,5,4,16,22,8,2,2,4,20,18,17,2,4,3,9,13,24,17,8,20,11,10,14,7,5,5,6,5,15,17,12,13,6,9,22,14,14,10,6,9,5,21,11,10,1,7,11,12,9,7,14,11,18,19,27,25,7,19,2,22,11,18,8,6,7,10,13,10,11,9,4,8,11,5,13,6,15,11,9,3,15,18,16,18,10,6,13,6,3,9,7,3,9,8,17,4,7,18,7,5,16,17,18,14,10,10,9,3,5,12,6,7,8,3,11,7,6,12,10,12,11,18,16,5,16,27,25,19,20,12,24,12,18,8,17,15,15,7,7,3,4,11,5,4,12,11,6,8,5,8,7,7,9,9,11,14,7,6,8,6,10,20,11,12,7,7,14,9,12,5,5,10,15,6,13,5,20,6,9,2,12,4,16,9,17,4,7,4,8,21,10,8,6,9,27,18,11,12,6,27,18,6,14,7,7,11,17,11,8,9,7,4,6,6,2,7,5,3,8,24,18,14,7,15,5,17,14,21,6,5,8,5,4,10,7,8,20,5,11,4,28,19,29,14,8,11,4,7,5,4,5,2,4,7,13,17,7,9,20,22,6,3,3,9,4,14,8,9,14,6,7,6,9,7,6,8,12,10,9,7,7,20,1,5,8,13,9,4,10,12,5,12,15,5,4,6,7,12,8,16,5,14,6,11,11,10,6,6,10,7,13,13,5,3,14,5,5,8,5,4,3,12,6,10,7,5,5,6,10,10,5,15,22,5,11,7,3,5,7,14,4,11,8,6,14,9,7,5,12,5,6,10,9,16,10,13,5,14,9,7,8,10,4,6,6,5,6,6,6,13,16,3,9,15,18,15,14,7,21,6,9,23,30,6,6,7,5,8,12,7,3,10,6,6,6,8,14,8,7,7,11,1,4,3,19,22,12,9,6,9,11,6,9,11,17,12,24,13,12,8,12,8,10,9,12,8,11,9,1,9,6,14,5,8,5,5,8,12,12,3,9,19,9,8,16,6,8,2,5,17,18,12,8,10,5,13,15,4,2,2,5,3,5,7,11,8,8,5,4,13,11,14,8,26,8,11,10,6,12,11,18,21,9,2,20,30,26,14,10,11,8,10,14,10,1,9,26,12,28,17,13,12,2,26,10,9,5,16,5,3,5,7,4,8,22,7,15,9,11,13,7,13,8,10,12,8,8,7,4,4,1,11,7,8,7,10,15,8,7,2,7,11,2,12,5,13,18,13,6,14,7,2,9,14,4,5,6,6,6,4,8,15,27,22,6,15,13,28,12,19,21,10,7,9,10,4,6,3,10,17,16,27,10,27,16,6,12,15,4,17,7,4,4,5,8,9,7,6,18,15,12,8,6,6,8,12,12,15,15,13,7,5,14,10,12,6,5,11,3,7,14,3,22,8,29,7,8,6,15,20,3,6,7,10,24,13,7,9,8,7,2,3,4,10,21,13,4,16,9,15,23,5,8,17,5,6,2,6,14,10,11,9,11,21,15,17,6,7,10,23,20,11,6,4,6,7,11,19,8,9,6,1,20,14,25,19,12,12,11,3,12,22,14,14,5,13,6,15,11,7,14,5,5,15,6,8,10,10,15,13,24,26,7,3,13,10,3,3,5,5,18,4,9,14,15,9,16,8,7,19,12,11,3,5,6,11,9,15,9,14,6,8,13,6,21,19,7,6,4,26,6,8,4,8,12,9,5,16,16,10,10,11,2,5,4,6,8,13,10,10,12,7,3,5,18,13,13,13,10,11,14,17,20,5,4,14,9,6,4,22,12,18,22,19,14,6,7,4,9,17,17,6,5,4,10,22,24,10,5,4,10,22,10,12,8,10,5,4,16,7,7,8,10,22,26,9,8,6,3,16,2,6,9,23,3,11,6,7,4,7,4,23,7,17,6,11,23,16,28,10,6,6,10,28,5,3,12,10,14,9,9,3,6,9,8,7,7,25,11,2,6,4,4,6,16,12,8,13,8,5,3,4,2,11,3,7,3,7,13,11,7,7,13,4,20,3,12,3,5,4,27,15,19,5,10,5,6,11,11,6,5,9,14,13,9,11,8,8,8,10,7,22,4,20,9,10,11,6,3,3,4,21,16,15,11,7,8,11,22,27,12,14,8,13,25,11,15,12,13,8,16,11,2,8,7,9,4,11,24,13,3,8,5,7,7,11,8,10,27,21,8,5,5,4,5,5,16,9,7,5,6,9,12,14,14,10,15,17,3,10,9,25,15,4,5,25,18,13,15,15,8,15,19,18,22,12,4,17,8,9,10,12,9,22,17,29,19,3,4,14,14,14,4,8,8,6,7,6,12,10,14,1,5,11,10,5,10,26,30,19,11,15,14,10,6,11,4,8,5,4,9,7,28,16,27,12,14,8,5,3,12,2,5,27,18,15,16,8,10,5,15,13,8,14,13,20,9,5,18,8,22,10,3,16,16,13,5,8,5,20,9,8,4,5,15,8,14,8,4,6,18,12,10,9,11,9,16,17,29,11,19,5,7,3,6,8,5,8,13,4,9,2,4,8,12,10,10,15,5,9,4,11,6,3,20,4,3,7,3,3,1,2,10,9,6,2,5,4,8,7,17,13,11,16,10,10,6,2,3,26,5,6,12,2,6,5,17,8,13,20,28,4,13,20,5,6,8,9,6,5,12,15,14,12,9,11,11,11,10,11,7,8,7,13,9,14,3,14,10,14,9,5,27,18,14,9,5,7,14,18,14,9,12,8,13,8,2,1,5,11,8,19,22,12,13,12,13,14,11,8,7,5,20,12,15,22,7,10,25,8,7,26,7,8,7,14,18,12,8,12,7,14,3,8,11,5,11,14,8,12,9,16,14,7,22,7,12,9,11,12,13,3,7,15,6,5,5,21,21,11,3,10,10,15,7,17,2,8,5,2,6,2,3,7,9,16,11,6,9,14,2,12,8,2,10,8,9,19,8,14,7,5,19,26,6,21,21,16,11,11,9,10,8,3,26,20,22,25,24,14,9,7,12,10,7,2,7,4,12,23,10,14,3,9,11,13,13,8,15,20,15,17,14,3,15,5,10,18,26,12,25,5,2,12,5,17,9,11,4,18,16,16,12,3,13,3,22,16,12,6,6,9,3,3,2,6,6,18,6,19,19,5,7,14,14,15,7,10,6,13,6,5,4,4,10,15,21,25,10,9,10,4,28,11,14,10,8,2,20,15,4,8,9,4,3,9,14,25,21,10,8,5,5,12,12,19,8,11,9,14,10,11,23,14,12,5,6,9,2,3,5,20,19,23,6,6,16,7,9,11,12,5,7,13,10,21,7,12,16,3,7,14,7,5,9,9,8,11,6,16,4,16,8,11,4,5,4,13,3,5,11,7,11,4,21,12,14,28,7,5,6,5,4,8,11,20,25,7,5,6,5,14,15,12,8,6,4,9,6,11,26,22,11],\"xaxis\":\"x\",\"yaxis\":\"y\",\"type\":\"histogram\"},{\"alignmentgroup\":\"True\",\"hovertemplate\":\"sarcastic=0<br>sentence_length=%{x}<extra></extra>\",\"legendgroup\":\"0\",\"marker\":{\"color\":\"#EF553B\"},\"name\":\"0\",\"notched\":true,\"offsetgroup\":\"0\",\"showlegend\":false,\"x\":[11,5,6,14,7,8,13,7,3,5,5,11,11,17,8,4,24,19,8,30,18,10,14,25,6,5,4,6,3,4,17,10,14,14,6,9,5,8,4,4,8,10,17,20,14,9,11,12,5,6,9,23,5,20,3,2,13,18,10,5,2,2,5,12,10,5,5,3,5,17,11,23,22,22,22,7,7,4,9,4,13,13,17,14,14,7,4,9,4,15,9,5,7,6,5,4,1,7,5,5,4,2,5,11,6,16,11,20,7,5,8,9,8,4,8,11,12,16,13,3,9,2,7,10,3,5,7,11,6,23,5,23,15,8,6,4,11,8,25,11,19,4,10,12,18,10,10,13,12,20,16,10,6,5,6,13,7,17,3,7,2,25,7,16,12,13,17,15,15,5,6,6,12,11,7,3,7,9,5,18,5,7,7,2,12,3,6,6,7,8,7,15,5,6,5,11,17,4,12,12,19,10,13,15,9,12,7,12,20,7,24,21,4,6,23,24,16,7,9,22,2,7,8,4,5,10,9,5,5,9,20,9,16,22,13,17,8,20,5,11,9,5,4,6,6,14,4,4,6,7,3,5,2,6,7,2,7,6,10,10,10,14,7,5,13,2,12,6,4,3,18,10,15,17,5,5,3,29,27,3,11,23,17,6,9,8,9,8,8,4,5,8,5,8,5,10,8,4,13,13,6,5,17,13,5,8,4,11,1,9,13,10,7,8,5,13,17,3,15,7,5,7,7,24,14,5,3,6,8,26,26,6,4,4,6,9,6,6,4,19,14,9,5,6,3,4,6,8,10,5,6,9,11,16,29,3,10,12,29,17,20,25,25,17,10,3,11,18,6,13,7,9,9,11,11,10,10,13,8,7,6,10,10,8,4,7,6,26,5,9,7,7,4,10,15,13,11,11,11,6,13,14,5,13,6,12,15,11,11,7,9,18,7,6,8,5,9,15,10,12,9,7,4,7,4,5,15,8,4,15,16,14,5,10,5,9,3,3,3,5,8,16,16,12,30,5,15,8,18,2,4,10,7,6,15,9,7,10,9,1,4,4,9,9,7,5,12,8,15,11,11,14,4,8,6,11,14,23,19,6,19,7,11,10,16,16,18,22,21,8,23,10,6,12,4,12,6,15,9,21,19,16,1,5,3,8,5,6,10,5,8,6,8,7,5,12,11,25,23,19,5,14,10,20,14,14,12,10,21,27,15,4,3,4,14,8,10,9,14,12,7,20,6,8,7,7,6,9,7,6,8,16,5,20,9,12,10,13,2,3,6,8,7,9,8,4,7,12,5,2,21,18,12,9,6,6,7,17,7,13,7,4,15,10,12,20,15,14,10,5,19,8,14,8,5,5,4,5,2,3,4,4,6,20,7,11,10,22,17,16,6,7,12,13,14,4,6,11,23,27,7,3,8,7,14,6,5,7,6,18,17,8,19,26,18,10,20,12,19,9,8,14,12,10,5,8,3,12,5,10,10,7,4,9,10,14,15,19,19,24,12,5,10,12,3,6,5,15,9,12,21,22,14,16,7,1,12,14,8,7,11,12,3,10,12,10,13,3,6,8,11,29,9,13,8,11,25,13,5,10,10,5,5,19,27,12,20,4,3,13,16,16,11,25,30,9,4,13,17,14,16,5,12,7,10,5,3,8,12,14,16,10,11,6,5,11,23,25,7,6,6,8,8,6,6,5,27,16,4,13,4,8,9,13,10,7,2,10,4,10,9,23,16,7,8,3,22,7,12,16,15,27,16,10,11,18,7,20,8,9,3,7,3,7,2,2,3,3,11,17,14,9,12,19,6,13,5,6,12,22,11,20,11,13,19,12,9,7,7,7,4,9,10,7,23,5,9,11,8,13,13,9,18,3,13,16,5,13,13,19,10,15,14,30,15,20,8,9,21,6,8,4,9,14,12,8,20,11,11,5,7,9,8,19,16,7,11,20,12,21,6,4,13,3,3,5,6,22,9,5,4,27,3,4,5,9,9,8,17,10,10,6,10,12,8,6,17,9,8,14,9,16,10,9,5,14,7,7,6,3,8,11,3,12,6,11,9,7,29,25,18,7,12,19,4,6,4,8,3,5,8,12,12,15,6,19,10,8,6,19,12,26,5,7,13,5,6,12,4,6,1,14,10,10,14,18,10,10,4,4,4,9,4,6,11,24,22,6,19,7,7,7,6,20,15,22,6,11,8,9,13,7,6,6,13,21,15,4,3,3,11,8,15,22,18,19,7,9,11,14,1,5,14,8,21,13,9,16,19,8,17,9,17,7,12,12,4,3,12,2,19,6,9,23,12,21,9,7,3,6,8,6,8,16,16,13,11,16,9,10,8,7,3,5,9,4,3,7,12,11,16,8,5,3,6,3,3,8,5,10,10,10,6,12,13,5,5,7,22,5,4,16,22,8,2,2,4,20,18,17,2,4,3,9,13,24,17,8,20,11,10,14,7,5,5,6,5,15,17,12,13,6,9,22,14,14,10,6,9,5,21,11,10,1,7,11,12,9,7,14,11,18,19,27,25,7,19,2,22,11,18,8,6,7,10,13,10,11,9,4,8,11,5,13,6,15,11,9,3,15,18,16,18,10,6,13,6,3,9,7,3,9,8,17,4,7,18,7,5,16,17,18,14,10,10,9,3,5,12,6,7,8,3,11,7,6,12,10,12,11,18,16,5,16,27,25,19,20,12,24,12,18,8,17,15,15,7,7,3,4,11,5,4,12,11,6,8,5,8,7,7,9,9,11,14,7,6,8,6,10,20,11,12,7,7,14,9,12,5,5,10,15,6,13,5,20,6,9,2,12,4,16,9,17,4,7,4,8,21,10,8,6,9,27,18,11,12,6,27,18,6,14,7,7,11,17,11,8,9,7,4,6,6,2,7,5,3,8,24,18,14,7,15,5,17,14,21,6,5,8,5,4,10,7,8,20,5,11,4,28,19,29,14,8,11,4,7,5,4,5,2,4,7,13,17,7,9,20,22,6,3,3,9,4,14,8,9,14,6,7,6,9,7,6,8,12,10,9,7,7,20,1,5,8,13,9,4,10,12,5,12,15,5,4,6,7,12,8,16,5,14,6,11,11,10,6,6,10,7,13,13,5,3,14,5,5,8,5,4,3,12,6,10,7,5,5,6,10,10,5,15,22,5,11,7,3,5,7,14,4,11,8,6,14,9,7,5,12,5,6,10,9,16,10,13,5,14,9,7,8,10,4,6,6,5,6,6,6,13,16,3,9,15,18,15,14,7,21,6,9,23,30,6,6,7,5,8,12,7,3,10,6,6,6,8,14,8,7,7,11,1,4,3,19,22,12,9,6,9,11,6,9,11,17,12,24,13,12,8,12,8,10,9,12,8,11,9,1,9,6,14,5,8,5,5,8,12,12,3,9,19,9,8,16,6,8,2,5,17,18,12,8,10,5,13,15,4,2,2,5,3,5,7,11,8,8,5,4,13,11,14,8,26,8,11,10,6,12,11,18,21,9,2,20,30,26,14,10,11,8,10,14,10,1,9,26,12,28,17,13,12,2,26,10,9,5,16,5,3,5,7,4,8,22,7,15,9,11,13,7,13,8,10,12,8,8,7,4,4,1,11,7,8,7,10,15,8,7,2,7,11,2,12,5,13,18,13,6,14,7,2,9,14,4,5,6,6,6,4,8,15,27,22,6,15,13,28,12,19,21,10,7,9,10,4,6,3,10,17,16,27,10,27,16,6,12,15,4,17,7,4,4,5,8,9,7,6,18,15,12,8,6,6,8,12,12,15,15,13,7,5,14,10,12,6,5,11,3,7,14,3,22,8,29,7,8,6,15,20,3,6,7,10,24,13,7,9,8,7,2,3,4,10,21,13,4,16,9,15,23,5,8,17,5,6,2,6,14,10,11,9,11,21,15,17,6,7,10,23,20,11,6,4,6,7,11,19,8,9,6,1,20,14,25,19,12,12,11,3,12,22,14,14,5,13,6,15,11,7,14,5,5,15,6,8,10,10,15,13,24,26,7,3,13,10,3,3,5,5,18,4,9,14,15,9,16,8,7,19,12,11,3,5,6,11,9,15,9,14,6,8,13,6,21,19,7,6,4,26,6,8,4,8,12,9,5,16,16,10,10,11,2,5,4,6,8,13,10,10,12,7,3,5,18,13,13,13,10,11,14,17,20,5,4,14,9,6,4,22,12,18,22,19,14,6,7,4,9,17,17,6,5,4,10,22,24,10,5,4,10,22,10,12,8,10,5,4,16,7,7,8,10,22,26,9,8,6,3,16,2,6,9,23,3,11,6,7,4,7,4,23,7,17,6,11,23,16,28,10,6,6,10,28,5,3,12,10,14,9,9,3,6,9,8,7,7,25,11,2,6,4,4,6,16,12,8,13,8,5,3,4,2,11,3,7,3,7,13,11,7,7,13,4,20,3,12,3,5,4,27,15,19,5,10,5,6,11,11,6,5,9,14,13,9,11,8,8,8,10,7,22,4,20,9,10,11,6,3,3,4,21,16,15,11,7,8,11,22,27,12,14,8,13,25,11,15,12,13,8,16,11,2,8,7,9,4,11,24,13,3,8,5,7,7,11,8,10,27,21,8,5,5,4,5,5,16,9,7,5,6,9,12,14,14,10,15,17,3,10,9,25,15,4,5,25,18,13,15,15,8,15,19,18,22,12,4,17,8,9,10,12,9,22,17,29,19,3,4,14,14,14,4,8,8,6,7,6,12,10,14,1,5,11,10,5,10,26,30,19,11,15,14,10,6,11,4,8,5,4,9,7,28,16,27,12,14,8,5,3,12,2,5,27,18,15,16,8,10,5,15,13,8,14,13,20,9,5,18,8,22,10,3,16,16,13,5,8,5,20,9,8,4,5,15,8,14,8,4,6,18,12,10,9,11,9,16,17,29,11,19,5,7,3,6,8,5,8,13,4,9,2,4,8,12,10,10,15,5,9,4,11,6,3,20,4,3,7,3,3,1,2,10,9,6,2,5,4,8,7,17,13,11,16,10,10,6,2,3,26,5,6,12,2,6,5,17,8,13,20,28,4,13,20,5,6,8,9,6,5,12,15,14,12,9,11,11,11,10,11,7,8,7,13,9,14,3,14,10,14,9,5,27,18,14,9,5,7,14,18,14,9,12,8,13,8,2,1,5,11,8,19,22,12,13,12,13,14,11,8,7,5,20,12,15,22,7,10,25,8,7,26,7,8,7,14,18,12,8,12,7,14,3,8,11,5,11,14,8,12,9,16,14,7,22,7,12,9,11,12,13,3,7,15,6,5,5,21,21,11,3,10,10,15,7,17,2,8,5,2,6,2,3,7,9,16,11,6,9,14,2,12,8,2,10,8,9,19,8,14,7,5,19,26,6,21,21,16,11,11,9,10,8,3,26,20,22,25,24,14,9,7,12,10,7,2,7,4,12,23,10,14,3,9,11,13,13,8,15,20,15,17,14,3,15,5,10,18,26,12,25,5,2,12,5,17,9,11,4,18,16,16,12,3,13,3,22,16,12,6,6,9,3,3,2,6,6,18,6,19,19,5,7,14,14,15,7,10,6,13,6,5,4,4,10,15,21,25,10,9,10,4,28,11,14,10,8,2,20,15,4,8,9,4,3,9,14,25,21,10,8,5,5,12,12,19,8,11,9,14,10,11,23,14,12,5,6,9,2,3,5,20,19,23,6,6,16,7,9,11,12,5,7,13,10,21,7,12,16,3,7,14,7,5,9,9,8,11,6,16,4,16,8,11,4,5,4,13,3,5,11,7,11,4,21,12,14,28,7,5,6,5,4,8,11,20,25,7,5,6,5,14,15,12,8,6,4,9,6,11,26,22,11],\"xaxis\":\"x2\",\"yaxis\":\"y2\",\"type\":\"box\"}],                        {\"template\":{\"data\":{\"bar\":[{\"error_x\":{\"color\":\"#2a3f5f\"},\"error_y\":{\"color\":\"#2a3f5f\"},\"marker\":{\"line\":{\"color\":\"#E5ECF6\",\"width\":0.5},\"pattern\":{\"fillmode\":\"overlay\",\"size\":10,\"solidity\":0.2}},\"type\":\"bar\"}],\"barpolar\":[{\"marker\":{\"line\":{\"color\":\"#E5ECF6\",\"width\":0.5},\"pattern\":{\"fillmode\":\"overlay\",\"size\":10,\"solidity\":0.2}},\"type\":\"barpolar\"}],\"carpet\":[{\"aaxis\":{\"endlinecolor\":\"#2a3f5f\",\"gridcolor\":\"white\",\"linecolor\":\"white\",\"minorgridcolor\":\"white\",\"startlinecolor\":\"#2a3f5f\"},\"baxis\":{\"endlinecolor\":\"#2a3f5f\",\"gridcolor\":\"white\",\"linecolor\":\"white\",\"minorgridcolor\":\"white\",\"startlinecolor\":\"#2a3f5f\"},\"type\":\"carpet\"}],\"choropleth\":[{\"colorbar\":{\"outlinewidth\":0,\"ticks\":\"\"},\"type\":\"choropleth\"}],\"contour\":[{\"colorbar\":{\"outlinewidth\":0,\"ticks\":\"\"},\"colorscale\":[[0.0,\"#0d0887\"],[0.1111111111111111,\"#46039f\"],[0.2222222222222222,\"#7201a8\"],[0.3333333333333333,\"#9c179e\"],[0.4444444444444444,\"#bd3786\"],[0.5555555555555556,\"#d8576b\"],[0.6666666666666666,\"#ed7953\"],[0.7777777777777778,\"#fb9f3a\"],[0.8888888888888888,\"#fdca26\"],[1.0,\"#f0f921\"]],\"type\":\"contour\"}],\"contourcarpet\":[{\"colorbar\":{\"outlinewidth\":0,\"ticks\":\"\"},\"type\":\"contourcarpet\"}],\"heatmap\":[{\"colorbar\":{\"outlinewidth\":0,\"ticks\":\"\"},\"colorscale\":[[0.0,\"#0d0887\"],[0.1111111111111111,\"#46039f\"],[0.2222222222222222,\"#7201a8\"],[0.3333333333333333,\"#9c179e\"],[0.4444444444444444,\"#bd3786\"],[0.5555555555555556,\"#d8576b\"],[0.6666666666666666,\"#ed7953\"],[0.7777777777777778,\"#fb9f3a\"],[0.8888888888888888,\"#fdca26\"],[1.0,\"#f0f921\"]],\"type\":\"heatmap\"}],\"heatmapgl\":[{\"colorbar\":{\"outlinewidth\":0,\"ticks\":\"\"},\"colorscale\":[[0.0,\"#0d0887\"],[0.1111111111111111,\"#46039f\"],[0.2222222222222222,\"#7201a8\"],[0.3333333333333333,\"#9c179e\"],[0.4444444444444444,\"#bd3786\"],[0.5555555555555556,\"#d8576b\"],[0.6666666666666666,\"#ed7953\"],[0.7777777777777778,\"#fb9f3a\"],[0.8888888888888888,\"#fdca26\"],[1.0,\"#f0f921\"]],\"type\":\"heatmapgl\"}],\"histogram\":[{\"marker\":{\"pattern\":{\"fillmode\":\"overlay\",\"size\":10,\"solidity\":0.2}},\"type\":\"histogram\"}],\"histogram2d\":[{\"colorbar\":{\"outlinewidth\":0,\"ticks\":\"\"},\"colorscale\":[[0.0,\"#0d0887\"],[0.1111111111111111,\"#46039f\"],[0.2222222222222222,\"#7201a8\"],[0.3333333333333333,\"#9c179e\"],[0.4444444444444444,\"#bd3786\"],[0.5555555555555556,\"#d8576b\"],[0.6666666666666666,\"#ed7953\"],[0.7777777777777778,\"#fb9f3a\"],[0.8888888888888888,\"#fdca26\"],[1.0,\"#f0f921\"]],\"type\":\"histogram2d\"}],\"histogram2dcontour\":[{\"colorbar\":{\"outlinewidth\":0,\"ticks\":\"\"},\"colorscale\":[[0.0,\"#0d0887\"],[0.1111111111111111,\"#46039f\"],[0.2222222222222222,\"#7201a8\"],[0.3333333333333333,\"#9c179e\"],[0.4444444444444444,\"#bd3786\"],[0.5555555555555556,\"#d8576b\"],[0.6666666666666666,\"#ed7953\"],[0.7777777777777778,\"#fb9f3a\"],[0.8888888888888888,\"#fdca26\"],[1.0,\"#f0f921\"]],\"type\":\"histogram2dcontour\"}],\"mesh3d\":[{\"colorbar\":{\"outlinewidth\":0,\"ticks\":\"\"},\"type\":\"mesh3d\"}],\"parcoords\":[{\"line\":{\"colorbar\":{\"outlinewidth\":0,\"ticks\":\"\"}},\"type\":\"parcoords\"}],\"pie\":[{\"automargin\":true,\"type\":\"pie\"}],\"scatter\":[{\"marker\":{\"colorbar\":{\"outlinewidth\":0,\"ticks\":\"\"}},\"type\":\"scatter\"}],\"scatter3d\":[{\"line\":{\"colorbar\":{\"outlinewidth\":0,\"ticks\":\"\"}},\"marker\":{\"colorbar\":{\"outlinewidth\":0,\"ticks\":\"\"}},\"type\":\"scatter3d\"}],\"scattercarpet\":[{\"marker\":{\"colorbar\":{\"outlinewidth\":0,\"ticks\":\"\"}},\"type\":\"scattercarpet\"}],\"scattergeo\":[{\"marker\":{\"colorbar\":{\"outlinewidth\":0,\"ticks\":\"\"}},\"type\":\"scattergeo\"}],\"scattergl\":[{\"marker\":{\"colorbar\":{\"outlinewidth\":0,\"ticks\":\"\"}},\"type\":\"scattergl\"}],\"scattermapbox\":[{\"marker\":{\"colorbar\":{\"outlinewidth\":0,\"ticks\":\"\"}},\"type\":\"scattermapbox\"}],\"scatterpolar\":[{\"marker\":{\"colorbar\":{\"outlinewidth\":0,\"ticks\":\"\"}},\"type\":\"scatterpolar\"}],\"scatterpolargl\":[{\"marker\":{\"colorbar\":{\"outlinewidth\":0,\"ticks\":\"\"}},\"type\":\"scatterpolargl\"}],\"scatterternary\":[{\"marker\":{\"colorbar\":{\"outlinewidth\":0,\"ticks\":\"\"}},\"type\":\"scatterternary\"}],\"surface\":[{\"colorbar\":{\"outlinewidth\":0,\"ticks\":\"\"},\"colorscale\":[[0.0,\"#0d0887\"],[0.1111111111111111,\"#46039f\"],[0.2222222222222222,\"#7201a8\"],[0.3333333333333333,\"#9c179e\"],[0.4444444444444444,\"#bd3786\"],[0.5555555555555556,\"#d8576b\"],[0.6666666666666666,\"#ed7953\"],[0.7777777777777778,\"#fb9f3a\"],[0.8888888888888888,\"#fdca26\"],[1.0,\"#f0f921\"]],\"type\":\"surface\"}],\"table\":[{\"cells\":{\"fill\":{\"color\":\"#EBF0F8\"},\"line\":{\"color\":\"white\"}},\"header\":{\"fill\":{\"color\":\"#C8D4E3\"},\"line\":{\"color\":\"white\"}},\"type\":\"table\"}]},\"layout\":{\"annotationdefaults\":{\"arrowcolor\":\"#2a3f5f\",\"arrowhead\":0,\"arrowwidth\":1},\"autotypenumbers\":\"strict\",\"coloraxis\":{\"colorbar\":{\"outlinewidth\":0,\"ticks\":\"\"}},\"colorscale\":{\"diverging\":[[0,\"#8e0152\"],[0.1,\"#c51b7d\"],[0.2,\"#de77ae\"],[0.3,\"#f1b6da\"],[0.4,\"#fde0ef\"],[0.5,\"#f7f7f7\"],[0.6,\"#e6f5d0\"],[0.7,\"#b8e186\"],[0.8,\"#7fbc41\"],[0.9,\"#4d9221\"],[1,\"#276419\"]],\"sequential\":[[0.0,\"#0d0887\"],[0.1111111111111111,\"#46039f\"],[0.2222222222222222,\"#7201a8\"],[0.3333333333333333,\"#9c179e\"],[0.4444444444444444,\"#bd3786\"],[0.5555555555555556,\"#d8576b\"],[0.6666666666666666,\"#ed7953\"],[0.7777777777777778,\"#fb9f3a\"],[0.8888888888888888,\"#fdca26\"],[1.0,\"#f0f921\"]],\"sequentialminus\":[[0.0,\"#0d0887\"],[0.1111111111111111,\"#46039f\"],[0.2222222222222222,\"#7201a8\"],[0.3333333333333333,\"#9c179e\"],[0.4444444444444444,\"#bd3786\"],[0.5555555555555556,\"#d8576b\"],[0.6666666666666666,\"#ed7953\"],[0.7777777777777778,\"#fb9f3a\"],[0.8888888888888888,\"#fdca26\"],[1.0,\"#f0f921\"]]},\"colorway\":[\"#636efa\",\"#EF553B\",\"#00cc96\",\"#ab63fa\",\"#FFA15A\",\"#19d3f3\",\"#FF6692\",\"#B6E880\",\"#FF97FF\",\"#FECB52\"],\"font\":{\"color\":\"#2a3f5f\"},\"geo\":{\"bgcolor\":\"white\",\"lakecolor\":\"white\",\"landcolor\":\"#E5ECF6\",\"showlakes\":true,\"showland\":true,\"subunitcolor\":\"white\"},\"hoverlabel\":{\"align\":\"left\"},\"hovermode\":\"closest\",\"mapbox\":{\"style\":\"light\"},\"paper_bgcolor\":\"white\",\"plot_bgcolor\":\"#E5ECF6\",\"polar\":{\"angularaxis\":{\"gridcolor\":\"white\",\"linecolor\":\"white\",\"ticks\":\"\"},\"bgcolor\":\"#E5ECF6\",\"radialaxis\":{\"gridcolor\":\"white\",\"linecolor\":\"white\",\"ticks\":\"\"}},\"scene\":{\"xaxis\":{\"backgroundcolor\":\"#E5ECF6\",\"gridcolor\":\"white\",\"gridwidth\":2,\"linecolor\":\"white\",\"showbackground\":true,\"ticks\":\"\",\"zerolinecolor\":\"white\"},\"yaxis\":{\"backgroundcolor\":\"#E5ECF6\",\"gridcolor\":\"white\",\"gridwidth\":2,\"linecolor\":\"white\",\"showbackground\":true,\"ticks\":\"\",\"zerolinecolor\":\"white\"},\"zaxis\":{\"backgroundcolor\":\"#E5ECF6\",\"gridcolor\":\"white\",\"gridwidth\":2,\"linecolor\":\"white\",\"showbackground\":true,\"ticks\":\"\",\"zerolinecolor\":\"white\"}},\"shapedefaults\":{\"line\":{\"color\":\"#2a3f5f\"}},\"ternary\":{\"aaxis\":{\"gridcolor\":\"white\",\"linecolor\":\"white\",\"ticks\":\"\"},\"baxis\":{\"gridcolor\":\"white\",\"linecolor\":\"white\",\"ticks\":\"\"},\"bgcolor\":\"#E5ECF6\",\"caxis\":{\"gridcolor\":\"white\",\"linecolor\":\"white\",\"ticks\":\"\"}},\"title\":{\"x\":0.05},\"xaxis\":{\"automargin\":true,\"gridcolor\":\"white\",\"linecolor\":\"white\",\"ticks\":\"\",\"title\":{\"standoff\":15},\"zerolinecolor\":\"white\",\"zerolinewidth\":2},\"yaxis\":{\"automargin\":true,\"gridcolor\":\"white\",\"linecolor\":\"white\",\"ticks\":\"\",\"title\":{\"standoff\":15},\"zerolinecolor\":\"white\",\"zerolinewidth\":2}}},\"xaxis\":{\"anchor\":\"y\",\"domain\":[0.0,1.0],\"title\":{\"text\":\"sentence_length\"}},\"yaxis\":{\"anchor\":\"x\",\"domain\":[0.0,0.7326],\"title\":{\"text\":\"count\"}},\"xaxis2\":{\"anchor\":\"y2\",\"domain\":[0.0,1.0],\"matches\":\"x\",\"showticklabels\":false,\"showgrid\":true},\"yaxis2\":{\"anchor\":\"x2\",\"domain\":[0.7426,1.0],\"matches\":\"y2\",\"showticklabels\":false,\"showline\":false,\"ticks\":\"\",\"showgrid\":false},\"legend\":{\"title\":{\"text\":\"sarcastic\"},\"tracegroupgap\":0},\"title\":{\"text\":\"Headlines Length Distribution\"},\"barmode\":\"relative\",\"height\":700},                        {\"responsive\": true}                    ).then(function(){\n",
              "                            \n",
              "var gd = document.getElementById('a626e3d3-af2c-4ff3-a793-2061dd927063');\n",
              "var x = new MutationObserver(function (mutations, observer) {{\n",
              "        var display = window.getComputedStyle(gd).display;\n",
              "        if (!display || display === 'none') {{\n",
              "            console.log([gd, 'removed!']);\n",
              "            Plotly.purge(gd);\n",
              "            observer.disconnect();\n",
              "        }}\n",
              "}});\n",
              "\n",
              "// Listen for the removal of the full notebook cells\n",
              "var notebookContainer = gd.closest('#notebook-container');\n",
              "if (notebookContainer) {{\n",
              "    x.observe(notebookContainer, {childList: true});\n",
              "}}\n",
              "\n",
              "// Listen for the clearing of the current output cell\n",
              "var outputEl = gd.closest('.output');\n",
              "if (outputEl) {{\n",
              "    x.observe(outputEl, {childList: true});\n",
              "}}\n",
              "\n",
              "                        })                };                            </script>        </div>\n",
              "</body>\n",
              "</html>"
            ]
          },
          "metadata": {},
          "output_type": "display_data"
        }
      ],
      "source": [
        "px.histogram(data, x=\"sentence_length\",height=700, color='sarcastic', title=\"Headlines Length Distribution\", marginal=\"box\")"
      ]
    },
    {
      "cell_type": "code",
      "execution_count": null,
      "metadata": {
        "id": "_b3OVC3NNCM7"
      },
      "outputs": [],
      "source": []
    },
    {
      "cell_type": "markdown",
      "metadata": {
        "id": "u646vJv4zUrW"
      },
      "source": [
        "## 1-5 Filtering: Find Sentences that Contain Numbers"
      ]
    },
    {
      "cell_type": "code",
      "execution_count": null,
      "metadata": {
        "colab": {
          "base_uri": "https://localhost:8080/",
          "height": 1000
        },
        "id": "GT9Hu1G0zX3Z",
        "outputId": "1e67498f-1cd2-4a97-cd19-cc8eb4588de3"
      },
      "outputs": [
        {
          "name": "stderr",
          "output_type": "stream",
          "text": [
            "<ipython-input-29-c9d2564c2e64>:1: SettingWithCopyWarning:\n",
            "\n",
            "\n",
            "A value is trying to be set on a copy of a slice from a DataFrame.\n",
            "Try using .loc[row_indexer,col_indexer] = value instead\n",
            "\n",
            "See the caveats in the documentation: https://pandas.pydata.org/pandas-docs/stable/user_guide/indexing.html#returning-a-view-versus-a-copy\n",
            "\n"
          ]
        },
        {
          "data": {
            "text/html": [
              "\n",
              "  <div id=\"df-f6c19565-e3b4-4e36-a1ef-69261317b151\">\n",
              "    <div class=\"colab-df-container\">\n",
              "      <div>\n",
              "<style scoped>\n",
              "    .dataframe tbody tr th:only-of-type {\n",
              "        vertical-align: middle;\n",
              "    }\n",
              "\n",
              "    .dataframe tbody tr th {\n",
              "        vertical-align: top;\n",
              "    }\n",
              "\n",
              "    .dataframe thead th {\n",
              "        text-align: right;\n",
              "    }\n",
              "</style>\n",
              "<table border=\"1\" class=\"dataframe\">\n",
              "  <thead>\n",
              "    <tr style=\"text-align: right;\">\n",
              "      <th></th>\n",
              "      <th>tweet</th>\n",
              "      <th>sarcastic</th>\n",
              "      <th>rephrase</th>\n",
              "      <th>sarcasm</th>\n",
              "      <th>irony</th>\n",
              "      <th>satire</th>\n",
              "      <th>understatement</th>\n",
              "      <th>overstatement</th>\n",
              "      <th>rhetorical_question</th>\n",
              "      <th>entity</th>\n",
              "      <th>clean_tweet</th>\n",
              "      <th>sentence_length</th>\n",
              "      <th>contains_number</th>\n",
              "    </tr>\n",
              "  </thead>\n",
              "  <tbody>\n",
              "    <tr>\n",
              "      <th>0</th>\n",
              "      <td>The only thing I got from college is a caffein...</td>\n",
              "      <td>1</td>\n",
              "      <td>College is really difficult, expensive, tiring...</td>\n",
              "      <td>0.0</td>\n",
              "      <td>1.0</td>\n",
              "      <td>0.0</td>\n",
              "      <td>0.0</td>\n",
              "      <td>0.0</td>\n",
              "      <td>0.0</td>\n",
              "      <td></td>\n",
              "      <td>thing get college caffeine addiction</td>\n",
              "      <td>5</td>\n",
              "      <td>False</td>\n",
              "    </tr>\n",
              "    <tr>\n",
              "      <th>1</th>\n",
              "      <td>I love it when professors draw a big question ...</td>\n",
              "      <td>1</td>\n",
              "      <td>I do not like when professors don’t write out ...</td>\n",
              "      <td>1.0</td>\n",
              "      <td>0.0</td>\n",
              "      <td>0.0</td>\n",
              "      <td>0.0</td>\n",
              "      <td>0.0</td>\n",
              "      <td>0.0</td>\n",
              "      <td></td>\n",
              "      <td>love professors draw big question mark next an...</td>\n",
              "      <td>13</td>\n",
              "      <td>False</td>\n",
              "    </tr>\n",
              "    <tr>\n",
              "      <th>2</th>\n",
              "      <td>Remember the hundred emails from companies whe...</td>\n",
              "      <td>1</td>\n",
              "      <td>I, at the bare minimum, wish companies actuall...</td>\n",
              "      <td>0.0</td>\n",
              "      <td>1.0</td>\n",
              "      <td>0.0</td>\n",
              "      <td>0.0</td>\n",
              "      <td>0.0</td>\n",
              "      <td>0.0</td>\n",
              "      <td>CARDINAL,PERSON,CARDINAL</td>\n",
              "      <td>remember hundred email company covid start get...</td>\n",
              "      <td>24</td>\n",
              "      <td>False</td>\n",
              "    </tr>\n",
              "    <tr>\n",
              "      <th>3</th>\n",
              "      <td>Today my pop-pop told me I was not “forced” to...</td>\n",
              "      <td>1</td>\n",
              "      <td>Today my pop-pop told me I was not \"forced\" to...</td>\n",
              "      <td>1.0</td>\n",
              "      <td>0.0</td>\n",
              "      <td>0.0</td>\n",
              "      <td>0.0</td>\n",
              "      <td>0.0</td>\n",
              "      <td>0.0</td>\n",
              "      <td>DATE</td>\n",
              "      <td>today pop pop tell not force go college okay s...</td>\n",
              "      <td>11</td>\n",
              "      <td>False</td>\n",
              "    </tr>\n",
              "    <tr>\n",
              "      <th>4</th>\n",
              "      <td>@VolphanCarol @littlewhitty @mysticalmanatee I...</td>\n",
              "      <td>1</td>\n",
              "      <td>I would say Ted Cruz is an asshole and doesn’t...</td>\n",
              "      <td>1.0</td>\n",
              "      <td>0.0</td>\n",
              "      <td>0.0</td>\n",
              "      <td>0.0</td>\n",
              "      <td>0.0</td>\n",
              "      <td>0.0</td>\n",
              "      <td>PERSON,GPE</td>\n",
              "      <td>volphancarol littlewhitty mysticalmanatee also...</td>\n",
              "      <td>16</td>\n",
              "      <td>False</td>\n",
              "    </tr>\n",
              "    <tr>\n",
              "      <th>...</th>\n",
              "      <td>...</td>\n",
              "      <td>...</td>\n",
              "      <td>...</td>\n",
              "      <td>...</td>\n",
              "      <td>...</td>\n",
              "      <td>...</td>\n",
              "      <td>...</td>\n",
              "      <td>...</td>\n",
              "      <td>...</td>\n",
              "      <td>...</td>\n",
              "      <td>...</td>\n",
              "      <td>...</td>\n",
              "      <td>...</td>\n",
              "    </tr>\n",
              "    <tr>\n",
              "      <th>3440</th>\n",
              "      <td>The population spike in Chicago in 9 months is...</td>\n",
              "      <td>0</td>\n",
              "      <td>NaN</td>\n",
              "      <td>NaN</td>\n",
              "      <td>NaN</td>\n",
              "      <td>NaN</td>\n",
              "      <td>NaN</td>\n",
              "      <td>NaN</td>\n",
              "      <td>NaN</td>\n",
              "      <td>GPE,DATE</td>\n",
              "      <td>population spike chicago 9 months ridiculous</td>\n",
              "      <td>6</td>\n",
              "      <td>True</td>\n",
              "    </tr>\n",
              "    <tr>\n",
              "      <th>3441</th>\n",
              "      <td>You'd think in the second to last English clas...</td>\n",
              "      <td>0</td>\n",
              "      <td>NaN</td>\n",
              "      <td>NaN</td>\n",
              "      <td>NaN</td>\n",
              "      <td>NaN</td>\n",
              "      <td>NaN</td>\n",
              "      <td>NaN</td>\n",
              "      <td>NaN</td>\n",
              "      <td>ORDINAL,LANGUAGE,DATE,PERSON</td>\n",
              "      <td>think second last english class year prof woul...</td>\n",
              "      <td>11</td>\n",
              "      <td>False</td>\n",
              "    </tr>\n",
              "    <tr>\n",
              "      <th>3442</th>\n",
              "      <td>I’m finally surfacing after a holiday to Scotl...</td>\n",
              "      <td>0</td>\n",
              "      <td>NaN</td>\n",
              "      <td>NaN</td>\n",
              "      <td>NaN</td>\n",
              "      <td>NaN</td>\n",
              "      <td>NaN</td>\n",
              "      <td>NaN</td>\n",
              "      <td>NaN</td>\n",
              "      <td>GPE,DATE,DATE,DATE,DATE</td>\n",
              "      <td>finally surface holiday scotland difficult day...</td>\n",
              "      <td>26</td>\n",
              "      <td>True</td>\n",
              "    </tr>\n",
              "    <tr>\n",
              "      <th>3443</th>\n",
              "      <td>Couldn't be prouder today. Well done to every ...</td>\n",
              "      <td>0</td>\n",
              "      <td>NaN</td>\n",
              "      <td>NaN</td>\n",
              "      <td>NaN</td>\n",
              "      <td>NaN</td>\n",
              "      <td>NaN</td>\n",
              "      <td>NaN</td>\n",
              "      <td>NaN</td>\n",
              "      <td>DATE,TIME,DATE,MONEY</td>\n",
              "      <td>prouder today well do every student get gcses ...</td>\n",
              "      <td>22</td>\n",
              "      <td>True</td>\n",
              "    </tr>\n",
              "    <tr>\n",
              "      <th>3444</th>\n",
              "      <td>Overheard as my 13 year old games with a frien...</td>\n",
              "      <td>0</td>\n",
              "      <td>NaN</td>\n",
              "      <td>NaN</td>\n",
              "      <td>NaN</td>\n",
              "      <td>NaN</td>\n",
              "      <td>NaN</td>\n",
              "      <td>NaN</td>\n",
              "      <td>NaN</td>\n",
              "      <td>DATE,MONEY</td>\n",
              "      <td>overhear 13 year old game friend smell like ta...</td>\n",
              "      <td>11</td>\n",
              "      <td>True</td>\n",
              "    </tr>\n",
              "  </tbody>\n",
              "</table>\n",
              "<p>3445 rows × 13 columns</p>\n",
              "</div>\n",
              "      <button class=\"colab-df-convert\" onclick=\"convertToInteractive('df-f6c19565-e3b4-4e36-a1ef-69261317b151')\"\n",
              "              title=\"Convert this dataframe to an interactive table.\"\n",
              "              style=\"display:none;\">\n",
              "        \n",
              "  <svg xmlns=\"http://www.w3.org/2000/svg\" height=\"24px\"viewBox=\"0 0 24 24\"\n",
              "       width=\"24px\">\n",
              "    <path d=\"M0 0h24v24H0V0z\" fill=\"none\"/>\n",
              "    <path d=\"M18.56 5.44l.94 2.06.94-2.06 2.06-.94-2.06-.94-.94-2.06-.94 2.06-2.06.94zm-11 1L8.5 8.5l.94-2.06 2.06-.94-2.06-.94L8.5 2.5l-.94 2.06-2.06.94zm10 10l.94 2.06.94-2.06 2.06-.94-2.06-.94-.94-2.06-.94 2.06-2.06.94z\"/><path d=\"M17.41 7.96l-1.37-1.37c-.4-.4-.92-.59-1.43-.59-.52 0-1.04.2-1.43.59L10.3 9.45l-7.72 7.72c-.78.78-.78 2.05 0 2.83L4 21.41c.39.39.9.59 1.41.59.51 0 1.02-.2 1.41-.59l7.78-7.78 2.81-2.81c.8-.78.8-2.07 0-2.86zM5.41 20L4 18.59l7.72-7.72 1.47 1.35L5.41 20z\"/>\n",
              "  </svg>\n",
              "      </button>\n",
              "      \n",
              "  <style>\n",
              "    .colab-df-container {\n",
              "      display:flex;\n",
              "      flex-wrap:wrap;\n",
              "      gap: 12px;\n",
              "    }\n",
              "\n",
              "    .colab-df-convert {\n",
              "      background-color: #E8F0FE;\n",
              "      border: none;\n",
              "      border-radius: 50%;\n",
              "      cursor: pointer;\n",
              "      display: none;\n",
              "      fill: #1967D2;\n",
              "      height: 32px;\n",
              "      padding: 0 0 0 0;\n",
              "      width: 32px;\n",
              "    }\n",
              "\n",
              "    .colab-df-convert:hover {\n",
              "      background-color: #E2EBFA;\n",
              "      box-shadow: 0px 1px 2px rgba(60, 64, 67, 0.3), 0px 1px 3px 1px rgba(60, 64, 67, 0.15);\n",
              "      fill: #174EA6;\n",
              "    }\n",
              "\n",
              "    [theme=dark] .colab-df-convert {\n",
              "      background-color: #3B4455;\n",
              "      fill: #D2E3FC;\n",
              "    }\n",
              "\n",
              "    [theme=dark] .colab-df-convert:hover {\n",
              "      background-color: #434B5C;\n",
              "      box-shadow: 0px 1px 3px 1px rgba(0, 0, 0, 0.15);\n",
              "      filter: drop-shadow(0px 1px 2px rgba(0, 0, 0, 0.3));\n",
              "      fill: #FFFFFF;\n",
              "    }\n",
              "  </style>\n",
              "\n",
              "      <script>\n",
              "        const buttonEl =\n",
              "          document.querySelector('#df-f6c19565-e3b4-4e36-a1ef-69261317b151 button.colab-df-convert');\n",
              "        buttonEl.style.display =\n",
              "          google.colab.kernel.accessAllowed ? 'block' : 'none';\n",
              "\n",
              "        async function convertToInteractive(key) {\n",
              "          const element = document.querySelector('#df-f6c19565-e3b4-4e36-a1ef-69261317b151');\n",
              "          const dataTable =\n",
              "            await google.colab.kernel.invokeFunction('convertToInteractive',\n",
              "                                                     [key], {});\n",
              "          if (!dataTable) return;\n",
              "\n",
              "          const docLinkHtml = 'Like what you see? Visit the ' +\n",
              "            '<a target=\"_blank\" href=https://colab.research.google.com/notebooks/data_table.ipynb>data table notebook</a>'\n",
              "            + ' to learn more about interactive tables.';\n",
              "          element.innerHTML = '';\n",
              "          dataTable['output_type'] = 'display_data';\n",
              "          await google.colab.output.renderOutput(dataTable, element);\n",
              "          const docLink = document.createElement('div');\n",
              "          docLink.innerHTML = docLinkHtml;\n",
              "          element.appendChild(docLink);\n",
              "        }\n",
              "      </script>\n",
              "    </div>\n",
              "  </div>\n",
              "  "
            ],
            "text/plain": [
              "                                                  tweet  sarcastic  \\\n",
              "0     The only thing I got from college is a caffein...          1   \n",
              "1     I love it when professors draw a big question ...          1   \n",
              "2     Remember the hundred emails from companies whe...          1   \n",
              "3     Today my pop-pop told me I was not “forced” to...          1   \n",
              "4     @VolphanCarol @littlewhitty @mysticalmanatee I...          1   \n",
              "...                                                 ...        ...   \n",
              "3440  The population spike in Chicago in 9 months is...          0   \n",
              "3441  You'd think in the second to last English clas...          0   \n",
              "3442  I’m finally surfacing after a holiday to Scotl...          0   \n",
              "3443  Couldn't be prouder today. Well done to every ...          0   \n",
              "3444  Overheard as my 13 year old games with a frien...          0   \n",
              "\n",
              "                                               rephrase  sarcasm  irony  \\\n",
              "0     College is really difficult, expensive, tiring...      0.0    1.0   \n",
              "1     I do not like when professors don’t write out ...      1.0    0.0   \n",
              "2     I, at the bare minimum, wish companies actuall...      0.0    1.0   \n",
              "3     Today my pop-pop told me I was not \"forced\" to...      1.0    0.0   \n",
              "4     I would say Ted Cruz is an asshole and doesn’t...      1.0    0.0   \n",
              "...                                                 ...      ...    ...   \n",
              "3440                                                NaN      NaN    NaN   \n",
              "3441                                                NaN      NaN    NaN   \n",
              "3442                                                NaN      NaN    NaN   \n",
              "3443                                                NaN      NaN    NaN   \n",
              "3444                                                NaN      NaN    NaN   \n",
              "\n",
              "      satire  understatement  overstatement  rhetorical_question  \\\n",
              "0        0.0             0.0            0.0                  0.0   \n",
              "1        0.0             0.0            0.0                  0.0   \n",
              "2        0.0             0.0            0.0                  0.0   \n",
              "3        0.0             0.0            0.0                  0.0   \n",
              "4        0.0             0.0            0.0                  0.0   \n",
              "...      ...             ...            ...                  ...   \n",
              "3440     NaN             NaN            NaN                  NaN   \n",
              "3441     NaN             NaN            NaN                  NaN   \n",
              "3442     NaN             NaN            NaN                  NaN   \n",
              "3443     NaN             NaN            NaN                  NaN   \n",
              "3444     NaN             NaN            NaN                  NaN   \n",
              "\n",
              "                            entity  \\\n",
              "0                                    \n",
              "1                                    \n",
              "2         CARDINAL,PERSON,CARDINAL   \n",
              "3                             DATE   \n",
              "4                       PERSON,GPE   \n",
              "...                            ...   \n",
              "3440                      GPE,DATE   \n",
              "3441  ORDINAL,LANGUAGE,DATE,PERSON   \n",
              "3442       GPE,DATE,DATE,DATE,DATE   \n",
              "3443          DATE,TIME,DATE,MONEY   \n",
              "3444                    DATE,MONEY   \n",
              "\n",
              "                                            clean_tweet  sentence_length  \\\n",
              "0                  thing get college caffeine addiction                5   \n",
              "1     love professors draw big question mark next an...               13   \n",
              "2     remember hundred email company covid start get...               24   \n",
              "3     today pop pop tell not force go college okay s...               11   \n",
              "4     volphancarol littlewhitty mysticalmanatee also...               16   \n",
              "...                                                 ...              ...   \n",
              "3440       population spike chicago 9 months ridiculous                6   \n",
              "3441  think second last english class year prof woul...               11   \n",
              "3442  finally surface holiday scotland difficult day...               26   \n",
              "3443  prouder today well do every student get gcses ...               22   \n",
              "3444  overhear 13 year old game friend smell like ta...               11   \n",
              "\n",
              "      contains_number  \n",
              "0               False  \n",
              "1               False  \n",
              "2               False  \n",
              "3               False  \n",
              "4               False  \n",
              "...               ...  \n",
              "3440             True  \n",
              "3441            False  \n",
              "3442             True  \n",
              "3443             True  \n",
              "3444             True  \n",
              "\n",
              "[3445 rows x 13 columns]"
            ]
          },
          "execution_count": 29,
          "metadata": {},
          "output_type": "execute_result"
        }
      ],
      "source": [
        "data['contains_number'] = data['clean_tweet'].apply(lambda x: bool(re.search(r'\\d+', x)))\n",
        "data"
      ]
    },
    {
      "cell_type": "code",
      "execution_count": null,
      "metadata": {
        "id": "VfGA9AACztXP"
      },
      "outputs": [],
      "source": []
    },
    {
      "cell_type": "markdown",
      "metadata": {
        "id": "8AVbZ092z61W"
      },
      "source": [
        "## 1-6 Analysis of Samples Containing numbers of Time, Date or Cardinal Entity type\n",
        "<ul>\n",
        "<li>The numbers in a text data can have different implications</li>\n",
        "<li>While the naive text preprocessing methods suggest that the numbers should be removed along with the special characters</li>\n",
        "<li>The entity type of these numbers should be identified to get their exact implications\n",
        "</li>\n",
        "</ul>"
      ]
    },
    {
      "cell_type": "markdown",
      "metadata": {
        "id": "0qMgtu6D0dio"
      },
      "source": [
        "### 10 Random Samples: Date Entity"
      ]
    },
    {
      "cell_type": "code",
      "execution_count": null,
      "metadata": {
        "colab": {
          "base_uri": "https://localhost:8080/",
          "height": 947
        },
        "id": "d-MaldWg0Kg7",
        "outputId": "b4878711-3017-4d2a-b633-db029814ef59"
      },
      "outputs": [
        {
          "data": {
            "text/html": [
              "\n",
              "  <div id=\"df-e84941c3-2c09-45fd-ab2c-1be5d297579a\">\n",
              "    <div class=\"colab-df-container\">\n",
              "      <div>\n",
              "<style scoped>\n",
              "    .dataframe tbody tr th:only-of-type {\n",
              "        vertical-align: middle;\n",
              "    }\n",
              "\n",
              "    .dataframe tbody tr th {\n",
              "        vertical-align: top;\n",
              "    }\n",
              "\n",
              "    .dataframe thead th {\n",
              "        text-align: right;\n",
              "    }\n",
              "</style>\n",
              "<table border=\"1\" class=\"dataframe\">\n",
              "  <thead>\n",
              "    <tr style=\"text-align: right;\">\n",
              "      <th></th>\n",
              "      <th>tweet</th>\n",
              "      <th>sarcastic</th>\n",
              "      <th>rephrase</th>\n",
              "      <th>sarcasm</th>\n",
              "      <th>irony</th>\n",
              "      <th>satire</th>\n",
              "      <th>understatement</th>\n",
              "      <th>overstatement</th>\n",
              "      <th>rhetorical_question</th>\n",
              "      <th>entity</th>\n",
              "      <th>clean_tweet</th>\n",
              "      <th>sentence_length</th>\n",
              "      <th>contains_number</th>\n",
              "    </tr>\n",
              "  </thead>\n",
              "  <tbody>\n",
              "    <tr>\n",
              "      <th>2693</th>\n",
              "      <td>10 years today since I left school. I’m in sho...</td>\n",
              "      <td>0</td>\n",
              "      <td>NaN</td>\n",
              "      <td>NaN</td>\n",
              "      <td>NaN</td>\n",
              "      <td>NaN</td>\n",
              "      <td>NaN</td>\n",
              "      <td>NaN</td>\n",
              "      <td>NaN</td>\n",
              "      <td>DATE</td>\n",
              "      <td>10 years today since leave school shock</td>\n",
              "      <td>7</td>\n",
              "      <td>True</td>\n",
              "    </tr>\n",
              "    <tr>\n",
              "      <th>454</th>\n",
              "      <td>nothing quite says hello 2020 like hypothermia 🥳</td>\n",
              "      <td>1</td>\n",
              "      <td>I would prefer to welcome the new year without...</td>\n",
              "      <td>0.0</td>\n",
              "      <td>1.0</td>\n",
              "      <td>0.0</td>\n",
              "      <td>0.0</td>\n",
              "      <td>0.0</td>\n",
              "      <td>0.0</td>\n",
              "      <td>DATE</td>\n",
              "      <td>nothing quite say hello 2020 like hypothermia</td>\n",
              "      <td>7</td>\n",
              "      <td>True</td>\n",
              "    </tr>\n",
              "    <tr>\n",
              "      <th>1503</th>\n",
              "      <td>The motto of 2021 is: “stop defending shitty m...</td>\n",
              "      <td>0</td>\n",
              "      <td>NaN</td>\n",
              "      <td>NaN</td>\n",
              "      <td>NaN</td>\n",
              "      <td>NaN</td>\n",
              "      <td>NaN</td>\n",
              "      <td>NaN</td>\n",
              "      <td>NaN</td>\n",
              "      <td>DATE</td>\n",
              "      <td>motto 2021 stop defend shitty men not debate</td>\n",
              "      <td>8</td>\n",
              "      <td>True</td>\n",
              "    </tr>\n",
              "    <tr>\n",
              "      <th>2758</th>\n",
              "      <td>The next 4 months just need to be skipped please</td>\n",
              "      <td>0</td>\n",
              "      <td>NaN</td>\n",
              "      <td>NaN</td>\n",
              "      <td>NaN</td>\n",
              "      <td>NaN</td>\n",
              "      <td>NaN</td>\n",
              "      <td>NaN</td>\n",
              "      <td>NaN</td>\n",
              "      <td>DATE</td>\n",
              "      <td>next 4 months need skip please</td>\n",
              "      <td>6</td>\n",
              "      <td>True</td>\n",
              "    </tr>\n",
              "    <tr>\n",
              "      <th>1985</th>\n",
              "      <td>The further we get from the year 2000 the more...</td>\n",
              "      <td>0</td>\n",
              "      <td>NaN</td>\n",
              "      <td>NaN</td>\n",
              "      <td>NaN</td>\n",
              "      <td>NaN</td>\n",
              "      <td>NaN</td>\n",
              "      <td>NaN</td>\n",
              "      <td>NaN</td>\n",
              "      <td>DATE</td>\n",
              "      <td>get year 2000 confuse passage time</td>\n",
              "      <td>6</td>\n",
              "      <td>True</td>\n",
              "    </tr>\n",
              "    <tr>\n",
              "      <th>2649</th>\n",
              "      <td>if there isn’t a season 2 for never have I eve...</td>\n",
              "      <td>0</td>\n",
              "      <td>NaN</td>\n",
              "      <td>NaN</td>\n",
              "      <td>NaN</td>\n",
              "      <td>NaN</td>\n",
              "      <td>NaN</td>\n",
              "      <td>NaN</td>\n",
              "      <td>NaN</td>\n",
              "      <td>DATE</td>\n",
              "      <td>season 2 never ever netflix im go cry</td>\n",
              "      <td>8</td>\n",
              "      <td>True</td>\n",
              "    </tr>\n",
              "    <tr>\n",
              "      <th>610</th>\n",
              "      <td>I’m gonna miss scantrons shortening my name to...</td>\n",
              "      <td>1</td>\n",
              "      <td>I'm not going to miss scantrons shortening my ...</td>\n",
              "      <td>0.0</td>\n",
              "      <td>1.0</td>\n",
              "      <td>0.0</td>\n",
              "      <td>0.0</td>\n",
              "      <td>0.0</td>\n",
              "      <td>0.0</td>\n",
              "      <td>DATE</td>\n",
              "      <td>gonna miss scantrons shorten name christ 16 years</td>\n",
              "      <td>8</td>\n",
              "      <td>True</td>\n",
              "    </tr>\n",
              "    <tr>\n",
              "      <th>3198</th>\n",
              "      <td>#jackstack @TGIFridays 😍😍😍 https://t.co/J2Ycj5...</td>\n",
              "      <td>0</td>\n",
              "      <td>NaN</td>\n",
              "      <td>NaN</td>\n",
              "      <td>NaN</td>\n",
              "      <td>NaN</td>\n",
              "      <td>NaN</td>\n",
              "      <td>NaN</td>\n",
              "      <td>NaN</td>\n",
              "      <td>DATE</td>\n",
              "      <td>jackstack tgifridays https co j2ycj5wboe</td>\n",
              "      <td>5</td>\n",
              "      <td>True</td>\n",
              "    </tr>\n",
              "    <tr>\n",
              "      <th>3137</th>\n",
              "      <td>okay but my self esteem has multiplied by 7728...</td>\n",
              "      <td>0</td>\n",
              "      <td>NaN</td>\n",
              "      <td>NaN</td>\n",
              "      <td>NaN</td>\n",
              "      <td>NaN</td>\n",
              "      <td>NaN</td>\n",
              "      <td>NaN</td>\n",
              "      <td>NaN</td>\n",
              "      <td>DATE</td>\n",
              "      <td>okay self esteem multiply 772827 since get brace</td>\n",
              "      <td>8</td>\n",
              "      <td>True</td>\n",
              "    </tr>\n",
              "    <tr>\n",
              "      <th>2380</th>\n",
              "      <td>I despise 2021</td>\n",
              "      <td>0</td>\n",
              "      <td>NaN</td>\n",
              "      <td>NaN</td>\n",
              "      <td>NaN</td>\n",
              "      <td>NaN</td>\n",
              "      <td>NaN</td>\n",
              "      <td>NaN</td>\n",
              "      <td>NaN</td>\n",
              "      <td>DATE</td>\n",
              "      <td>despise 2021</td>\n",
              "      <td>2</td>\n",
              "      <td>True</td>\n",
              "    </tr>\n",
              "  </tbody>\n",
              "</table>\n",
              "</div>\n",
              "      <button class=\"colab-df-convert\" onclick=\"convertToInteractive('df-e84941c3-2c09-45fd-ab2c-1be5d297579a')\"\n",
              "              title=\"Convert this dataframe to an interactive table.\"\n",
              "              style=\"display:none;\">\n",
              "        \n",
              "  <svg xmlns=\"http://www.w3.org/2000/svg\" height=\"24px\"viewBox=\"0 0 24 24\"\n",
              "       width=\"24px\">\n",
              "    <path d=\"M0 0h24v24H0V0z\" fill=\"none\"/>\n",
              "    <path d=\"M18.56 5.44l.94 2.06.94-2.06 2.06-.94-2.06-.94-.94-2.06-.94 2.06-2.06.94zm-11 1L8.5 8.5l.94-2.06 2.06-.94-2.06-.94L8.5 2.5l-.94 2.06-2.06.94zm10 10l.94 2.06.94-2.06 2.06-.94-2.06-.94-.94-2.06-.94 2.06-2.06.94z\"/><path d=\"M17.41 7.96l-1.37-1.37c-.4-.4-.92-.59-1.43-.59-.52 0-1.04.2-1.43.59L10.3 9.45l-7.72 7.72c-.78.78-.78 2.05 0 2.83L4 21.41c.39.39.9.59 1.41.59.51 0 1.02-.2 1.41-.59l7.78-7.78 2.81-2.81c.8-.78.8-2.07 0-2.86zM5.41 20L4 18.59l7.72-7.72 1.47 1.35L5.41 20z\"/>\n",
              "  </svg>\n",
              "      </button>\n",
              "      \n",
              "  <style>\n",
              "    .colab-df-container {\n",
              "      display:flex;\n",
              "      flex-wrap:wrap;\n",
              "      gap: 12px;\n",
              "    }\n",
              "\n",
              "    .colab-df-convert {\n",
              "      background-color: #E8F0FE;\n",
              "      border: none;\n",
              "      border-radius: 50%;\n",
              "      cursor: pointer;\n",
              "      display: none;\n",
              "      fill: #1967D2;\n",
              "      height: 32px;\n",
              "      padding: 0 0 0 0;\n",
              "      width: 32px;\n",
              "    }\n",
              "\n",
              "    .colab-df-convert:hover {\n",
              "      background-color: #E2EBFA;\n",
              "      box-shadow: 0px 1px 2px rgba(60, 64, 67, 0.3), 0px 1px 3px 1px rgba(60, 64, 67, 0.15);\n",
              "      fill: #174EA6;\n",
              "    }\n",
              "\n",
              "    [theme=dark] .colab-df-convert {\n",
              "      background-color: #3B4455;\n",
              "      fill: #D2E3FC;\n",
              "    }\n",
              "\n",
              "    [theme=dark] .colab-df-convert:hover {\n",
              "      background-color: #434B5C;\n",
              "      box-shadow: 0px 1px 3px 1px rgba(0, 0, 0, 0.15);\n",
              "      filter: drop-shadow(0px 1px 2px rgba(0, 0, 0, 0.3));\n",
              "      fill: #FFFFFF;\n",
              "    }\n",
              "  </style>\n",
              "\n",
              "      <script>\n",
              "        const buttonEl =\n",
              "          document.querySelector('#df-e84941c3-2c09-45fd-ab2c-1be5d297579a button.colab-df-convert');\n",
              "        buttonEl.style.display =\n",
              "          google.colab.kernel.accessAllowed ? 'block' : 'none';\n",
              "\n",
              "        async function convertToInteractive(key) {\n",
              "          const element = document.querySelector('#df-e84941c3-2c09-45fd-ab2c-1be5d297579a');\n",
              "          const dataTable =\n",
              "            await google.colab.kernel.invokeFunction('convertToInteractive',\n",
              "                                                     [key], {});\n",
              "          if (!dataTable) return;\n",
              "\n",
              "          const docLinkHtml = 'Like what you see? Visit the ' +\n",
              "            '<a target=\"_blank\" href=https://colab.research.google.com/notebooks/data_table.ipynb>data table notebook</a>'\n",
              "            + ' to learn more about interactive tables.';\n",
              "          element.innerHTML = '';\n",
              "          dataTable['output_type'] = 'display_data';\n",
              "          await google.colab.output.renderOutput(dataTable, element);\n",
              "          const docLink = document.createElement('div');\n",
              "          docLink.innerHTML = docLinkHtml;\n",
              "          element.appendChild(docLink);\n",
              "        }\n",
              "      </script>\n",
              "    </div>\n",
              "  </div>\n",
              "  "
            ],
            "text/plain": [
              "                                                  tweet  sarcastic  \\\n",
              "2693  10 years today since I left school. I’m in sho...          0   \n",
              "454    nothing quite says hello 2020 like hypothermia 🥳          1   \n",
              "1503  The motto of 2021 is: “stop defending shitty m...          0   \n",
              "2758   The next 4 months just need to be skipped please          0   \n",
              "1985  The further we get from the year 2000 the more...          0   \n",
              "2649  if there isn’t a season 2 for never have I eve...          0   \n",
              "610   I’m gonna miss scantrons shortening my name to...          1   \n",
              "3198  #jackstack @TGIFridays 😍😍😍 https://t.co/J2Ycj5...          0   \n",
              "3137  okay but my self esteem has multiplied by 7728...          0   \n",
              "2380                                     I despise 2021          0   \n",
              "\n",
              "                                               rephrase  sarcasm  irony  \\\n",
              "2693                                                NaN      NaN    NaN   \n",
              "454   I would prefer to welcome the new year without...      0.0    1.0   \n",
              "1503                                                NaN      NaN    NaN   \n",
              "2758                                                NaN      NaN    NaN   \n",
              "1985                                                NaN      NaN    NaN   \n",
              "2649                                                NaN      NaN    NaN   \n",
              "610   I'm not going to miss scantrons shortening my ...      0.0    1.0   \n",
              "3198                                                NaN      NaN    NaN   \n",
              "3137                                                NaN      NaN    NaN   \n",
              "2380                                                NaN      NaN    NaN   \n",
              "\n",
              "      satire  understatement  overstatement  rhetorical_question entity  \\\n",
              "2693     NaN             NaN            NaN                  NaN   DATE   \n",
              "454      0.0             0.0            0.0                  0.0   DATE   \n",
              "1503     NaN             NaN            NaN                  NaN   DATE   \n",
              "2758     NaN             NaN            NaN                  NaN   DATE   \n",
              "1985     NaN             NaN            NaN                  NaN   DATE   \n",
              "2649     NaN             NaN            NaN                  NaN   DATE   \n",
              "610      0.0             0.0            0.0                  0.0   DATE   \n",
              "3198     NaN             NaN            NaN                  NaN   DATE   \n",
              "3137     NaN             NaN            NaN                  NaN   DATE   \n",
              "2380     NaN             NaN            NaN                  NaN   DATE   \n",
              "\n",
              "                                            clean_tweet  sentence_length  \\\n",
              "2693            10 years today since leave school shock                7   \n",
              "454       nothing quite say hello 2020 like hypothermia                7   \n",
              "1503       motto 2021 stop defend shitty men not debate                8   \n",
              "2758                     next 4 months need skip please                6   \n",
              "1985                 get year 2000 confuse passage time                6   \n",
              "2649              season 2 never ever netflix im go cry                8   \n",
              "610   gonna miss scantrons shorten name christ 16 years                8   \n",
              "3198           jackstack tgifridays https co j2ycj5wboe                5   \n",
              "3137   okay self esteem multiply 772827 since get brace                8   \n",
              "2380                                       despise 2021                2   \n",
              "\n",
              "      contains_number  \n",
              "2693             True  \n",
              "454              True  \n",
              "1503             True  \n",
              "2758             True  \n",
              "1985             True  \n",
              "2649             True  \n",
              "610              True  \n",
              "3198             True  \n",
              "3137             True  \n",
              "2380             True  "
            ]
          },
          "execution_count": 24,
          "metadata": {},
          "output_type": "execute_result"
        }
      ],
      "source": [
        "data[(data['contains_number']) & (data['sentence_length']<=8) & (data['entity']=='DATE')].sample(10)"
      ]
    },
    {
      "cell_type": "code",
      "execution_count": null,
      "metadata": {
        "id": "cRb8iKow09GQ"
      },
      "outputs": [],
      "source": []
    },
    {
      "cell_type": "markdown",
      "metadata": {
        "id": "YcxuH35b1eDQ"
      },
      "source": [
        "### 10 Random Samples: Time Entity"
      ]
    },
    {
      "cell_type": "code",
      "execution_count": null,
      "metadata": {
        "colab": {
          "base_uri": "https://localhost:8080/",
          "height": 947
        },
        "id": "jeCOkDtE1fuj",
        "outputId": "eb6ecadf-a889-4b2f-831b-a1dbb7726cbe"
      },
      "outputs": [
        {
          "data": {
            "text/html": [
              "\n",
              "  <div id=\"df-8bd7e3f8-6a0c-427c-bde6-7a22e1cf3ca2\">\n",
              "    <div class=\"colab-df-container\">\n",
              "      <div>\n",
              "<style scoped>\n",
              "    .dataframe tbody tr th:only-of-type {\n",
              "        vertical-align: middle;\n",
              "    }\n",
              "\n",
              "    .dataframe tbody tr th {\n",
              "        vertical-align: top;\n",
              "    }\n",
              "\n",
              "    .dataframe thead th {\n",
              "        text-align: right;\n",
              "    }\n",
              "</style>\n",
              "<table border=\"1\" class=\"dataframe\">\n",
              "  <thead>\n",
              "    <tr style=\"text-align: right;\">\n",
              "      <th></th>\n",
              "      <th>tweet</th>\n",
              "      <th>sarcastic</th>\n",
              "      <th>rephrase</th>\n",
              "      <th>sarcasm</th>\n",
              "      <th>irony</th>\n",
              "      <th>satire</th>\n",
              "      <th>understatement</th>\n",
              "      <th>overstatement</th>\n",
              "      <th>rhetorical_question</th>\n",
              "      <th>entity</th>\n",
              "      <th>clean_tweet</th>\n",
              "      <th>sentence_length</th>\n",
              "      <th>contains_number</th>\n",
              "    </tr>\n",
              "  </thead>\n",
              "  <tbody>\n",
              "    <tr>\n",
              "      <th>591</th>\n",
              "      <td>2 minutes into the book and I already hate the...</td>\n",
              "      <td>1</td>\n",
              "      <td>I do not enjoy the main character of this book.</td>\n",
              "      <td>0.0</td>\n",
              "      <td>1.0</td>\n",
              "      <td>0.0</td>\n",
              "      <td>0.0</td>\n",
              "      <td>0.0</td>\n",
              "      <td>0.0</td>\n",
              "      <td>TIME</td>\n",
              "      <td>2 minutes book already hate main character lovely</td>\n",
              "      <td>8</td>\n",
              "      <td>True</td>\n",
              "    </tr>\n",
              "    <tr>\n",
              "      <th>678</th>\n",
              "      <td>i love 6 hour panic attacks</td>\n",
              "      <td>1</td>\n",
              "      <td>I don't like having 6-hour panic attacks.</td>\n",
              "      <td>1.0</td>\n",
              "      <td>0.0</td>\n",
              "      <td>0.0</td>\n",
              "      <td>0.0</td>\n",
              "      <td>0.0</td>\n",
              "      <td>0.0</td>\n",
              "      <td>TIME</td>\n",
              "      <td>love 6 hour panic attack</td>\n",
              "      <td>5</td>\n",
              "      <td>True</td>\n",
              "    </tr>\n",
              "    <tr>\n",
              "      <th>2078</th>\n",
              "      <td>Look at me go. I've won myself afternoon tea! ...</td>\n",
              "      <td>0</td>\n",
              "      <td>NaN</td>\n",
              "      <td>NaN</td>\n",
              "      <td>NaN</td>\n",
              "      <td>NaN</td>\n",
              "      <td>NaN</td>\n",
              "      <td>NaN</td>\n",
              "      <td>NaN</td>\n",
              "      <td>TIME</td>\n",
              "      <td>look go afternoon tea http co h7xr5xrnnz</td>\n",
              "      <td>7</td>\n",
              "      <td>True</td>\n",
              "    </tr>\n",
              "    <tr>\n",
              "      <th>806</th>\n",
              "      <td>When you get woken up at 3am because of afters...</td>\n",
              "      <td>1</td>\n",
              "      <td>That was not fun being woken up at 3am because...</td>\n",
              "      <td>0.0</td>\n",
              "      <td>1.0</td>\n",
              "      <td>0.0</td>\n",
              "      <td>0.0</td>\n",
              "      <td>0.0</td>\n",
              "      <td>0.0</td>\n",
              "      <td>TIME</td>\n",
              "      <td>get wake 3am aftershocks earthquake</td>\n",
              "      <td>5</td>\n",
              "      <td>True</td>\n",
              "    </tr>\n",
              "    <tr>\n",
              "      <th>2981</th>\n",
              "      <td>I’ve been awake for 21 hours</td>\n",
              "      <td>0</td>\n",
              "      <td>NaN</td>\n",
              "      <td>NaN</td>\n",
              "      <td>NaN</td>\n",
              "      <td>NaN</td>\n",
              "      <td>NaN</td>\n",
              "      <td>NaN</td>\n",
              "      <td>NaN</td>\n",
              "      <td>TIME</td>\n",
              "      <td>awake 21 hours</td>\n",
              "      <td>3</td>\n",
              "      <td>True</td>\n",
              "    </tr>\n",
              "    <tr>\n",
              "      <th>1041</th>\n",
              "      <td>Got some beers in for the keynote, roll on 6pm</td>\n",
              "      <td>0</td>\n",
              "      <td>NaN</td>\n",
              "      <td>NaN</td>\n",
              "      <td>NaN</td>\n",
              "      <td>NaN</td>\n",
              "      <td>NaN</td>\n",
              "      <td>NaN</td>\n",
              "      <td>NaN</td>\n",
              "      <td>TIME</td>\n",
              "      <td>get beers keynote roll 6pm</td>\n",
              "      <td>5</td>\n",
              "      <td>True</td>\n",
              "    </tr>\n",
              "    <tr>\n",
              "      <th>3277</th>\n",
              "      <td>After 22 hours of travelling, it’s so nice to ...</td>\n",
              "      <td>0</td>\n",
              "      <td>NaN</td>\n",
              "      <td>NaN</td>\n",
              "      <td>NaN</td>\n",
              "      <td>NaN</td>\n",
              "      <td>NaN</td>\n",
              "      <td>NaN</td>\n",
              "      <td>NaN</td>\n",
              "      <td>TIME</td>\n",
              "      <td>22 hours travel nice home</td>\n",
              "      <td>5</td>\n",
              "      <td>True</td>\n",
              "    </tr>\n",
              "    <tr>\n",
              "      <th>2736</th>\n",
              "      <td>#JoanneWorldTour I've literally been refreshin...</td>\n",
              "      <td>0</td>\n",
              "      <td>NaN</td>\n",
              "      <td>NaN</td>\n",
              "      <td>NaN</td>\n",
              "      <td>NaN</td>\n",
              "      <td>NaN</td>\n",
              "      <td>NaN</td>\n",
              "      <td>NaN</td>\n",
              "      <td>TIME</td>\n",
              "      <td>joanneworldtour literally refresh twitter 2 ho...</td>\n",
              "      <td>8</td>\n",
              "      <td>True</td>\n",
              "    </tr>\n",
              "    <tr>\n",
              "      <th>1537</th>\n",
              "      <td>#reputation is everything I needed before this...</td>\n",
              "      <td>0</td>\n",
              "      <td>NaN</td>\n",
              "      <td>NaN</td>\n",
              "      <td>NaN</td>\n",
              "      <td>NaN</td>\n",
              "      <td>NaN</td>\n",
              "      <td>NaN</td>\n",
              "      <td>NaN</td>\n",
              "      <td>TIME</td>\n",
              "      <td>reputation everything need 13 5 hour flight</td>\n",
              "      <td>7</td>\n",
              "      <td>True</td>\n",
              "    </tr>\n",
              "    <tr>\n",
              "      <th>1639</th>\n",
              "      <td>I need the weekends to stop being like 20 minu...</td>\n",
              "      <td>0</td>\n",
              "      <td>NaN</td>\n",
              "      <td>NaN</td>\n",
              "      <td>NaN</td>\n",
              "      <td>NaN</td>\n",
              "      <td>NaN</td>\n",
              "      <td>NaN</td>\n",
              "      <td>NaN</td>\n",
              "      <td>TIME</td>\n",
              "      <td>need weekend stop like 20 minutes long</td>\n",
              "      <td>7</td>\n",
              "      <td>True</td>\n",
              "    </tr>\n",
              "  </tbody>\n",
              "</table>\n",
              "</div>\n",
              "      <button class=\"colab-df-convert\" onclick=\"convertToInteractive('df-8bd7e3f8-6a0c-427c-bde6-7a22e1cf3ca2')\"\n",
              "              title=\"Convert this dataframe to an interactive table.\"\n",
              "              style=\"display:none;\">\n",
              "        \n",
              "  <svg xmlns=\"http://www.w3.org/2000/svg\" height=\"24px\"viewBox=\"0 0 24 24\"\n",
              "       width=\"24px\">\n",
              "    <path d=\"M0 0h24v24H0V0z\" fill=\"none\"/>\n",
              "    <path d=\"M18.56 5.44l.94 2.06.94-2.06 2.06-.94-2.06-.94-.94-2.06-.94 2.06-2.06.94zm-11 1L8.5 8.5l.94-2.06 2.06-.94-2.06-.94L8.5 2.5l-.94 2.06-2.06.94zm10 10l.94 2.06.94-2.06 2.06-.94-2.06-.94-.94-2.06-.94 2.06-2.06.94z\"/><path d=\"M17.41 7.96l-1.37-1.37c-.4-.4-.92-.59-1.43-.59-.52 0-1.04.2-1.43.59L10.3 9.45l-7.72 7.72c-.78.78-.78 2.05 0 2.83L4 21.41c.39.39.9.59 1.41.59.51 0 1.02-.2 1.41-.59l7.78-7.78 2.81-2.81c.8-.78.8-2.07 0-2.86zM5.41 20L4 18.59l7.72-7.72 1.47 1.35L5.41 20z\"/>\n",
              "  </svg>\n",
              "      </button>\n",
              "      \n",
              "  <style>\n",
              "    .colab-df-container {\n",
              "      display:flex;\n",
              "      flex-wrap:wrap;\n",
              "      gap: 12px;\n",
              "    }\n",
              "\n",
              "    .colab-df-convert {\n",
              "      background-color: #E8F0FE;\n",
              "      border: none;\n",
              "      border-radius: 50%;\n",
              "      cursor: pointer;\n",
              "      display: none;\n",
              "      fill: #1967D2;\n",
              "      height: 32px;\n",
              "      padding: 0 0 0 0;\n",
              "      width: 32px;\n",
              "    }\n",
              "\n",
              "    .colab-df-convert:hover {\n",
              "      background-color: #E2EBFA;\n",
              "      box-shadow: 0px 1px 2px rgba(60, 64, 67, 0.3), 0px 1px 3px 1px rgba(60, 64, 67, 0.15);\n",
              "      fill: #174EA6;\n",
              "    }\n",
              "\n",
              "    [theme=dark] .colab-df-convert {\n",
              "      background-color: #3B4455;\n",
              "      fill: #D2E3FC;\n",
              "    }\n",
              "\n",
              "    [theme=dark] .colab-df-convert:hover {\n",
              "      background-color: #434B5C;\n",
              "      box-shadow: 0px 1px 3px 1px rgba(0, 0, 0, 0.15);\n",
              "      filter: drop-shadow(0px 1px 2px rgba(0, 0, 0, 0.3));\n",
              "      fill: #FFFFFF;\n",
              "    }\n",
              "  </style>\n",
              "\n",
              "      <script>\n",
              "        const buttonEl =\n",
              "          document.querySelector('#df-8bd7e3f8-6a0c-427c-bde6-7a22e1cf3ca2 button.colab-df-convert');\n",
              "        buttonEl.style.display =\n",
              "          google.colab.kernel.accessAllowed ? 'block' : 'none';\n",
              "\n",
              "        async function convertToInteractive(key) {\n",
              "          const element = document.querySelector('#df-8bd7e3f8-6a0c-427c-bde6-7a22e1cf3ca2');\n",
              "          const dataTable =\n",
              "            await google.colab.kernel.invokeFunction('convertToInteractive',\n",
              "                                                     [key], {});\n",
              "          if (!dataTable) return;\n",
              "\n",
              "          const docLinkHtml = 'Like what you see? Visit the ' +\n",
              "            '<a target=\"_blank\" href=https://colab.research.google.com/notebooks/data_table.ipynb>data table notebook</a>'\n",
              "            + ' to learn more about interactive tables.';\n",
              "          element.innerHTML = '';\n",
              "          dataTable['output_type'] = 'display_data';\n",
              "          await google.colab.output.renderOutput(dataTable, element);\n",
              "          const docLink = document.createElement('div');\n",
              "          docLink.innerHTML = docLinkHtml;\n",
              "          element.appendChild(docLink);\n",
              "        }\n",
              "      </script>\n",
              "    </div>\n",
              "  </div>\n",
              "  "
            ],
            "text/plain": [
              "                                                  tweet  sarcastic  \\\n",
              "591   2 minutes into the book and I already hate the...          1   \n",
              "678                         i love 6 hour panic attacks          1   \n",
              "2078  Look at me go. I've won myself afternoon tea! ...          0   \n",
              "806   When you get woken up at 3am because of afters...          1   \n",
              "2981                       I’ve been awake for 21 hours          0   \n",
              "1041     Got some beers in for the keynote, roll on 6pm          0   \n",
              "3277  After 22 hours of travelling, it’s so nice to ...          0   \n",
              "2736  #JoanneWorldTour I've literally been refreshin...          0   \n",
              "1537  #reputation is everything I needed before this...          0   \n",
              "1639  I need the weekends to stop being like 20 minu...          0   \n",
              "\n",
              "                                               rephrase  sarcasm  irony  \\\n",
              "591     I do not enjoy the main character of this book.      0.0    1.0   \n",
              "678           I don't like having 6-hour panic attacks.      1.0    0.0   \n",
              "2078                                                NaN      NaN    NaN   \n",
              "806   That was not fun being woken up at 3am because...      0.0    1.0   \n",
              "2981                                                NaN      NaN    NaN   \n",
              "1041                                                NaN      NaN    NaN   \n",
              "3277                                                NaN      NaN    NaN   \n",
              "2736                                                NaN      NaN    NaN   \n",
              "1537                                                NaN      NaN    NaN   \n",
              "1639                                                NaN      NaN    NaN   \n",
              "\n",
              "      satire  understatement  overstatement  rhetorical_question entity  \\\n",
              "591      0.0             0.0            0.0                  0.0   TIME   \n",
              "678      0.0             0.0            0.0                  0.0   TIME   \n",
              "2078     NaN             NaN            NaN                  NaN   TIME   \n",
              "806      0.0             0.0            0.0                  0.0   TIME   \n",
              "2981     NaN             NaN            NaN                  NaN   TIME   \n",
              "1041     NaN             NaN            NaN                  NaN   TIME   \n",
              "3277     NaN             NaN            NaN                  NaN   TIME   \n",
              "2736     NaN             NaN            NaN                  NaN   TIME   \n",
              "1537     NaN             NaN            NaN                  NaN   TIME   \n",
              "1639     NaN             NaN            NaN                  NaN   TIME   \n",
              "\n",
              "                                            clean_tweet  sentence_length  \\\n",
              "591   2 minutes book already hate main character lovely                8   \n",
              "678                            love 6 hour panic attack                5   \n",
              "2078           look go afternoon tea http co h7xr5xrnnz                7   \n",
              "806                 get wake 3am aftershocks earthquake                5   \n",
              "2981                                     awake 21 hours                3   \n",
              "1041                         get beers keynote roll 6pm                5   \n",
              "3277                          22 hours travel nice home                5   \n",
              "2736  joanneworldtour literally refresh twitter 2 ho...                8   \n",
              "1537        reputation everything need 13 5 hour flight                7   \n",
              "1639             need weekend stop like 20 minutes long                7   \n",
              "\n",
              "      contains_number  \n",
              "591              True  \n",
              "678              True  \n",
              "2078             True  \n",
              "806              True  \n",
              "2981             True  \n",
              "1041             True  \n",
              "3277             True  \n",
              "2736             True  \n",
              "1537             True  \n",
              "1639             True  "
            ]
          },
          "execution_count": 25,
          "metadata": {},
          "output_type": "execute_result"
        }
      ],
      "source": [
        "data[(data['contains_number']) & (data['sentence_length']<=8) & (data['entity']=='TIME')].sample(10)"
      ]
    },
    {
      "cell_type": "markdown",
      "metadata": {
        "id": "F3A8C5Am1n5O"
      },
      "source": [
        "### 10 Random Samples: Cardinal Entity"
      ]
    },
    {
      "cell_type": "code",
      "execution_count": null,
      "metadata": {
        "colab": {
          "base_uri": "https://localhost:8080/",
          "height": 875
        },
        "id": "VBXHfO_j1whz",
        "outputId": "aa10bb2b-2c70-44d0-ec00-99b6d9f96f9d"
      },
      "outputs": [
        {
          "data": {
            "text/html": [
              "\n",
              "  <div id=\"df-e42772ce-52fe-4452-8c8b-f7e90226df99\">\n",
              "    <div class=\"colab-df-container\">\n",
              "      <div>\n",
              "<style scoped>\n",
              "    .dataframe tbody tr th:only-of-type {\n",
              "        vertical-align: middle;\n",
              "    }\n",
              "\n",
              "    .dataframe tbody tr th {\n",
              "        vertical-align: top;\n",
              "    }\n",
              "\n",
              "    .dataframe thead th {\n",
              "        text-align: right;\n",
              "    }\n",
              "</style>\n",
              "<table border=\"1\" class=\"dataframe\">\n",
              "  <thead>\n",
              "    <tr style=\"text-align: right;\">\n",
              "      <th></th>\n",
              "      <th>tweet</th>\n",
              "      <th>sarcastic</th>\n",
              "      <th>rephrase</th>\n",
              "      <th>sarcasm</th>\n",
              "      <th>irony</th>\n",
              "      <th>satire</th>\n",
              "      <th>understatement</th>\n",
              "      <th>overstatement</th>\n",
              "      <th>rhetorical_question</th>\n",
              "      <th>entity</th>\n",
              "      <th>clean_tweet</th>\n",
              "      <th>sentence_length</th>\n",
              "      <th>contains_number</th>\n",
              "    </tr>\n",
              "  </thead>\n",
              "  <tbody>\n",
              "    <tr>\n",
              "      <th>2740</th>\n",
              "      <td>10 things i hate about you is the best movie o...</td>\n",
              "      <td>0</td>\n",
              "      <td>NaN</td>\n",
              "      <td>NaN</td>\n",
              "      <td>NaN</td>\n",
              "      <td>NaN</td>\n",
              "      <td>NaN</td>\n",
              "      <td>NaN</td>\n",
              "      <td>NaN</td>\n",
              "      <td>CARDINAL</td>\n",
              "      <td>10 things hate best movie time</td>\n",
              "      <td>6</td>\n",
              "      <td>True</td>\n",
              "    </tr>\n",
              "    <tr>\n",
              "      <th>2329</th>\n",
              "      <td>just rang 6 of my friends and none of them pic...</td>\n",
              "      <td>0</td>\n",
              "      <td>NaN</td>\n",
              "      <td>NaN</td>\n",
              "      <td>NaN</td>\n",
              "      <td>NaN</td>\n",
              "      <td>NaN</td>\n",
              "      <td>NaN</td>\n",
              "      <td>NaN</td>\n",
              "      <td>CARDINAL</td>\n",
              "      <td>ring 6 friends none pick https co etbeo4lqqk</td>\n",
              "      <td>8</td>\n",
              "      <td>True</td>\n",
              "    </tr>\n",
              "    <tr>\n",
              "      <th>228</th>\n",
              "      <td>I love when I start choking on my water in my ...</td>\n",
              "      <td>1</td>\n",
              "      <td>It was embarrassing when I choked on water in ...</td>\n",
              "      <td>1.0</td>\n",
              "      <td>0.0</td>\n",
              "      <td>0.0</td>\n",
              "      <td>0.0</td>\n",
              "      <td>0.0</td>\n",
              "      <td>0.0</td>\n",
              "      <td>CARDINAL</td>\n",
              "      <td>love start choke water 8 person class</td>\n",
              "      <td>7</td>\n",
              "      <td>True</td>\n",
              "    </tr>\n",
              "    <tr>\n",
              "      <th>265</th>\n",
              "      <td>WHO LET THE LAUNDRY PILE UP 5 BASKETS. Goodness.</td>\n",
              "      <td>1</td>\n",
              "      <td>Why did I let the laundry pile up 5 baskets?</td>\n",
              "      <td>1.0</td>\n",
              "      <td>0.0</td>\n",
              "      <td>0.0</td>\n",
              "      <td>0.0</td>\n",
              "      <td>0.0</td>\n",
              "      <td>0.0</td>\n",
              "      <td>CARDINAL</td>\n",
              "      <td>let laundry pile 5 baskets goodness</td>\n",
              "      <td>6</td>\n",
              "      <td>True</td>\n",
              "    </tr>\n",
              "    <tr>\n",
              "      <th>2170</th>\n",
              "      <td>In ​Bostrom's words: https://t.co/eqt6oEjwcX</td>\n",
              "      <td>0</td>\n",
              "      <td>NaN</td>\n",
              "      <td>NaN</td>\n",
              "      <td>NaN</td>\n",
              "      <td>NaN</td>\n",
              "      <td>NaN</td>\n",
              "      <td>NaN</td>\n",
              "      <td>NaN</td>\n",
              "      <td>CARDINAL</td>\n",
              "      <td>bostrom word https co eqt6oejwcx</td>\n",
              "      <td>5</td>\n",
              "      <td>True</td>\n",
              "    </tr>\n",
              "    <tr>\n",
              "      <th>2364</th>\n",
              "      <td>one of my favs 💔 so sad https://t.co/y7RiY0JU4y</td>\n",
              "      <td>0</td>\n",
              "      <td>NaN</td>\n",
              "      <td>NaN</td>\n",
              "      <td>NaN</td>\n",
              "      <td>NaN</td>\n",
              "      <td>NaN</td>\n",
              "      <td>NaN</td>\n",
              "      <td>NaN</td>\n",
              "      <td>CARDINAL</td>\n",
              "      <td>one favs sad https co y7riy0ju4y</td>\n",
              "      <td>6</td>\n",
              "      <td>True</td>\n",
              "    </tr>\n",
              "    <tr>\n",
              "      <th>719</th>\n",
              "      <td>I'm the highest I'll ever be on 420 in my life...</td>\n",
              "      <td>1</td>\n",
              "      <td>“I’m flying to [location]” because I was just ...</td>\n",
              "      <td>0.0</td>\n",
              "      <td>1.0</td>\n",
              "      <td>0.0</td>\n",
              "      <td>0.0</td>\n",
              "      <td>0.0</td>\n",
              "      <td>0.0</td>\n",
              "      <td>CARDINAL</td>\n",
              "      <td>highest ever 420 life airplane duh</td>\n",
              "      <td>6</td>\n",
              "      <td>True</td>\n",
              "    </tr>\n",
              "    <tr>\n",
              "      <th>2255</th>\n",
              "      <td>i’m still confused why 11 isn’t pronounced one...</td>\n",
              "      <td>0</td>\n",
              "      <td>NaN</td>\n",
              "      <td>NaN</td>\n",
              "      <td>NaN</td>\n",
              "      <td>NaN</td>\n",
              "      <td>NaN</td>\n",
              "      <td>NaN</td>\n",
              "      <td>NaN</td>\n",
              "      <td>CARDINAL</td>\n",
              "      <td>still confuse 11 pronounce onety one</td>\n",
              "      <td>6</td>\n",
              "      <td>True</td>\n",
              "    </tr>\n",
              "    <tr>\n",
              "      <th>2919</th>\n",
              "      <td>@CLBIsA10 @ItsGinjaNinja_ hes fucking horrible</td>\n",
              "      <td>0</td>\n",
              "      <td>NaN</td>\n",
              "      <td>NaN</td>\n",
              "      <td>NaN</td>\n",
              "      <td>NaN</td>\n",
              "      <td>NaN</td>\n",
              "      <td>NaN</td>\n",
              "      <td>NaN</td>\n",
              "      <td>CARDINAL</td>\n",
              "      <td>clbisa10 itsginjaninja hes fuck horrible</td>\n",
              "      <td>5</td>\n",
              "      <td>True</td>\n",
              "    </tr>\n",
              "    <tr>\n",
              "      <th>29</th>\n",
              "      <td>just wondering how to get my diss down by 1500...</td>\n",
              "      <td>1</td>\n",
              "      <td>getting my diss down by 1500 words is not fun.</td>\n",
              "      <td>1.0</td>\n",
              "      <td>0.0</td>\n",
              "      <td>0.0</td>\n",
              "      <td>0.0</td>\n",
              "      <td>0.0</td>\n",
              "      <td>0.0</td>\n",
              "      <td>CARDINAL</td>\n",
              "      <td>wonder get diss 1500 word fun</td>\n",
              "      <td>6</td>\n",
              "      <td>True</td>\n",
              "    </tr>\n",
              "  </tbody>\n",
              "</table>\n",
              "</div>\n",
              "      <button class=\"colab-df-convert\" onclick=\"convertToInteractive('df-e42772ce-52fe-4452-8c8b-f7e90226df99')\"\n",
              "              title=\"Convert this dataframe to an interactive table.\"\n",
              "              style=\"display:none;\">\n",
              "        \n",
              "  <svg xmlns=\"http://www.w3.org/2000/svg\" height=\"24px\"viewBox=\"0 0 24 24\"\n",
              "       width=\"24px\">\n",
              "    <path d=\"M0 0h24v24H0V0z\" fill=\"none\"/>\n",
              "    <path d=\"M18.56 5.44l.94 2.06.94-2.06 2.06-.94-2.06-.94-.94-2.06-.94 2.06-2.06.94zm-11 1L8.5 8.5l.94-2.06 2.06-.94-2.06-.94L8.5 2.5l-.94 2.06-2.06.94zm10 10l.94 2.06.94-2.06 2.06-.94-2.06-.94-.94-2.06-.94 2.06-2.06.94z\"/><path d=\"M17.41 7.96l-1.37-1.37c-.4-.4-.92-.59-1.43-.59-.52 0-1.04.2-1.43.59L10.3 9.45l-7.72 7.72c-.78.78-.78 2.05 0 2.83L4 21.41c.39.39.9.59 1.41.59.51 0 1.02-.2 1.41-.59l7.78-7.78 2.81-2.81c.8-.78.8-2.07 0-2.86zM5.41 20L4 18.59l7.72-7.72 1.47 1.35L5.41 20z\"/>\n",
              "  </svg>\n",
              "      </button>\n",
              "      \n",
              "  <style>\n",
              "    .colab-df-container {\n",
              "      display:flex;\n",
              "      flex-wrap:wrap;\n",
              "      gap: 12px;\n",
              "    }\n",
              "\n",
              "    .colab-df-convert {\n",
              "      background-color: #E8F0FE;\n",
              "      border: none;\n",
              "      border-radius: 50%;\n",
              "      cursor: pointer;\n",
              "      display: none;\n",
              "      fill: #1967D2;\n",
              "      height: 32px;\n",
              "      padding: 0 0 0 0;\n",
              "      width: 32px;\n",
              "    }\n",
              "\n",
              "    .colab-df-convert:hover {\n",
              "      background-color: #E2EBFA;\n",
              "      box-shadow: 0px 1px 2px rgba(60, 64, 67, 0.3), 0px 1px 3px 1px rgba(60, 64, 67, 0.15);\n",
              "      fill: #174EA6;\n",
              "    }\n",
              "\n",
              "    [theme=dark] .colab-df-convert {\n",
              "      background-color: #3B4455;\n",
              "      fill: #D2E3FC;\n",
              "    }\n",
              "\n",
              "    [theme=dark] .colab-df-convert:hover {\n",
              "      background-color: #434B5C;\n",
              "      box-shadow: 0px 1px 3px 1px rgba(0, 0, 0, 0.15);\n",
              "      filter: drop-shadow(0px 1px 2px rgba(0, 0, 0, 0.3));\n",
              "      fill: #FFFFFF;\n",
              "    }\n",
              "  </style>\n",
              "\n",
              "      <script>\n",
              "        const buttonEl =\n",
              "          document.querySelector('#df-e42772ce-52fe-4452-8c8b-f7e90226df99 button.colab-df-convert');\n",
              "        buttonEl.style.display =\n",
              "          google.colab.kernel.accessAllowed ? 'block' : 'none';\n",
              "\n",
              "        async function convertToInteractive(key) {\n",
              "          const element = document.querySelector('#df-e42772ce-52fe-4452-8c8b-f7e90226df99');\n",
              "          const dataTable =\n",
              "            await google.colab.kernel.invokeFunction('convertToInteractive',\n",
              "                                                     [key], {});\n",
              "          if (!dataTable) return;\n",
              "\n",
              "          const docLinkHtml = 'Like what you see? Visit the ' +\n",
              "            '<a target=\"_blank\" href=https://colab.research.google.com/notebooks/data_table.ipynb>data table notebook</a>'\n",
              "            + ' to learn more about interactive tables.';\n",
              "          element.innerHTML = '';\n",
              "          dataTable['output_type'] = 'display_data';\n",
              "          await google.colab.output.renderOutput(dataTable, element);\n",
              "          const docLink = document.createElement('div');\n",
              "          docLink.innerHTML = docLinkHtml;\n",
              "          element.appendChild(docLink);\n",
              "        }\n",
              "      </script>\n",
              "    </div>\n",
              "  </div>\n",
              "  "
            ],
            "text/plain": [
              "                                                  tweet  sarcastic  \\\n",
              "2740  10 things i hate about you is the best movie o...          0   \n",
              "2329  just rang 6 of my friends and none of them pic...          0   \n",
              "228   I love when I start choking on my water in my ...          1   \n",
              "265    WHO LET THE LAUNDRY PILE UP 5 BASKETS. Goodness.          1   \n",
              "2170       In ​Bostrom's words: https://t.co/eqt6oEjwcX          0   \n",
              "2364    one of my favs 💔 so sad https://t.co/y7RiY0JU4y          0   \n",
              "719   I'm the highest I'll ever be on 420 in my life...          1   \n",
              "2255  i’m still confused why 11 isn’t pronounced one...          0   \n",
              "2919     @CLBIsA10 @ItsGinjaNinja_ hes fucking horrible          0   \n",
              "29    just wondering how to get my diss down by 1500...          1   \n",
              "\n",
              "                                               rephrase  sarcasm  irony  \\\n",
              "2740                                                NaN      NaN    NaN   \n",
              "2329                                                NaN      NaN    NaN   \n",
              "228   It was embarrassing when I choked on water in ...      1.0    0.0   \n",
              "265        Why did I let the laundry pile up 5 baskets?      1.0    0.0   \n",
              "2170                                                NaN      NaN    NaN   \n",
              "2364                                                NaN      NaN    NaN   \n",
              "719   “I’m flying to [location]” because I was just ...      0.0    1.0   \n",
              "2255                                                NaN      NaN    NaN   \n",
              "2919                                                NaN      NaN    NaN   \n",
              "29       getting my diss down by 1500 words is not fun.      1.0    0.0   \n",
              "\n",
              "      satire  understatement  overstatement  rhetorical_question    entity  \\\n",
              "2740     NaN             NaN            NaN                  NaN  CARDINAL   \n",
              "2329     NaN             NaN            NaN                  NaN  CARDINAL   \n",
              "228      0.0             0.0            0.0                  0.0  CARDINAL   \n",
              "265      0.0             0.0            0.0                  0.0  CARDINAL   \n",
              "2170     NaN             NaN            NaN                  NaN  CARDINAL   \n",
              "2364     NaN             NaN            NaN                  NaN  CARDINAL   \n",
              "719      0.0             0.0            0.0                  0.0  CARDINAL   \n",
              "2255     NaN             NaN            NaN                  NaN  CARDINAL   \n",
              "2919     NaN             NaN            NaN                  NaN  CARDINAL   \n",
              "29       0.0             0.0            0.0                  0.0  CARDINAL   \n",
              "\n",
              "                                       clean_tweet  sentence_length  \\\n",
              "2740                10 things hate best movie time                6   \n",
              "2329  ring 6 friends none pick https co etbeo4lqqk                8   \n",
              "228          love start choke water 8 person class                7   \n",
              "265            let laundry pile 5 baskets goodness                6   \n",
              "2170              bostrom word https co eqt6oejwcx                5   \n",
              "2364              one favs sad https co y7riy0ju4y                6   \n",
              "719             highest ever 420 life airplane duh                6   \n",
              "2255          still confuse 11 pronounce onety one                6   \n",
              "2919      clbisa10 itsginjaninja hes fuck horrible                5   \n",
              "29                   wonder get diss 1500 word fun                6   \n",
              "\n",
              "      contains_number  \n",
              "2740             True  \n",
              "2329             True  \n",
              "228              True  \n",
              "265              True  \n",
              "2170             True  \n",
              "2364             True  \n",
              "719              True  \n",
              "2255             True  \n",
              "2919             True  \n",
              "29               True  "
            ]
          },
          "execution_count": 30,
          "metadata": {},
          "output_type": "execute_result"
        }
      ],
      "source": [
        "data[(data['contains_number']) & (data['sentence_length']<=8) & (data['entity']=='CARDINAL')].sample(10)"
      ]
    },
    {
      "cell_type": "code",
      "execution_count": null,
      "metadata": {
        "id": "ttq8NV7j2PtW"
      },
      "outputs": [],
      "source": []
    },
    {
      "cell_type": "markdown",
      "metadata": {
        "id": "-0uUHmX-2ldf"
      },
      "source": [
        ">Inference: A lot of these headlines wouldn't make sense without these time,date or even cardinal numbers. For now we can let them be a part of our clean text data, in the next version of this notebook we will try to figure out if we can replace these numbers with specific tokens so that the meaning of them is not completely lost by removing them. Also the vocabulary size can be reduced after this step."
      ]
    },
    {
      "cell_type": "code",
      "execution_count": null,
      "metadata": {
        "id": "dcW5UPay2nKB"
      },
      "outputs": [],
      "source": []
    },
    {
      "cell_type": "markdown",
      "metadata": {
        "id": "XEoiufwO4mXI"
      },
      "source": [
        "## 1- 7 Word Visualization: Word Clouds"
      ]
    },
    {
      "cell_type": "code",
      "execution_count": null,
      "metadata": {
        "id": "KUKr23Ft4oRS"
      },
      "outputs": [],
      "source": [
        "sarcastic = data[data['sarcastic']==1]['clean_tweet'].tolist()\n",
        "genuine = data[data['sarcastic']==0]['clean_tweet'].tolist()"
      ]
    },
    {
      "cell_type": "markdown",
      "metadata": {
        "id": "wMi6lz985hNL"
      },
      "source": [
        "#### Top 50 Words: Sarcastic tweets"
      ]
    },
    {
      "cell_type": "code",
      "execution_count": null,
      "metadata": {
        "id": "GWquNBR-53jC"
      },
      "outputs": [],
      "source": [
        "import matplotlib.pyplot as plt\n"
      ]
    },
    {
      "cell_type": "code",
      "execution_count": null,
      "metadata": {
        "colab": {
          "base_uri": "https://localhost:8080/",
          "height": 248
        },
        "id": "cb87Ef2R5mUJ",
        "outputId": "e3c6cb0d-e0c2-4e23-9dec-aef30b6bacf3"
      },
      "outputs": [
        {
          "data": {
            "image/png": "[encoded data removed]",
            "text/plain": [
              "<Figure size 432x288 with 1 Axes>"
            ]
          },
          "metadata": {},
          "output_type": "display_data"
        }
      ],
      "source": [
        "wordcloud = WordCloud(max_words=50, width=800,height=800, background_color='white').generate(\" \".join(genuine))\n",
        "plt.imshow(wordcloud, interpolation='bilinear')\n",
        "plt.axis(\"off\")\n",
        "plt.show()"
      ]
    },
    {
      "cell_type": "code",
      "execution_count": null,
      "metadata": {
        "id": "7AJP49Lq6JoW"
      },
      "outputs": [],
      "source": []
    },
    {
      "cell_type": "markdown",
      "metadata": {
        "id": "vmb5AmQw6RRg"
      },
      "source": [
        "#### Top 50 Words: Genuine tweets"
      ]
    },
    {
      "cell_type": "code",
      "execution_count": null,
      "metadata": {
        "colab": {
          "base_uri": "https://localhost:8080/",
          "height": 248
        },
        "id": "8jVAXL745hbv",
        "outputId": "656e9b19-da35-4d29-f835-f0c53b0891bf"
      },
      "outputs": [
        {
          "data": {
            "image/png": "[encoded data removed]",
            "text/plain": [
              "<Figure size 432x288 with 1 Axes>"
            ]
          },
          "metadata": {},
          "output_type": "display_data"
        }
      ],
      "source": [
        "wordcloud = WordCloud(max_words=80, width=1000,height=1000, background_color='white').generate(\" \".join(genuine))\n",
        "plt.imshow(wordcloud, interpolation='bilinear')\n",
        "plt.axis(\"off\")\n",
        "plt.show()"
      ]
    },
    {
      "cell_type": "code",
      "execution_count": null,
      "metadata": {
        "id": "x4uwZfSC6cKt"
      },
      "outputs": [],
      "source": []
    },
    {
      "cell_type": "markdown",
      "metadata": {
        "id": "9b93y4GP60Qw"
      },
      "source": [
        "## 1-8  Model Building"
      ]
    },
    {
      "cell_type": "code",
      "execution_count": null,
      "metadata": {
        "id": "c4IMr8ND66UN"
      },
      "outputs": [],
      "source": [
        "import tensorflow as tf\n",
        "from tensorflow.keras.preprocessing.text import Tokenizer\n",
        "from tensorflow.keras.preprocessing.sequence import pad_sequences\n",
        "from tensorflow.keras.utils import to_categorical\n",
        "from tensorflow.keras.models import Sequential, Model\n",
        "from tensorflow.keras import layers\n",
        "from tensorflow.keras.layers import Embedding, Layer, Dense, Dropout, MultiHeadAttention, LayerNormalization, Input, GlobalAveragePooling1D\n",
        "from tensorflow.keras.layers import LSTM, Bidirectional\n",
        "from tensorflow.keras.callbacks import ModelCheckpoint, EarlyStopping, ReduceLROnPlateau\n",
        "from sklearn.model_selection import train_test_split"
      ]
    },
    {
      "cell_type": "code",
      "execution_count": null,
      "metadata": {
        "id": "bzXcgGXL6_bt"
      },
      "outputs": [],
      "source": [
        "sentences = data['clean_tweet']\n",
        "label = data['sarcastic']"
      ]
    },
    {
      "cell_type": "markdown",
      "metadata": {
        "id": "P2m1ng877SP7"
      },
      "source": [
        "### Train - Validation - Test Splitting (80:10:10)"
      ]
    },
    {
      "cell_type": "code",
      "execution_count": null,
      "metadata": {
        "id": "Cz3C2o-p7T_9"
      },
      "outputs": [],
      "source": [
        "#X_train, X_val, y_train, y_val = train_test_split(sentences, label, test_size=0.2, stratify=label, random_state=42)\n",
        "#X_val, X_test, y_val, y_test = train_test_split(X_val, y_val, test_size=0.5, stratify=y_val, random_state=42)"
      ]
    },
    {
      "cell_type": "code",
      "execution_count": null,
      "metadata": {
        "id": "WPuRFo-O7hbo"
      },
      "outputs": [],
      "source": [
        "X_train, y_train=sentences,label"
      ]
    },
    {
      "cell_type": "code",
      "execution_count": null,
      "metadata": {
        "id": "dgl1TY4MQNHc"
      },
      "outputs": [],
      "source": [
        "X_val,y_val=test_data['clean_tweet'],test_data['sarcastic']"
      ]
    },
    {
      "cell_type": "markdown",
      "metadata": {
        "id": "XNT4r9hX7nob"
      },
      "source": [
        "### Tokenization\n",
        "<ul>\n",
        "<li>Splitting sentences into words</li>\n",
        "<li>Finding the vocab size</li>"
      ]
    },
    {
      "cell_type": "code",
      "execution_count": null,
      "metadata": {
        "colab": {
          "base_uri": "https://localhost:8080/"
        },
        "id": "7xto4MOH75SZ",
        "outputId": "0164c147-e7d0-4189-a372-b8aa847b7cdb"
      },
      "outputs": [
        {
          "name": "stdout",
          "output_type": "stream",
          "text": [
            "Vocab Size:  8760\n"
          ]
        }
      ],
      "source": [
        "max_len = 20\n",
        "oov_token = '00_V' \n",
        "padding_type = 'post'\n",
        "trunc_type = 'post'  \n",
        "\n",
        "tokenizer = Tokenizer()\n",
        "tokenizer.fit_on_texts(X_train)\n",
        "vocab_size = len(tokenizer.word_index) + 1\n",
        "print(\"Vocab Size: \",vocab_size)"
      ]
    },
    {
      "cell_type": "code",
      "execution_count": null,
      "metadata": {
        "id": "ECAqrxKp8pVh"
      },
      "outputs": [],
      "source": []
    },
    {
      "cell_type": "markdown",
      "metadata": {
        "id": "UQwiS8jt9GUt"
      },
      "source": [
        "### Encoding of Inputs\n",
        "<ul>\n",
        "<li>Converting the sentences to token followed by padded sequences in encoded format</li>\n",
        "<li>\n",
        "These are numeric encodings assigned to each word\n",
        "</li>\n",
        "</ul>"
      ]
    },
    {
      "cell_type": "code",
      "execution_count": null,
      "metadata": {
        "id": "XqpxYGgM7H8t"
      },
      "outputs": [],
      "source": [
        "train_sequences = tokenizer.texts_to_sequences(X_train)\n",
        "X_train = pad_sequences(train_sequences, maxlen=max_len, padding=padding_type, truncating=trunc_type)\n",
        "\n",
        "val_sequences = tokenizer.texts_to_sequences(X_val)\n",
        "X_val = pad_sequences(val_sequences, maxlen=max_len, padding=padding_type, truncating=trunc_type)\n",
        "\n",
        "#test_sequences = tokenizer.texts_to_sequences(X_test)\n",
        "#X_test = pad_sequences(test_sequences, maxlen=max_len, padding=padding_type, truncating=trunc_type)"
      ]
    },
    {
      "cell_type": "code",
      "execution_count": null,
      "metadata": {
        "id": "Sz4NGXvP9V1C"
      },
      "outputs": [],
      "source": []
    },
    {
      "cell_type": "markdown",
      "metadata": {
        "id": "UEwBPiQ69o0U"
      },
      "source": [
        "### **Transformers: Attention is all you need**\n",
        "<ul>\n",
        "For the purpose of classification problem we will only use the encoder block of the original transformers model (encoder-decoder) designed for sequence problems\n",
        "</ul>"
      ]
    },
    {
      "cell_type": "code",
      "execution_count": null,
      "metadata": {
        "id": "q-YTxhr-9wmA"
      },
      "outputs": [],
      "source": [
        "class TransformerEncoder(layers.Layer):\n",
        "    def __init__(self, embed_dim, heads, neurons):\n",
        "        super(TransformerEncoder, self).__init__()\n",
        "        self.att = layers.MultiHeadAttention(num_heads=heads, key_dim=embed_dim)\n",
        "        self.ffn = Sequential(\n",
        "            [layers.Dense(neurons, activation=\"relu\"), layers.Dense(embed_dim),]\n",
        "        )\n",
        "        self.layernorm1 = layers.LayerNormalization(epsilon=1e-6)\n",
        "        self.layernorm2 = layers.LayerNormalization(epsilon=1e-6)\n",
        "        self.dropout1 = layers.Dropout(0.2)\n",
        "        self.dropout2 = layers.Dropout(0.2)\n",
        "\n",
        "    def call(self, inputs, training):\n",
        "        attn_output = self.att(inputs, inputs)\n",
        "        attn_output = self.dropout1(attn_output, training=training)\n",
        "        out1 = self.layernorm1(inputs + attn_output)\n",
        "        ffn_output = self.ffn(out1)\n",
        "        ffn_output = self.dropout2(ffn_output, training=training)\n",
        "        return self.layernorm2(out1 + ffn_output)\n",
        "    \n",
        "class TokenAndPositionEmbedding(layers.Layer):\n",
        "    def __init__(self, maxlen, vocab_size, embed_dim):\n",
        "        super(TokenAndPositionEmbedding, self).__init__()\n",
        "        self.token_emb = layers.Embedding(input_dim=vocab_size, output_dim=embed_dim)\n",
        "        self.pos_emb = layers.Embedding(input_dim=maxlen, output_dim=embed_dim)\n",
        "\n",
        "    def call(self, x):\n",
        "        maxlen = tf.shape(x)[-1]\n",
        "        positions = tf.range(start=0, limit=maxlen, delta=1)\n",
        "        positions = self.pos_emb(positions)\n",
        "        x = self.token_emb(x)\n",
        "        return x + positions"
      ]
    },
    {
      "cell_type": "code",
      "execution_count": null,
      "metadata": {
        "id": "KMi2aiUR-X2k"
      },
      "outputs": [],
      "source": [
        "embed_dim = 50\n",
        "heads = 2 \n",
        "neurons = 32\n",
        "maxlen = 10\n",
        "vocab_size = 8940\n",
        "\n",
        "inputs = layers.Input(shape=(maxlen,))\n",
        "embedding_layer = TokenAndPositionEmbedding(maxlen, vocab_size, embed_dim)\n",
        "x = embedding_layer(inputs)\n",
        "transformer_block = TransformerEncoder(embed_dim, heads, neurons)\n",
        "x = transformer_block(x)\n",
        "x = layers.GlobalAveragePooling1D()(x)\n",
        "x = Dropout(0.5)(x)\n",
        "x=Flatten()(x)\n",
        "outputs = layers.Dense(1, activation=\"sigmoid\")(x)\n",
        "model = Model(inputs=inputs, outputs=outputs)"
      ]
    },
    {
      "cell_type": "code",
      "execution_count": null,
      "metadata": {
        "colab": {
          "base_uri": "https://localhost:8080/"
        },
        "id": "7fEG7GcL-bW-",
        "outputId": "970a27ce-6285-410f-fbcf-42d566439b7d"
      },
      "outputs": [
        {
          "name": "stdout",
          "output_type": "stream",
          "text": [
            "Model: \"model_1\"\n",
            "_________________________________________________________________\n",
            " Layer (type)                Output Shape              Param #   \n",
            "=================================================================\n",
            " input_2 (InputLayer)        [(None, 10)]              0         \n",
            "                                                                 \n",
            " token_and_position_embeddin  (None, 10, 50)           447500    \n",
            " g_1 (TokenAndPositionEmbedd                                     \n",
            " ing)                                                            \n",
            "                                                                 \n",
            " transformer_encoder_1 (Tran  (None, 10, 50)           23832     \n",
            " sformerEncoder)                                                 \n",
            "                                                                 \n",
            " global_average_pooling1d_1   (None, 50)               0         \n",
            " (GlobalAveragePooling1D)                                        \n",
            "                                                                 \n",
            " dropout_17 (Dropout)        (None, 50)                0         \n",
            "                                                                 \n",
            " flatten_6 (Flatten)         (None, 50)                0         \n",
            "                                                                 \n",
            " dense_23 (Dense)            (None, 1)                 51        \n",
            "                                                                 \n",
            "=================================================================\n",
            "Total params: 471,383\n",
            "Trainable params: 471,383\n",
            "Non-trainable params: 0\n",
            "_________________________________________________________________\n"
          ]
        }
      ],
      "source": [
        "model.compile(optimizer=tf.keras.optimizers.RMSprop(1e-4), loss='binary_crossentropy', metrics=['accuracy'])\n",
        "model.summary()"
      ]
    },
    {
      "cell_type": "code",
      "execution_count": null,
      "metadata": {
        "id": "UjOL5liN-fm_"
      },
      "outputs": [],
      "source": [
        "model_name = \"model.h5\"\n",
        "checkpoint = ModelCheckpoint(model_name,\n",
        "                            monitor=\"val_loss\",\n",
        "                            mode=\"min\",\n",
        "                            save_best_only = True,\n",
        "                            verbose=1)\n",
        "\n",
        "earlystopping = EarlyStopping(monitor='val_loss',min_delta = 0.001, patience = 1, verbose = 1)\n",
        "\n",
        "learning_rate_reduction = ReduceLROnPlateau(monitor='val_loss', \n",
        "                                            patience=3, \n",
        "                                            verbose=1, \n",
        "                                            factor=0.2, \n",
        "                                            min_lr=0.000000001)"
      ]
    },
    {
      "cell_type": "code",
      "execution_count": null,
      "metadata": {
        "colab": {
          "base_uri": "https://localhost:8080/"
        },
        "id": "zg7S8g1l-kPY",
        "outputId": "85d57bf5-06f6-4f08-f317-b61a914e413c"
      },
      "outputs": [
        {
          "name": "stdout",
          "output_type": "stream",
          "text": [
            "Epoch 1/10\n",
            "108/108 [==============================] - 4s 19ms/step - loss: 0.6170 - accuracy: 0.7155 - val_loss: 0.4375 - val_accuracy: 0.8588\n",
            "Epoch 2/10\n",
            "108/108 [==============================] - 2s 15ms/step - loss: 0.5891 - accuracy: 0.7358 - val_loss: 0.4245 - val_accuracy: 0.8588\n",
            "Epoch 3/10\n",
            "108/108 [==============================] - 2s 15ms/step - loss: 0.5687 - accuracy: 0.7396 - val_loss: 0.4247 - val_accuracy: 0.8588\n",
            "Epoch 4/10\n",
            "108/108 [==============================] - 1s 14ms/step - loss: 0.5523 - accuracy: 0.7463 - val_loss: 0.4197 - val_accuracy: 0.8581\n",
            "Epoch 5/10\n",
            "108/108 [==============================] - 2s 15ms/step - loss: 0.5376 - accuracy: 0.7527 - val_loss: 0.4584 - val_accuracy: 0.8552\n",
            "Epoch 6/10\n",
            "108/108 [==============================] - 1s 13ms/step - loss: 0.5272 - accuracy: 0.7544 - val_loss: 0.4509 - val_accuracy: 0.8552\n",
            "Epoch 7/10\n",
            "108/108 [==============================] - 1s 14ms/step - loss: 0.5037 - accuracy: 0.7634 - val_loss: 0.4487 - val_accuracy: 0.8538\n",
            "Epoch 8/10\n",
            "108/108 [==============================] - 2s 15ms/step - loss: 0.4794 - accuracy: 0.7800 - val_loss: 0.4383 - val_accuracy: 0.8530\n",
            "Epoch 9/10\n",
            "108/108 [==============================] - 2s 15ms/step - loss: 0.4606 - accuracy: 0.7898 - val_loss: 0.4163 - val_accuracy: 0.8538\n",
            "Epoch 10/10\n",
            "108/108 [==============================] - 2s 15ms/step - loss: 0.4333 - accuracy: 0.8110 - val_loss: 0.4483 - val_accuracy: 0.8366\n"
          ]
        }
      ],
      "source": [
        "history = model.fit(X_train,y_train,\n",
        "                    validation_data=(X_val,y_val),\n",
        "                    epochs=10,\n",
        "                    batch_size=32,\n",
        "                    \n",
        "                    )\n",
        "#callbacks=[earlystopping]"
      ]
    },
    {
      "cell_type": "code",
      "execution_count": null,
      "metadata": {
        "id": "xvVwDoSHJYkL"
      },
      "outputs": [],
      "source": []
    },
    {
      "cell_type": "code",
      "execution_count": null,
      "metadata": {
        "id": "tU89wVKUJYob"
      },
      "outputs": [],
      "source": []
    },
    {
      "cell_type": "code",
      "execution_count": null,
      "metadata": {
        "colab": {
          "base_uri": "https://localhost:8080/",
          "height": 513
        },
        "id": "vv-Jk1mc-m8I",
        "outputId": "0908698f-3e92-408f-f959-d4a72114d54a"
      },
      "outputs": [
        {
          "data": {
            "image/png": "[encoded data removed]",
            "text/plain": [
              "<Figure size 1440x576 with 1 Axes>"
            ]
          },
          "metadata": {},
          "output_type": "display_data"
        }
      ],
      "source": [
        "plt.figure(figsize=(20,8))\n",
        "plt.plot(history.history['loss'])\n",
        "plt.plot(history.history['val_loss'])\n",
        "plt.title('model loss')\n",
        "plt.ylabel('loss')\n",
        "plt.xlabel('epoch')\n",
        "plt.legend(['train', 'val'], loc='upper left')\n",
        "plt.show()"
      ]
    },
    {
      "cell_type": "code",
      "execution_count": null,
      "metadata": {
        "id": "dBvQjIWA-yzj"
      },
      "outputs": [],
      "source": []
    },
    {
      "cell_type": "markdown",
      "metadata": {
        "id": "p9LOIVzTfyHX"
      },
      "source": [
        "## Model 2 : 1-8 GLOVE and LSTM"
      ]
    },
    {
      "cell_type": "code",
      "execution_count": null,
      "metadata": {
        "id": "CTVpZQx-gAk3"
      },
      "outputs": [],
      "source": [
        "import numpy as np\n",
        "import tensorflow\n",
        "np.random.seed(0)\n",
        "from tensorflow.keras.models import Model\n",
        "from tensorflow.keras.layers import Dense, Input, Dropout, LSTM, Activation\n",
        "from tensorflow.keras.layers import Embedding\n",
        "from tensorflow.keras.preprocessing import sequence\n",
        "from tensorflow.keras.initializers import glorot_uniform\n",
        "np.random.seed(1)"
      ]
    },
    {
      "cell_type": "code",
      "execution_count": null,
      "metadata": {
        "id": "COKu2RvKmviA"
      },
      "outputs": [],
      "source": [
        "sentences = data['clean_tweet']\n",
        "label = data['sarcastic']"
      ]
    },
    {
      "cell_type": "code",
      "execution_count": null,
      "metadata": {
        "colab": {
          "base_uri": "https://localhost:8080/"
        },
        "id": "9oHSbERZDaGv",
        "outputId": "0a1504a0-d090-46b3-cbdc-9bbfc97e69f8"
      },
      "outputs": [
        {
          "name": "stdout",
          "output_type": "stream",
          "text": [
            "3445\n"
          ]
        }
      ],
      "source": [
        "print(len(sentences))"
      ]
    },
    {
      "cell_type": "code",
      "execution_count": null,
      "metadata": {
        "id": "SCB2EdHCmwJh"
      },
      "outputs": [],
      "source": [
        "X_train,y_train=sentences,label\n",
        "X_val,y_val=test_data['clean_tweet'],test_data['sarcastic']"
      ]
    },
    {
      "cell_type": "markdown",
      "metadata": {
        "id": "MTcL9WzDgqxh"
      },
      "source": [
        "### sentences to indices"
      ]
    },
    {
      "cell_type": "code",
      "execution_count": null,
      "metadata": {
        "id": "3k7nAdXCgV-x"
      },
      "outputs": [],
      "source": [
        "# UNQ_C3 (UNIQUE CELL IDENTIFIER, DO NOT EDIT)\n",
        "# GRADED FUNCTION: sentences_to_indices\n",
        "\n",
        "def sentences_to_indices(X, word_to_index, max_len):\n",
        "    \"\"\"\n",
        "    Converts an array of sentences (strings) into an array of indices corresponding to words in the sentences.\n",
        "    The output shape should be such that it can be given to `Embedding()` (described in Figure 4). \n",
        "    \n",
        "    Arguments:\n",
        "    X -- array of sentences (strings), of shape (m, 1)\n",
        "    word_to_index -- a dictionary containing the each word mapped to its index\n",
        "    max_len -- maximum number of words in a sentence. You can assume every sentence in X is no longer than this. \n",
        "    \n",
        "    Returns:\n",
        "    X_indices -- array of indices corresponding to words in the sentences from X, of shape (m, max_len)\n",
        "    \"\"\"\n",
        "    \n",
        "    m = X.shape[0]                                   # number of training examples\n",
        "    \n",
        "    ### START CODE HERE ###\n",
        "    # Initialize X_indices as a numpy matrix of zeros and the correct shape (≈ 1 line)\n",
        "    X_indices = np.zeros((m, max_len))\n",
        "    \n",
        "    for i in range(m):                               # loop over training examples\n",
        "        # Convert the ith training sentence in lower case and split is into words. You should get a list of words.\n",
        "        sentence_words = X[i][0].lower().split()\n",
        "        \n",
        "        # Initialize j to 0\n",
        "        j = 0\n",
        "        \n",
        "        # Loop over the words of sentence_words\n",
        "\n",
        "        for w in sentence_words:\n",
        "          if j<max_len:\n",
        "            # if w exists in the word_to_index dictionary\n",
        "            if w in word_to_index:\n",
        "                # Set the (i,j)th entry of X_indices to the index of the correct word.\n",
        "                X_indices[i, j] = word_to_index[w]\n",
        "                # Increment j to j + 1\n",
        "                j =  j + 1\n",
        "            \n",
        "    ### END CODE HERE ###\n",
        "    \n",
        "    return X_indices"
      ]
    },
    {
      "cell_type": "code",
      "execution_count": null,
      "metadata": {
        "id": "xUF6sOYHgmxx"
      },
      "outputs": [],
      "source": []
    },
    {
      "cell_type": "markdown",
      "metadata": {
        "id": "ggvJAHnigy1p"
      },
      "source": [
        "### pretrained_embedding_layer"
      ]
    },
    {
      "cell_type": "code",
      "execution_count": null,
      "metadata": {
        "id": "51csqwgbg01K"
      },
      "outputs": [],
      "source": [
        "# UNQ_C4 (UNIQUE CELL IDENTIFIER, DO NOT EDIT)\n",
        "# GRADED FUNCTION: pretrained_embedding_layer\n",
        "\n",
        "def pretrained_embedding_layer(word_to_vec_map, word_to_index):\n",
        "    \"\"\"\n",
        "    Creates a Keras Embedding() layer and loads in pre-trained GloVe 50-dimensional vectors.\n",
        "    \n",
        "    Arguments:\n",
        "    word_to_vec_map -- dictionary mapping words to their GloVe vector representation.\n",
        "    word_to_index -- dictionary mapping from words to their indices in the vocabulary (400,001 words)\n",
        "\n",
        "    Returns:\n",
        "    embedding_layer -- pretrained layer Keras instance\n",
        "    \"\"\"\n",
        "    \n",
        "    vocab_size = len(word_to_index) + 1              # adding 1 to fit Keras embedding (requirement)\n",
        "    any_word = list(word_to_vec_map.keys())[0]\n",
        "    emb_dim = word_to_vec_map[any_word].shape[0]    # define dimensionality of your GloVe word vectors (= 50)\n",
        "      \n",
        "    ### START CODE HERE ###\n",
        "    # Step 1\n",
        "    # Initialize the embedding matrix as a numpy array of zeros.\n",
        "    # See instructions above to choose the correct shape.\n",
        "    emb_matrix = np.zeros((vocab_size, emb_dim))\n",
        "    \n",
        "    # Step 2\n",
        "    # Set each row \"idx\" of the embedding matrix to be \n",
        "    # the word vector representation of the idx'th word of the vocabulary\n",
        "    for word, idx in word_to_index.items():\n",
        "        emb_matrix[idx, :] = word_to_vec_map[word]\n",
        "\n",
        "    # Step 3\n",
        "    # Define Keras embedding layer with the correct input and output sizes\n",
        "    # Make it non-trainable.\n",
        "    embedding_layer = Embedding(vocab_size, emb_dim, trainable=False)\n",
        "    ### END CODE HERE ###\n",
        "\n",
        "    # Step 4 (already done for you; please do not modify)\n",
        "    # Build the embedding layer, it is required before setting the weights of the embedding layer. \n",
        "    embedding_layer.build((None,)) # Do not modify the \"None\".  This line of code is complete as-is.\n",
        "    \n",
        "    # Set the weights of the embedding layer to the embedding matrix. Your layer is now pretrained.\n",
        "    embedding_layer.set_weights([emb_matrix])\n",
        "    \n",
        "    return embedding_layer"
      ]
    },
    {
      "cell_type": "code",
      "execution_count": null,
      "metadata": {
        "id": "nht7KQnJhHa-"
      },
      "outputs": [],
      "source": []
    },
    {
      "cell_type": "markdown",
      "metadata": {
        "id": "5z06vAYEhrIw"
      },
      "source": [
        "### LSTM model"
      ]
    },
    {
      "cell_type": "code",
      "execution_count": null,
      "metadata": {
        "id": "NJqU1IZBmmyX"
      },
      "outputs": [],
      "source": []
    },
    {
      "cell_type": "code",
      "execution_count": null,
      "metadata": {
        "id": "TiFNfRd9ht02"
      },
      "outputs": [],
      "source": [
        "# UNQ_C5 (UNIQUE CELL IDENTIFIER, DO NOT EDIT)\n",
        "# GRADED FUNCTION: Emojify_V2\n",
        "\n",
        "def Emojify_V2(input_shape, word_to_vec_map, word_to_index):\n",
        "    \"\"\"\n",
        "    Function creating the Emojify-v2 model's graph.\n",
        "    \n",
        "    Arguments:\n",
        "    input_shape -- shape of the input, usually (max_len,)\n",
        "    word_to_vec_map -- dictionary mapping every word in a vocabulary into its 50-dimensional vector representation\n",
        "    word_to_index -- dictionary mapping from words to their indices in the vocabulary (400,001 words)\n",
        "\n",
        "    Returns:\n",
        "    model -- a model instance in Keras\n",
        "    \"\"\"\n",
        "    \n",
        "    ### START CODE HERE ###\n",
        "    # Define sentence_indices as the input of the graph.\n",
        "    # It should be of shape input_shape and dtype 'int32' (as it contains indices, which are integers).\n",
        "    sentence_indices = Input(input_shape, dtype='int32')\n",
        "    \n",
        "    # Create the embedding layer pretrained with GloVe Vectors (≈1 line)\n",
        "    embedding_layer = pretrained_embedding_layer(word_to_vec_map, word_to_index)\n",
        "    \n",
        "    # Propagate sentence_indices through your embedding layer\n",
        "    # (See additional hints in the instructions).\n",
        "    embeddings = embedding_layer(sentence_indices)   \n",
        "    \n",
        "    # Propagate the embeddings through an LSTM layer with 128-dimensional hidden state\n",
        "    # The returned output should be a batch of sequences.\n",
        "    X = LSTM(128, return_sequences=True)(embeddings)\n",
        "    # Add dropout with a probability of 0.5\n",
        "    X = Dropout(0.5)(X) \n",
        "    # Propagate X trough another LSTM layer with 128-dimensional hidden state\n",
        "    # The returned output should be a single hidden state, not a batch of sequences.\n",
        "    X = LSTM(128, return_sequences=False)(X)\n",
        "    # Add dropout with a probability of 0.5\n",
        "    X = Dropout(0.5)(X)\n",
        "    X=Flatten()(X)\n",
        "    X = Dense(128)(X)\n",
        "    X = Dropout(0.5)(X)\n",
        "    # Propagate X through a Dense layer with 5 units\n",
        "    X = Dense(2)(X)\n",
        "    # Add a softmax activation\n",
        "    X = Activation('softmax')(X)\n",
        "    \n",
        "    # Create Model instance which converts sentence_indices into X.\n",
        "    model = Model(sentence_indices, X)\n",
        "    \n",
        "    ### END CODE HERE ###\n",
        "    \n",
        "    return model\n"
      ]
    },
    {
      "cell_type": "code",
      "execution_count": null,
      "metadata": {
        "id": "EpteTehVlo9r"
      },
      "outputs": [],
      "source": []
    },
    {
      "cell_type": "markdown",
      "metadata": {
        "id": "L1lkl1XKlpPQ"
      },
      "source": [
        ">Load GLOVE embedding"
      ]
    },
    {
      "cell_type": "code",
      "execution_count": null,
      "metadata": {
        "id": "AEb4_iuTi22j"
      },
      "outputs": [],
      "source": [
        "def read_glove_vecs(glove_file):\n",
        "    with open(glove_file, 'r') as f:\n",
        "        words = set()\n",
        "        word_to_vec_map = {}\n",
        "        for line in f:\n",
        "            line = line.strip().split()\n",
        "            curr_word = line[0]\n",
        "            words.add(curr_word)\n",
        "            word_to_vec_map[curr_word] = np.array(line[1:], dtype=np.float64)\n",
        "        \n",
        "        i = 1\n",
        "        words_to_index = {}\n",
        "        index_to_words = {}\n",
        "        for w in sorted(words):\n",
        "            words_to_index[w] = i\n",
        "            index_to_words[i] = w\n",
        "            i = i + 1\n",
        "    return words_to_index, index_to_words, word_to_vec_map"
      ]
    },
    {
      "cell_type": "code",
      "execution_count": null,
      "metadata": {
        "id": "evh82aKRh3UJ"
      },
      "outputs": [],
      "source": [
        "maxLen=20\n",
        "word_to_index, index_to_word, word_to_vec_map = read_glove_vecs('/content/drive/MyDrive/Colab Notebooks/Web Mining/SarcasmDetection/Competition 1-december/English_data/glove.6B.50d.txt')\n",
        "\n"
      ]
    },
    {
      "cell_type": "code",
      "execution_count": null,
      "metadata": {
        "colab": {
          "base_uri": "https://localhost:8080/"
        },
        "id": "LNOtIdfNj8px",
        "outputId": "2398c24a-084f-4a3b-bbb0-1bb522e6437a"
      },
      "outputs": [
        {
          "name": "stdout",
          "output_type": "stream",
          "text": [
            "the index of cucumber in the vocabulary is 113317\n",
            "the 2000th word in the vocabulary is 0.88\n",
            "\n"
          ]
        }
      ],
      "source": [
        "word = \"cucumber\"\n",
        "idx = 2000\n",
        "print(\"the index of\", word, \"in the vocabulary is\", word_to_index[word])\n",
        "print(\"the\", str(idx) + \"th word in the vocabulary is\", index_to_word[idx])\n",
        "print()"
      ]
    },
    {
      "cell_type": "code",
      "execution_count": null,
      "metadata": {
        "colab": {
          "base_uri": "https://localhost:8080/"
        },
        "id": "MHIwL5BHlnmn",
        "outputId": "4380f93f-9055-417f-b590-9d02c28a49a1"
      },
      "outputs": [
        {
          "name": "stdout",
          "output_type": "stream",
          "text": [
            "Model: \"model_3\"\n",
            "_________________________________________________________________\n",
            " Layer (type)                Output Shape              Param #   \n",
            "=================================================================\n",
            " input_4 (InputLayer)        [(None, 20)]              0         \n",
            "                                                                 \n",
            " embedding_11 (Embedding)    (None, 20, 50)            20000050  \n",
            "                                                                 \n",
            " lstm_2 (LSTM)               (None, 20, 128)           91648     \n",
            "                                                                 \n",
            " dropout_21 (Dropout)        (None, 20, 128)           0         \n",
            "                                                                 \n",
            " lstm_3 (LSTM)               (None, 128)               131584    \n",
            "                                                                 \n",
            " dropout_22 (Dropout)        (None, 128)               0         \n",
            "                                                                 \n",
            " flatten_8 (Flatten)         (None, 128)               0         \n",
            "                                                                 \n",
            " dense_26 (Dense)            (None, 128)               16512     \n",
            "                                                                 \n",
            " dropout_23 (Dropout)        (None, 128)               0         \n",
            "                                                                 \n",
            " dense_27 (Dense)            (None, 2)                 258       \n",
            "                                                                 \n",
            " activation_1 (Activation)   (None, 2)                 0         \n",
            "                                                                 \n",
            "=================================================================\n",
            "Total params: 20,240,052\n",
            "Trainable params: 240,002\n",
            "Non-trainable params: 20,000,050\n",
            "_________________________________________________________________\n"
          ]
        }
      ],
      "source": [
        "model = Emojify_V2((maxLen,), word_to_vec_map, word_to_index)\n",
        "model.summary()"
      ]
    },
    {
      "cell_type": "code",
      "execution_count": null,
      "metadata": {
        "id": "HSvKs0Gil6Y1"
      },
      "outputs": [],
      "source": [
        "import tensorflow as tf\n",
        "model.compile(loss='categorical_crossentropy', optimizer=tf.keras.optimizers.Adam(1e-4), metrics=['accuracy'])"
      ]
    },
    {
      "cell_type": "code",
      "execution_count": null,
      "metadata": {
        "id": "KGXAXlrFovdV"
      },
      "outputs": [],
      "source": []
    },
    {
      "cell_type": "markdown",
      "metadata": {
        "id": "Lmr7fcmsovzL"
      },
      "source": [
        ">Convert training labels to one-hot encoding"
      ]
    },
    {
      "cell_type": "code",
      "execution_count": null,
      "metadata": {
        "id": "Tliq0JUSo2um"
      },
      "outputs": [],
      "source": [
        "def convert_to_one_hot(Y, C=2):\n",
        "    Y = np.eye(C)[Y.reshape(-1)]\n",
        "    return Y"
      ]
    },
    {
      "cell_type": "code",
      "execution_count": null,
      "metadata": {
        "colab": {
          "base_uri": "https://localhost:8080/",
          "height": 217
        },
        "id": "x2r1B_hWpBJ1",
        "outputId": "d94136b8-c7d6-4c55-c555-ca04edd16e08"
      },
      "outputs": [
        {
          "ename": "AttributeError",
          "evalue": "ignored",
          "output_type": "error",
          "traceback": [
            "\u001b[0;31m---------------------------------------------------------------------------\u001b[0m",
            "\u001b[0;31mAttributeError\u001b[0m                            Traceback (most recent call last)",
            "\u001b[0;32m<ipython-input-87-edd5820bc751>\u001b[0m in \u001b[0;36m<module>\u001b[0;34m\u001b[0m\n\u001b[0;32m----> 1\u001b[0;31m \u001b[0mX_train\u001b[0m\u001b[0;34m=\u001b[0m\u001b[0mX_train\u001b[0m\u001b[0;34m.\u001b[0m\u001b[0mto_numpy\u001b[0m\u001b[0;34m(\u001b[0m\u001b[0;34m)\u001b[0m\u001b[0;34m.\u001b[0m\u001b[0mreshape\u001b[0m\u001b[0;34m(\u001b[0m\u001b[0;34m-\u001b[0m\u001b[0;36m1\u001b[0m\u001b[0;34m,\u001b[0m\u001b[0;36m1\u001b[0m\u001b[0;34m)\u001b[0m\u001b[0;34m\u001b[0m\u001b[0;34m\u001b[0m\u001b[0m\n\u001b[0m\u001b[1;32m      2\u001b[0m \u001b[0mX_val\u001b[0m\u001b[0;34m=\u001b[0m\u001b[0mX_val\u001b[0m\u001b[0;34m.\u001b[0m\u001b[0mto_numpy\u001b[0m\u001b[0;34m(\u001b[0m\u001b[0;34m)\u001b[0m\u001b[0;34m.\u001b[0m\u001b[0mreshape\u001b[0m\u001b[0;34m(\u001b[0m\u001b[0;34m-\u001b[0m\u001b[0;36m1\u001b[0m\u001b[0;34m,\u001b[0m\u001b[0;36m1\u001b[0m\u001b[0;34m)\u001b[0m\u001b[0;34m\u001b[0m\u001b[0;34m\u001b[0m\u001b[0m\n\u001b[1;32m      3\u001b[0m \u001b[0my_train\u001b[0m\u001b[0;34m=\u001b[0m\u001b[0my_train\u001b[0m\u001b[0;34m.\u001b[0m\u001b[0mto_numpy\u001b[0m\u001b[0;34m(\u001b[0m\u001b[0;34m)\u001b[0m\u001b[0;34m\u001b[0m\u001b[0;34m\u001b[0m\u001b[0m\n\u001b[1;32m      4\u001b[0m \u001b[0my_val\u001b[0m\u001b[0;34m=\u001b[0m\u001b[0my_val\u001b[0m\u001b[0;34m.\u001b[0m\u001b[0mto_numpy\u001b[0m\u001b[0;34m(\u001b[0m\u001b[0;34m)\u001b[0m\u001b[0;34m\u001b[0m\u001b[0;34m\u001b[0m\u001b[0m\n",
            "\u001b[0;31mAttributeError\u001b[0m: 'numpy.ndarray' object has no attribute 'to_numpy'"
          ]
        }
      ],
      "source": [
        "\n",
        "X_train=X_train.to_numpy().reshape(-1,1)\n",
        "X_val=X_val.to_numpy().reshape(-1,1)\n",
        "y_train=y_train.to_numpy()\n",
        "y_val=y_val.to_numpy()"
      ]
    },
    {
      "cell_type": "code",
      "execution_count": null,
      "metadata": {
        "colab": {
          "base_uri": "https://localhost:8080/"
        },
        "id": "3Z3cOu44rxDX",
        "outputId": "08c7361d-1ef3-4b8c-bcb6-891fa1e048f2"
      },
      "outputs": [
        {
          "name": "stdout",
          "output_type": "stream",
          "text": [
            "(3445, 1) (1395, 1) (3445,) (1395,)\n"
          ]
        }
      ],
      "source": [
        "print(X_train.shape,X_val.shape,y_train.shape,y_val.shape)"
      ]
    },
    {
      "cell_type": "code",
      "execution_count": null,
      "metadata": {
        "id": "FRIg4RBFmDOB"
      },
      "outputs": [],
      "source": [
        "X_train_indices = sentences_to_indices(X_train, word_to_index, maxLen)\n",
        "X_val_indices = sentences_to_indices(X_val, word_to_index, maxLen)\n",
        "Y_train_oh = convert_to_one_hot(y_train, C = 2)\n",
        "Y_val_oh = convert_to_one_hot(y_val, C = 2)"
      ]
    },
    {
      "cell_type": "code",
      "execution_count": null,
      "metadata": {
        "colab": {
          "base_uri": "https://localhost:8080/"
        },
        "id": "IIciAbTOoUEp",
        "outputId": "50b0c4a0-eae1-418c-93b1-5921f9076950"
      },
      "outputs": [
        {
          "name": "stdout",
          "output_type": "stream",
          "text": [
            "[['thing get college caffeine addiction']\n",
            " ['love professors draw big question mark next answer exam always like yeah either']\n",
            " ['remember hundred email company covid start get real get three regard support protest savagexfenty share helpful link actually say black live matter love capitalism']\n",
            " ['today pop pop tell not force go college okay sure sureeee']\n",
            " ['volphancarol littlewhitty mysticalmanatee also report cancun cruz not worry heartbeats constituents without electricity heat flee mexico']]\n"
          ]
        }
      ],
      "source": [
        "print(X_train[:5])"
      ]
    },
    {
      "cell_type": "code",
      "execution_count": null,
      "metadata": {
        "colab": {
          "base_uri": "https://localhost:8080/"
        },
        "id": "9YUJ2vafnVey",
        "outputId": "def61b58-beb4-4f6e-b1e3-970615b300d4"
      },
      "outputs": [
        {
          "name": "stdout",
          "output_type": "stream",
          "text": [
            "108/108 [==============================] - 8s 72ms/step - loss: 0.5579 - accuracy: 0.7495\n"
          ]
        },
        {
          "data": {
            "text/plain": [
              "<keras.callbacks.History at 0x7f71d69e5d30>"
            ]
          },
          "execution_count": 99,
          "metadata": {},
          "output_type": "execute_result"
        }
      ],
      "source": [
        "model.fit(X_train_indices, Y_train_oh, epochs = 1, batch_size = 32, shuffle=True)"
      ]
    },
    {
      "cell_type": "code",
      "execution_count": null,
      "metadata": {
        "colab": {
          "base_uri": "https://localhost:8080/"
        },
        "id": "syvmmPySJWoP",
        "outputId": "bf24d6d7-8a2b-4a3f-8c2a-17e0050b7db4"
      },
      "outputs": [
        {
          "name": "stdout",
          "output_type": "stream",
          "text": [
            "44/44 [==============================] - 1s 27ms/step - loss: 0.4631 - accuracy: 0.8566\n",
            "\n",
            "Test accuracy =  0.856630802154541\n"
          ]
        }
      ],
      "source": [
        "X_val_indices = sentences_to_indices(X_val, word_to_index, max_len = maxLen)\n",
        "Y_val_oh = convert_to_one_hot(y_val, C = 2)\n",
        "loss, acc = model.evaluate(X_val_indices, Y_val_oh)\n",
        "print()\n",
        "print(\"Test accuracy = \", acc)"
      ]
    },
    {
      "cell_type": "code",
      "execution_count": null,
      "metadata": {
        "colab": {
          "base_uri": "https://localhost:8080/"
        },
        "id": "ZhlzJVJPTLDZ",
        "outputId": "e48f90af-3e0d-4034-f803-3bb744e0015f"
      },
      "outputs": [
        {
          "name": "stdout",
          "output_type": "stream",
          "text": [
            "44/44 [==============================] - 0s 3ms/step\n",
            "['data: sometimes lay bed think today day make life better exercise drink water eat healthy wake Expected : 1 actual 0']\n",
            "['data: also shame media ignore prefer report study scientists whose model prove wrong Expected : 0 actual 1']\n",
            "['data: wow chelsea bean beat west ham day look forward Expected : 0 actual 1']\n",
            "['data: beauty wear mask responsible thing another layer warmth freeze trip work Expected : 0 actual 1']\n",
            "['data: max verstappen clean driver never make dirty move race Expected : 1 actual 0']\n",
            "['data: brrrr cold outside love Expected : 0 actual 1']\n",
            "['data: boris look statesman like public address Expected : 1 actual 0']\n",
            "['data: soo excite cook three course christmas dinner whole family year Expected : 1 actual 0']\n",
            "['data: love bite torrone try go french call nougat Expected : 0 actual 1']\n",
            "['data: flat completely trash theresa may Expected : 0 actual 1']\n",
            "['data: life great lmaooooo Expected : 1 actual 0']\n",
            "['data: thoughts prayers actually work time trust Expected : 1 actual 0']\n",
            "['data: feed rubbish every change weather Expected : 0 actual 1']\n",
            "['data: fyi not pint hate beer Expected : 0 actual 1']\n",
            "['data: amuse thread pm party age Expected : 0 actual 1']\n",
            "['data: beautiful image sentiment Expected : 0 actual 1']\n",
            "['data: believe mix message come government omicron socialise christmas one seem know go Expected : 0 actual 1']\n",
            "['data: yeah feed children sweets bedtime awesome way get lot sleep Expected : 1 actual 0']\n",
            "['data: spanish national ballet company rehearse wear mask gasp fall clutch chests unable breathe 2 minutes make sense refuse wear mask bus five minutes protect others totally carry Expected : 1 actual 0']\n",
            "['data: hate pay much gas Expected : 0 actual 1']\n",
            "['data: wait spend time family christmas love single one many many question ask get boyfriend Expected : 1 actual 0']\n",
            "['data: finish long 12 hour shift break tire understatement Expected : 0 actual 1']\n",
            "['data: look forward today weekend mondays best feel fresh ready start week say one ever Expected : 1 actual 0']\n",
            "['data: prime minister constant liar yet lie brexit Expected : 0 actual 1']\n",
            "['data: awfully wet roads today hard drive condition make Expected : 0 actual 1']\n",
            "['data: yeah another kim kardashian instagram post trash Expected : 0 actual 1']\n",
            "['data: pretty sure happy half team injure tonight Expected : 0 actual 1']\n",
            "['data: 7 41am young lad get train pint stella super king days Expected : 0 actual 1']\n",
            "['data: government 40 must booster jab end january nhs website rub hand together glee oh yes think not Expected : 1 actual 0']\n",
            "['data: wake hundreds sport people across world collapse die chest pain sport events Expected : 0 actual 1']\n",
            "['data: find way distribute lovely country fairly cannot right tiny amount people land build money Expected : 0 actual 1']\n",
            "['data: cryin actual tear every time watch not even funny Expected : 0 actual 1']\n",
            "['data: 5 000 case figure scotland partly backlog course sturgeon mention Expected : 0 actual 1']\n",
            "['data: cause wanna cry Expected : 0 actual 1']\n",
            "['data: ive go albert think mind wire would hilarious talk Expected : 0 actual 1']\n",
            "['data: pair tomorrow north bank upper block 102 Expected : 0 actual 1']\n",
            "['data: know prank go get logan paul cancel Expected : 0 actual 1']\n",
            "['data: make perfect sense government force face mask shop drink people bar immune covid apparently moral story alcohol cure everything Expected : 1 actual 0']\n",
            "['data: know people overlook people die everywhere resources help support Expected : 0 actual 1']\n",
            "['data: really glad learn police operate purely style minority report worry might start look crimes happen phew Expected : 1 actual 0']\n",
            "['data: really clue people think gp work look supportive news headline around Expected : 1 actual 0']\n",
            "['data: karen youtube know science know actual scientists Expected : 1 actual 0']\n",
            "['data: amaze competent government know everything fine trustworthy pm blatantly lie teeth everything great right Expected : 1 actual 0']\n",
            "['data: boris johnson great leader team stick covid rule rule Expected : 1 actual 0']\n",
            "['data: absolutely gorgeous winter day happy friday Expected : 0 actual 1']\n",
            "['data: man seizures occur frequency severity like seizures sometimes speculate death link conspiracy theories disrespectful Expected : 0 actual 1']\n",
            "['data: phd not fun reward Expected : 0 actual 1']\n",
            "['data: thank crunchy friday hours weekend people good one Expected : 0 actual 1']\n",
            "['data: another gorgeous day sunny accrington Expected : 1 actual 0']\n",
            "['data: please another december day office ac blow many coat need today Expected : 1 actual 0']\n",
            "['data: boris johnson biggest clown politician time conservative party eyeball sleaze corruption Expected : 0 actual 1']\n",
            "['data: yeah man walk right clearly read sign say two patients inside already four people cant Expected : 1 actual 0']\n",
            "['data: 2 race hotel book suppose time start train better eat cleaner Expected : 0 actual 1']\n",
            "['data: ted cruz spot airport go cancun constituents literally freeze death catch cruz claim take daughter cancun mean return texas Expected : 0 actual 1']\n",
            "['data: love third year uni winter break three things holiday due date far year yet Expected : 1 actual 0']\n",
            "['data: guy put clown one get sack Expected : 0 actual 1']\n",
            "['data: yarmalenko show man wakey wakey game Expected : 0 actual 1']\n",
            "['data: aww yis cool list awesome people Expected : 0 actual 1']\n",
            "['data: head snag covid 19 inoculation thank government mandate super please part even though vaccines not stop one get disease not stop spread lead life non stop useless boosters woo hoo Expected : 1 actual 0']\n",
            "['data: people storm megadeth song Expected : 0 actual 1']\n",
            "['data: look fantastic new dress show figure Expected : 1 actual 0']\n",
            "['data: get jab protect Expected : 0 actual 1']\n",
            "['data: wake morning another monday fine bright warm sunshine norfolk need put right frame mind week Expected : 1 actual 0']\n",
            "['data: wake 200 followers warra dub Expected : 0 actual 1']\n",
            "['data: great day louise thank great help support ensure go well Expected : 0 actual 1']\n",
            "['data: see spare bits find bits piece back factory stick em together Expected : 0 actual 1']\n",
            "['data: nearly week since track parcel send still post office drop apparently excuse reckon use chase covid black friday christmas place bet Expected : 1 actual 0']\n",
            "['data: dreadful weather today make sure get umbrella hand Expected : 0 actual 1']\n",
            "['data: yes make perfect sense harry ginny get together not like bore person ever anything Expected : 1 actual 0']\n",
            "['data: get yes yes yes yes yes Expected : 0 actual 1']\n",
            "['data: kind government introduce 900 new covid test right fly paris x Expected : 1 actual 0']\n",
            "['data: ramish go rennovate kitchen lot noise help ask builder drill certain time find convenient ask kid practice time specify Expected : 0 actual 1']\n",
            "['data: tear burn eye skin Expected : 0 actual 1']\n",
            "['data: many people wash hand come gym toilets Expected : 0 actual 1']\n",
            "['data: anyone travel gloucester tomorrow would potentially spare seat Expected : 0 actual 1']\n",
            "['data: ring spur managers fill brendan lad Expected : 0 actual 1']\n",
            "['data: card even prelims insane Expected : 0 actual 1']\n",
            "['data: course not decent people involve attack Expected : 0 actual 1']\n",
            "['data: salah want score today even grand mother could score open goal Expected : 1 actual 0']\n",
            "['data: michael carricks interview chelsea game think unlucky not get 3 point today 3 point sure start shoot score goals win game Expected : 1 actual 0']\n",
            "['data: tell ted cruz care texas come back cancun fellow texans Expected : 1 actual 0']\n",
            "['data: safety measure safe long term safety data Expected : 0 actual 1']\n",
            "['data: absolutely love stay late work take someones photograph remind twice forget leave take Expected : 1 actual 0']\n",
            "['data: weird look ugly photos also look ugly mirror Expected : 1 actual 0']\n",
            "['data: unbelievable hear 70 people die tornado usa 2021 wonder see Expected : 0 actual 1']\n",
            "['data: good news good luck mate Expected : 0 actual 1']\n",
            "['data: anthony taylor fair referee wish put charge chelsea match Expected : 1 actual 0']\n",
            "['data: really great news worthy winner well do whole brilliant team windwave Expected : 0 actual 1']\n",
            "['data: die live newham would literally hang Expected : 0 actual 1']\n",
            "['data: sometimes one blondest people pity hair colour doesnt match would make perfect combo haha Expected : 1 actual 0']\n",
            "['data: least lads get decent scran Expected : 0 actual 1']\n",
            "['data: gonna rank gay town nights liverpool Expected : 0 actual 1']\n",
            "['data: unlucky lose today every bite good chelsea apart stupid mistake buzz joffy though player kid gonna Expected : 0 actual 1']\n",
            "['data: believe covid vaccine make lose limb think track side effect Expected : 1 actual 0']\n",
            "['data: really impress clear unify message come government omicron socialise xmas Expected : 1 actual 0']\n",
            "['data: hemmos fire defence terrify nah nah nah nah nah nah nah Expected : 0 actual 1']\n",
            "['data: enjoy work wait come everyday see happy colleagues Expected : 1 actual 0']\n",
            "['data: wait boris wait christmas lock us go poland like wait half year Expected : 1 actual 0']\n",
            "['data: would love tweet right Expected : 0 actual 1']\n",
            "['data: anyone london would like free ticket see prince egypt even Expected : 0 actual 1']\n",
            "['data: love wake start work 5am everyday even better christmas nothing love surround stress customers food Expected : 1 actual 0']\n",
            "['data: weather leather shoot Expected : 0 actual 1']\n",
            "['data: free bar dangerous never sick last night throw bush infront legal director Expected : 0 actual 1']\n",
            "['data: tell people likely end burn exist plan incinerator Expected : 0 actual 1']\n",
            "['data: salah mane score life today good job get origi minamino come make difference Expected : 1 actual 0']\n",
            "['data: anti vaxxers may live every day last improve gene pool Expected : 1 actual 0']\n",
            "['data: need finish dig kettering maybe maybe work commute 40 minutes anymore Expected : 0 actual 1']\n",
            "['data: bruv hate sound like someone nan set strictly Expected : 0 actual 1']\n",
            "['data: sock wash feet cold Expected : 0 actual 1']\n",
            "['data: tip hospitality festive season make worth Expected : 1 actual 0']\n",
            "['data: let call start say something stupid maybe Expected : 0 actual 1']\n",
            "['data: another wet windy day typically wet windy accrington Expected : 0 actual 1']\n",
            "['data: forest magic pitch Expected : 0 actual 1']\n",
            "['data: scary would right outside house think fine stop though Expected : 0 actual 1']\n",
            "['data: think vaccine bad idea glad phd immunology Expected : 1 actual 0']\n",
            "['data: bottle throw headband floor Expected : 0 actual 1']\n",
            "['data: yes wait bus thank Expected : 0 actual 1']\n",
            "['data: west ham vs newcastle fa youth cup later chuck perkins baptiste back Expected : 0 actual 1']\n",
            "['data: state loto many open goals miss hey let remove democratic socialists labour party instead Expected : 0 actual 1']\n",
            "['data: make sense government enforce face mask bar social distance non existent supermarket Expected : 0 actual 1']\n",
            "['data: mean teach critical race theory bc traitor race Expected : 1 actual 0']\n",
            "['data: tories stand fat savile must eye explanation Expected : 0 actual 1']\n",
            "['data: think perhaps may oversaturated keanu wrong shame Expected : 0 actual 1']\n",
            "['data: nominate numb nut citizenship revoke Expected : 0 actual 1']\n",
            "['data: go best restaurant today dinner absolutely amaze steak cold fry rock solid expect food mouth water sure wash bite drink Expected : 1 actual 0']\n",
            "['data: gutted lad rotten luck hope see back spring summer Expected : 0 actual 1']\n",
            "['data: phew make hard work think go blow Expected : 0 actual 1']\n",
            "['data: everton awfully minute not happy Expected : 0 actual 1']\n",
            "['data: soft voice kiss heart Expected : 0 actual 1']\n",
            "['data: 2 hours remain 191 prize pot far tip 200 Expected : 0 actual 1']\n",
            "['data: sorry forget exist need something Expected : 1 actual 0']\n",
            "['data: would seem like microsoft keep go emo stage life blue screen death keep turn black start 1999 2011 2021 Expected : 1 actual 0']\n",
            "['data: nothing like 20 week choose food bill christmas thank dwp 3 Expected : 1 actual 0']\n",
            "['data: us since layover lol Expected : 0 actual 1']\n",
            "['data: thank boris johnson restrict travel abroad due new virus strain concern public health hear next week ban fast food beacuse thats dangerous right Expected : 1 actual 0']\n",
            "['data: see boys action tomorrow night tip return Expected : 0 actual 1']\n",
            "['data: every confidence government covid action plan christmas Expected : 1 actual 0']\n",
            "['data: cut social service result tragedy Expected : 0 actual 1']\n",
            "['data: another great patch guy fully use test server Expected : 1 actual 0']\n",
            "['data: love milk date buy Expected : 1 actual 0']\n",
            "['data: intels incredibly bad load crap Expected : 0 actual 1']\n",
            "['data: aye vaccines dangerous health like see charlie put nose weekend totally fine Expected : 1 actual 0']\n",
            "['data: lie msm unions activist nurse doctor Expected : 0 actual 1']\n",
            "['data: sound advice nearly customers pay deposit next 2 weeks not go cancel nights Expected : 0 actual 1']\n",
            "['data: hello dwp upset choose afford bill food lower payments already low Expected : 0 actual 1']\n",
            "['data: plenty addict alcoholics alcoholics addict exceptions Expected : 0 actual 1']\n",
            "['data: labour control wales actively close businesses say really Expected : 0 actual 1']\n",
            "['data: truly love someone remember dump someone better Expected : 1 actual 0']\n",
            "['data: sure everyone everyday Expected : 1 actual 0']\n",
            "['data: think might want worry little risk pose omicron variant fret zoom quiz take place year ago think Expected : 1 actual 0']\n",
            "['data: sure vaccines make difference covid spread hospitals full unvaccinated people able maths Expected : 1 actual 0']\n",
            "['data: love modern society rule everyone regardless job background really bring country together Expected : 1 actual 0']\n",
            "['data: really hat work get pay nothing get constantly shout Expected : 0 actual 1']\n",
            "['data: would prefer take advice people actually qualify subject matter case scientists Expected : 0 actual 1']\n",
            "['data: break news pubs bar latest cure covid Expected : 1 actual 0']\n",
            "['data: game year go yakuza like dragon special mention yakuza zero Expected : 0 actual 1']\n",
            "['data: head lowestoft lunch save four pound Expected : 0 actual 1']\n",
            "['data: play football tonight already suffer old Expected : 0 actual 1']\n",
            "['data: guy stink nostrils decent people quite watch say Expected : 0 actual 1']\n",
            "['data: stupid take football Expected : 0 actual 1']\n",
            "['data: not love enough keep attention Expected : 0 actual 1']\n",
            "['data: ramish think stop kitchen rennovation noise kid not exactly quiet competent play musical instrument let say dog make better sound Expected : 1 actual 0']\n",
            "['data: postpone game like spur many covid outbreaks ridiculous Expected : 0 actual 1']\n",
            "['data: football tomorrow due covid find football fix locally Expected : 0 actual 1']\n",
            "['data: outlook weather manchester today rain Expected : 0 actual 1']\n",
            "['data: wow look smart yes bicycle carbon footprint lower everyone car also people fetish talk lycra time Expected : 0 actual 1']\n",
            "['data: mcdonalds rebranded fast food lovin laugh 20 minutes wait cold food burger look like fight mike tyson Expected : 1 actual 0']\n",
            "['data: mctominay best player park interest twitter would believe play league two Expected : 0 actual 1']\n",
            "['data: vaccine mandate obviously great things good people cause nothing bad ever happen force people things Expected : 1 actual 0']\n",
            "['data: boris johnson must host best party Expected : 1 actual 0']\n",
            "['data: ironic rich people receieve free stuff company could easily purchase Expected : 0 actual 1']\n",
            "['data: one 80 000 000 put pipe smoke Expected : 0 actual 1']\n",
            "['data: finally get somewhere temporary house boy wait forever home Expected : 0 actual 1']\n",
            "['data: think time refuse pay 10 headphones silent disco Expected : 0 actual 1']\n",
            "['data: great could not choose smoke picture 63 year old madonna Expected : 0 actual 1']\n",
            "['data: thank mackay family give angel chance Expected : 0 actual 1']\n",
            "['data: constantly load new symptoms also negative test tsk make paranoid Expected : 0 actual 1']\n",
            "['data: debate dinner stir fry dish rice curry crispy lady finger Expected : 0 actual 1']\n",
            "['data: live great british weather Expected : 1 actual 0']\n",
            "['data: actually really easy get mindset tory smash head wall bleed slur incoherently social mobility england stuff handfuls loose change tim martin hand kick homeless person jaw Expected : 1 actual 0']\n",
            "['data: chloe body amaze though weird stuff sometimes Expected : 0 actual 1']\n",
            "['data: want guarantee never lose job become prime minister party national lockdown Expected : 1 actual 0']\n",
            "['data: least look nice time Expected : 0 actual 1']\n",
            "['data: politics many nuances situations Expected : 0 actual 1']\n",
            "['data: johnston pick wrong option Expected : 0 actual 1']\n",
            "['data: england euros squad flop season grealish poor hook hear though Expected : 0 actual 1']\n",
            "['data: wish one people leave voicemails Expected : 0 actual 1']\n",
            "['data: love go rain nice go park pour rain cool get mud hair sock drench love Expected : 1 actual 0']\n",
            "['data: would like offer complete support new rule obviously support public stick time Expected : 1 actual 0']\n",
            "['data: think men better women provide us thank often protectors Expected : 1 actual 0']\n",
            "['data: could dislodge gang lethal crook minute hot Expected : 0 actual 1']\n",
            "['data: liverpool awful team bunch frauds Expected : 0 actual 1']\n",
            "['data: give option bear financially stable family conception choose not avail opportunity provide perhaps take personal responsibility decision deal consequences Expected : 1 actual 0']\n",
            "['data: neighbour children annoy block driveway round time rather stay house Expected : 0 actual 1']\n",
            "['data: good morning computer freeze update crash laptop spill cup coffee week honestly get better Expected : 1 actual 0']\n",
            "['data: folks party like friday Expected : 0 actual 1']\n",
            "['data: usual uk race baiters strangely get absolutely nothing say jussie smollett case Expected : 0 actual 1']\n",
            "['data: one shots mate Expected : 0 actual 1']\n",
            "['data: sisters kid play live room tell look like ghoul due baggy eye love children much make feel appreciate love always say kindest things Expected : 1 actual 0']\n",
            "['data: gonna start post daily rant twitter sum life drama start today Expected : 0 actual 1']\n",
            "['data: man act like tough us streets Expected : 0 actual 1']\n",
            "['data: imagine absolutely money right still check regularly evermore anniversary merch drop Expected : 0 actual 1']\n",
            "['data: good see rulers try show like us really sniff Expected : 1 actual 0']\n",
            "['data: john major follow anna soubry follow phillip hammond top ed davey jo swinson next candidate prime minister pi ce de r sistance ian blackford obligatory mince pie Expected : 0 actual 1']\n",
            "['data: gonna hit sack long day catch 2moz night night Expected : 0 actual 1']\n",
            "['data: school send really helpful newsletter key date activities many fun things arrange children Expected : 0 actual 1']\n",
            "['data: quality labour lead get bigger hope labour lead stay like get bigger way next general election quality Expected : 0 actual 1']\n",
            "['data: bo jo clearly know wine cheese party happen house Expected : 0 actual 1']\n",
            "['data: feel bad not chat everyone not get energy social Expected : 0 actual 1']\n",
            "['data: yes look fantastic age thank lord filter hey Expected : 1 actual 0']\n",
            "['data: love weather edinburgh dress every season pee rain morning beautiful blue sky love get soak Expected : 1 actual 0']\n",
            "['data: love smell one million Expected : 0 actual 1']\n",
            "['data: nice horse get excite nice horse rancid hand not jockey must say Expected : 0 actual 1']\n",
            "['data: really hope go another lockdown hate Expected : 0 actual 1']\n",
            "['data: stoke see tonight Expected : 0 actual 1']\n",
            "['data: english right yeah big time Expected : 0 actual 1']\n",
            "['data: stop let hear night club specialist well Expected : 0 actual 1']\n",
            "['data: sad see number cars engines idle town really disgust not cold Expected : 0 actual 1']\n",
            "['data: joy academia spend 2 whole weeks work application tell feedback score strongly get Expected : 1 actual 0']\n",
            "['data: glad smart people still refuse wear mask shop thank selflessness highlight ignore something go away know try Expected : 1 actual 0']\n",
            "['data: really hate stick home thank governments lack control covid school Expected : 0 actual 1']\n",
            "['data: mean relax bath hard week instead get ask three time people stuff around house grrr Expected : 0 actual 1']\n",
            "['data: absolutely loveee not get graduation ceremony spend 3 years degree end 50 000 debt Expected : 1 actual 0']\n",
            "['data: wow glad spend entire christmas away family last year Expected : 1 actual 0']\n",
            "['data: love work office instead home wish wax melt bob bo could smell home Expected : 1 actual 0']\n",
            "['data: great fun couple worthy cause raise 150 thank everyone support Expected : 0 actual 1']\n",
            "['data: chillies wayyyyy prominent raw Expected : 0 actual 1']\n",
            "['data: love instagram motivate people saw post kim kardashian motivate delete account Expected : 1 actual 0']\n",
            "['data: not meed 10 men city Expected : 0 actual 1']\n",
            "['data: tease think labour 8 con 6 Expected : 0 actual 1']\n",
            "['data: best thing 5 fact easy throw around Expected : 0 actual 1']\n",
            "['data: would say think funny somebody decide resign go party make never happen actually resign not make situation acceptable Expected : 0 actual 1']\n",
            "['data: ahshehdgs way yhe arena literally gonna throw stomach feel weird Expected : 0 actual 1']\n",
            "['data: get buzz next thursday aw wait Expected : 0 actual 1']\n",
            "['data: wake weird stress dream office poland strangely korean bbq canteen one broth options oat milk Expected : 0 actual 1']\n",
            "['data: really love drive work today dark wet heavy rain Expected : 1 actual 0']\n",
            "['data: good know tory mps put put interest good government integrity first Expected : 0 actual 1']\n",
            "['data: hi john thank much text last night order back work holiday morning someone else sick sooooo sorry beijing 8 hours time difference make try harder next time Expected : 1 actual 0']\n",
            "['data: life moment fantastic really enjoy increase restrictions due omincron variant wait go shop whilst wear facemask Expected : 1 actual 0']\n",
            "['data: ok know eh Expected : 0 actual 1']\n",
            "['data: refer adhd character defect Expected : 0 actual 1']\n",
            "['data: omicron case go run hill Expected : 1 actual 0']\n",
            "['data: really impress human evolution covid make body adapt breathe chin darwin would proud Expected : 1 actual 0']\n",
            "['data: drop like fly lucky field team next game Expected : 0 actual 1']\n",
            "['data: boris johnson entirely trustworthy honest obviously christmas party number 10 time last year Expected : 1 actual 0']\n",
            "['data: contract extension jam franklin absolutely work penn state favor Expected : 1 actual 0']\n",
            "['data: believe omicron anagram crimbo government design covid variant time christmas Expected : 1 actual 0']\n",
            "['data: stab death scene 1917 par stab death scene save private ryan harrow Expected : 0 actual 1']\n",
            "['data: best behaviour worst Expected : 1 actual 0']\n",
            "['data: table four leave tonight guy love much support Expected : 0 actual 1']\n",
            "['data: grateful get order immediately Expected : 0 actual 1']\n",
            "['data: exactly pay lot talented politicians Expected : 0 actual 1']\n",
            "['data: currently wait make mockery murder write Expected : 0 actual 1']\n",
            "['data: school send newsletter need whiteboard track school festive activities mufti day forget make payment carol concert early school closure etc ever stop Expected : 1 actual 0']\n",
            "['data: fun water Expected : 0 actual 1']\n",
            "['data: wonder parent manual school hand parent could really use guidance Expected : 1 actual 0']\n",
            "['data: want stock office supply tesco could find aisle wine Expected : 1 actual 0']\n",
            "['data: catch mirror look ridiculously thick double take Expected : 0 actual 1']\n",
            "['data: bbc report daily covid case convenient Expected : 0 actual 1']\n",
            "['data: wake people something climate change late Expected : 0 actual 1']\n",
            "['data: love life covid time long may last Expected : 1 actual 0']\n",
            "['data: really upset people drive stupidly morning Expected : 0 actual 1']\n",
            "['data: daily co2 update december 10 2021 estimate global daily average co2 trend december 10 2021 415 99 ppm daily average co2 global monitor laboratory december 10 2021 415 95 ppm Expected : 0 actual 1']\n",
            "['data: disappoint boris cheese wine visible last nights announcement not even party hat sight Expected : 1 actual 0']\n",
            "['data: tip read quick without run risk miss important information seem slow runner Expected : 0 actual 1']\n",
            "['data: stoke see tonight Expected : 0 actual 1']\n",
            "['data: biden great president like none Expected : 1 actual 0']\n",
            "['data: whoever think make digestives smaller good idea thank ever much Expected : 1 actual 0']\n",
            "['data: talk plan c invite party 10 down street x Expected : 0 actual 1']\n",
            "['data: wow work reward fulfil right Expected : 1 actual 0']\n",
            "['data: pick algieri win tonight think land leave hook Expected : 0 actual 1']\n",
            "['data: high boxpark live band bare loud high Expected : 0 actual 1']\n",
            "['data: like thank current employer make feel accept value particularly nice whenever suggestions seriously consider automatically put finger ears shout hear metaphorically Expected : 1 actual 0']\n",
            "['data: hahahaha get sleeves roll get extra poison body Expected : 0 actual 1']\n",
            "['data: really really happy wake 6 30am next door neighbour dog bark thank lot appreciate load Expected : 1 actual 0']\n",
            "['data: not please find fragile delivery leave doorstep rain today instead leave safe place Expected : 0 actual 1']\n",
            "['data: tyrone mings best player pitch today Expected : 0 actual 1']\n",
            "['data: good hear government set great example come follow covid restrictions Expected : 1 actual 0']\n",
            "['data: people ptsd constant fear monger Expected : 0 actual 1']\n",
            "['data: add afterwards get much work do leave time Expected : 0 actual 1']\n",
            "['data: not look forward sit desk 7 half hours Expected : 0 actual 1']\n",
            "['data: unfair boris johnson hold party families go without see die relatives Expected : 0 actual 1']\n",
            "['data: dip hot milo milo ki understand esau sell birthright Expected : 0 actual 1']\n",
            "['data: everton really well minute really happy efforts Expected : 1 actual 0']\n",
            "['data: love boss micromanaged Expected : 1 actual 0']\n",
            "['data: drip drip drip bring levee break Expected : 0 actual 1']\n",
            "['data: boris johnson not clown conservative party not corrupt Expected : 1 actual 0']\n",
            "['data: oh goodness bite thin Expected : 0 actual 1']\n",
            "['data: many things could say not prepare waste time Expected : 0 actual 1']\n",
            "['data: rhys little hero Expected : 0 actual 1']\n",
            "['data: british weather awful point even complain Expected : 0 actual 1']\n",
            "['data: small group single handedly transform feel towards meet Expected : 0 actual 1']\n",
            "['data: favourite thing drive work morning peaceful slow everyone love people know go like stroll 8 30 morning make happy Expected : 1 actual 0']\n",
            "['data: find medically unable write good exact moment time write well lot send prayers vibes etc Expected : 0 actual 1']\n",
            "['data: hate see favourite game company go drain Expected : 0 actual 1']\n",
            "['data: oh great wear mask constant test protect love ones others around us human hard Expected : 1 actual 0']\n",
            "['data: leicester vs newcastle tomorrow fun Expected : 0 actual 1']\n",
            "['data: friday finish line really take longer longer december Expected : 0 actual 1']\n",
            "['data: love r give 500th error code day Expected : 1 actual 0']\n",
            "['data: big shout everyone vote tories last election Expected : 0 actual 1']\n",
            "['data: hopefully track parcel send days ago arrive soon royal mail likely everything go not concern hop positive update soon Expected : 0 actual 1']\n",
            "['data: someone put much perfume would say nice perfume long let marinate tt Expected : 1 actual 0']\n",
            "['data: see windyspoons take protective barriers bar sensible drink policies desperate king brexit Expected : 0 actual 1']\n",
            "['data: everybody love christmas great time jolly Expected : 1 actual 0']\n",
            "['data: think cat separation anxiety Expected : 0 actual 1']\n",
            "['data: glad boris protect nhs christmas party Expected : 1 actual 0']\n",
            "['data: omicron variant decide give us wonderful gift christmas one day choose not spread people gift make feel lot better around love ones still refuse get vaccine wear mask least Expected : 1 actual 0']\n",
            "['data: nice see west kensington lot see game years fun Expected : 0 actual 1']\n",
            "['data: would hate stick room another lockdown Expected : 0 actual 1']\n",
            "['data: best fan well do everyone involve Expected : 0 actual 1']\n",
            "['data: cause funny Expected : 0 actual 1']\n",
            "['data: write wind bobbin shoot strangle least psychologically torture long Expected : 0 actual 1']\n",
            "['data: well least covid situation seem improve time christmas Expected : 1 actual 0']\n",
            "['data: sick tire order take away arrive mostly cold wtf pay exactly also pizza cut pay like half freak job point Expected : 0 actual 1']\n",
            "['data: hours leave apply deadline 5pm today Expected : 0 actual 1']\n",
            "['data: dont know single person youtube premium Expected : 0 actual 1']\n",
            "['data: st george slob Expected : 0 actual 1']\n",
            "['data: laugh hard reply Expected : 0 actual 1']\n",
            "['data: 3 point white curry tea happy days Expected : 0 actual 1']\n",
            "['data: clever people actually ability clever not repeat everything think know Expected : 1 actual 0']\n",
            "['data: bird not real cannot tell otherwise Expected : 1 actual 0']\n",
            "['data: oh dear see come Expected : 0 actual 1']\n",
            "['data: mask work wear pubs shop Expected : 1 actual 0']\n",
            "['data: work event not require purchase use wine fridge Expected : 0 actual 1']\n",
            "['data: shrinkflation serious economic phenomenon affect lowest pay society process capture eloquently sad degradation sturdy digestive Expected : 0 actual 1']\n",
            "['data: new intel uhd gpu powerful think atari nes game could run 4k 30fps wow Expected : 1 actual 0']\n",
            "['data: one flat mate leave loud reason Expected : 0 actual 1']\n",
            "['data: slap nut shower Expected : 0 actual 1']\n",
            "['data: see govt run lateral flow test shock Expected : 1 actual 0']\n",
            "['data: hello john sorry beijing agree annual leave receive text not position cover request shift earlier morning Expected : 0 actual 1']\n",
            "['data: ah really need vaccine booster address boris johnson anything get media report something else down street christmas party Expected : 1 actual 0']\n",
            "['data: want marcos alonso play club anymore get rid Expected : 0 actual 1']\n",
            "['data: worst time holiday Expected : 1 actual 0']\n",
            "['data: christmas time kill man yano Expected : 0 actual 1']\n",
            "['data: share care sure 42 followers sleep tonight not update Expected : 1 actual 0']\n",
            "['data: boris johnson decide join police morning look great hat think make competent police officer indeed Expected : 1 actual 0']\n",
            "['data: really busy day might manage one box set today Expected : 1 actual 0']\n",
            "['data: best day ever sort reference annotations zzzzzz Expected : 1 actual 0']\n",
            "['data: tea appear bedside hallelujah Expected : 0 actual 1']\n",
            "['data: well play today safe travel back see april Expected : 0 actual 1']\n",
            "['data: see itv new drama start next week think police detective personal problems make change Expected : 1 actual 0']\n",
            "['data: hey need stop wear much perfume stink room Expected : 0 actual 1']\n",
            "['data: lot parachute active volcano Expected : 0 actual 1']\n",
            "['data: make laugh cap Expected : 0 actual 1']\n",
            "['data: ugh believe back go start annual leave point need put Expected : 0 actual 1']\n",
            "['data: think boris johnson deserve party great job country past years Expected : 1 actual 0']\n",
            "['data: police clearly nothing better Expected : 1 actual 0']\n",
            "['data: would imply friend tendency unthinkingly judgemental often revel knowledgeable ignorance Expected : 0 actual 1']\n",
            "['data: love women refer girl boss however men boss Expected : 1 actual 0']\n",
            "['data: fact people still get need distance wear mask generally pay attention hygiene far pandemic give great confidence future humanity Expected : 1 actual 0']\n"
          ]
        }
      ],
      "source": [
        "# This code allows you to see the mislabelled examples\n",
        "C = 2\n",
        "y_test_oh = np.eye(C)[y_val.reshape(-1)]\n",
        "X_test_indices = sentences_to_indices(X_val, word_to_index, maxLen)\n",
        "pred = model.predict(X_test_indices)\n",
        "for i in range(len(X_val)):\n",
        "    x = X_test_indices\n",
        "    num = np.argmax(pred[i])\n",
        "    if(num != y_val[i]):\n",
        "        print('data: '+X_val[i]+' Expected : '+ str(y_val[i])+\" actual \"+str(num))"
      ]
    },
    {
      "cell_type": "code",
      "execution_count": null,
      "metadata": {
        "id": "QxROd1JEJaNK"
      },
      "outputs": [],
      "source": []
    },
    {
      "cell_type": "code",
      "execution_count": null,
      "metadata": {
        "id": "UeTahwJeJaRh"
      },
      "outputs": [],
      "source": []
    },
    {
      "cell_type": "markdown",
      "metadata": {
        "id": "qYct1pnjJazz"
      },
      "source": [
        ">Model Séquentielle"
      ]
    },
    {
      "cell_type": "code",
      "execution_count": null,
      "metadata": {
        "colab": {
          "base_uri": "https://localhost:8080/"
        },
        "id": "4OSwNU1rJdrN",
        "outputId": "09cead20-c041-4ba0-cd2c-eaa23028351e"
      },
      "outputs": [
        {
          "name": "stdout",
          "output_type": "stream",
          "text": [
            "Epoch 1/5\n",
            "56/61 [==========================>...] - ETA: 0s - loss: 2.0667 - accuracy: 0.6878"
          ]
        },
        {
          "name": "stderr",
          "output_type": "stream",
          "text": [
            "WARNING:tensorflow:Early stopping conditioned on metric `val_acc` which is not available. Available metrics are: loss,accuracy,val_loss,val_accuracy\n"
          ]
        },
        {
          "name": "stdout",
          "output_type": "stream",
          "text": [
            "\b\b\b\b\b\b\b\b\b\b\b\b\b\b\b\b\b\b\b\b\b\b\b\b\b\b\b\b\b\b\b\b\b\b\b\b\b\b\b\b\b\b\b\b\b\b\b\b\b\b\b\b\b\b\b\b\b\b\b\b\b\b\b\b\b\b\b\b\b\b\b\b\b\b\b\b\b\b\b\b\b\b\r61/61 [==============================] - 2s 16ms/step - loss: 2.0414 - accuracy: 0.6924 - val_loss: 1.5777 - val_accuracy: 0.8585\n",
            "Epoch 2/5\n",
            "58/61 [===========================>..] - ETA: 0s - loss: 1.4524 - accuracy: 0.7503"
          ]
        },
        {
          "name": "stderr",
          "output_type": "stream",
          "text": [
            "WARNING:tensorflow:Early stopping conditioned on metric `val_acc` which is not available. Available metrics are: loss,accuracy,val_loss,val_accuracy\n"
          ]
        },
        {
          "name": "stdout",
          "output_type": "stream",
          "text": [
            "\b\b\b\b\b\b\b\b\b\b\b\b\b\b\b\b\b\b\b\b\b\b\b\b\b\b\b\b\b\b\b\b\b\b\b\b\b\b\b\b\b\b\b\b\b\b\b\b\b\b\b\b\b\b\b\b\b\b\b\b\b\b\b\b\b\b\b\b\b\b\b\b\b\b\b\b\b\b\b\b\b\b\r61/61 [==============================] - 1s 11ms/step - loss: 1.4427 - accuracy: 0.7515 - val_loss: 1.1091 - val_accuracy: 0.8585\n",
            "Epoch 3/5\n",
            "59/61 [============================>.] - ETA: 0s - loss: 1.0247 - accuracy: 0.7614"
          ]
        },
        {
          "name": "stderr",
          "output_type": "stream",
          "text": [
            "WARNING:tensorflow:Early stopping conditioned on metric `val_acc` which is not available. Available metrics are: loss,accuracy,val_loss,val_accuracy\n"
          ]
        },
        {
          "name": "stdout",
          "output_type": "stream",
          "text": [
            "\b\b\b\b\b\b\b\b\b\b\b\b\b\b\b\b\b\b\b\b\b\b\b\b\b\b\b\b\b\b\b\b\b\b\b\b\b\b\b\b\b\b\b\b\b\b\b\b\b\b\b\b\b\b\b\b\b\b\b\b\b\b\b\b\b\b\b\b\b\b\b\b\b\b\b\b\b\b\b\b\b\b\r61/61 [==============================] - 1s 11ms/step - loss: 1.0216 - accuracy: 0.7614 - val_loss: 0.7613 - val_accuracy: 0.8585\n",
            "Epoch 4/5\n",
            "61/61 [==============================] - ETA: 0s - loss: 0.7366 - accuracy: 0.7616"
          ]
        },
        {
          "name": "stderr",
          "output_type": "stream",
          "text": [
            "WARNING:tensorflow:Early stopping conditioned on metric `val_acc` which is not available. Available metrics are: loss,accuracy,val_loss,val_accuracy\n"
          ]
        },
        {
          "name": "stdout",
          "output_type": "stream",
          "text": [
            "\b\b\b\b\b\b\b\b\b\b\b\b\b\b\b\b\b\b\b\b\b\b\b\b\b\b\b\b\b\b\b\b\b\b\b\b\b\b\b\b\b\b\b\b\b\b\b\b\b\b\b\b\b\b\b\b\b\b\b\b\b\b\b\b\b\b\b\b\b\b\b\b\b\b\b\b\b\b\b\b\b\b\r61/61 [==============================] - 1s 12ms/step - loss: 0.7366 - accuracy: 0.7616 - val_loss: 0.5544 - val_accuracy: 0.8585\n",
            "Epoch 5/5\n",
            "57/61 [===========================>..] - ETA: 0s - loss: 0.5177 - accuracy: 0.7643"
          ]
        },
        {
          "name": "stderr",
          "output_type": "stream",
          "text": [
            "WARNING:tensorflow:Early stopping conditioned on metric `val_acc` which is not available. Available metrics are: loss,accuracy,val_loss,val_accuracy\n"
          ]
        },
        {
          "name": "stdout",
          "output_type": "stream",
          "text": [
            "\b\b\b\b\b\b\b\b\b\b\b\b\b\b\b\b\b\b\b\b\b\b\b\b\b\b\b\b\b\b\b\b\b\b\b\b\b\b\b\b\b\b\b\b\b\b\b\b\b\b\b\b\b\b\b\b\b\b\b\b\b\b\b\b\b\b\b\b\b\b\b\b\b\b\b\b\b\b\b\b\b\b\r61/61 [==============================] - 1s 12ms/step - loss: 0.5153 - accuracy: 0.7616 - val_loss: 0.4875 - val_accuracy: 0.8585\n"
          ]
        }
      ],
      "source": [
        "from keras.layers import Dense, Input, Embedding, Dropout, Activation, Flatten, Bidirectional, GlobalMaxPool1D\n",
        "from keras.models import Model, Sequential\n",
        "from tensorflow.keras.callbacks import EarlyStopping\n",
        "from keras import layers\n",
        "\n",
        "model = Sequential()\n",
        "model.add(Embedding(8760, 50, input_length = 20))\n",
        "\n",
        "model.add(Flatten())\n",
        "model.add(Dense(100, activation=\"relu\"))\n",
        "model.add(Dropout(0.5))\n",
        "model.add(Dense(50, activation=\"relu\"))\n",
        "model.add(Dropout(0.5))\n",
        "model.add(Dense(20, activation=\"relu\",kernel_regularizer=tf.keras.regularizers.L1L2(l1=1e-2, l2=1e-2),))\n",
        "model.add(Dropout(0.7))\n",
        "model.add(Dense(1, activation=\"sigmoid\"))\n",
        "model.compile(loss='binary_crossentropy', optimizer='adam', metrics=['accuracy'])\n",
        "\n",
        "es = EarlyStopping(monitor=\"val_acc\", mode=\"max\", patience=3)\n",
        "history = model.fit(X, Y, batch_size=64, epochs=5, validation_split=0.2, callbacks=[es])"
      ]
    },
    {
      "cell_type": "code",
      "execution_count": null,
      "metadata": {
        "id": "FjZMyQmqKs49"
      },
      "outputs": [],
      "source": [
        "X=np.concatenate((X_train,X_val))\n",
        "Y=np.concatenate((y_train,y_val))"
      ]
    },
    {
      "cell_type": "code",
      "execution_count": null,
      "metadata": {
        "colab": {
          "base_uri": "https://localhost:8080/"
        },
        "id": "1a88YwWYJiAi",
        "outputId": "232c65e9-acb4-4699-e69f-110639581cf8"
      },
      "outputs": [
        {
          "data": {
            "text/plain": [
              "(4840,)"
            ]
          },
          "execution_count": 147,
          "metadata": {},
          "output_type": "execute_result"
        }
      ],
      "source": [
        "Y.shape"
      ]
    },
    {
      "cell_type": "code",
      "execution_count": null,
      "metadata": {
        "id": "knJ5wlPrTQ1_"
      },
      "outputs": [],
      "source": []
    },
    {
      "cell_type": "code",
      "execution_count": null,
      "metadata": {
        "id": "Okt8pyiJTQ6Q"
      },
      "outputs": [],
      "source": []
    },
    {
      "cell_type": "markdown",
      "metadata": {
        "id": "PmjYeVB6TRIZ"
      },
      "source": [
        "## Bert Model "
      ]
    },
    {
      "cell_type": "code",
      "execution_count": null,
      "metadata": {
        "colab": {
          "base_uri": "https://localhost:8080/"
        },
        "id": "WJZ-4Lq2TwHi",
        "outputId": "9adf8b80-9616-4d07-a7ff-f2df55a5db26"
      },
      "outputs": [
        {
          "name": "stdout",
          "output_type": "stream",
          "text": [
            "Looking in indexes: https://pypi.org/simple, https://us-python.pkg.dev/colab-wheels/public/simple/\n",
            "Collecting transformers\n",
            "  Downloading transformers-4.25.1-py3-none-any.whl (5.8 MB)\n",
            "\u001b[K     |████████████████████████████████| 5.8 MB 14.4 MB/s \n",
            "\u001b[?25hRequirement already satisfied: regex!=2019.12.17 in /usr/local/lib/python3.8/dist-packages (from transformers) (2022.6.2)\n",
            "Requirement already satisfied: filelock in /usr/local/lib/python3.8/dist-packages (from transformers) (3.8.0)\n",
            "Requirement already satisfied: requests in /usr/local/lib/python3.8/dist-packages (from transformers) (2.23.0)\n",
            "Collecting tokenizers!=0.11.3,<0.14,>=0.11.1\n",
            "  Downloading tokenizers-0.13.2-cp38-cp38-manylinux_2_17_x86_64.manylinux2014_x86_64.whl (7.6 MB)\n",
            "\u001b[K     |████████████████████████████████| 7.6 MB 34.4 MB/s \n",
            "\u001b[?25hCollecting huggingface-hub<1.0,>=0.10.0\n",
            "  Downloading huggingface_hub-0.11.1-py3-none-any.whl (182 kB)\n",
            "\u001b[K     |████████████████████████████████| 182 kB 60.8 MB/s \n",
            "\u001b[?25hRequirement already satisfied: pyyaml>=5.1 in /usr/local/lib/python3.8/dist-packages (from transformers) (6.0)\n",
            "Requirement already satisfied: packaging>=20.0 in /usr/local/lib/python3.8/dist-packages (from transformers) (21.3)\n",
            "Requirement already satisfied: tqdm>=4.27 in /usr/local/lib/python3.8/dist-packages (from transformers) (4.64.1)\n",
            "Requirement already satisfied: numpy>=1.17 in /usr/local/lib/python3.8/dist-packages (from transformers) (1.21.6)\n",
            "Requirement already satisfied: typing-extensions>=3.7.4.3 in /usr/local/lib/python3.8/dist-packages (from huggingface-hub<1.0,>=0.10.0->transformers) (4.4.0)\n",
            "Requirement already satisfied: pyparsing!=3.0.5,>=2.0.2 in /usr/local/lib/python3.8/dist-packages (from packaging>=20.0->transformers) (3.0.9)\n",
            "Requirement already satisfied: idna<3,>=2.5 in /usr/local/lib/python3.8/dist-packages (from requests->transformers) (2.10)\n",
            "Requirement already satisfied: chardet<4,>=3.0.2 in /usr/local/lib/python3.8/dist-packages (from requests->transformers) (3.0.4)\n",
            "Requirement already satisfied: certifi>=2017.4.17 in /usr/local/lib/python3.8/dist-packages (from requests->transformers) (2022.9.24)\n",
            "Requirement already satisfied: urllib3!=1.25.0,!=1.25.1,<1.26,>=1.21.1 in /usr/local/lib/python3.8/dist-packages (from requests->transformers) (1.24.3)\n",
            "Installing collected packages: tokenizers, huggingface-hub, transformers\n",
            "Successfully installed huggingface-hub-0.11.1 tokenizers-0.13.2 transformers-4.25.1\n"
          ]
        }
      ],
      "source": [
        "!pip install transformers\n",
        "import transformers"
      ]
    },
    {
      "cell_type": "code",
      "execution_count": null,
      "metadata": {
        "id": "mh5YZZGdTUPZ"
      },
      "outputs": [],
      "source": [
        "import tensorflow as tf\n",
        "import matplotlib.pyplot as plt\n",
        "from transformers import TFBertModel, BertTokenizer\n",
        "from sklearn.model_selection import train_test_split"
      ]
    },
    {
      "cell_type": "code",
      "execution_count": null,
      "metadata": {
        "id": "1WUumx81UMXe"
      },
      "outputs": [],
      "source": [
        "sentences = data['clean_tweet']\n",
        "label = data['sarcastic']"
      ]
    },
    {
      "cell_type": "code",
      "execution_count": null,
      "metadata": {
        "id": "FQGGh0gCUM4_"
      },
      "outputs": [],
      "source": [
        "X_train,y_train=sentences,label\n",
        "X_val,y_val=test_data['clean_tweet'],test_data['sarcastic']"
      ]
    },
    {
      "cell_type": "code",
      "execution_count": null,
      "metadata": {
        "colab": {
          "base_uri": "https://localhost:8080/"
        },
        "id": "3dHXldA7Thdq",
        "outputId": "2ded286b-7b76-4501-9116-350f42f0b97a"
      },
      "outputs": [
        {
          "name": "stderr",
          "output_type": "stream",
          "text": [
            "/usr/local/lib/python3.8/dist-packages/transformers/tokenization_utils_base.py:2336: FutureWarning:\n",
            "\n",
            "The `pad_to_max_length` argument is deprecated and will be removed in a future version, use `padding=True` or `padding='longest'` to pad to the longest sequence in the batch, or use `padding='max_length'` to pad to a max length. In this case, you can give a specific length with `max_length` (e.g. `max_length=45`) or leave max_length to None to pad to the maximal input size of the model (e.g. 512 for Bert).\n",
            "\n"
          ]
        }
      ],
      "source": [
        "PRE_TRAINED_MODEL_NAME = 'bert-base-uncased'\n",
        "tokenizer = BertTokenizer.from_pretrained(PRE_TRAINED_MODEL_NAME,do_lower_case = True)\n",
        "\n",
        "def encoder(sentences):\n",
        "  ids = []\n",
        "  for sentence in sentences:\n",
        "    encoding = tokenizer.encode_plus(\n",
        "    sentence,\n",
        "    max_length=16,\n",
        "    truncation = True,\n",
        "    add_special_tokens=True,\n",
        "    return_token_type_ids=False,\n",
        "    pad_to_max_length=True,\n",
        "    return_attention_mask=False)\n",
        "    ids.append(encoding['input_ids'])\n",
        "  return ids\n",
        "\n",
        "\n",
        "\n",
        "train_ids = encoder(X_train)\n",
        "test_ids = encoder(X_val) \n"
      ]
    },
    {
      "cell_type": "code",
      "execution_count": null,
      "metadata": {
        "id": "f-XluHnWUg5Q"
      },
      "outputs": [],
      "source": [
        "X_train = tf.convert_to_tensor(train_ids)\n",
        "X_val = tf.convert_to_tensor(test_ids)\n",
        "y_train = tf.convert_to_tensor(y_train)\n",
        "y_val = tf.convert_to_tensor(y_val)"
      ]
    },
    {
      "cell_type": "code",
      "execution_count": null,
      "metadata": {
        "colab": {
          "base_uri": "https://localhost:8080/",
          "height": 156,
          "referenced_widgets": [
            "3d77d398fdde4399abb25c45ce65ef1e",
            "b474ab7967344ea18f98621fb5190fbc",
            "6b5dee2b37494878b053a415b741a8e3",
            "ecaccf4eddc2485bb015569cdf9fafa4",
            "808712d1510e4e1fa80c11fdc6055568",
            "905b7bc0567a466ab7805ce87e4e8907",
            "23f53450f8104846a6cee179a31a3da7",
            "60109a8e1d4a479fb3a5394169082332",
            "ff7c23ba59be45fca6e30667884419e1",
            "5006486f1db14214ab032ccf34906b61",
            "3c90a3627ef6493caae0d03490377761"
          ]
        },
        "id": "NKvx_CtMU9Pc",
        "outputId": "e77b1e24-f685-4bdb-a232-fd6332227c41"
      },
      "outputs": [
        {
          "data": {
            "application/vnd.jupyter.widget-view+json": {
              "model_id": "3d77d398fdde4399abb25c45ce65ef1e",
              "version_major": 2,
              "version_minor": 0
            },
            "text/plain": [
              "Downloading:   0%|          | 0.00/536M [00:00<?, ?B/s]"
            ]
          },
          "metadata": {},
          "output_type": "display_data"
        },
        {
          "name": "stderr",
          "output_type": "stream",
          "text": [
            "Some layers from the model checkpoint at bert-base-uncased were not used when initializing TFBertModel: ['nsp___cls', 'mlm___cls']\n",
            "- This IS expected if you are initializing TFBertModel from the checkpoint of a model trained on another task or with another architecture (e.g. initializing a BertForSequenceClassification model from a BertForPreTraining model).\n",
            "- This IS NOT expected if you are initializing TFBertModel from the checkpoint of a model that you expect to be exactly identical (initializing a BertForSequenceClassification model from a BertForSequenceClassification model).\n",
            "All the layers of TFBertModel were initialized from the model checkpoint at bert-base-uncased.\n",
            "If your task is similar to the task the model of the checkpoint was trained on, you can already use TFBertModel for predictions without further training.\n"
          ]
        }
      ],
      "source": [
        "bert_encoder = TFBertModel.from_pretrained('bert-base-uncased')\n",
        "input_word_ids = tf.keras.Input(shape=(16,), dtype=tf.int32, name=\"input_word_ids\")  \n",
        "embedding = bert_encoder([input_word_ids])\n",
        "dense = tf.keras.layers.Lambda(lambda seq: seq[:, 0, :])(embedding[0])\n",
        "dense = tf.keras.layers.Dense(128, activation='relu')(dense)\n",
        "dense = tf.keras.layers.Dropout(0.2)(dense)   \n",
        "output = tf.keras.layers.Dense(1, activation='sigmoid')(dense)    \n",
        "\n",
        "model = tf.keras.Model(inputs=[input_word_ids], outputs=output)  "
      ]
    },
    {
      "cell_type": "code",
      "execution_count": null,
      "metadata": {
        "colab": {
          "base_uri": "https://localhost:8080/"
        },
        "id": "baXiHlGdVJZK",
        "outputId": "746c2d75-e8ac-439b-9e36-b482a5fbfd9d"
      },
      "outputs": [
        {
          "name": "stdout",
          "output_type": "stream",
          "text": [
            "Model: \"model_4\"\n",
            "_________________________________________________________________\n",
            " Layer (type)                Output Shape              Param #   \n",
            "=================================================================\n",
            " input_word_ids (InputLayer)  [(None, 16)]             0         \n",
            "                                                                 \n",
            " tf_bert_model (TFBertModel)  TFBaseModelOutputWithPoo  109482240\n",
            "                             lingAndCrossAttentions(l            \n",
            "                             ast_hidden_state=(None,             \n",
            "                             16, 768),                           \n",
            "                              pooler_output=(None, 76            \n",
            "                             8),                                 \n",
            "                              past_key_values=None, h            \n",
            "                             idden_states=None, atten            \n",
            "                             tions=None, cross_attent            \n",
            "                             ions=None)                          \n",
            "                                                                 \n",
            " lambda (Lambda)             (None, 768)               0         \n",
            "                                                                 \n",
            " dense_100 (Dense)           (None, 128)               98432     \n",
            "                                                                 \n",
            " dropout_111 (Dropout)       (None, 128)               0         \n",
            "                                                                 \n",
            " dense_101 (Dense)           (None, 1)                 129       \n",
            "                                                                 \n",
            "=================================================================\n",
            "Total params: 109,580,801\n",
            "Trainable params: 109,580,801\n",
            "Non-trainable params: 0\n",
            "_________________________________________________________________\n"
          ]
        }
      ],
      "source": [
        "model.compile(tf.keras.optimizers.Adam(1e-5), loss='binary_crossentropy', metrics=['accuracy'])\n",
        "model.summary()"
      ]
    },
    {
      "cell_type": "code",
      "execution_count": null,
      "metadata": {
        "colab": {
          "base_uri": "https://localhost:8080/"
        },
        "id": "Vz9fFVmQUDOy",
        "outputId": "9e1c4e9e-f3dc-4de4-c936-fd186f8245af"
      },
      "outputs": [
        {
          "name": "stdout",
          "output_type": "stream",
          "text": [
            "Epoch 1/3\n"
          ]
        },
        {
          "name": "stderr",
          "output_type": "stream",
          "text": [
            "WARNING:tensorflow:Gradients do not exist for variables ['tf_bert_model/bert/pooler/dense/kernel:0', 'tf_bert_model/bert/pooler/dense/bias:0'] when minimizing the loss. If you're using `model.compile()`, did you forget to provide a `loss`argument?\n",
            "WARNING:tensorflow:Gradients do not exist for variables ['tf_bert_model/bert/pooler/dense/kernel:0', 'tf_bert_model/bert/pooler/dense/bias:0'] when minimizing the loss. If you're using `model.compile()`, did you forget to provide a `loss`argument?\n"
          ]
        },
        {
          "name": "stdout",
          "output_type": "stream",
          "text": [
            "108/108 [==============================] - 737s 7s/step - loss: 0.5799 - accuracy: 0.7446 - val_loss: 0.4367 - val_accuracy: 0.8588\n",
            "Epoch 2/3\n",
            "108/108 [==============================] - 714s 7s/step - loss: 0.5618 - accuracy: 0.7495 - val_loss: 0.4943 - val_accuracy: 0.8588\n",
            "Epoch 3/3\n",
            "108/108 [==============================] - 713s 7s/step - loss: 0.5404 - accuracy: 0.7486 - val_loss: 0.4437 - val_accuracy: 0.8616\n"
          ]
        }
      ],
      "source": [
        "history = model.fit(x = X_train, y = y_train , epochs = 3, verbose = 1, batch_size = 32, validation_data = (X_val, y_val))"
      ]
    },
    {
      "cell_type": "code",
      "execution_count": null,
      "metadata": {
        "colab": {
          "background_save": true,
          "base_uri": "https://localhost:8080/"
        },
        "id": "oTNXqgnNe_EX",
        "outputId": "d21d0478-6510-42ca-cd59-e0683f06460d"
      },
      "outputs": [
        {
          "name": "stdout",
          "output_type": "stream",
          "text": [
            "Epoch 1/3\n",
            "108/108 [==============================] - 744s 7s/step - loss: 0.4903 - accuracy: 0.7707 - val_loss: 0.3967 - val_accuracy: 0.8595\n",
            "Epoch 2/3\n",
            "108/108 [==============================] - 713s 7s/step - loss: 0.4081 - accuracy: 0.8131 - val_loss: 0.4828 - val_accuracy: 0.8072\n",
            "Epoch 3/3\n",
            "108/108 [==============================] - 702s 7s/step - loss: 0.2846 - accuracy: 0.8848 - val_loss: 0.6128 - val_accuracy: 0.7183\n"
          ]
        }
      ],
      "source": [
        "history = model.fit(x = X_train, y = y_train , epochs = 3, verbose = 1, batch_size = 32, validation_data = (X_val, y_val))"
      ]
    },
    {
      "cell_type": "code",
      "execution_count": null,
      "metadata": {
        "colab": {
          "background_save": true
        },
        "id": "-Pq7nlvghrny",
        "outputId": "6edde1c8-6d86-4412-ec16-9310334d7e67"
      },
      "outputs": [
        {
          "name": "stdout",
          "output_type": "stream",
          "text": [
            "Epoch 1/3\n",
            "108/108 [==============================] - 716s 7s/step - loss: 0.1790 - accuracy: 0.9347 - val_loss: 0.6627 - val_accuracy: 0.8029\n",
            "Epoch 2/3\n",
            "108/108 [==============================] - 712s 7s/step - loss: 0.1074 - accuracy: 0.9582 - val_loss: 0.8319 - val_accuracy: 0.7362\n",
            "Epoch 3/3\n",
            "108/108 [==============================] - 711s 7s/step - loss: 0.0820 - accuracy: 0.9710 - val_loss: 0.8999 - val_accuracy: 0.7448\n"
          ]
        }
      ],
      "source": [
        "history = model.fit(x = X_train, y = y_train , epochs = 3, verbose = 1, batch_size = 32, validation_data = (X_val, y_val))"
      ]
    }
  ],
  "metadata": {
    "accelerator": "GPU",
    "colab": {
      "provenance": []
    },
    "gpuClass": "standard",
    "kernelspec": {
      "display_name": "Python 3",
      "name": "python3"
    },
    "language_info": {
      "name": "python"
    },
    "widgets": {
      "application/vnd.jupyter.widget-state+json": {
        "23f53450f8104846a6cee179a31a3da7": {
          "model_module": "@jupyter-widgets/controls",
          "model_module_version": "1.5.0",
          "model_name": "DescriptionStyleModel",
          "state": {
            "_model_module": "@jupyter-widgets/controls",
            "_model_module_version": "1.5.0",
            "_model_name": "DescriptionStyleModel",
            "_view_count": null,
            "_view_module": "@jupyter-widgets/base",
            "_view_module_version": "1.2.0",
            "_view_name": "StyleView",
            "description_width": ""
          }
        },
        "3c90a3627ef6493caae0d03490377761": {
          "model_module": "@jupyter-widgets/controls",
          "model_module_version": "1.5.0",
          "model_name": "DescriptionStyleModel",
          "state": {
            "_model_module": "@jupyter-widgets/controls",
            "_model_module_version": "1.5.0",
            "_model_name": "DescriptionStyleModel",
            "_view_count": null,
            "_view_module": "@jupyter-widgets/base",
            "_view_module_version": "1.2.0",
            "_view_name": "StyleView",
            "description_width": ""
          }
        },
        "3d77d398fdde4399abb25c45ce65ef1e": {
          "model_module": "@jupyter-widgets/controls",
          "model_module_version": "1.5.0",
          "model_name": "HBoxModel",
          "state": {
            "_dom_classes": [],
            "_model_module": "@jupyter-widgets/controls",
            "_model_module_version": "1.5.0",
            "_model_name": "HBoxModel",
            "_view_count": null,
            "_view_module": "@jupyter-widgets/controls",
            "_view_module_version": "1.5.0",
            "_view_name": "HBoxView",
            "box_style": "",
            "children": [
              "IPY_MODEL_b474ab7967344ea18f98621fb5190fbc",
              "IPY_MODEL_6b5dee2b37494878b053a415b741a8e3",
              "IPY_MODEL_ecaccf4eddc2485bb015569cdf9fafa4"
            ],
            "layout": "IPY_MODEL_808712d1510e4e1fa80c11fdc6055568"
          }
        },
        "5006486f1db14214ab032ccf34906b61": {
          "model_module": "@jupyter-widgets/base",
          "model_module_version": "1.2.0",
          "model_name": "LayoutModel",
          "state": {
            "_model_module": "@jupyter-widgets/base",
            "_model_module_version": "1.2.0",
            "_model_name": "LayoutModel",
            "_view_count": null,
            "_view_module": "@jupyter-widgets/base",
            "_view_module_version": "1.2.0",
            "_view_name": "LayoutView",
            "align_content": null,
            "align_items": null,
            "align_self": null,
            "border": null,
            "bottom": null,
            "display": null,
            "flex": null,
            "flex_flow": null,
            "grid_area": null,
            "grid_auto_columns": null,
            "grid_auto_flow": null,
            "grid_auto_rows": null,
            "grid_column": null,
            "grid_gap": null,
            "grid_row": null,
            "grid_template_areas": null,
            "grid_template_columns": null,
            "grid_template_rows": null,
            "height": null,
            "justify_content": null,
            "justify_items": null,
            "left": null,
            "margin": null,
            "max_height": null,
            "max_width": null,
            "min_height": null,
            "min_width": null,
            "object_fit": null,
            "object_position": null,
            "order": null,
            "overflow": null,
            "overflow_x": null,
            "overflow_y": null,
            "padding": null,
            "right": null,
            "top": null,
            "visibility": null,
            "width": null
          }
        },
        "60109a8e1d4a479fb3a5394169082332": {
          "model_module": "@jupyter-widgets/base",
          "model_module_version": "1.2.0",
          "model_name": "LayoutModel",
          "state": {
            "_model_module": "@jupyter-widgets/base",
            "_model_module_version": "1.2.0",
            "_model_name": "LayoutModel",
            "_view_count": null,
            "_view_module": "@jupyter-widgets/base",
            "_view_module_version": "1.2.0",
            "_view_name": "LayoutView",
            "align_content": null,
            "align_items": null,
            "align_self": null,
            "border": null,
            "bottom": null,
            "display": null,
            "flex": null,
            "flex_flow": null,
            "grid_area": null,
            "grid_auto_columns": null,
            "grid_auto_flow": null,
            "grid_auto_rows": null,
            "grid_column": null,
            "grid_gap": null,
            "grid_row": null,
            "grid_template_areas": null,
            "grid_template_columns": null,
            "grid_template_rows": null,
            "height": null,
            "justify_content": null,
            "justify_items": null,
            "left": null,
            "margin": null,
            "max_height": null,
            "max_width": null,
            "min_height": null,
            "min_width": null,
            "object_fit": null,
            "object_position": null,
            "order": null,
            "overflow": null,
            "overflow_x": null,
            "overflow_y": null,
            "padding": null,
            "right": null,
            "top": null,
            "visibility": null,
            "width": null
          }
        },
        "6b5dee2b37494878b053a415b741a8e3": {
          "model_module": "@jupyter-widgets/controls",
          "model_module_version": "1.5.0",
          "model_name": "FloatProgressModel",
          "state": {
            "_dom_classes": [],
            "_model_module": "@jupyter-widgets/controls",
            "_model_module_version": "1.5.0",
            "_model_name": "FloatProgressModel",
            "_view_count": null,
            "_view_module": "@jupyter-widgets/controls",
            "_view_module_version": "1.5.0",
            "_view_name": "ProgressView",
            "bar_style": "success",
            "description": "",
            "description_tooltip": null,
            "layout": "IPY_MODEL_60109a8e1d4a479fb3a5394169082332",
            "max": 536063208,
            "min": 0,
            "orientation": "horizontal",
            "style": "IPY_MODEL_ff7c23ba59be45fca6e30667884419e1",
            "value": 536063208
          }
        },
        "808712d1510e4e1fa80c11fdc6055568": {
          "model_module": "@jupyter-widgets/base",
          "model_module_version": "1.2.0",
          "model_name": "LayoutModel",
          "state": {
            "_model_module": "@jupyter-widgets/base",
            "_model_module_version": "1.2.0",
            "_model_name": "LayoutModel",
            "_view_count": null,
            "_view_module": "@jupyter-widgets/base",
            "_view_module_version": "1.2.0",
            "_view_name": "LayoutView",
            "align_content": null,
            "align_items": null,
            "align_self": null,
            "border": null,
            "bottom": null,
            "display": null,
            "flex": null,
            "flex_flow": null,
            "grid_area": null,
            "grid_auto_columns": null,
            "grid_auto_flow": null,
            "grid_auto_rows": null,
            "grid_column": null,
            "grid_gap": null,
            "grid_row": null,
            "grid_template_areas": null,
            "grid_template_columns": null,
            "grid_template_rows": null,
            "height": null,
            "justify_content": null,
            "justify_items": null,
            "left": null,
            "margin": null,
            "max_height": null,
            "max_width": null,
            "min_height": null,
            "min_width": null,
            "object_fit": null,
            "object_position": null,
            "order": null,
            "overflow": null,
            "overflow_x": null,
            "overflow_y": null,
            "padding": null,
            "right": null,
            "top": null,
            "visibility": null,
            "width": null
          }
        },
        "905b7bc0567a466ab7805ce87e4e8907": {
          "model_module": "@jupyter-widgets/base",
          "model_module_version": "1.2.0",
          "model_name": "LayoutModel",
          "state": {
            "_model_module": "@jupyter-widgets/base",
            "_model_module_version": "1.2.0",
            "_model_name": "LayoutModel",
            "_view_count": null,
            "_view_module": "@jupyter-widgets/base",
            "_view_module_version": "1.2.0",
            "_view_name": "LayoutView",
            "align_content": null,
            "align_items": null,
            "align_self": null,
            "border": null,
            "bottom": null,
            "display": null,
            "flex": null,
            "flex_flow": null,
            "grid_area": null,
            "grid_auto_columns": null,
            "grid_auto_flow": null,
            "grid_auto_rows": null,
            "grid_column": null,
            "grid_gap": null,
            "grid_row": null,
            "grid_template_areas": null,
            "grid_template_columns": null,
            "grid_template_rows": null,
            "height": null,
            "justify_content": null,
            "justify_items": null,
            "left": null,
            "margin": null,
            "max_height": null,
            "max_width": null,
            "min_height": null,
            "min_width": null,
            "object_fit": null,
            "object_position": null,
            "order": null,
            "overflow": null,
            "overflow_x": null,
            "overflow_y": null,
            "padding": null,
            "right": null,
            "top": null,
            "visibility": null,
            "width": null
          }
        },
        "b474ab7967344ea18f98621fb5190fbc": {
          "model_module": "@jupyter-widgets/controls",
          "model_module_version": "1.5.0",
          "model_name": "HTMLModel",
          "state": {
            "_dom_classes": [],
            "_model_module": "@jupyter-widgets/controls",
            "_model_module_version": "1.5.0",
            "_model_name": "HTMLModel",
            "_view_count": null,
            "_view_module": "@jupyter-widgets/controls",
            "_view_module_version": "1.5.0",
            "_view_name": "HTMLView",
            "description": "",
            "description_tooltip": null,
            "layout": "IPY_MODEL_905b7bc0567a466ab7805ce87e4e8907",
            "placeholder": "​",
            "style": "IPY_MODEL_23f53450f8104846a6cee179a31a3da7",
            "value": "Downloading: 100%"
          }
        },
        "ecaccf4eddc2485bb015569cdf9fafa4": {
          "model_module": "@jupyter-widgets/controls",
          "model_module_version": "1.5.0",
          "model_name": "HTMLModel",
          "state": {
            "_dom_classes": [],
            "_model_module": "@jupyter-widgets/controls",
            "_model_module_version": "1.5.0",
            "_model_name": "HTMLModel",
            "_view_count": null,
            "_view_module": "@jupyter-widgets/controls",
            "_view_module_version": "1.5.0",
            "_view_name": "HTMLView",
            "description": "",
            "description_tooltip": null,
            "layout": "IPY_MODEL_5006486f1db14214ab032ccf34906b61",
            "placeholder": "​",
            "style": "IPY_MODEL_3c90a3627ef6493caae0d03490377761",
            "value": " 536M/536M [00:16&lt;00:00, 60.7MB/s]"
          }
        },
        "ff7c23ba59be45fca6e30667884419e1": {
          "model_module": "@jupyter-widgets/controls",
          "model_module_version": "1.5.0",
          "model_name": "ProgressStyleModel",
          "state": {
            "_model_module": "@jupyter-widgets/controls",
            "_model_module_version": "1.5.0",
            "_model_name": "ProgressStyleModel",
            "_view_count": null,
            "_view_module": "@jupyter-widgets/base",
            "_view_module_version": "1.2.0",
            "_view_name": "StyleView",
            "bar_color": null,
            "description_width": ""
          }
        }
      }
    }
  },
  "nbformat": 4,
  "nbformat_minor": 0
}